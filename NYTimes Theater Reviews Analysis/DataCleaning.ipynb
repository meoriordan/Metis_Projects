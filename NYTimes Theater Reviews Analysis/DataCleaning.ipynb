{
 "cells": [
  {
   "cell_type": "code",
   "execution_count": 12,
   "metadata": {},
   "outputs": [],
   "source": [
    "import pandas as pd\n",
    "import matplotlib.pyplot as plt\n",
    "\n",
    "%matplotlib inline"
   ]
  },
  {
   "cell_type": "markdown",
   "metadata": {},
   "source": [
    "## Load In Data/ Combine Text Data"
   ]
  },
  {
   "cell_type": "code",
   "execution_count": 83,
   "metadata": {},
   "outputs": [],
   "source": [
    "text_df_2015_18 = pd.read_csv(\"text_data2015_2018.csv\")"
   ]
  },
  {
   "cell_type": "code",
   "execution_count": 84,
   "metadata": {
    "scrolled": false
   },
   "outputs": [
    {
     "data": {
      "text/plain": [
       "(1815, 3)"
      ]
     },
     "execution_count": 84,
     "metadata": {},
     "output_type": "execute_result"
    }
   ],
   "source": [
    "text_df_2015_18.shape"
   ]
  },
  {
   "cell_type": "code",
   "execution_count": 85,
   "metadata": {},
   "outputs": [],
   "source": [
    "text_df_2015_18.sort_values(by=\"article\", inplace=True)"
   ]
  },
  {
   "cell_type": "code",
   "execution_count": 88,
   "metadata": {},
   "outputs": [
    {
     "name": "stdout",
     "output_type": "stream",
     "text": [
      "(505, 3)\n",
      "(447, 3)\n",
      "(464, 3)\n",
      "(362, 3)\n",
      "(519, 3)\n",
      "(404, 3)\n",
      "(410, 3)\n",
      "(386, 3)\n",
      "(270, 3)\n",
      "(450, 3)\n",
      "(399, 3)\n",
      "(395, 3)\n",
      "(363, 3)\n",
      "(354, 3)\n",
      "(355, 3)\n",
      "(393, 3)\n",
      "(473, 3)\n",
      "(368, 3)\n",
      "(389, 3)\n"
     ]
    }
   ],
   "source": [
    "text_2014 = pd.read_csv(\"text_2014.csv\")\n",
    "print(text_2014.shape)\n",
    "text_2013 = pd.read_csv(\"text2013_.csv\")\n",
    "print(text_2013.shape)\n",
    "text_2012 = pd.read_csv(\"text_2012.csv\")\n",
    "print(text_2012.shape)\n",
    "text_2011 = pd.read_csv(\"text_2011.csv\")\n",
    "print(text_2011.shape)\n",
    "text_2010 = pd.read_csv(\"text_2010.csv\")\n",
    "print(text_2010.shape)\n",
    "text_2009 = pd.read_csv(\"text_2009.csv\")\n",
    "print(text_2009.shape)\n",
    "text_2008 = pd.read_csv(\"text_2008.csv\")\n",
    "print(text_2008.shape)\n",
    "text_2007 = pd.read_csv(\"text_2007.csv\")\n",
    "print(text_2007.shape)\n",
    "text_2006 = pd.read_csv(\"text_2006.csv\")\n",
    "print(text_2006.shape)\n",
    "text_2005 = pd.read_csv(\"text_2005.csv\")\n",
    "print(text_2005.shape)\n",
    "text_2004 = pd.read_csv(\"text_2004.csv\")\n",
    "print(text_2004.shape)\n",
    "text_2003 = pd.read_csv(\"text_2003.csv\")\n",
    "print(text_2003.shape)\n",
    "text_2002 = pd.read_csv(\"text_2002.csv\")\n",
    "print(text_2002.shape)\n",
    "text_2001 = pd.read_csv(\"text_2001.csv\")\n",
    "print(text_2001.shape)\n",
    "text_2000 = pd.read_csv(\"text_2000.csv\")\n",
    "print(text_2000.shape)\n",
    "text_1999 = pd.read_csv(\"text1999.csv\")\n",
    "print(text_1999.shape)\n",
    "text_1998 = pd.read_csv(\"text1998.csv\")\n",
    "print(text_1998.shape)\n",
    "text_1997 = pd.read_csv(\"text1997.csv\")\n",
    "print(text_1997.shape)\n",
    "text_1996 = pd.read_csv(\"text1996.csv\")\n",
    "print(text_1996.shape)"
   ]
  },
  {
   "cell_type": "code",
   "execution_count": 89,
   "metadata": {},
   "outputs": [],
   "source": [
    "all_data = pd.concat((text_2014,text_2013,text_2012,text_2011,text_2010,text_2009,text_2008,text_2007,text_2006,text_2005,text_2004,text_2003,text_2002, text_2001, text_2000, text_1999, text_1998, text_1997, text_1996))\n",
    "\n",
    "\n"
   ]
  },
  {
   "cell_type": "code",
   "execution_count": 90,
   "metadata": {},
   "outputs": [
    {
     "data": {
      "text/plain": [
       "(7706, 3)"
      ]
     },
     "execution_count": 90,
     "metadata": {},
     "output_type": "execute_result"
    }
   ],
   "source": [
    "all_data.shape"
   ]
  },
  {
   "cell_type": "code",
   "execution_count": 91,
   "metadata": {},
   "outputs": [
    {
     "data": {
      "text/plain": [
       "(1815, 4)"
      ]
     },
     "execution_count": 91,
     "metadata": {},
     "output_type": "execute_result"
    }
   ],
   "source": [
    "text_df_2015_18.shape"
   ]
  },
  {
   "cell_type": "code",
   "execution_count": 95,
   "metadata": {},
   "outputs": [],
   "source": [
    "text_df_2015_18.drop(\"Unnamed: 0\", axis=1, inplace=True)"
   ]
  },
  {
   "cell_type": "code",
   "execution_count": 98,
   "metadata": {},
   "outputs": [],
   "source": [
    "all_data.drop(\"Unnamed: 0\", axis=1, inplace=True)"
   ]
  },
  {
   "cell_type": "code",
   "execution_count": 100,
   "metadata": {},
   "outputs": [
    {
     "data": {
      "text/plain": [
       "Index(['article', 'text'], dtype='object')"
      ]
     },
     "execution_count": 100,
     "metadata": {},
     "output_type": "execute_result"
    }
   ],
   "source": [
    "text_df_2015_18.columns"
   ]
  },
  {
   "cell_type": "code",
   "execution_count": 101,
   "metadata": {},
   "outputs": [
    {
     "data": {
      "text/plain": [
       "Index(['article', 'text'], dtype='object')"
      ]
     },
     "execution_count": 101,
     "metadata": {},
     "output_type": "execute_result"
    }
   ],
   "source": [
    "all_data.columns"
   ]
  },
  {
   "cell_type": "code",
   "execution_count": 102,
   "metadata": {},
   "outputs": [],
   "source": [
    "all_data = pd.concat((text_df_2015_18,all_data))"
   ]
  },
  {
   "cell_type": "code",
   "execution_count": 105,
   "metadata": {
    "scrolled": true
   },
   "outputs": [
    {
     "data": {
      "text/plain": [
       "(82, 2)"
      ]
     },
     "execution_count": 105,
     "metadata": {},
     "output_type": "execute_result"
    }
   ],
   "source": [
    "all_data[all_data[\"text\"].isna()].shape"
   ]
  },
  {
   "cell_type": "code",
   "execution_count": 106,
   "metadata": {},
   "outputs": [],
   "source": [
    "all_data = all_data[~all_data[\"text\"].isna()]"
   ]
  },
  {
   "cell_type": "markdown",
   "metadata": {},
   "source": [
    "## Combine All Article Data"
   ]
  },
  {
   "cell_type": "code",
   "execution_count": 107,
   "metadata": {},
   "outputs": [],
   "source": [
    "art_data = pd.read_csv(\"ARTICLE_DATE_116182.csv\")"
   ]
  },
  {
   "cell_type": "code",
   "execution_count": 108,
   "metadata": {},
   "outputs": [],
   "source": [
    "art_data.drop(\"Unnamed: 0\", inplace=True, axis=1)"
   ]
  },
  {
   "cell_type": "code",
   "execution_count": 109,
   "metadata": {},
   "outputs": [
    {
     "data": {
      "text/plain": [
       "Index(['headline', 'keyword', 'pub_date', 'type_mat', 'url', 'word_count',\n",
       "       'pub_date_2', 'pub_date_3', 'year'],\n",
       "      dtype='object')"
      ]
     },
     "execution_count": 109,
     "metadata": {},
     "output_type": "execute_result"
    }
   ],
   "source": [
    "art_data.columns"
   ]
  },
  {
   "cell_type": "code",
   "execution_count": 110,
   "metadata": {},
   "outputs": [
    {
     "data": {
      "text/plain": [
       "array([1979, 1980, 1981, 1982, 2010, 2018, 2017, 2016, 2015, 2014, 2013,\n",
       "       2012, 2011, 2009, 2008, 2007, 2006, 2005, 1990])"
      ]
     },
     "execution_count": 110,
     "metadata": {},
     "output_type": "execute_result"
    }
   ],
   "source": [
    "art_data.year.unique()"
   ]
  },
  {
   "cell_type": "code",
   "execution_count": 111,
   "metadata": {},
   "outputs": [],
   "source": [
    "art_data_15_18 = art_data[art_data[\"year\"].isin([2015,2016,2017,2018])]\n"
   ]
  },
  {
   "cell_type": "code",
   "execution_count": 112,
   "metadata": {},
   "outputs": [
    {
     "name": "stderr",
     "output_type": "stream",
     "text": [
      "/Users/elizabethoriordan/anaconda3/lib/python3.6/site-packages/ipykernel_launcher.py:1: SettingWithCopyWarning: \n",
      "A value is trying to be set on a copy of a slice from a DataFrame\n",
      "\n",
      "See the caveats in the documentation: http://pandas.pydata.org/pandas-docs/stable/indexing.html#indexing-view-versus-copy\n",
      "  \"\"\"Entry point for launching an IPython kernel.\n"
     ]
    }
   ],
   "source": [
    "art_data_15_18.sort_values(by=\"headline\", inplace=True)"
   ]
  },
  {
   "cell_type": "code",
   "execution_count": 113,
   "metadata": {},
   "outputs": [
    {
     "name": "stderr",
     "output_type": "stream",
     "text": [
      "/Users/elizabethoriordan/anaconda3/lib/python3.6/site-packages/ipykernel_launcher.py:1: SettingWithCopyWarning: \n",
      "A value is trying to be set on a copy of a slice from a DataFrame\n",
      "\n",
      "See the caveats in the documentation: http://pandas.pydata.org/pandas-docs/stable/indexing.html#indexing-view-versus-copy\n",
      "  \"\"\"Entry point for launching an IPython kernel.\n"
     ]
    }
   ],
   "source": [
    "art_data_15_18.drop_duplicates(subset=[\"headline\"], inplace=True)"
   ]
  },
  {
   "cell_type": "code",
   "execution_count": 114,
   "metadata": {
    "scrolled": false
   },
   "outputs": [
    {
     "data": {
      "text/plain": [
       "(1689, 9)"
      ]
     },
     "execution_count": 114,
     "metadata": {},
     "output_type": "execute_result"
    }
   ],
   "source": [
    "art_data_15_18.shape"
   ]
  },
  {
   "cell_type": "code",
   "execution_count": 115,
   "metadata": {},
   "outputs": [],
   "source": [
    "def is_thea(x):\n",
    "    if \"theater\" in x:\n",
    "        return True\n",
    "    else:\n",
    "        return False"
   ]
  },
  {
   "cell_type": "code",
   "execution_count": 116,
   "metadata": {},
   "outputs": [
    {
     "name": "stderr",
     "output_type": "stream",
     "text": [
      "/Users/elizabethoriordan/anaconda3/lib/python3.6/site-packages/ipykernel_launcher.py:1: SettingWithCopyWarning: \n",
      "A value is trying to be set on a copy of a slice from a DataFrame.\n",
      "Try using .loc[row_indexer,col_indexer] = value instead\n",
      "\n",
      "See the caveats in the documentation: http://pandas.pydata.org/pandas-docs/stable/indexing.html#indexing-view-versus-copy\n",
      "  \"\"\"Entry point for launching an IPython kernel.\n"
     ]
    }
   ],
   "source": [
    "art_data_15_18[\"is_theat\"] = art_data_15_18[\"url\"].apply(lambda x: is_thea(x))"
   ]
  },
  {
   "cell_type": "code",
   "execution_count": 117,
   "metadata": {},
   "outputs": [
    {
     "data": {
      "text/plain": [
       "0.9011249259917111"
      ]
     },
     "execution_count": 117,
     "metadata": {},
     "output_type": "execute_result"
    }
   ],
   "source": [
    "art_data_15_18[\"is_theat\"].mean()"
   ]
  },
  {
   "cell_type": "code",
   "execution_count": 118,
   "metadata": {},
   "outputs": [],
   "source": [
    "art_data_15_18 = art_data_15_18[art_data_15_18[\"is_theat\"]==True]"
   ]
  },
  {
   "cell_type": "code",
   "execution_count": 119,
   "metadata": {
    "scrolled": true
   },
   "outputs": [
    {
     "data": {
      "text/plain": [
       "Index(['headline', 'keyword', 'pub_date', 'type_mat', 'url', 'word_count',\n",
       "       'pub_date_2', 'pub_date_3', 'year', 'is_theat'],\n",
       "      dtype='object')"
      ]
     },
     "execution_count": 119,
     "metadata": {},
     "output_type": "execute_result"
    }
   ],
   "source": [
    "art_data_15_18.columns"
   ]
  },
  {
   "cell_type": "code",
   "execution_count": 121,
   "metadata": {
    "scrolled": true
   },
   "outputs": [
    {
     "name": "stdout",
     "output_type": "stream",
     "text": [
      "(505, 10)\n",
      "(447, 10)\n",
      "(464, 10)\n",
      "(362, 11)\n",
      "(519, 10)\n",
      "(404, 11)\n",
      "(410, 11)\n",
      "(386, 11)\n",
      "(270, 11)\n",
      "(450, 11)\n",
      "(399, 11)\n",
      "(395, 11)\n",
      "(363, 11)\n",
      "(354, 11)\n",
      "(355, 11)\n",
      "(393, 11)\n",
      "(473, 11)\n",
      "(368, 11)\n",
      "(389, 11)\n"
     ]
    }
   ],
   "source": [
    "art_2014 = pd.read_csv(\"TheaterReviews2014.csv\")\n",
    "print(art_2014.shape)\n",
    "art_2013 = pd.read_csv(\"TheaterReviews2013.csv\")\n",
    "print(art_2013.shape)\n",
    "art_2012 = pd.read_csv(\"TheaterReviews2012.csv\")\n",
    "print(art_2012.shape)\n",
    "art_2011 = pd.read_csv(\"TheaterReviews2011.csv\")\n",
    "print(art_2011.shape)\n",
    "art_2010 = pd.read_csv(\"TheaterReviews2010.csv\")\n",
    "print(art_2010.shape)\n",
    "art_2009 = pd.read_csv(\"TheaterReviews2009.csv\")\n",
    "print(art_2009.shape)\n",
    "art_2008 = pd.read_csv(\"TheaterReviews2008.csv\")\n",
    "print(art_2008.shape)\n",
    "art_2007 = pd.read_csv(\"TheaterReviews2007.csv\")\n",
    "print(art_2007.shape)\n",
    "art_2006 = pd.read_csv(\"TheaterReviews2006.csv\")\n",
    "print(art_2006.shape)\n",
    "art_2005 = pd.read_csv(\"TheaterReviews2005.csv\")\n",
    "print(art_2005.shape)\n",
    "art_2004 = pd.read_csv(\"TheaterReviews2004.csv\")\n",
    "print(art_2004.shape)\n",
    "art_2003 = pd.read_csv(\"TheaterReviews2003.csv\")\n",
    "print(art_2003.shape)\n",
    "art_2002 = pd.read_csv(\"TheaterReviews2002.csv\")\n",
    "print(art_2002.shape)\n",
    "art_2001 = pd.read_csv(\"TheaterReviews2001.csv\")\n",
    "print(art_2001.shape)\n",
    "art_2000 = pd.read_csv(\"TheaterReviews2000.csv\")\n",
    "print(art_2000.shape)\n",
    "art_1999 = pd.read_csv(\"TheaterReviews1999.csv\")\n",
    "print(art_1999.shape)\n",
    "art_1998 = pd.read_csv(\"TheaterReviews1998.csv\")\n",
    "print(art_1998.shape)\n",
    "art_1997 = pd.read_csv(\"TheaterReviews1997.csv\")\n",
    "print(art_1997.shape)\n",
    "art_1996 = pd.read_csv(\"TheaterReviews1996.csv\")\n",
    "print(art_1996.shape)"
   ]
  },
  {
   "cell_type": "code",
   "execution_count": 57,
   "metadata": {},
   "outputs": [],
   "source": [
    "all_data.columns = [\"headline\", \"text\", \"art_len\"]"
   ]
  },
  {
   "cell_type": "code",
   "execution_count": 128,
   "metadata": {},
   "outputs": [],
   "source": [
    "all_art_data = pd.concat((art_2014,art_2013,art_2012,art_2011,art_2010,art_2009,art_2008,art_2007,art_2006,art_2005,art_2004,art_2003,art_2002, art_2001, art_2000, art_1999, art_1998, art_1997, art_1996))\n"
   ]
  },
  {
   "cell_type": "code",
   "execution_count": 129,
   "metadata": {},
   "outputs": [],
   "source": [
    "all_art_data.drop(\"Unnamed: 0\", inplace=True, axis=1)"
   ]
  },
  {
   "cell_type": "code",
   "execution_count": 130,
   "metadata": {},
   "outputs": [
    {
     "data": {
      "text/plain": [
       "(7506, 10)"
      ]
     },
     "execution_count": 130,
     "metadata": {},
     "output_type": "execute_result"
    }
   ],
   "source": [
    "all_art_data.shape"
   ]
  },
  {
   "cell_type": "code",
   "execution_count": 131,
   "metadata": {
    "scrolled": false
   },
   "outputs": [
    {
     "data": {
      "text/plain": [
       "(1522, 10)"
      ]
     },
     "execution_count": 131,
     "metadata": {},
     "output_type": "execute_result"
    }
   ],
   "source": [
    "art_data_15_18.shape"
   ]
  },
  {
   "cell_type": "code",
   "execution_count": 132,
   "metadata": {},
   "outputs": [],
   "source": [
    "all_art_data2 = pd.concat([all_art_data, art_data_15_18])"
   ]
  },
  {
   "cell_type": "code",
   "execution_count": null,
   "metadata": {},
   "outputs": [],
   "source": [
    "all_art_data2.sort_values(by=\"headline\", inplace=True)"
   ]
  },
  {
   "cell_type": "code",
   "execution_count": null,
   "metadata": {},
   "outputs": [],
   "source": [
    "all_art_data2.drop_duplicates(subset=[\"headline\"], inplace=True)"
   ]
  },
  {
   "cell_type": "code",
   "execution_count": 133,
   "metadata": {
    "scrolled": false
   },
   "outputs": [
    {
     "data": {
      "text/plain": [
       "(9028, 10)"
      ]
     },
     "execution_count": 133,
     "metadata": {},
     "output_type": "execute_result"
    }
   ],
   "source": [
    "all_art_data2.shape"
   ]
  },
  {
   "cell_type": "code",
   "execution_count": 138,
   "metadata": {},
   "outputs": [],
   "source": [
    "all_data.columns=[\"headline\", \"text\"]"
   ]
  },
  {
   "cell_type": "code",
   "execution_count": 140,
   "metadata": {},
   "outputs": [
    {
     "data": {
      "text/plain": [
       "(9439, 2)"
      ]
     },
     "execution_count": 140,
     "metadata": {},
     "output_type": "execute_result"
    }
   ],
   "source": [
    "all_data.shape"
   ]
  },
  {
   "cell_type": "code",
   "execution_count": 141,
   "metadata": {},
   "outputs": [
    {
     "data": {
      "text/plain": [
       "(9028, 10)"
      ]
     },
     "execution_count": 141,
     "metadata": {},
     "output_type": "execute_result"
    }
   ],
   "source": [
    "all_art_data2.shape"
   ]
  },
  {
   "cell_type": "code",
   "execution_count": 142,
   "metadata": {},
   "outputs": [],
   "source": [
    "df = all_art_data2.merge(all_data, how=\"left\", on=\"headline\")"
   ]
  },
  {
   "cell_type": "code",
   "execution_count": 73,
   "metadata": {},
   "outputs": [
    {
     "data": {
      "text/plain": [
       "(9152, 12)"
      ]
     },
     "execution_count": 73,
     "metadata": {},
     "output_type": "execute_result"
    }
   ],
   "source": [
    "df.shape"
   ]
  },
  {
   "cell_type": "code",
   "execution_count": 149,
   "metadata": {},
   "outputs": [],
   "source": [
    "df.sort_values(by=\"headline\", inplace=True)"
   ]
  },
  {
   "cell_type": "code",
   "execution_count": 150,
   "metadata": {
    "scrolled": true
   },
   "outputs": [],
   "source": [
    "df.drop_duplicates(subset=[\"headline\"], inplace=True)"
   ]
  },
  {
   "cell_type": "code",
   "execution_count": 151,
   "metadata": {},
   "outputs": [
    {
     "data": {
      "text/plain": [
       "(8795, 11)"
      ]
     },
     "execution_count": 151,
     "metadata": {},
     "output_type": "execute_result"
    }
   ],
   "source": [
    "df.shape"
   ]
  },
  {
   "cell_type": "code",
   "execution_count": 152,
   "metadata": {},
   "outputs": [],
   "source": [
    "df.to_csv(\"final_proj_data222.csv\")"
   ]
  },
  {
   "cell_type": "markdown",
   "metadata": {},
   "source": [
    "## Look at Article Length"
   ]
  },
  {
   "cell_type": "code",
   "execution_count": 159,
   "metadata": {},
   "outputs": [],
   "source": [
    "df = df[~df[\"text\"].isna()]"
   ]
  },
  {
   "cell_type": "code",
   "execution_count": 160,
   "metadata": {},
   "outputs": [
    {
     "data": {
      "text/plain": [
       "(8747, 11)"
      ]
     },
     "execution_count": 160,
     "metadata": {},
     "output_type": "execute_result"
    }
   ],
   "source": [
    "df.shape"
   ]
  },
  {
   "cell_type": "code",
   "execution_count": 167,
   "metadata": {},
   "outputs": [
    {
     "name": "stderr",
     "output_type": "stream",
     "text": [
      "/Users/elizabethoriordan/anaconda3/lib/python3.6/site-packages/ipykernel_launcher.py:1: SettingWithCopyWarning: \n",
      "A value is trying to be set on a copy of a slice from a DataFrame.\n",
      "Try using .loc[row_indexer,col_indexer] = value instead\n",
      "\n",
      "See the caveats in the documentation: http://pandas.pydata.org/pandas-docs/stable/indexing.html#indexing-view-versus-copy\n",
      "  \"\"\"Entry point for launching an IPython kernel.\n"
     ]
    }
   ],
   "source": [
    "df[\"art_len\"] = df[\"text\"].apply(lambda x: len(x.split(\" \")))"
   ]
  },
  {
   "cell_type": "code",
   "execution_count": 77,
   "metadata": {},
   "outputs": [],
   "source": [
    "df = df[~df[\"art_len\"].isna()]"
   ]
  },
  {
   "cell_type": "code",
   "execution_count": 168,
   "metadata": {},
   "outputs": [
    {
     "data": {
      "text/html": [
       "<div>\n",
       "<style scoped>\n",
       "    .dataframe tbody tr th:only-of-type {\n",
       "        vertical-align: middle;\n",
       "    }\n",
       "\n",
       "    .dataframe tbody tr th {\n",
       "        vertical-align: top;\n",
       "    }\n",
       "\n",
       "    .dataframe thead th {\n",
       "        text-align: right;\n",
       "    }\n",
       "</style>\n",
       "<table border=\"1\" class=\"dataframe\">\n",
       "  <thead>\n",
       "    <tr style=\"text-align: right;\">\n",
       "      <th></th>\n",
       "      <th>headline</th>\n",
       "      <th>keyword</th>\n",
       "      <th>pub_date</th>\n",
       "      <th>type_mat</th>\n",
       "      <th>url</th>\n",
       "      <th>word_count</th>\n",
       "      <th>pub_date_2</th>\n",
       "      <th>pub_date_3</th>\n",
       "      <th>year</th>\n",
       "      <th>is_theat</th>\n",
       "      <th>text</th>\n",
       "      <th>art_len</th>\n",
       "    </tr>\n",
       "  </thead>\n",
       "  <tbody>\n",
       "    <tr>\n",
       "      <th>399</th>\n",
       "      <td>A Universal Heart, Pounding With Hope</td>\n",
       "      <td>[{'name': 'subject', 'value': 'Theater', 'rank...</td>\n",
       "      <td>2014-10-25T00:00:00Z</td>\n",
       "      <td>Review</td>\n",
       "      <td>https://www.nytimes.com/2014/10/25/theater/ivo...</td>\n",
       "      <td>1193</td>\n",
       "      <td>2014-10-25</td>\n",
       "      <td>2014-10-25</td>\n",
       "      <td>2014</td>\n",
       "      <td>True</td>\n",
       "      <td>The stage of the Harvey Theater has surely nev...</td>\n",
       "      <td>1199</td>\n",
       "    </tr>\n",
       "    <tr>\n",
       "      <th>344</th>\n",
       "      <td>Exulting in His Fabulous Moment, a Spangled D...</td>\n",
       "      <td>[{'name': 'subject', 'value': 'Theater', 'rank...</td>\n",
       "      <td>2014-09-21T20:14:51+0000</td>\n",
       "      <td>Review</td>\n",
       "      <td>https://www.nytimes.com/2014/09/22/theater/mig...</td>\n",
       "      <td>916</td>\n",
       "      <td>2014-09-21</td>\n",
       "      <td>2014-09-21</td>\n",
       "      <td>2014</td>\n",
       "      <td>True</td>\n",
       "      <td>A disco ball the size of a small house twirls ...</td>\n",
       "      <td>917</td>\n",
       "    </tr>\n",
       "    <tr>\n",
       "      <th>377</th>\n",
       "      <td>If You Seek the Heat, Go Into the Kitchen</td>\n",
       "      <td>[{'name': 'subject', 'value': 'Theater', 'rank...</td>\n",
       "      <td>2014-10-13T02:00:09+0000</td>\n",
       "      <td>Review</td>\n",
       "      <td>https://www.nytimes.com/2014/10/13/theater/deb...</td>\n",
       "      <td>779</td>\n",
       "      <td>2014-10-13</td>\n",
       "      <td>2014-10-13</td>\n",
       "      <td>2014</td>\n",
       "      <td>True</td>\n",
       "      <td>“Generations,” a short, sweet and gut-grabbing...</td>\n",
       "      <td>779</td>\n",
       "    </tr>\n",
       "    <tr>\n",
       "      <th>364</th>\n",
       "      <td>&amp;#8216;Vanya&amp;#8217; and &amp;#8216;Seagull&amp;#8217; ...</td>\n",
       "      <td>[{'name': 'subject', 'value': 'Theater', 'rank...</td>\n",
       "      <td>2014-10-03T02:00:23+0000</td>\n",
       "      <td>Review</td>\n",
       "      <td>https://www.nytimes.com/2014/10/03/theater/bly...</td>\n",
       "      <td>997</td>\n",
       "      <td>2014-10-03</td>\n",
       "      <td>2014-10-03</td>\n",
       "      <td>2014</td>\n",
       "      <td>True</td>\n",
       "      <td>Blythe Danner’s voice makes its entrance befor...</td>\n",
       "      <td>995</td>\n",
       "    </tr>\n",
       "    <tr>\n",
       "      <th>5736</th>\n",
       "      <td>'37 Postcards' Tells Tale of Eccentricity, but...</td>\n",
       "      <td>[{'name': 'creative_works', 'value': '37 POSTC...</td>\n",
       "      <td>2001-10-21T00:00:00Z</td>\n",
       "      <td>Review</td>\n",
       "      <td>https://www.nytimes.com/2001/10/21/nyregion/th...</td>\n",
       "      <td>828</td>\n",
       "      <td>2001-10-21</td>\n",
       "      <td>2001-10-21</td>\n",
       "      <td>2001</td>\n",
       "      <td>True</td>\n",
       "      <td>CAUTION: Should you consider seeing ''37 Postc...</td>\n",
       "      <td>828</td>\n",
       "    </tr>\n",
       "    <tr>\n",
       "      <th>6448</th>\n",
       "      <td>'42d Street' in Elmsford: Tribute to Dancing</td>\n",
       "      <td>[{'name': 'creative_works', 'value': '42ND STR...</td>\n",
       "      <td>1999-09-12T00:00:00Z</td>\n",
       "      <td>Review</td>\n",
       "      <td>https://www.nytimes.com/1999/09/12/nyregion/th...</td>\n",
       "      <td>729</td>\n",
       "      <td>1999-09-12</td>\n",
       "      <td>1999-09-12</td>\n",
       "      <td>1999</td>\n",
       "      <td>True</td>\n",
       "      <td>''GET Out Your Tap Shoes, Frances'' is heard i...</td>\n",
       "      <td>729</td>\n",
       "    </tr>\n",
       "    <tr>\n",
       "      <th>12057</th>\n",
       "      <td>'A Father's Day Diary' as Confession</td>\n",
       "      <td>[{'name': 'creative_works', 'value': \"FATHER'S...</td>\n",
       "      <td>1997-09-21T00:00:00Z</td>\n",
       "      <td>Review</td>\n",
       "      <td>https://www.nytimes.com/1997/09/21/nyregion/th...</td>\n",
       "      <td>647</td>\n",
       "      <td>1997-09-21</td>\n",
       "      <td>1997-09-21</td>\n",
       "      <td>1997</td>\n",
       "      <td>True</td>\n",
       "      <td>IT is better than an hour of Oprah Winfrey, Sa...</td>\n",
       "      <td>647</td>\n",
       "    </tr>\n",
       "    <tr>\n",
       "      <th>3570</th>\n",
       "      <td>'A Spalding Gray Matter' Spins 2 Real Events I...</td>\n",
       "      <td>[{'name': 'subject', 'value': 'Theater', 'rank...</td>\n",
       "      <td>2006-05-11T00:00:00Z</td>\n",
       "      <td>Review</td>\n",
       "      <td>https://www.nytimes.com/2006/05/11/theater/rev...</td>\n",
       "      <td>413</td>\n",
       "      <td>2006-05-11</td>\n",
       "      <td>2006-05-11</td>\n",
       "      <td>2006</td>\n",
       "      <td>True</td>\n",
       "      <td>\"A Spalding Gray Matter\" is based on something...</td>\n",
       "      <td>414</td>\n",
       "    </tr>\n",
       "    <tr>\n",
       "      <th>3572</th>\n",
       "      <td>'Absence &amp; Presence': For a Father Who's Not T...</td>\n",
       "      <td>[{'name': 'subject', 'value': 'Theater', 'rank...</td>\n",
       "      <td>2006-05-03T00:00:00Z</td>\n",
       "      <td>Review</td>\n",
       "      <td>https://www.nytimes.com/2006/05/03/theater/rev...</td>\n",
       "      <td>372</td>\n",
       "      <td>2006-05-03</td>\n",
       "      <td>2006-05-03</td>\n",
       "      <td>2006</td>\n",
       "      <td>True</td>\n",
       "      <td>Andrew Dawson's astonishing, almost unbearably...</td>\n",
       "      <td>373</td>\n",
       "    </tr>\n",
       "    <tr>\n",
       "      <th>4933</th>\n",
       "      <td>'America Idles'</td>\n",
       "      <td>[{'name': 'creative_works', 'value': 'AMERICA ...</td>\n",
       "      <td>2003-08-01T00:00:00Z</td>\n",
       "      <td>Review</td>\n",
       "      <td>https://www.nytimes.com/2003/08/01/movies/thea...</td>\n",
       "      <td>429</td>\n",
       "      <td>2003-08-01</td>\n",
       "      <td>2003-08-01</td>\n",
       "      <td>2003</td>\n",
       "      <td>True</td>\n",
       "      <td>Chicago City Limits Improvisational Theater Fi...</td>\n",
       "      <td>428</td>\n",
       "    </tr>\n",
       "    <tr>\n",
       "      <th>6154</th>\n",
       "      <td>'Annie' at the Helen Hayes Center in Nyack</td>\n",
       "      <td>[{'name': 'creative_works', 'value': 'ANNIE (P...</td>\n",
       "      <td>2000-12-17T00:00:00Z</td>\n",
       "      <td>Review</td>\n",
       "      <td>https://www.nytimes.com/2000/12/17/nyregion/th...</td>\n",
       "      <td>775</td>\n",
       "      <td>2000-12-17</td>\n",
       "      <td>2000-12-17</td>\n",
       "      <td>2000</td>\n",
       "      <td>True</td>\n",
       "      <td>WHATEVER would possess a so-called adult, whos...</td>\n",
       "      <td>784</td>\n",
       "    </tr>\n",
       "    <tr>\n",
       "      <th>6141</th>\n",
       "      <td>'Architect of Dreams'</td>\n",
       "      <td>[{'name': 'persons', 'value': 'URBAN, JOSEPH',...</td>\n",
       "      <td>2000-12-08T00:00:00Z</td>\n",
       "      <td>Review</td>\n",
       "      <td>https://www.nytimes.com/2000/12/08/theater/art...</td>\n",
       "      <td>573</td>\n",
       "      <td>2000-12-08</td>\n",
       "      <td>2000-12-08</td>\n",
       "      <td>2000</td>\n",
       "      <td>True</td>\n",
       "      <td>'The Theatrical Vision of Joseph Urban' Miriam...</td>\n",
       "      <td>572</td>\n",
       "    </tr>\n",
       "    <tr>\n",
       "      <th>5455</th>\n",
       "      <td>'Art' in the Eye of the Beholder</td>\n",
       "      <td>[{'name': 'creative_works', 'value': 'ART (PLA...</td>\n",
       "      <td>2001-01-14T00:00:00Z</td>\n",
       "      <td>Review</td>\n",
       "      <td>https://www.nytimes.com/2001/01/14/nyregion/th...</td>\n",
       "      <td>889</td>\n",
       "      <td>2001-01-14</td>\n",
       "      <td>2001-01-14</td>\n",
       "      <td>2001</td>\n",
       "      <td>True</td>\n",
       "      <td>''ART'' is one of the most craftily titled pla...</td>\n",
       "      <td>887</td>\n",
       "    </tr>\n",
       "    <tr>\n",
       "      <th>3548</th>\n",
       "      <td>'At Said': A Typewriter, a Terrible Thing and ...</td>\n",
       "      <td>[{'name': 'subject', 'value': 'Theater', 'rank...</td>\n",
       "      <td>2006-05-24T00:00:00Z</td>\n",
       "      <td>Review</td>\n",
       "      <td>https://www.nytimes.com/2006/05/24/theater/rev...</td>\n",
       "      <td>294</td>\n",
       "      <td>2006-05-24</td>\n",
       "      <td>2006-05-24</td>\n",
       "      <td>2006</td>\n",
       "      <td>True</td>\n",
       "      <td>Gary Winter's \"At Said\" takes place, well, som...</td>\n",
       "      <td>298</td>\n",
       "    </tr>\n",
       "    <tr>\n",
       "      <th>6065</th>\n",
       "      <td>'Best Kept Secret' in Croton Falls</td>\n",
       "      <td>[{'name': 'creative_works', 'value': 'BEST KEP...</td>\n",
       "      <td>2000-10-15T00:00:00Z</td>\n",
       "      <td>Review</td>\n",
       "      <td>https://www.nytimes.com/2000/10/15/nyregion/th...</td>\n",
       "      <td>669</td>\n",
       "      <td>2000-10-15</td>\n",
       "      <td>2000-10-15</td>\n",
       "      <td>2000</td>\n",
       "      <td>True</td>\n",
       "      <td>THE trouble with autobiographical drama is tha...</td>\n",
       "      <td>669</td>\n",
       "    </tr>\n",
       "    <tr>\n",
       "      <th>5011</th>\n",
       "      <td>'Beyond Recognition'</td>\n",
       "      <td>[{'name': 'creative_works', 'value': 'BEYOND R...</td>\n",
       "      <td>2003-10-31T00:00:00Z</td>\n",
       "      <td>Review</td>\n",
       "      <td>https://www.nytimes.com/2003/10/31/movies/thea...</td>\n",
       "      <td>490</td>\n",
       "      <td>2003-10-31</td>\n",
       "      <td>2003-10-31</td>\n",
       "      <td>2003</td>\n",
       "      <td>True</td>\n",
       "      <td>Abingdon Theater Company 312 West 36th Street,...</td>\n",
       "      <td>487</td>\n",
       "    </tr>\n",
       "    <tr>\n",
       "      <th>3463</th>\n",
       "      <td>'Bully': Even Caught in the Footlights, a Bull...</td>\n",
       "      <td>[{'name': 'subject', 'value': 'Theater', 'rank...</td>\n",
       "      <td>2006-07-19T00:00:00Z</td>\n",
       "      <td>Review</td>\n",
       "      <td>https://www.nytimes.com/2006/07/19/theater/rev...</td>\n",
       "      <td>339</td>\n",
       "      <td>2006-07-19</td>\n",
       "      <td>2006-07-19</td>\n",
       "      <td>2006</td>\n",
       "      <td>True</td>\n",
       "      <td>Theodore Roosevelt was a quotable man, and Jer...</td>\n",
       "      <td>341</td>\n",
       "    </tr>\n",
       "    <tr>\n",
       "      <th>3536</th>\n",
       "      <td>'Burleigh Grime$': A Vengeful Financier and Hi...</td>\n",
       "      <td>[{'name': 'subject', 'value': 'Theater', 'rank...</td>\n",
       "      <td>2006-06-14T00:00:00Z</td>\n",
       "      <td>Review</td>\n",
       "      <td>https://www.nytimes.com/2006/06/14/theater/rev...</td>\n",
       "      <td>968</td>\n",
       "      <td>2006-06-14</td>\n",
       "      <td>2006-06-14</td>\n",
       "      <td>2006</td>\n",
       "      <td>True</td>\n",
       "      <td>Critics might fancifully be described as analy...</td>\n",
       "      <td>971</td>\n",
       "    </tr>\n",
       "    <tr>\n",
       "      <th>3748</th>\n",
       "      <td>'Bye, Mom! Or, How Not to Bury Your Mother'</td>\n",
       "      <td>[{'name': 'creative_works', 'value': 'BYE, MOM...</td>\n",
       "      <td>2005-02-15T00:00:00Z</td>\n",
       "      <td>Review</td>\n",
       "      <td>https://theater2.nytimes.com/2005/02/15/theate...</td>\n",
       "      <td>377</td>\n",
       "      <td>2005-02-15</td>\n",
       "      <td>2005-02-15</td>\n",
       "      <td>2005</td>\n",
       "      <td>True</td>\n",
       "      <td>Quercus Productions  45 Street Theater, 354 We...</td>\n",
       "      <td>378</td>\n",
       "    </tr>\n",
       "    <tr>\n",
       "      <th>6606</th>\n",
       "      <td>'Capeman' Doesn't Fly, Despite the Music</td>\n",
       "      <td>[{'name': 'creative_works', 'value': 'CAPEMAN,...</td>\n",
       "      <td>1998-02-08T00:00:00Z</td>\n",
       "      <td>Review</td>\n",
       "      <td>https://www.nytimes.com/1998/02/08/theater/sun...</td>\n",
       "      <td>1513</td>\n",
       "      <td>1998-02-08</td>\n",
       "      <td>1998-02-08</td>\n",
       "      <td>1998</td>\n",
       "      <td>True</td>\n",
       "      <td>Paul Simon is quoted as saying that the idea f...</td>\n",
       "      <td>1511</td>\n",
       "    </tr>\n",
       "    <tr>\n",
       "      <th>5626</th>\n",
       "      <td>'Carousel' Emerges From Darkness</td>\n",
       "      <td>[{'name': 'creative_works', 'value': 'CAROUSEL...</td>\n",
       "      <td>2001-06-10T00:00:00Z</td>\n",
       "      <td>Review</td>\n",
       "      <td>https://www.nytimes.com/2001/06/10/nyregion/th...</td>\n",
       "      <td>661</td>\n",
       "      <td>2001-06-10</td>\n",
       "      <td>2001-06-10</td>\n",
       "      <td>2001</td>\n",
       "      <td>True</td>\n",
       "      <td>THE 1992 London staging of ''Carousel,'' accla...</td>\n",
       "      <td>659</td>\n",
       "    </tr>\n",
       "    <tr>\n",
       "      <th>13598</th>\n",
       "      <td>'Carousel,' Surviving To Become A Classic</td>\n",
       "      <td>[{'name': 'creative_works', 'value': 'CAROUSEL...</td>\n",
       "      <td>1996-04-07T00:00:00Z</td>\n",
       "      <td>Review</td>\n",
       "      <td>https://www.nytimes.com/1996/04/07/nyregion/th...</td>\n",
       "      <td>966</td>\n",
       "      <td>1996-04-07</td>\n",
       "      <td>1996-04-07</td>\n",
       "      <td>1996</td>\n",
       "      <td>True</td>\n",
       "      <td>ON opening night -- March 22, 1945 -- the perf...</td>\n",
       "      <td>974</td>\n",
       "    </tr>\n",
       "    <tr>\n",
       "      <th>6557</th>\n",
       "      <td>'Chorus Line' Remains Legend With Kick, Relati...</td>\n",
       "      <td>[{'name': 'creative_works', 'value': 'CHORUS L...</td>\n",
       "      <td>1998-01-04T00:00:00Z</td>\n",
       "      <td>Review</td>\n",
       "      <td>https://www.nytimes.com/1998/01/04/nyregion/th...</td>\n",
       "      <td>1042</td>\n",
       "      <td>1998-01-04</td>\n",
       "      <td>1998-01-04</td>\n",
       "      <td>1998</td>\n",
       "      <td>True</td>\n",
       "      <td>''A CHORUS LINE'' has been performed everywher...</td>\n",
       "      <td>1041</td>\n",
       "    </tr>\n",
       "    <tr>\n",
       "      <th>3549</th>\n",
       "      <td>'Clocks and Whistles' Looks for Substance to F...</td>\n",
       "      <td>[{'name': 'subject', 'value': 'Theater', 'rank...</td>\n",
       "      <td>2006-05-11T00:00:00Z</td>\n",
       "      <td>Review</td>\n",
       "      <td>https://www.nytimes.com/2006/05/11/theater/rev...</td>\n",
       "      <td>507</td>\n",
       "      <td>2006-05-11</td>\n",
       "      <td>2006-05-11</td>\n",
       "      <td>2006</td>\n",
       "      <td>True</td>\n",
       "      <td>Hastily wrapping gifts for the opening-night f...</td>\n",
       "      <td>511</td>\n",
       "    </tr>\n",
       "    <tr>\n",
       "      <th>14119</th>\n",
       "      <td>'Closer Than Ever' in Mount Vernon</td>\n",
       "      <td>[{'name': 'creative_works', 'value': 'CLOSER T...</td>\n",
       "      <td>1996-04-28T00:00:00Z</td>\n",
       "      <td>Review</td>\n",
       "      <td>https://www.nytimes.com/1996/04/28/nyregion/th...</td>\n",
       "      <td>617</td>\n",
       "      <td>1996-04-28</td>\n",
       "      <td>1996-04-28</td>\n",
       "      <td>1996</td>\n",
       "      <td>True</td>\n",
       "      <td>WHATEVER becomes of \"Big,\" a $10 million-plus ...</td>\n",
       "      <td>620</td>\n",
       "    </tr>\n",
       "    <tr>\n",
       "      <th>5013</th>\n",
       "      <td>'Closet Chronicles'</td>\n",
       "      <td>[{'name': 'creative_works', 'value': 'CLOSET C...</td>\n",
       "      <td>2003-10-31T00:00:00Z</td>\n",
       "      <td>Review</td>\n",
       "      <td>https://www.nytimes.com/2003/10/31/movies/thea...</td>\n",
       "      <td>345</td>\n",
       "      <td>2003-10-31</td>\n",
       "      <td>2003-10-31</td>\n",
       "      <td>2003</td>\n",
       "      <td>True</td>\n",
       "      <td>Ground Floor Theater 312 West 11th Street Gree...</td>\n",
       "      <td>342</td>\n",
       "    </tr>\n",
       "    <tr>\n",
       "      <th>6375</th>\n",
       "      <td>'Company' on Stage At Helen Hayes Center</td>\n",
       "      <td>[{'name': 'creative_works', 'value': 'COMPANY ...</td>\n",
       "      <td>1999-06-27T00:00:00Z</td>\n",
       "      <td>Review</td>\n",
       "      <td>https://www.nytimes.com/1999/06/27/nyregion/th...</td>\n",
       "      <td>789</td>\n",
       "      <td>1999-06-27</td>\n",
       "      <td>1999-06-27</td>\n",
       "      <td>1999</td>\n",
       "      <td>True</td>\n",
       "      <td>ALTOGETHER too much attention as been paid to ...</td>\n",
       "      <td>788</td>\n",
       "    </tr>\n",
       "    <tr>\n",
       "      <th>3546</th>\n",
       "      <td>'Crazy for the Dog,' a Study in Sibling Secrec...</td>\n",
       "      <td>[{'name': 'subject', 'value': 'Theater', 'rank...</td>\n",
       "      <td>2006-06-10T00:00:00Z</td>\n",
       "      <td>Review</td>\n",
       "      <td>https://www.nytimes.com/2006/06/10/theater/rev...</td>\n",
       "      <td>335</td>\n",
       "      <td>2006-06-10</td>\n",
       "      <td>2006-06-10</td>\n",
       "      <td>2006</td>\n",
       "      <td>True</td>\n",
       "      <td>Christopher Boal's comic melodrama \"Crazy for ...</td>\n",
       "      <td>341</td>\n",
       "    </tr>\n",
       "    <tr>\n",
       "      <th>4218</th>\n",
       "      <td>'Crown Heights'</td>\n",
       "      <td>[{'name': 'creative_works', 'value': 'CROWN HE...</td>\n",
       "      <td>2004-02-13T00:00:00Z</td>\n",
       "      <td>Review</td>\n",
       "      <td>https://www.nytimes.com/2004/02/13/movies/thea...</td>\n",
       "      <td>464</td>\n",
       "      <td>2004-02-13</td>\n",
       "      <td>2004-02-13</td>\n",
       "      <td>2004</td>\n",
       "      <td>True</td>\n",
       "      <td>All Stars Project Performing Arts and Learning...</td>\n",
       "      <td>463</td>\n",
       "    </tr>\n",
       "    <tr>\n",
       "      <th>12262</th>\n",
       "      <td>'Cymbeline' On Wings Of Wonder</td>\n",
       "      <td>[{'name': 'creative_works', 'value': 'CYMBELIN...</td>\n",
       "      <td>1997-12-07T00:00:00Z</td>\n",
       "      <td>Review</td>\n",
       "      <td>https://www.nytimes.com/1997/12/07/nyregion/th...</td>\n",
       "      <td>627</td>\n",
       "      <td>1997-12-07</td>\n",
       "      <td>1997-12-07</td>\n",
       "      <td>1997</td>\n",
       "      <td>True</td>\n",
       "      <td>DRIFT into Hartford Stage -- given the dreamy ...</td>\n",
       "      <td>627</td>\n",
       "    </tr>\n",
       "    <tr>\n",
       "      <th>...</th>\n",
       "      <td>...</td>\n",
       "      <td>...</td>\n",
       "      <td>...</td>\n",
       "      <td>...</td>\n",
       "      <td>...</td>\n",
       "      <td>...</td>\n",
       "      <td>...</td>\n",
       "      <td>...</td>\n",
       "      <td>...</td>\n",
       "      <td>...</td>\n",
       "      <td>...</td>\n",
       "      <td>...</td>\n",
       "    </tr>\n",
       "    <tr>\n",
       "      <th>2898</th>\n",
       "      <td>‘Hamlet’ Outdoors: The Setting’s the Thing</td>\n",
       "      <td>[{'name': 'subject', 'value': 'Theater', 'rank...</td>\n",
       "      <td>2008-08-26T00:00:00Z</td>\n",
       "      <td>Review</td>\n",
       "      <td>https://www.nytimes.com/2008/08/26/theater/rev...</td>\n",
       "      <td>345</td>\n",
       "      <td>2008-08-26</td>\n",
       "      <td>2008-08-26</td>\n",
       "      <td>2008</td>\n",
       "      <td>True</td>\n",
       "      <td>As dusk fell on a cool, mildly humid late summ...</td>\n",
       "      <td>345</td>\n",
       "    </tr>\n",
       "    <tr>\n",
       "      <th>1161</th>\n",
       "      <td>‘Harvey,’ With Jim Parsons, at Studio 54</td>\n",
       "      <td>[{'name': 'creative_works', 'value': 'HARVEY (...</td>\n",
       "      <td>2012-06-14T00:00:00Z</td>\n",
       "      <td>News</td>\n",
       "      <td>https://www.nytimes.com/2012/06/15/theater/rev...</td>\n",
       "      <td>1149</td>\n",
       "      <td>2012-06-14</td>\n",
       "      <td>2012-06-14</td>\n",
       "      <td>2012</td>\n",
       "      <td>True</td>\n",
       "      <td>During the heyday of Studio 54 it was probably...</td>\n",
       "      <td>958</td>\n",
       "    </tr>\n",
       "    <tr>\n",
       "      <th>1150</th>\n",
       "      <td>‘I Am a Tree,’ Dulcy Rogers’s Solo Show at St....</td>\n",
       "      <td>[{'name': 'creative_works', 'value': 'I AM A T...</td>\n",
       "      <td>2012-06-10T00:00:00Z</td>\n",
       "      <td>News</td>\n",
       "      <td>https://www.nytimes.com/2012/06/11/theater/i-a...</td>\n",
       "      <td>347</td>\n",
       "      <td>2012-06-10</td>\n",
       "      <td>2012-06-10</td>\n",
       "      <td>2012</td>\n",
       "      <td>True</td>\n",
       "      <td>Playwrights, be fearless about what you put in...</td>\n",
       "      <td>308</td>\n",
       "    </tr>\n",
       "    <tr>\n",
       "      <th>3508</th>\n",
       "      <td>‘If You Give a Mouse a Cookie,’ Theater for Ch...</td>\n",
       "      <td>[{'name': 'subject', 'value': 'Theater', 'rank...</td>\n",
       "      <td>2006-07-22T00:00:00Z</td>\n",
       "      <td>Review</td>\n",
       "      <td>https://www.nytimes.com/2006/07/22/theater/rev...</td>\n",
       "      <td>341</td>\n",
       "      <td>2006-07-22</td>\n",
       "      <td>2006-07-22</td>\n",
       "      <td>2006</td>\n",
       "      <td>True</td>\n",
       "      <td>Mom, Dad and Sis are taken a little aback when...</td>\n",
       "      <td>341</td>\n",
       "    </tr>\n",
       "    <tr>\n",
       "      <th>3483</th>\n",
       "      <td>‘Indian Blood’: Rockwellian Reflections on a B...</td>\n",
       "      <td>[{'name': 'subject', 'value': 'Theater', 'rank...</td>\n",
       "      <td>2006-08-10T00:00:00Z</td>\n",
       "      <td>Review</td>\n",
       "      <td>https://www.nytimes.com/2006/08/10/theater/rev...</td>\n",
       "      <td>1033</td>\n",
       "      <td>2006-08-10</td>\n",
       "      <td>2006-08-10</td>\n",
       "      <td>2006</td>\n",
       "      <td>True</td>\n",
       "      <td>As slight as it is sweet, A. R. Gurney’s lates...</td>\n",
       "      <td>1034</td>\n",
       "    </tr>\n",
       "    <tr>\n",
       "      <th>678</th>\n",
       "      <td>‘I’m Melting!’ Is No Stretch</td>\n",
       "      <td>[{'name': 'subject', 'value': 'Theater', 'rank...</td>\n",
       "      <td>2013-06-05T02:00:12+0000</td>\n",
       "      <td>Review</td>\n",
       "      <td>https://www.nytimes.com/2013/06/05/theater/rev...</td>\n",
       "      <td>1052</td>\n",
       "      <td>2013-06-05</td>\n",
       "      <td>2013-06-05</td>\n",
       "      <td>2013</td>\n",
       "      <td>True</td>\n",
       "      <td>“Am I repeating myself?” asks the addled woman...</td>\n",
       "      <td>1063</td>\n",
       "    </tr>\n",
       "    <tr>\n",
       "      <th>3462</th>\n",
       "      <td>‘Kiki &amp; Herb’: The Road to Catharsis With Thos...</td>\n",
       "      <td>[{'name': 'subject', 'value': 'Theater', 'rank...</td>\n",
       "      <td>2006-08-16T00:00:00Z</td>\n",
       "      <td>Review</td>\n",
       "      <td>https://www.nytimes.com/2006/08/16/theater/rev...</td>\n",
       "      <td>1293</td>\n",
       "      <td>2006-08-16</td>\n",
       "      <td>2006-08-16</td>\n",
       "      <td>2006</td>\n",
       "      <td>True</td>\n",
       "      <td>That’s one gorgeous set of teardrops that the ...</td>\n",
       "      <td>1307</td>\n",
       "    </tr>\n",
       "    <tr>\n",
       "      <th>1453</th>\n",
       "      <td>‘King Lear’ Inspires a Riff on the Endurance o...</td>\n",
       "      <td>[{'name': 'subject', 'value': 'Theater', 'rank...</td>\n",
       "      <td>2011-02-28T00:00:00Z</td>\n",
       "      <td>Review</td>\n",
       "      <td>https://www.nytimes.com/2011/02/28/theater/rev...</td>\n",
       "      <td>287</td>\n",
       "      <td>2011-02-28</td>\n",
       "      <td>2011-02-28</td>\n",
       "      <td>2011</td>\n",
       "      <td>True</td>\n",
       "      <td>There comes a point in “Storm Still” when even...</td>\n",
       "      <td>287</td>\n",
       "    </tr>\n",
       "    <tr>\n",
       "      <th>1158</th>\n",
       "      <td>‘Luther,’ by Ethan Lipton, at Here Arts Center</td>\n",
       "      <td>[{'name': 'creative_works', 'value': 'LUTHER (...</td>\n",
       "      <td>2012-06-13T00:00:00Z</td>\n",
       "      <td>News</td>\n",
       "      <td>https://www.nytimes.com/2012/06/14/theater/lut...</td>\n",
       "      <td>390</td>\n",
       "      <td>2012-06-13</td>\n",
       "      <td>2012-06-13</td>\n",
       "      <td>2012</td>\n",
       "      <td>True</td>\n",
       "      <td>Can a man who kills other men for money retain...</td>\n",
       "      <td>352</td>\n",
       "    </tr>\n",
       "    <tr>\n",
       "      <th>1267</th>\n",
       "      <td>‘Mad Men’ Era Women: Their Tale</td>\n",
       "      <td>[{'name': 'subject', 'value': 'Theater', 'rank...</td>\n",
       "      <td>2012-10-07T21:31:51+0000</td>\n",
       "      <td>Review</td>\n",
       "      <td>https://www.nytimes.com/2012/10/08/theater/rev...</td>\n",
       "      <td>862</td>\n",
       "      <td>2012-10-07</td>\n",
       "      <td>2012-10-07</td>\n",
       "      <td>2012</td>\n",
       "      <td>True</td>\n",
       "      <td>Though you couldn’t tell it from the delighted...</td>\n",
       "      <td>862</td>\n",
       "    </tr>\n",
       "    <tr>\n",
       "      <th>900</th>\n",
       "      <td>‘Man’s Best Friend’ Takes on a New Meaning</td>\n",
       "      <td>[{'name': 'organizations', 'value': 'La MaMa E...</td>\n",
       "      <td>2013-12-20T00:00:00Z</td>\n",
       "      <td>Review</td>\n",
       "      <td>https://www.nytimes.com/2013/12/20/theater/rev...</td>\n",
       "      <td>475</td>\n",
       "      <td>2013-12-20</td>\n",
       "      <td>2013-12-20</td>\n",
       "      <td>2013</td>\n",
       "      <td>True</td>\n",
       "      <td>She has floppy ears, eyes of exquisite sadness...</td>\n",
       "      <td>483</td>\n",
       "    </tr>\n",
       "    <tr>\n",
       "      <th>3489</th>\n",
       "      <td>‘Mr. Dooley’s America’: Those Good Ol’ Days, M...</td>\n",
       "      <td>[{'name': 'subject', 'value': 'Theater', 'rank...</td>\n",
       "      <td>2006-08-21T00:00:00Z</td>\n",
       "      <td>Review</td>\n",
       "      <td>https://www.nytimes.com/2006/08/21/theater/rev...</td>\n",
       "      <td>370</td>\n",
       "      <td>2006-08-21</td>\n",
       "      <td>2006-08-21</td>\n",
       "      <td>2006</td>\n",
       "      <td>True</td>\n",
       "      <td>Unless you spent time in Chicago in the 1890’s...</td>\n",
       "      <td>371</td>\n",
       "    </tr>\n",
       "    <tr>\n",
       "      <th>1508</th>\n",
       "      <td>‘Much Ado,’ With Summer Suits and Sundresses</td>\n",
       "      <td>[{'name': 'subject', 'value': 'Art', 'rank': 1...</td>\n",
       "      <td>2011-09-25T00:00:00Z</td>\n",
       "      <td>Review</td>\n",
       "      <td>https://www.nytimes.com/2011/09/25/nyregion/mu...</td>\n",
       "      <td>628</td>\n",
       "      <td>2011-09-25</td>\n",
       "      <td>2011-09-25</td>\n",
       "      <td>2011</td>\n",
       "      <td>True</td>\n",
       "      <td>Imagine a pretty patio outside an Italian vill...</td>\n",
       "      <td>628</td>\n",
       "    </tr>\n",
       "    <tr>\n",
       "      <th>1146</th>\n",
       "      <td>‘Murder in the First’ Looks at Life at Alcatraz</td>\n",
       "      <td>[{'name': 'creative_works', 'value': 'MURDER I...</td>\n",
       "      <td>2012-06-08T00:00:00Z</td>\n",
       "      <td>News</td>\n",
       "      <td>https://www.nytimes.com/2012/06/09/theater/mur...</td>\n",
       "      <td>410</td>\n",
       "      <td>2012-06-08</td>\n",
       "      <td>2012-06-08</td>\n",
       "      <td>2012</td>\n",
       "      <td>True</td>\n",
       "      <td>There’s a scene late in “Murder in the First” ...</td>\n",
       "      <td>363</td>\n",
       "    </tr>\n",
       "    <tr>\n",
       "      <th>3566</th>\n",
       "      <td>‘Never Tell’: Sex, Trust and Video Art</td>\n",
       "      <td>[{'name': 'subject', 'value': 'Theater', 'rank...</td>\n",
       "      <td>2006-07-31T00:00:00Z</td>\n",
       "      <td>Review</td>\n",
       "      <td>https://www.nytimes.com/2006/07/31/theater/rev...</td>\n",
       "      <td>339</td>\n",
       "      <td>2006-07-31</td>\n",
       "      <td>2006-07-31</td>\n",
       "      <td>2006</td>\n",
       "      <td>True</td>\n",
       "      <td>It’s nice to see a play now and then that refl...</td>\n",
       "      <td>339</td>\n",
       "    </tr>\n",
       "    <tr>\n",
       "      <th>1155</th>\n",
       "      <td>‘Rapture, Blister, Burn,’ at Playwrights Horizons</td>\n",
       "      <td>[{'name': 'creative_works', 'value': 'RAPTURE,...</td>\n",
       "      <td>2012-06-12T00:00:00Z</td>\n",
       "      <td>News</td>\n",
       "      <td>https://www.nytimes.com/2012/06/13/theater/rap...</td>\n",
       "      <td>1279</td>\n",
       "      <td>2012-06-12</td>\n",
       "      <td>2012-06-12</td>\n",
       "      <td>2012</td>\n",
       "      <td>True</td>\n",
       "      <td>A good, old-fashioned consciousness-raising se...</td>\n",
       "      <td>1119</td>\n",
       "    </tr>\n",
       "    <tr>\n",
       "      <th>3496</th>\n",
       "      <td>‘Romeo and Juliet’ at Williamstown, Starring E...</td>\n",
       "      <td>[{'name': 'subject', 'value': 'Williamstown Th...</td>\n",
       "      <td>2006-08-08T00:00:00Z</td>\n",
       "      <td>Review</td>\n",
       "      <td>https://www.nytimes.com/2006/08/08/theater/rev...</td>\n",
       "      <td>979</td>\n",
       "      <td>2006-08-08</td>\n",
       "      <td>2006-08-08</td>\n",
       "      <td>2006</td>\n",
       "      <td>True</td>\n",
       "      <td>WILLIAMSTOWN, Mass., Aug. 4 — And now, gentle ...</td>\n",
       "      <td>981</td>\n",
       "    </tr>\n",
       "    <tr>\n",
       "      <th>3485</th>\n",
       "      <td>‘Room Service,’ a Farce Delivering Comic Goods...</td>\n",
       "      <td>[{'name': 'subject', 'value': 'Theater', 'rank...</td>\n",
       "      <td>2006-07-13T00:00:00Z</td>\n",
       "      <td>Review</td>\n",
       "      <td>https://www.nytimes.com/2006/07/13/theater/rev...</td>\n",
       "      <td>321</td>\n",
       "      <td>2006-07-13</td>\n",
       "      <td>2006-07-13</td>\n",
       "      <td>2006</td>\n",
       "      <td>True</td>\n",
       "      <td>The Peccadillo Theater Company has its very en...</td>\n",
       "      <td>323</td>\n",
       "    </tr>\n",
       "    <tr>\n",
       "      <th>3446</th>\n",
       "      <td>‘Shout!’ Sings Its Way Back to the Mod Years</td>\n",
       "      <td>[{'name': 'subject', 'value': 'Theater', 'rank...</td>\n",
       "      <td>2006-07-28T00:00:00Z</td>\n",
       "      <td>Review</td>\n",
       "      <td>https://www.nytimes.com/2006/07/28/theater/rev...</td>\n",
       "      <td>861</td>\n",
       "      <td>2006-07-28</td>\n",
       "      <td>2006-07-28</td>\n",
       "      <td>2006</td>\n",
       "      <td>True</td>\n",
       "      <td>The drag queens have long since pawned their w...</td>\n",
       "      <td>865</td>\n",
       "    </tr>\n",
       "    <tr>\n",
       "      <th>1725</th>\n",
       "      <td>‘Spider-Man’ Early Reviews Set Off a Storm</td>\n",
       "      <td>[{'name': 'subject', 'value': 'Theater', 'rank...</td>\n",
       "      <td>2011-02-09T00:00:00Z</td>\n",
       "      <td>News</td>\n",
       "      <td>https://www.nytimes.com/2011/02/09/theater/09s...</td>\n",
       "      <td>924</td>\n",
       "      <td>2011-02-09</td>\n",
       "      <td>2011-02-09</td>\n",
       "      <td>2011</td>\n",
       "      <td>True</td>\n",
       "      <td>In a rare departure from custom, most of the n...</td>\n",
       "      <td>928</td>\n",
       "    </tr>\n",
       "    <tr>\n",
       "      <th>1152</th>\n",
       "      <td>‘Storefront Church,’ by John Patrick Shanley</td>\n",
       "      <td>[{'name': 'creative_works', 'value': 'STOREFRO...</td>\n",
       "      <td>2012-06-11T00:00:00Z</td>\n",
       "      <td>News</td>\n",
       "      <td>https://www.nytimes.com/2012/06/12/theater/sto...</td>\n",
       "      <td>1159</td>\n",
       "      <td>2012-06-11</td>\n",
       "      <td>2012-06-11</td>\n",
       "      <td>2012</td>\n",
       "      <td>True</td>\n",
       "      <td>Burdens are just about equally distributed amo...</td>\n",
       "      <td>1015</td>\n",
       "    </tr>\n",
       "    <tr>\n",
       "      <th>3651</th>\n",
       "      <td>‘Streetcar,’ the Sequel: Stanley Seeks Blanche</td>\n",
       "      <td>[{'name': 'subject', 'value': 'Theater', 'rank...</td>\n",
       "      <td>2006-11-01T00:00:00Z</td>\n",
       "      <td>Review</td>\n",
       "      <td>https://www.nytimes.com/2006/11/01/theater/rev...</td>\n",
       "      <td>328</td>\n",
       "      <td>2006-11-01</td>\n",
       "      <td>2006-11-01</td>\n",
       "      <td>2006</td>\n",
       "      <td>True</td>\n",
       "      <td>Lisa and Todd D’Amour have reconsidered “A Str...</td>\n",
       "      <td>329</td>\n",
       "    </tr>\n",
       "    <tr>\n",
       "      <th>2054</th>\n",
       "      <td>‘The Internet’ — Webbies in Love, or Trying</td>\n",
       "      <td>[{'name': 'subject', 'value': 'Theater', 'rank...</td>\n",
       "      <td>2010-08-16T00:00:00Z</td>\n",
       "      <td>Review</td>\n",
       "      <td>https://www.nytimes.com/2010/08/16/theater/rev...</td>\n",
       "      <td>349</td>\n",
       "      <td>2010-08-16</td>\n",
       "      <td>2010-08-16</td>\n",
       "      <td>2010</td>\n",
       "      <td>True</td>\n",
       "      <td>Despite Prince’s recent proclamation of its de...</td>\n",
       "      <td>350</td>\n",
       "    </tr>\n",
       "    <tr>\n",
       "      <th>3474</th>\n",
       "      <td>‘The Jaded Assassin’: A Martial Arts Film, Onl...</td>\n",
       "      <td>[{'name': 'subject', 'value': 'Theater', 'rank...</td>\n",
       "      <td>2006-08-11T00:00:00Z</td>\n",
       "      <td>Review</td>\n",
       "      <td>https://www.nytimes.com/2006/08/11/theater/rev...</td>\n",
       "      <td>330</td>\n",
       "      <td>2006-08-11</td>\n",
       "      <td>2006-08-11</td>\n",
       "      <td>2006</td>\n",
       "      <td>True</td>\n",
       "      <td>The first decapitation gets a laugh. So do the...</td>\n",
       "      <td>333</td>\n",
       "    </tr>\n",
       "    <tr>\n",
       "      <th>1159</th>\n",
       "      <td>‘The Lathe of Heaven,’ at 3LD</td>\n",
       "      <td>[{'name': 'creative_works', 'value': 'THE LATH...</td>\n",
       "      <td>2012-06-14T00:00:00Z</td>\n",
       "      <td>News</td>\n",
       "      <td>https://www.nytimes.com/2012/06/15/theater/the...</td>\n",
       "      <td>399</td>\n",
       "      <td>2012-06-14</td>\n",
       "      <td>2012-06-14</td>\n",
       "      <td>2012</td>\n",
       "      <td>True</td>\n",
       "      <td>It’s oddly encouraging that a theater only blo...</td>\n",
       "      <td>374</td>\n",
       "    </tr>\n",
       "    <tr>\n",
       "      <th>1266</th>\n",
       "      <td>‘What Now?’ Following ‘What Ifs?’</td>\n",
       "      <td>[{'name': 'subject', 'value': 'Theater', 'rank...</td>\n",
       "      <td>2012-10-07T20:36:33+0000</td>\n",
       "      <td>Review</td>\n",
       "      <td>https://www.nytimes.com/2012/10/08/theater/rev...</td>\n",
       "      <td>359</td>\n",
       "      <td>2012-10-07</td>\n",
       "      <td>2012-10-07</td>\n",
       "      <td>2012</td>\n",
       "      <td>True</td>\n",
       "      <td>“You would be married to some feed salesman,” ...</td>\n",
       "      <td>359</td>\n",
       "    </tr>\n",
       "    <tr>\n",
       "      <th>3494</th>\n",
       "      <td>‘[title of show]’: Putting On a Show About Put...</td>\n",
       "      <td>[{'name': 'subject', 'value': 'Theater', 'rank...</td>\n",
       "      <td>2006-07-21T00:00:00Z</td>\n",
       "      <td>Review</td>\n",
       "      <td>https://www.nytimes.com/2006/07/21/theater/rev...</td>\n",
       "      <td>579</td>\n",
       "      <td>2006-07-21</td>\n",
       "      <td>2006-07-21</td>\n",
       "      <td>2006</td>\n",
       "      <td>True</td>\n",
       "      <td>Correction Appended “[title of show],’’ which ...</td>\n",
       "      <td>583</td>\n",
       "    </tr>\n",
       "    <tr>\n",
       "      <th>3236</th>\n",
       "      <td>’60s Prejudice and Capitalism as a Big Blond M...</td>\n",
       "      <td>[{'name': 'subject', 'value': 'Theater', 'rank...</td>\n",
       "      <td>2007-01-24T00:00:00Z</td>\n",
       "      <td>Review</td>\n",
       "      <td>https://www.nytimes.com/2007/01/24/theater/rev...</td>\n",
       "      <td>609</td>\n",
       "      <td>2007-01-24</td>\n",
       "      <td>2007-01-24</td>\n",
       "      <td>2007</td>\n",
       "      <td>True</td>\n",
       "      <td>“Dutchman,” the poet Amiri Baraka’s controvers...</td>\n",
       "      <td>614</td>\n",
       "    </tr>\n",
       "    <tr>\n",
       "      <th>2109</th>\n",
       "      <td>’Tis No Pity She’s a C.E.O.</td>\n",
       "      <td>[{'name': 'subject', 'value': 'Theater', 'rank...</td>\n",
       "      <td>2010-10-04T00:00:00Z</td>\n",
       "      <td>Review</td>\n",
       "      <td>https://www.nytimes.com/2010/10/04/theater/rev...</td>\n",
       "      <td>1211</td>\n",
       "      <td>2010-10-04</td>\n",
       "      <td>2010-10-04</td>\n",
       "      <td>2010</td>\n",
       "      <td>True</td>\n",
       "      <td>The delightful surprise of the generally less-...</td>\n",
       "      <td>1227</td>\n",
       "    </tr>\n",
       "    <tr>\n",
       "      <th>181</th>\n",
       "      <td>’Tis Pity She’s a ... Busy Young Professional</td>\n",
       "      <td>[{'name': 'subject', 'value': 'Theater', 'rank...</td>\n",
       "      <td>2014-05-08T19:50:35+0000</td>\n",
       "      <td>Review</td>\n",
       "      <td>https://www.nytimes.com/2014/05/09/theater/irm...</td>\n",
       "      <td>923</td>\n",
       "      <td>2014-05-08</td>\n",
       "      <td>2014-05-08</td>\n",
       "      <td>2014</td>\n",
       "      <td>True</td>\n",
       "      <td>Perhaps a small Pernod would help. Or maybe a ...</td>\n",
       "      <td>929</td>\n",
       "    </tr>\n",
       "  </tbody>\n",
       "</table>\n",
       "<p>8747 rows × 12 columns</p>\n",
       "</div>"
      ],
      "text/plain": [
       "                                                headline  \\\n",
       "399               A Universal Heart, Pounding With Hope    \n",
       "344     Exulting in His Fabulous Moment, a Spangled D...   \n",
       "377           If You Seek the Heat, Go Into the Kitchen    \n",
       "364    &#8216;Vanya&#8217; and &#8216;Seagull&#8217; ...   \n",
       "5736   '37 Postcards' Tells Tale of Eccentricity, but...   \n",
       "6448        '42d Street' in Elmsford: Tribute to Dancing   \n",
       "12057               'A Father's Day Diary' as Confession   \n",
       "3570   'A Spalding Gray Matter' Spins 2 Real Events I...   \n",
       "3572   'Absence & Presence': For a Father Who's Not T...   \n",
       "4933                                     'America Idles'   \n",
       "6154          'Annie' at the Helen Hayes Center in Nyack   \n",
       "6141                               'Architect of Dreams'   \n",
       "5455                    'Art' in the Eye of the Beholder   \n",
       "3548   'At Said': A Typewriter, a Terrible Thing and ...   \n",
       "6065                  'Best Kept Secret' in Croton Falls   \n",
       "5011                                'Beyond Recognition'   \n",
       "3463   'Bully': Even Caught in the Footlights, a Bull...   \n",
       "3536   'Burleigh Grime$': A Vengeful Financier and Hi...   \n",
       "3748         'Bye, Mom! Or, How Not to Bury Your Mother'   \n",
       "6606            'Capeman' Doesn't Fly, Despite the Music   \n",
       "5626                    'Carousel' Emerges From Darkness   \n",
       "13598          'Carousel,' Surviving To Become A Classic   \n",
       "6557   'Chorus Line' Remains Legend With Kick, Relati...   \n",
       "3549   'Clocks and Whistles' Looks for Substance to F...   \n",
       "14119                 'Closer Than Ever' in Mount Vernon   \n",
       "5013                                 'Closet Chronicles'   \n",
       "6375            'Company' on Stage At Helen Hayes Center   \n",
       "3546   'Crazy for the Dog,' a Study in Sibling Secrec...   \n",
       "4218                                     'Crown Heights'   \n",
       "12262                     'Cymbeline' On Wings Of Wonder   \n",
       "...                                                  ...   \n",
       "2898          ‘Hamlet’ Outdoors: The Setting’s the Thing   \n",
       "1161            ‘Harvey,’ With Jim Parsons, at Studio 54   \n",
       "1150   ‘I Am a Tree,’ Dulcy Rogers’s Solo Show at St....   \n",
       "3508   ‘If You Give a Mouse a Cookie,’ Theater for Ch...   \n",
       "3483   ‘Indian Blood’: Rockwellian Reflections on a B...   \n",
       "678                         ‘I’m Melting!’ Is No Stretch   \n",
       "3462   ‘Kiki & Herb’: The Road to Catharsis With Thos...   \n",
       "1453   ‘King Lear’ Inspires a Riff on the Endurance o...   \n",
       "1158      ‘Luther,’ by Ethan Lipton, at Here Arts Center   \n",
       "1267                     ‘Mad Men’ Era Women: Their Tale   \n",
       "900           ‘Man’s Best Friend’ Takes on a New Meaning   \n",
       "3489   ‘Mr. Dooley’s America’: Those Good Ol’ Days, M...   \n",
       "1508        ‘Much Ado,’ With Summer Suits and Sundresses   \n",
       "1146     ‘Murder in the First’ Looks at Life at Alcatraz   \n",
       "3566              ‘Never Tell’: Sex, Trust and Video Art   \n",
       "1155   ‘Rapture, Blister, Burn,’ at Playwrights Horizons   \n",
       "3496   ‘Romeo and Juliet’ at Williamstown, Starring E...   \n",
       "3485   ‘Room Service,’ a Farce Delivering Comic Goods...   \n",
       "3446        ‘Shout!’ Sings Its Way Back to the Mod Years   \n",
       "1725          ‘Spider-Man’ Early Reviews Set Off a Storm   \n",
       "1152        ‘Storefront Church,’ by John Patrick Shanley   \n",
       "3651      ‘Streetcar,’ the Sequel: Stanley Seeks Blanche   \n",
       "2054         ‘The Internet’ — Webbies in Love, or Trying   \n",
       "3474   ‘The Jaded Assassin’: A Martial Arts Film, Onl...   \n",
       "1159                       ‘The Lathe of Heaven,’ at 3LD   \n",
       "1266                   ‘What Now?’ Following ‘What Ifs?’   \n",
       "3494   ‘[title of show]’: Putting On a Show About Put...   \n",
       "3236   ’60s Prejudice and Capitalism as a Big Blond M...   \n",
       "2109                         ’Tis No Pity She’s a C.E.O.   \n",
       "181        ’Tis Pity She’s a ... Busy Young Professional   \n",
       "\n",
       "                                                 keyword  \\\n",
       "399    [{'name': 'subject', 'value': 'Theater', 'rank...   \n",
       "344    [{'name': 'subject', 'value': 'Theater', 'rank...   \n",
       "377    [{'name': 'subject', 'value': 'Theater', 'rank...   \n",
       "364    [{'name': 'subject', 'value': 'Theater', 'rank...   \n",
       "5736   [{'name': 'creative_works', 'value': '37 POSTC...   \n",
       "6448   [{'name': 'creative_works', 'value': '42ND STR...   \n",
       "12057  [{'name': 'creative_works', 'value': \"FATHER'S...   \n",
       "3570   [{'name': 'subject', 'value': 'Theater', 'rank...   \n",
       "3572   [{'name': 'subject', 'value': 'Theater', 'rank...   \n",
       "4933   [{'name': 'creative_works', 'value': 'AMERICA ...   \n",
       "6154   [{'name': 'creative_works', 'value': 'ANNIE (P...   \n",
       "6141   [{'name': 'persons', 'value': 'URBAN, JOSEPH',...   \n",
       "5455   [{'name': 'creative_works', 'value': 'ART (PLA...   \n",
       "3548   [{'name': 'subject', 'value': 'Theater', 'rank...   \n",
       "6065   [{'name': 'creative_works', 'value': 'BEST KEP...   \n",
       "5011   [{'name': 'creative_works', 'value': 'BEYOND R...   \n",
       "3463   [{'name': 'subject', 'value': 'Theater', 'rank...   \n",
       "3536   [{'name': 'subject', 'value': 'Theater', 'rank...   \n",
       "3748   [{'name': 'creative_works', 'value': 'BYE, MOM...   \n",
       "6606   [{'name': 'creative_works', 'value': 'CAPEMAN,...   \n",
       "5626   [{'name': 'creative_works', 'value': 'CAROUSEL...   \n",
       "13598  [{'name': 'creative_works', 'value': 'CAROUSEL...   \n",
       "6557   [{'name': 'creative_works', 'value': 'CHORUS L...   \n",
       "3549   [{'name': 'subject', 'value': 'Theater', 'rank...   \n",
       "14119  [{'name': 'creative_works', 'value': 'CLOSER T...   \n",
       "5013   [{'name': 'creative_works', 'value': 'CLOSET C...   \n",
       "6375   [{'name': 'creative_works', 'value': 'COMPANY ...   \n",
       "3546   [{'name': 'subject', 'value': 'Theater', 'rank...   \n",
       "4218   [{'name': 'creative_works', 'value': 'CROWN HE...   \n",
       "12262  [{'name': 'creative_works', 'value': 'CYMBELIN...   \n",
       "...                                                  ...   \n",
       "2898   [{'name': 'subject', 'value': 'Theater', 'rank...   \n",
       "1161   [{'name': 'creative_works', 'value': 'HARVEY (...   \n",
       "1150   [{'name': 'creative_works', 'value': 'I AM A T...   \n",
       "3508   [{'name': 'subject', 'value': 'Theater', 'rank...   \n",
       "3483   [{'name': 'subject', 'value': 'Theater', 'rank...   \n",
       "678    [{'name': 'subject', 'value': 'Theater', 'rank...   \n",
       "3462   [{'name': 'subject', 'value': 'Theater', 'rank...   \n",
       "1453   [{'name': 'subject', 'value': 'Theater', 'rank...   \n",
       "1158   [{'name': 'creative_works', 'value': 'LUTHER (...   \n",
       "1267   [{'name': 'subject', 'value': 'Theater', 'rank...   \n",
       "900    [{'name': 'organizations', 'value': 'La MaMa E...   \n",
       "3489   [{'name': 'subject', 'value': 'Theater', 'rank...   \n",
       "1508   [{'name': 'subject', 'value': 'Art', 'rank': 1...   \n",
       "1146   [{'name': 'creative_works', 'value': 'MURDER I...   \n",
       "3566   [{'name': 'subject', 'value': 'Theater', 'rank...   \n",
       "1155   [{'name': 'creative_works', 'value': 'RAPTURE,...   \n",
       "3496   [{'name': 'subject', 'value': 'Williamstown Th...   \n",
       "3485   [{'name': 'subject', 'value': 'Theater', 'rank...   \n",
       "3446   [{'name': 'subject', 'value': 'Theater', 'rank...   \n",
       "1725   [{'name': 'subject', 'value': 'Theater', 'rank...   \n",
       "1152   [{'name': 'creative_works', 'value': 'STOREFRO...   \n",
       "3651   [{'name': 'subject', 'value': 'Theater', 'rank...   \n",
       "2054   [{'name': 'subject', 'value': 'Theater', 'rank...   \n",
       "3474   [{'name': 'subject', 'value': 'Theater', 'rank...   \n",
       "1159   [{'name': 'creative_works', 'value': 'THE LATH...   \n",
       "1266   [{'name': 'subject', 'value': 'Theater', 'rank...   \n",
       "3494   [{'name': 'subject', 'value': 'Theater', 'rank...   \n",
       "3236   [{'name': 'subject', 'value': 'Theater', 'rank...   \n",
       "2109   [{'name': 'subject', 'value': 'Theater', 'rank...   \n",
       "181    [{'name': 'subject', 'value': 'Theater', 'rank...   \n",
       "\n",
       "                       pub_date type_mat  \\\n",
       "399        2014-10-25T00:00:00Z   Review   \n",
       "344    2014-09-21T20:14:51+0000   Review   \n",
       "377    2014-10-13T02:00:09+0000   Review   \n",
       "364    2014-10-03T02:00:23+0000   Review   \n",
       "5736       2001-10-21T00:00:00Z   Review   \n",
       "6448       1999-09-12T00:00:00Z   Review   \n",
       "12057      1997-09-21T00:00:00Z   Review   \n",
       "3570       2006-05-11T00:00:00Z   Review   \n",
       "3572       2006-05-03T00:00:00Z   Review   \n",
       "4933       2003-08-01T00:00:00Z   Review   \n",
       "6154       2000-12-17T00:00:00Z   Review   \n",
       "6141       2000-12-08T00:00:00Z   Review   \n",
       "5455       2001-01-14T00:00:00Z   Review   \n",
       "3548       2006-05-24T00:00:00Z   Review   \n",
       "6065       2000-10-15T00:00:00Z   Review   \n",
       "5011       2003-10-31T00:00:00Z   Review   \n",
       "3463       2006-07-19T00:00:00Z   Review   \n",
       "3536       2006-06-14T00:00:00Z   Review   \n",
       "3748       2005-02-15T00:00:00Z   Review   \n",
       "6606       1998-02-08T00:00:00Z   Review   \n",
       "5626       2001-06-10T00:00:00Z   Review   \n",
       "13598      1996-04-07T00:00:00Z   Review   \n",
       "6557       1998-01-04T00:00:00Z   Review   \n",
       "3549       2006-05-11T00:00:00Z   Review   \n",
       "14119      1996-04-28T00:00:00Z   Review   \n",
       "5013       2003-10-31T00:00:00Z   Review   \n",
       "6375       1999-06-27T00:00:00Z   Review   \n",
       "3546       2006-06-10T00:00:00Z   Review   \n",
       "4218       2004-02-13T00:00:00Z   Review   \n",
       "12262      1997-12-07T00:00:00Z   Review   \n",
       "...                         ...      ...   \n",
       "2898       2008-08-26T00:00:00Z   Review   \n",
       "1161       2012-06-14T00:00:00Z     News   \n",
       "1150       2012-06-10T00:00:00Z     News   \n",
       "3508       2006-07-22T00:00:00Z   Review   \n",
       "3483       2006-08-10T00:00:00Z   Review   \n",
       "678    2013-06-05T02:00:12+0000   Review   \n",
       "3462       2006-08-16T00:00:00Z   Review   \n",
       "1453       2011-02-28T00:00:00Z   Review   \n",
       "1158       2012-06-13T00:00:00Z     News   \n",
       "1267   2012-10-07T21:31:51+0000   Review   \n",
       "900        2013-12-20T00:00:00Z   Review   \n",
       "3489       2006-08-21T00:00:00Z   Review   \n",
       "1508       2011-09-25T00:00:00Z   Review   \n",
       "1146       2012-06-08T00:00:00Z     News   \n",
       "3566       2006-07-31T00:00:00Z   Review   \n",
       "1155       2012-06-12T00:00:00Z     News   \n",
       "3496       2006-08-08T00:00:00Z   Review   \n",
       "3485       2006-07-13T00:00:00Z   Review   \n",
       "3446       2006-07-28T00:00:00Z   Review   \n",
       "1725       2011-02-09T00:00:00Z     News   \n",
       "1152       2012-06-11T00:00:00Z     News   \n",
       "3651       2006-11-01T00:00:00Z   Review   \n",
       "2054       2010-08-16T00:00:00Z   Review   \n",
       "3474       2006-08-11T00:00:00Z   Review   \n",
       "1159       2012-06-14T00:00:00Z     News   \n",
       "1266   2012-10-07T20:36:33+0000   Review   \n",
       "3494       2006-07-21T00:00:00Z   Review   \n",
       "3236       2007-01-24T00:00:00Z   Review   \n",
       "2109       2010-10-04T00:00:00Z   Review   \n",
       "181    2014-05-08T19:50:35+0000   Review   \n",
       "\n",
       "                                                     url  word_count  \\\n",
       "399    https://www.nytimes.com/2014/10/25/theater/ivo...        1193   \n",
       "344    https://www.nytimes.com/2014/09/22/theater/mig...         916   \n",
       "377    https://www.nytimes.com/2014/10/13/theater/deb...         779   \n",
       "364    https://www.nytimes.com/2014/10/03/theater/bly...         997   \n",
       "5736   https://www.nytimes.com/2001/10/21/nyregion/th...         828   \n",
       "6448   https://www.nytimes.com/1999/09/12/nyregion/th...         729   \n",
       "12057  https://www.nytimes.com/1997/09/21/nyregion/th...         647   \n",
       "3570   https://www.nytimes.com/2006/05/11/theater/rev...         413   \n",
       "3572   https://www.nytimes.com/2006/05/03/theater/rev...         372   \n",
       "4933   https://www.nytimes.com/2003/08/01/movies/thea...         429   \n",
       "6154   https://www.nytimes.com/2000/12/17/nyregion/th...         775   \n",
       "6141   https://www.nytimes.com/2000/12/08/theater/art...         573   \n",
       "5455   https://www.nytimes.com/2001/01/14/nyregion/th...         889   \n",
       "3548   https://www.nytimes.com/2006/05/24/theater/rev...         294   \n",
       "6065   https://www.nytimes.com/2000/10/15/nyregion/th...         669   \n",
       "5011   https://www.nytimes.com/2003/10/31/movies/thea...         490   \n",
       "3463   https://www.nytimes.com/2006/07/19/theater/rev...         339   \n",
       "3536   https://www.nytimes.com/2006/06/14/theater/rev...         968   \n",
       "3748   https://theater2.nytimes.com/2005/02/15/theate...         377   \n",
       "6606   https://www.nytimes.com/1998/02/08/theater/sun...        1513   \n",
       "5626   https://www.nytimes.com/2001/06/10/nyregion/th...         661   \n",
       "13598  https://www.nytimes.com/1996/04/07/nyregion/th...         966   \n",
       "6557   https://www.nytimes.com/1998/01/04/nyregion/th...        1042   \n",
       "3549   https://www.nytimes.com/2006/05/11/theater/rev...         507   \n",
       "14119  https://www.nytimes.com/1996/04/28/nyregion/th...         617   \n",
       "5013   https://www.nytimes.com/2003/10/31/movies/thea...         345   \n",
       "6375   https://www.nytimes.com/1999/06/27/nyregion/th...         789   \n",
       "3546   https://www.nytimes.com/2006/06/10/theater/rev...         335   \n",
       "4218   https://www.nytimes.com/2004/02/13/movies/thea...         464   \n",
       "12262  https://www.nytimes.com/1997/12/07/nyregion/th...         627   \n",
       "...                                                  ...         ...   \n",
       "2898   https://www.nytimes.com/2008/08/26/theater/rev...         345   \n",
       "1161   https://www.nytimes.com/2012/06/15/theater/rev...        1149   \n",
       "1150   https://www.nytimes.com/2012/06/11/theater/i-a...         347   \n",
       "3508   https://www.nytimes.com/2006/07/22/theater/rev...         341   \n",
       "3483   https://www.nytimes.com/2006/08/10/theater/rev...        1033   \n",
       "678    https://www.nytimes.com/2013/06/05/theater/rev...        1052   \n",
       "3462   https://www.nytimes.com/2006/08/16/theater/rev...        1293   \n",
       "1453   https://www.nytimes.com/2011/02/28/theater/rev...         287   \n",
       "1158   https://www.nytimes.com/2012/06/14/theater/lut...         390   \n",
       "1267   https://www.nytimes.com/2012/10/08/theater/rev...         862   \n",
       "900    https://www.nytimes.com/2013/12/20/theater/rev...         475   \n",
       "3489   https://www.nytimes.com/2006/08/21/theater/rev...         370   \n",
       "1508   https://www.nytimes.com/2011/09/25/nyregion/mu...         628   \n",
       "1146   https://www.nytimes.com/2012/06/09/theater/mur...         410   \n",
       "3566   https://www.nytimes.com/2006/07/31/theater/rev...         339   \n",
       "1155   https://www.nytimes.com/2012/06/13/theater/rap...        1279   \n",
       "3496   https://www.nytimes.com/2006/08/08/theater/rev...         979   \n",
       "3485   https://www.nytimes.com/2006/07/13/theater/rev...         321   \n",
       "3446   https://www.nytimes.com/2006/07/28/theater/rev...         861   \n",
       "1725   https://www.nytimes.com/2011/02/09/theater/09s...         924   \n",
       "1152   https://www.nytimes.com/2012/06/12/theater/sto...        1159   \n",
       "3651   https://www.nytimes.com/2006/11/01/theater/rev...         328   \n",
       "2054   https://www.nytimes.com/2010/08/16/theater/rev...         349   \n",
       "3474   https://www.nytimes.com/2006/08/11/theater/rev...         330   \n",
       "1159   https://www.nytimes.com/2012/06/15/theater/the...         399   \n",
       "1266   https://www.nytimes.com/2012/10/08/theater/rev...         359   \n",
       "3494   https://www.nytimes.com/2006/07/21/theater/rev...         579   \n",
       "3236   https://www.nytimes.com/2007/01/24/theater/rev...         609   \n",
       "2109   https://www.nytimes.com/2010/10/04/theater/rev...        1211   \n",
       "181    https://www.nytimes.com/2014/05/09/theater/irm...         923   \n",
       "\n",
       "       pub_date_2  pub_date_3  year  is_theat  \\\n",
       "399    2014-10-25  2014-10-25  2014      True   \n",
       "344    2014-09-21  2014-09-21  2014      True   \n",
       "377    2014-10-13  2014-10-13  2014      True   \n",
       "364    2014-10-03  2014-10-03  2014      True   \n",
       "5736   2001-10-21  2001-10-21  2001      True   \n",
       "6448   1999-09-12  1999-09-12  1999      True   \n",
       "12057  1997-09-21  1997-09-21  1997      True   \n",
       "3570   2006-05-11  2006-05-11  2006      True   \n",
       "3572   2006-05-03  2006-05-03  2006      True   \n",
       "4933   2003-08-01  2003-08-01  2003      True   \n",
       "6154   2000-12-17  2000-12-17  2000      True   \n",
       "6141   2000-12-08  2000-12-08  2000      True   \n",
       "5455   2001-01-14  2001-01-14  2001      True   \n",
       "3548   2006-05-24  2006-05-24  2006      True   \n",
       "6065   2000-10-15  2000-10-15  2000      True   \n",
       "5011   2003-10-31  2003-10-31  2003      True   \n",
       "3463   2006-07-19  2006-07-19  2006      True   \n",
       "3536   2006-06-14  2006-06-14  2006      True   \n",
       "3748   2005-02-15  2005-02-15  2005      True   \n",
       "6606   1998-02-08  1998-02-08  1998      True   \n",
       "5626   2001-06-10  2001-06-10  2001      True   \n",
       "13598  1996-04-07  1996-04-07  1996      True   \n",
       "6557   1998-01-04  1998-01-04  1998      True   \n",
       "3549   2006-05-11  2006-05-11  2006      True   \n",
       "14119  1996-04-28  1996-04-28  1996      True   \n",
       "5013   2003-10-31  2003-10-31  2003      True   \n",
       "6375   1999-06-27  1999-06-27  1999      True   \n",
       "3546   2006-06-10  2006-06-10  2006      True   \n",
       "4218   2004-02-13  2004-02-13  2004      True   \n",
       "12262  1997-12-07  1997-12-07  1997      True   \n",
       "...           ...         ...   ...       ...   \n",
       "2898   2008-08-26  2008-08-26  2008      True   \n",
       "1161   2012-06-14  2012-06-14  2012      True   \n",
       "1150   2012-06-10  2012-06-10  2012      True   \n",
       "3508   2006-07-22  2006-07-22  2006      True   \n",
       "3483   2006-08-10  2006-08-10  2006      True   \n",
       "678    2013-06-05  2013-06-05  2013      True   \n",
       "3462   2006-08-16  2006-08-16  2006      True   \n",
       "1453   2011-02-28  2011-02-28  2011      True   \n",
       "1158   2012-06-13  2012-06-13  2012      True   \n",
       "1267   2012-10-07  2012-10-07  2012      True   \n",
       "900    2013-12-20  2013-12-20  2013      True   \n",
       "3489   2006-08-21  2006-08-21  2006      True   \n",
       "1508   2011-09-25  2011-09-25  2011      True   \n",
       "1146   2012-06-08  2012-06-08  2012      True   \n",
       "3566   2006-07-31  2006-07-31  2006      True   \n",
       "1155   2012-06-12  2012-06-12  2012      True   \n",
       "3496   2006-08-08  2006-08-08  2006      True   \n",
       "3485   2006-07-13  2006-07-13  2006      True   \n",
       "3446   2006-07-28  2006-07-28  2006      True   \n",
       "1725   2011-02-09  2011-02-09  2011      True   \n",
       "1152   2012-06-11  2012-06-11  2012      True   \n",
       "3651   2006-11-01  2006-11-01  2006      True   \n",
       "2054   2010-08-16  2010-08-16  2010      True   \n",
       "3474   2006-08-11  2006-08-11  2006      True   \n",
       "1159   2012-06-14  2012-06-14  2012      True   \n",
       "1266   2012-10-07  2012-10-07  2012      True   \n",
       "3494   2006-07-21  2006-07-21  2006      True   \n",
       "3236   2007-01-24  2007-01-24  2007      True   \n",
       "2109   2010-10-04  2010-10-04  2010      True   \n",
       "181    2014-05-08  2014-05-08  2014      True   \n",
       "\n",
       "                                                    text  art_len  \n",
       "399    The stage of the Harvey Theater has surely nev...     1199  \n",
       "344    A disco ball the size of a small house twirls ...      917  \n",
       "377    “Generations,” a short, sweet and gut-grabbing...      779  \n",
       "364    Blythe Danner’s voice makes its entrance befor...      995  \n",
       "5736   CAUTION: Should you consider seeing ''37 Postc...      828  \n",
       "6448   ''GET Out Your Tap Shoes, Frances'' is heard i...      729  \n",
       "12057  IT is better than an hour of Oprah Winfrey, Sa...      647  \n",
       "3570   \"A Spalding Gray Matter\" is based on something...      414  \n",
       "3572   Andrew Dawson's astonishing, almost unbearably...      373  \n",
       "4933   Chicago City Limits Improvisational Theater Fi...      428  \n",
       "6154   WHATEVER would possess a so-called adult, whos...      784  \n",
       "6141   'The Theatrical Vision of Joseph Urban' Miriam...      572  \n",
       "5455   ''ART'' is one of the most craftily titled pla...      887  \n",
       "3548   Gary Winter's \"At Said\" takes place, well, som...      298  \n",
       "6065   THE trouble with autobiographical drama is tha...      669  \n",
       "5011   Abingdon Theater Company 312 West 36th Street,...      487  \n",
       "3463   Theodore Roosevelt was a quotable man, and Jer...      341  \n",
       "3536   Critics might fancifully be described as analy...      971  \n",
       "3748   Quercus Productions  45 Street Theater, 354 We...      378  \n",
       "6606   Paul Simon is quoted as saying that the idea f...     1511  \n",
       "5626   THE 1992 London staging of ''Carousel,'' accla...      659  \n",
       "13598  ON opening night -- March 22, 1945 -- the perf...      974  \n",
       "6557   ''A CHORUS LINE'' has been performed everywher...     1041  \n",
       "3549   Hastily wrapping gifts for the opening-night f...      511  \n",
       "14119  WHATEVER becomes of \"Big,\" a $10 million-plus ...      620  \n",
       "5013   Ground Floor Theater 312 West 11th Street Gree...      342  \n",
       "6375   ALTOGETHER too much attention as been paid to ...      788  \n",
       "3546   Christopher Boal's comic melodrama \"Crazy for ...      341  \n",
       "4218   All Stars Project Performing Arts and Learning...      463  \n",
       "12262  DRIFT into Hartford Stage -- given the dreamy ...      627  \n",
       "...                                                  ...      ...  \n",
       "2898   As dusk fell on a cool, mildly humid late summ...      345  \n",
       "1161   During the heyday of Studio 54 it was probably...      958  \n",
       "1150   Playwrights, be fearless about what you put in...      308  \n",
       "3508   Mom, Dad and Sis are taken a little aback when...      341  \n",
       "3483   As slight as it is sweet, A. R. Gurney’s lates...     1034  \n",
       "678    “Am I repeating myself?” asks the addled woman...     1063  \n",
       "3462   That’s one gorgeous set of teardrops that the ...     1307  \n",
       "1453   There comes a point in “Storm Still” when even...      287  \n",
       "1158   Can a man who kills other men for money retain...      352  \n",
       "1267   Though you couldn’t tell it from the delighted...      862  \n",
       "900    She has floppy ears, eyes of exquisite sadness...      483  \n",
       "3489   Unless you spent time in Chicago in the 1890’s...      371  \n",
       "1508   Imagine a pretty patio outside an Italian vill...      628  \n",
       "1146   There’s a scene late in “Murder in the First” ...      363  \n",
       "3566   It’s nice to see a play now and then that refl...      339  \n",
       "1155   A good, old-fashioned consciousness-raising se...     1119  \n",
       "3496   WILLIAMSTOWN, Mass., Aug. 4 — And now, gentle ...      981  \n",
       "3485   The Peccadillo Theater Company has its very en...      323  \n",
       "3446   The drag queens have long since pawned their w...      865  \n",
       "1725   In a rare departure from custom, most of the n...      928  \n",
       "1152   Burdens are just about equally distributed amo...     1015  \n",
       "3651   Lisa and Todd D’Amour have reconsidered “A Str...      329  \n",
       "2054   Despite Prince’s recent proclamation of its de...      350  \n",
       "3474   The first decapitation gets a laugh. So do the...      333  \n",
       "1159   It’s oddly encouraging that a theater only blo...      374  \n",
       "1266   “You would be married to some feed salesman,” ...      359  \n",
       "3494   Correction Appended “[title of show],’’ which ...      583  \n",
       "3236   “Dutchman,” the poet Amiri Baraka’s controvers...      614  \n",
       "2109   The delightful surprise of the generally less-...     1227  \n",
       "181    Perhaps a small Pernod would help. Or maybe a ...      929  \n",
       "\n",
       "[8747 rows x 12 columns]"
      ]
     },
     "execution_count": 168,
     "metadata": {},
     "output_type": "execute_result"
    }
   ],
   "source": [
    "df"
   ]
  },
  {
   "cell_type": "code",
   "execution_count": 169,
   "metadata": {},
   "outputs": [
    {
     "data": {
      "text/plain": [
       "732.6749742768949"
      ]
     },
     "execution_count": 169,
     "metadata": {},
     "output_type": "execute_result"
    }
   ],
   "source": [
    "df.art_len.mean()"
   ]
  },
  {
   "cell_type": "code",
   "execution_count": 170,
   "metadata": {
    "scrolled": true
   },
   "outputs": [
    {
     "data": {
      "image/png": "[encoded data removed]",
      "text/plain": [
       "<matplotlib.figure.Figure at 0x110fd7ba8>"
      ]
     },
     "metadata": {},
     "output_type": "display_data"
    }
   ],
   "source": [
    "plt.hist(df[\"art_len\"], bins=30);"
   ]
  }
 ],
 "metadata": {
  "kernelspec": {
   "display_name": "Python 3",
   "language": "python",
   "name": "python3"
  },
  "language_info": {
   "codemirror_mode": {
    "name": "ipython",
    "version": 3
   },
   "file_extension": ".py",
   "mimetype": "text/x-python",
   "name": "python",
   "nbconvert_exporter": "python",
   "pygments_lexer": "ipython3",
   "version": "3.6.4"
  }
 },
 "nbformat": 4,
 "nbformat_minor": 2
}
