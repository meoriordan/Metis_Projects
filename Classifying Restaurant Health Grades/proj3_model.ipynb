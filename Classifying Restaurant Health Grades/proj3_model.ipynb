{
 "cells": [
  {
   "cell_type": "code",
   "execution_count": 447,
   "metadata": {},
   "outputs": [],
   "source": [
    "import pandas as pd\n",
    "import matplotlib.pyplot as plt\n",
    "import seaborn as sns\n",
    "import numpy as np\n",
    "\n",
    "#models\n",
    "from sklearn.neighbors import KNeighborsClassifier\n",
    "from sklearn import tree\n",
    "from sklearn.linear_model import LogisticRegression\n",
    "from sklearn.ensemble import RandomForestClassifier\n",
    "from sklearn.preprocessing import StandardScaler\n",
    "import xgboost as xgb\n",
    "import imblearn.over_sampling\n",
    "\n",
    "\n",
    "#scoring\n",
    "from sklearn import metrics\n",
    "from sklearn.model_selection import train_test_split\n",
    "from sklearn.model_selection import KFold\n",
    "from sklearn.model_selection import cross_val_score\n",
    "\n",
    "\n",
    "from sklearn.metrics import precision_score, recall_score, accuracy_score, roc_auc_score\n",
    "from sklearn.metrics import confusion_matrix\n"
   ]
  },
  {
   "cell_type": "code",
   "execution_count": 448,
   "metadata": {
    "scrolled": true
   },
   "outputs": [
    {
     "name": "stderr",
     "output_type": "stream",
     "text": [
      "/Users/elizabethoriordan/anaconda3/lib/python3.6/site-packages/IPython/core/interactiveshell.py:2728: DtypeWarning: Columns (7) have mixed types. Specify dtype option on import or set low_memory=False.\n",
      "  interactivity=interactivity, compiler=compiler, result=result)\n"
     ]
    }
   ],
   "source": [
    "df = pd.read_csv(\"FINAL.csv\")"
   ]
  },
  {
   "cell_type": "code",
   "execution_count": 449,
   "metadata": {},
   "outputs": [
    {
     "data": {
      "text/plain": [
       "(48827, 71)"
      ]
     },
     "execution_count": 449,
     "metadata": {},
     "output_type": "execute_result"
    }
   ],
   "source": [
    "df.shape"
   ]
  },
  {
   "cell_type": "code",
   "execution_count": 450,
   "metadata": {
    "scrolled": true
   },
   "outputs": [
    {
     "data": {
      "text/plain": [
       "17814"
      ]
     },
     "execution_count": 450,
     "metadata": {},
     "output_type": "execute_result"
    }
   ],
   "source": [
    "df.id.nunique()"
   ]
  },
  {
   "cell_type": "code",
   "execution_count": 451,
   "metadata": {
    "scrolled": false
   },
   "outputs": [
    {
     "data": {
      "image/png": "[encoded data removed]",
      "text/plain": [
       "<matplotlib.figure.Figure at 0x1a32487630>"
      ]
     },
     "metadata": {},
     "output_type": "display_data"
    }
   ],
   "source": [
    "plt.hist(df[df[\"SCORE\"]<21][\"SCORE\"],bins=20);"
   ]
  },
  {
   "cell_type": "code",
   "execution_count": 452,
   "metadata": {},
   "outputs": [
    {
     "data": {
      "image/png": "[encoded data removed]",
      "text/plain": [
       "<matplotlib.figure.Figure at 0x1a28db7c18>"
      ]
     },
     "metadata": {},
     "output_type": "display_data"
    }
   ],
   "source": [
    "df.groupby(\"GRADE\")[\"CAMIS\"].count().plot(kind=\"bar\")\n",
    "plt.title(\"Restaurant Grade Distribution\");"
   ]
  },
  {
   "cell_type": "code",
   "execution_count": 453,
   "metadata": {},
   "outputs": [
    {
     "data": {
      "text/plain": [
       "<matplotlib.axes._subplots.AxesSubplot at 0x1a347db630>"
      ]
     },
     "execution_count": 453,
     "metadata": {},
     "output_type": "execute_result"
    },
    {
     "data": {
      "image/png": "[encoded data removed]",
      "text/plain": [
       "<matplotlib.figure.Figure at 0x1a28dc75f8>"
      ]
     },
     "metadata": {},
     "output_type": "display_data"
    }
   ],
   "source": [
    "df.groupby(\"GRADE_BIN\")[\"CAMIS\"].count().plot(kind=\"bar\")"
   ]
  },
  {
   "cell_type": "code",
   "execution_count": 454,
   "metadata": {},
   "outputs": [
    {
     "data": {
      "text/plain": [
       "GRADE\n",
       "A    43763\n",
       "B     4020\n",
       "C     1044\n",
       "Name: CAMIS, dtype: int64"
      ]
     },
     "execution_count": 454,
     "metadata": {},
     "output_type": "execute_result"
    }
   ],
   "source": [
    "df.groupby(\"GRADE\")[\"CAMIS\"].count()"
   ]
  },
  {
   "cell_type": "code",
   "execution_count": 455,
   "metadata": {},
   "outputs": [
    {
     "name": "stdout",
     "output_type": "stream",
     "text": [
      "% A:  0.896286890449956\n"
     ]
    }
   ],
   "source": [
    "print(\"% A: \", (43763/(43763+4020+1044)))"
   ]
  },
  {
   "cell_type": "code",
   "execution_count": 456,
   "metadata": {},
   "outputs": [],
   "source": [
    "df.drop(\"Unnamed: 0\",axis=1, inplace=True)"
   ]
  },
  {
   "cell_type": "code",
   "execution_count": 457,
   "metadata": {},
   "outputs": [],
   "source": [
    "pd.set_option('display.max_columns', 500)"
   ]
  },
  {
   "cell_type": "code",
   "execution_count": 458,
   "metadata": {},
   "outputs": [],
   "source": [
    "df.fillna(0, inplace=True)"
   ]
  },
  {
   "cell_type": "code",
   "execution_count": 459,
   "metadata": {
    "scrolled": false
   },
   "outputs": [
    {
     "data": {
      "text/plain": [
       "['CAMIS',\n",
       " 'DBA',\n",
       " 'BORO',\n",
       " 'BUILDING',\n",
       " 'STREET',\n",
       " 'ZIPCODE',\n",
       " 'PHONE',\n",
       " 'CUISINE DESCRIPTION',\n",
       " 'INSPECTION DATE',\n",
       " 'ACTION',\n",
       " 'VIOLATION CODE',\n",
       " 'VIOLATION DESCRIPTION',\n",
       " 'CRITICAL FLAG',\n",
       " 'SCORE',\n",
       " 'GRADE',\n",
       " 'GRADE DATE',\n",
       " 'RECORD DATE',\n",
       " 'INSPECTION TYPE',\n",
       " 'address',\n",
       " 'id',\n",
       " 'categories',\n",
       " 'coordinates',\n",
       " 'hours',\n",
       " 'image_url',\n",
       " 'is_closed',\n",
       " 'photos',\n",
       " 'price',\n",
       " 'rating',\n",
       " 'review_count',\n",
       " 'transactions',\n",
       " 'INSPECTION_DATE_FORMAT',\n",
       " 'INSPECTION_MONTH',\n",
       " 'INSPECTION_YEAR',\n",
       " 'PRICE_NUM',\n",
       " 'GRADE MONTH',\n",
       " 'GRADE YEAR',\n",
       " 'LAT',\n",
       " 'LONG',\n",
       " 'BRONX',\n",
       " 'BROOKLYN',\n",
       " 'MANHATTAN',\n",
       " 'QUEENS',\n",
       " 'STATEN ISLAND',\n",
       " '<$25K',\n",
       " '$25K-$50K',\n",
       " '$50K-$75K',\n",
       " '$75K-$100K',\n",
       " '$100K-$200K',\n",
       " '$200K+',\n",
       " 'TOTAL',\n",
       " 'Perc_$25K',\n",
       " 'Perc_$50K',\n",
       " 'Perc_$75K',\n",
       " 'Perc_$100K',\n",
       " 'Perc_$200K',\n",
       " 'Perc_+$200K',\n",
       " 'CHAIN',\n",
       " 'OPEN',\n",
       " 'CLOSE',\n",
       " 'DAY',\n",
       " 'CUISINE_COMP',\n",
       " 'CUISINE_FREQ',\n",
       " 'GRADE_BIN',\n",
       " 'RICH',\n",
       " 'POOR',\n",
       " 'BAD_SCORE',\n",
       " 'RAT_INSPEC',\n",
       " 'CUISINE_COMP_x',\n",
       " 'CUISINE_COMP_y',\n",
       " 'Perc_Total']"
      ]
     },
     "execution_count": 459,
     "metadata": {},
     "output_type": "execute_result"
    }
   ],
   "source": [
    "list(df.columns)"
   ]
  },
  {
   "cell_type": "code",
   "execution_count": 66,
   "metadata": {},
   "outputs": [],
   "source": [
    "x_plot = df[[\"SCORE\",'rating',\n",
    " 'review_count',\"INSPECTION_MONTH\", \"INSPECTION_YEAR\", \"PRICE_NUM\", 'Perc_$25K',\n",
    " 'Perc_$50K',\n",
    " 'Perc_$75K',\n",
    " 'Perc_$100K',\n",
    " 'Perc_$200K',\n",
    " 'Perc_+$200K',\n",
    " 'CHAIN','OPEN',\n",
    " 'CLOSE',\n",
    " 'DAY','GRADE_BIN',\n",
    " 'RICH',\n",
    " 'POOR',\n",
    " 'BAD_SCORE', \"GRADE_BIN\"]]"
   ]
  },
  {
   "cell_type": "code",
   "execution_count": 256,
   "metadata": {
    "scrolled": false
   },
   "outputs": [
    {
     "data": {
      "text/plain": [
       "Text(29.4494,0.5,'# Reviews')"
      ]
     },
     "execution_count": 256,
     "metadata": {},
     "output_type": "execute_result"
    },
    {
     "data": {
      "image/png": "[encoded data removed]",
      "text/plain": [
       "<matplotlib.figure.Figure at 0x1a2396c860>"
      ]
     },
     "metadata": {},
     "output_type": "display_data"
    }
   ],
   "source": [
    "sns.lmplot( x=\"rating\", y=\"review_count\", data=df, fit_reg=False, hue='GRADE', legend=True, x_jitter=.1)\n",
    "plt.title(\"Yelp Rating vs # Reviews\", weight=\"bold\", size=15)\n",
    "plt.xlabel(\"Rating\")\n",
    "plt.ylabel(\"# Reviews\")\n"
   ]
  },
  {
   "cell_type": "code",
   "execution_count": 460,
   "metadata": {
    "scrolled": true
   },
   "outputs": [],
   "source": [
    "df.loc[df[\"DBA\"] == \"MCDONALD'S\", \"CHAIN\"] = True\n",
    "df.loc[df[\"DBA\"] == \"KENNEDY FRIED CHICKEN\", \"CHAIN\"] = True"
   ]
  },
  {
   "cell_type": "markdown",
   "metadata": {},
   "source": [
    "## Set Up Train Test Split"
   ]
  },
  {
   "cell_type": "code",
   "execution_count": 70,
   "metadata": {
    "scrolled": true
   },
   "outputs": [
    {
     "data": {
      "text/plain": [
       "['CAMIS',\n",
       " 'DBA',\n",
       " 'BORO',\n",
       " 'BUILDING',\n",
       " 'STREET',\n",
       " 'ZIPCODE',\n",
       " 'PHONE',\n",
       " 'CUISINE DESCRIPTION',\n",
       " 'INSPECTION DATE',\n",
       " 'ACTION',\n",
       " 'VIOLATION CODE',\n",
       " 'VIOLATION DESCRIPTION',\n",
       " 'CRITICAL FLAG',\n",
       " 'SCORE',\n",
       " 'GRADE',\n",
       " 'GRADE DATE',\n",
       " 'RECORD DATE',\n",
       " 'INSPECTION TYPE',\n",
       " 'address',\n",
       " 'id',\n",
       " 'categories',\n",
       " 'coordinates',\n",
       " 'hours',\n",
       " 'image_url',\n",
       " 'is_closed',\n",
       " 'photos',\n",
       " 'price',\n",
       " 'rating',\n",
       " 'review_count',\n",
       " 'transactions',\n",
       " 'INSPECTION_DATE_FORMAT',\n",
       " 'INSPECTION_MONTH',\n",
       " 'INSPECTION_YEAR',\n",
       " 'PRICE_NUM',\n",
       " 'GRADE MONTH',\n",
       " 'GRADE YEAR',\n",
       " 'LAT',\n",
       " 'LONG',\n",
       " 'BRONX',\n",
       " 'BROOKLYN',\n",
       " 'MANHATTAN',\n",
       " 'QUEENS',\n",
       " 'STATEN ISLAND',\n",
       " '<$25K',\n",
       " '$25K-$50K',\n",
       " '$50K-$75K',\n",
       " '$75K-$100K',\n",
       " '$100K-$200K',\n",
       " '$200K+',\n",
       " 'TOTAL',\n",
       " 'Perc_$25K',\n",
       " 'Perc_$50K',\n",
       " 'Perc_$75K',\n",
       " 'Perc_$100K',\n",
       " 'Perc_$200K',\n",
       " 'Perc_+$200K',\n",
       " 'CHAIN',\n",
       " 'OPEN',\n",
       " 'CLOSE',\n",
       " 'DAY',\n",
       " 'CUISINE_COMP',\n",
       " 'CUISINE_FREQ',\n",
       " 'GRADE_BIN',\n",
       " 'RICH',\n",
       " 'POOR',\n",
       " 'BAD_SCORE',\n",
       " 'RAT_INSPEC',\n",
       " 'CUISINE_COMP_x',\n",
       " 'CUISINE_COMP_y',\n",
       " 'Perc_Total']"
      ]
     },
     "execution_count": 70,
     "metadata": {},
     "output_type": "execute_result"
    }
   ],
   "source": [
    "list(df.columns)"
   ]
  },
  {
   "cell_type": "code",
   "execution_count": 71,
   "metadata": {},
   "outputs": [],
   "source": [
    "cols = ['rating',\n",
    " 'review_count',\n",
    " 'INSPECTION_MONTH',\n",
    " 'INSPECTION_YEAR',\n",
    " 'PRICE_NUM',\n",
    " 'BRONX',\n",
    " 'BROOKLYN',\n",
    " 'MANHATTAN',\n",
    " 'QUEENS',\n",
    " 'STATEN ISLAND',\n",
    " 'Perc_$25K',\n",
    " 'Perc_$50K',\n",
    " 'Perc_$75K',\n",
    " 'Perc_$100K',\n",
    " 'Perc_$200K',\n",
    " 'Perc_+$200K',\n",
    " 'CHAIN',\n",
    " 'DAY',\n",
    " 'RICH',\n",
    " 'POOR',\n",
    " 'BAD_SCORE',\n",
    " \"RAT_INSPEC\",\n",
    "\"Perc_Total\",\n",
    "'CUISINE_FREQ'\n",
    "]"
   ]
  },
  {
   "cell_type": "code",
   "execution_count": 72,
   "metadata": {},
   "outputs": [],
   "source": [
    "X = df[cols]\n",
    "Y = df[\"GRADE_BIN\"]"
   ]
  },
  {
   "cell_type": "code",
   "execution_count": 73,
   "metadata": {},
   "outputs": [],
   "source": [
    "X_train, X_test, Y_train, Y_test = train_test_split(X,Y,test_size=0.2,random_state=100)"
   ]
  },
  {
   "cell_type": "code",
   "execution_count": 74,
   "metadata": {
    "scrolled": true
   },
   "outputs": [
    {
     "name": "stderr",
     "output_type": "stream",
     "text": [
      "/Users/elizabethoriordan/anaconda3/lib/python3.6/site-packages/sklearn/preprocessing/data.py:617: DataConversionWarning: Data with input dtype bool, int64, float64 were all converted to float64 by StandardScaler.\n",
      "  return self.partial_fit(X, y)\n",
      "/Users/elizabethoriordan/anaconda3/lib/python3.6/site-packages/sklearn/base.py:462: DataConversionWarning: Data with input dtype bool, int64, float64 were all converted to float64 by StandardScaler.\n",
      "  return self.fit(X, **fit_params).transform(X)\n",
      "/Users/elizabethoriordan/anaconda3/lib/python3.6/site-packages/ipykernel_launcher.py:3: DataConversionWarning: Data with input dtype bool, int64, float64 were all converted to float64 by StandardScaler.\n",
      "  This is separate from the ipykernel package so we can avoid doing imports until\n"
     ]
    }
   ],
   "source": [
    "std_sca = StandardScaler()\n",
    "X_train_scaled = std_sca.fit_transform(X_train)\n",
    "X_test_scaled = std_sca.transform(X_test)"
   ]
  },
  {
   "cell_type": "code",
   "execution_count": 75,
   "metadata": {},
   "outputs": [],
   "source": [
    "X_train_scaled = pd.DataFrame(X_train_scaled)\n",
    "X_test_scaled = pd.DataFrame(X_test_scaled)"
   ]
  },
  {
   "cell_type": "code",
   "execution_count": 76,
   "metadata": {},
   "outputs": [],
   "source": [
    "kf = KFold(n_splits=5,shuffle=True,random_state=100)"
   ]
  },
  {
   "cell_type": "markdown",
   "metadata": {},
   "source": [
    "## KNN - TWO VARIABLES"
   ]
  },
  {
   "cell_type": "code",
   "execution_count": 77,
   "metadata": {
    "scrolled": true
   },
   "outputs": [
    {
     "name": "stdout",
     "output_type": "stream",
     "text": [
      "[0.8222780841853169, 0.8847187791501339, 0.8691277345725362, 0.8919383628707056, 0.8870230643578031, 0.8932696087832394, 0.891503148071304, 0.8937815105081782, 0.8933463678361365, 0.8947544187011018, 0.8943447072521418, 0.894498317089883, 0.8941910974177564, 0.8947799679007357, 0.8947543662622307, 0.8948055892042367, 0.8947543793744657, 0.8948311711844577, 0.8947799744602092]\n"
     ]
    }
   ],
   "source": [
    "x_tr1 = X_train_scaled.iloc[:,:2]\n",
    "x_te1 = X_test_scaled.iloc[:,:2]\n",
    "\n",
    "std_sca = StandardScaler()\n",
    "x_tr1_scaled = std_sca.fit_transform(x_tr1)\n",
    "x_te1_scaled = std_sca.transform(x_tr1)\n",
    "\n",
    "k_range = list(range(1, 20))\n",
    "k_scores = []\n",
    "for k in k_range:\n",
    "    knn = KNeighborsClassifier(n_neighbors=k)\n",
    "    scores = cross_val_score(knn, x_tr1, Y_train, cv=10, scoring='accuracy')\n",
    "    k_scores.append(scores.mean())\n",
    "print(k_scores)"
   ]
  },
  {
   "cell_type": "markdown",
   "metadata": {},
   "source": [
    "This model never does better than just guessing the baseline."
   ]
  },
  {
   "cell_type": "code",
   "execution_count": 78,
   "metadata": {},
   "outputs": [
    {
     "data": {
      "text/plain": [
       "[<matplotlib.lines.Line2D at 0x1a19fc66a0>]"
      ]
     },
     "execution_count": 78,
     "metadata": {},
     "output_type": "execute_result"
    },
    {
     "data": {
      "image/png": "[encoded data removed]",
      "text/plain": [
       "<matplotlib.figure.Figure at 0x1a2acbfa58>"
      ]
     },
     "metadata": {},
     "output_type": "display_data"
    }
   ],
   "source": [
    "plt.plot(k_range, k_scores)"
   ]
  },
  {
   "cell_type": "markdown",
   "metadata": {},
   "source": [
    "## SET UP CROSS VAL SCORE"
   ]
  },
  {
   "cell_type": "code",
   "execution_count": 79,
   "metadata": {},
   "outputs": [],
   "source": [
    "model_scores = {}"
   ]
  },
  {
   "cell_type": "code",
   "execution_count": 80,
   "metadata": {},
   "outputs": [],
   "source": [
    "def model_cross_val_scores(model, model_name, x_train, y_train, x_test, y_test):\n",
    "    acc_scores = np.zeros((5,1))\n",
    "    prec_scores = np.zeros((5,1))\n",
    "    rec_scores = np.zeros((5,1))\n",
    "    f1_scores = np.zeros((5,1))\n",
    "\n",
    "    count = 0\n",
    "    for train_ind, val_ind in kf.split(x_train, y_train):\n",
    "        model.fit(x_train.iloc[train_ind,:],y_train.iloc[train_ind])\n",
    "        pred = model.predict(x_train.iloc[val_ind,:])\n",
    "        acc_scores[count]=(metrics.accuracy_score(y_train.iloc[val_ind],pred))\n",
    "        prec_scores[count]=(metrics.precision_score(y_train.iloc[val_ind],pred))#,average=None))\n",
    "        rec_scores[count]=(metrics.recall_score(y_train.iloc[val_ind],pred))#,average=None))\n",
    "        f1_scores[count]=(metrics.f1_score(y_train.iloc[val_ind],pred))#,average=None))\n",
    "        count+=1\n",
    "    \n",
    "    acc_avg = acc_scores.mean()\n",
    "    prec_avg = prec_scores.mean(axis=0)\n",
    "    rec_avg = rec_scores.mean(axis=0)\n",
    "    f1_avg = f1_scores.mean(axis=0)\n",
    "    \n",
    "    model_scores[model_name] = {\"accuracy\": acc_avg, \"precision\": prec_avg, \"recall\": rec_avg, \"f1\" : f1_avg}"
   ]
  },
  {
   "cell_type": "code",
   "execution_count": 169,
   "metadata": {},
   "outputs": [],
   "source": [
    "def model_cross_val_scores_oversample(model, model_name, x_train, y_train, x_test, y_test):\n",
    "    acc_scores = np.zeros((5,1))\n",
    "    prec_scores = np.zeros((5,1))\n",
    "    rec_scores = np.zeros((5,1))\n",
    "    f1_scores = np.zeros((5,1))\n",
    "\n",
    "    count = 0\n",
    "    for train_ind, val_ind in kf.split(x_train, y_train):\n",
    "        n_pos = np.sum(Y_train.iloc[train_ind] == 1)\n",
    "        n_neg = np.sum(Y_train.iloc[train_ind] == 0)\n",
    "        ratio = {1 : n_pos * 8, 0 : n_neg} \n",
    "\n",
    "        # randomly oversample positive samples \n",
    "        ROS = imblearn.over_sampling.RandomOverSampler(ratio = ratio, random_state=42)\n",
    "        \n",
    "        \n",
    "        X_tr_rs, Y_tr_rs = ROS.fit_sample(x_train.iloc[train_ind,:], y_train.iloc[train_ind])\n",
    "        model.fit(X_tr_rs,Y_tr_rs)\n",
    "        pred = model.predict(x_train.iloc[val_ind,:])\n",
    "        acc_scores[count]=(metrics.accuracy_score(y_train.iloc[val_ind],pred))\n",
    "        prec_scores[count]=(metrics.precision_score(y_train.iloc[val_ind],pred))#,average=None))\n",
    "        rec_scores[count]=(metrics.recall_score(y_train.iloc[val_ind],pred))#,average=None))\n",
    "        f1_scores[count]=(metrics.f1_score(y_train.iloc[val_ind],pred))#,average=None))\n",
    "        count+=1\n",
    "    \n",
    "    acc_avg = acc_scores.mean()\n",
    "    prec_avg = prec_scores.mean(axis=0)\n",
    "    rec_avg = rec_scores.mean(axis=0)\n",
    "    f1_avg = f1_scores.mean(axis=0)\n",
    "    \n",
    "    model_scores[model_name] = {\"accuracy\": acc_avg, \"precision\": prec_avg, \"recall\": rec_avg, \"f1\" : f1_avg}"
   ]
  },
  {
   "cell_type": "markdown",
   "metadata": {},
   "source": [
    "## LOGISTIC REGRESSION"
   ]
  },
  {
   "cell_type": "code",
   "execution_count": 81,
   "metadata": {
    "scrolled": true
   },
   "outputs": [
    {
     "name": "stderr",
     "output_type": "stream",
     "text": [
      "/Users/elizabethoriordan/anaconda3/lib/python3.6/site-packages/sklearn/linear_model/logistic.py:432: FutureWarning: Default solver will be changed to 'lbfgs' in 0.22. Specify a solver to silence this warning.\n",
      "  FutureWarning)\n",
      "/Users/elizabethoriordan/anaconda3/lib/python3.6/site-packages/sklearn/metrics/classification.py:1143: UndefinedMetricWarning: Precision is ill-defined and being set to 0.0 due to no predicted samples.\n",
      "  'precision', 'predicted', average, warn_for)\n",
      "/Users/elizabethoriordan/anaconda3/lib/python3.6/site-packages/sklearn/metrics/classification.py:1143: UndefinedMetricWarning: F-score is ill-defined and being set to 0.0 due to no predicted samples.\n",
      "  'precision', 'predicted', average, warn_for)\n",
      "/Users/elizabethoriordan/anaconda3/lib/python3.6/site-packages/sklearn/linear_model/logistic.py:432: FutureWarning: Default solver will be changed to 'lbfgs' in 0.22. Specify a solver to silence this warning.\n",
      "  FutureWarning)\n",
      "/Users/elizabethoriordan/anaconda3/lib/python3.6/site-packages/sklearn/metrics/classification.py:1143: UndefinedMetricWarning: Precision is ill-defined and being set to 0.0 due to no predicted samples.\n",
      "  'precision', 'predicted', average, warn_for)\n",
      "/Users/elizabethoriordan/anaconda3/lib/python3.6/site-packages/sklearn/metrics/classification.py:1143: UndefinedMetricWarning: F-score is ill-defined and being set to 0.0 due to no predicted samples.\n",
      "  'precision', 'predicted', average, warn_for)\n",
      "/Users/elizabethoriordan/anaconda3/lib/python3.6/site-packages/sklearn/linear_model/logistic.py:432: FutureWarning: Default solver will be changed to 'lbfgs' in 0.22. Specify a solver to silence this warning.\n",
      "  FutureWarning)\n",
      "/Users/elizabethoriordan/anaconda3/lib/python3.6/site-packages/sklearn/metrics/classification.py:1143: UndefinedMetricWarning: Precision is ill-defined and being set to 0.0 due to no predicted samples.\n",
      "  'precision', 'predicted', average, warn_for)\n",
      "/Users/elizabethoriordan/anaconda3/lib/python3.6/site-packages/sklearn/metrics/classification.py:1143: UndefinedMetricWarning: F-score is ill-defined and being set to 0.0 due to no predicted samples.\n",
      "  'precision', 'predicted', average, warn_for)\n",
      "/Users/elizabethoriordan/anaconda3/lib/python3.6/site-packages/sklearn/linear_model/logistic.py:432: FutureWarning: Default solver will be changed to 'lbfgs' in 0.22. Specify a solver to silence this warning.\n",
      "  FutureWarning)\n",
      "/Users/elizabethoriordan/anaconda3/lib/python3.6/site-packages/sklearn/metrics/classification.py:1143: UndefinedMetricWarning: Precision is ill-defined and being set to 0.0 due to no predicted samples.\n",
      "  'precision', 'predicted', average, warn_for)\n",
      "/Users/elizabethoriordan/anaconda3/lib/python3.6/site-packages/sklearn/metrics/classification.py:1143: UndefinedMetricWarning: F-score is ill-defined and being set to 0.0 due to no predicted samples.\n",
      "  'precision', 'predicted', average, warn_for)\n",
      "/Users/elizabethoriordan/anaconda3/lib/python3.6/site-packages/sklearn/linear_model/logistic.py:432: FutureWarning: Default solver will be changed to 'lbfgs' in 0.22. Specify a solver to silence this warning.\n",
      "  FutureWarning)\n",
      "/Users/elizabethoriordan/anaconda3/lib/python3.6/site-packages/sklearn/metrics/classification.py:1143: UndefinedMetricWarning: Precision is ill-defined and being set to 0.0 due to no predicted samples.\n",
      "  'precision', 'predicted', average, warn_for)\n",
      "/Users/elizabethoriordan/anaconda3/lib/python3.6/site-packages/sklearn/metrics/classification.py:1143: UndefinedMetricWarning: F-score is ill-defined and being set to 0.0 due to no predicted samples.\n",
      "  'precision', 'predicted', average, warn_for)\n"
     ]
    }
   ],
   "source": [
    "model_cross_val_scores(LogisticRegression(),\"LogReg\",X_train, Y_train, X_test, Y_test)"
   ]
  },
  {
   "cell_type": "code",
   "execution_count": 82,
   "metadata": {},
   "outputs": [
    {
     "data": {
      "text/plain": [
       "{'LogReg': {'accuracy': 0.8948567641901333,\n",
       "  'f1': array([0.]),\n",
       "  'precision': array([0.]),\n",
       "  'recall': array([0.])}}"
      ]
     },
     "execution_count": 82,
     "metadata": {},
     "output_type": "execute_result"
    }
   ],
   "source": [
    "model_scores"
   ]
  },
  {
   "cell_type": "markdown",
   "metadata": {},
   "source": [
    "## DECISION TREE"
   ]
  },
  {
   "cell_type": "code",
   "execution_count": 83,
   "metadata": {},
   "outputs": [],
   "source": [
    "model_cross_val_scores(tree.DecisionTreeClassifier(min_samples_split=10, max_depth=15, min_samples_leaf=8, random_state = 100), \"DT\", X_train,Y_train, X_test, Y_test) \n",
    "\n"
   ]
  },
  {
   "cell_type": "code",
   "execution_count": 84,
   "metadata": {
    "scrolled": true
   },
   "outputs": [
    {
     "data": {
      "text/plain": [
       "{'DT': {'accuracy': 0.8770128350290445,\n",
       "  'f1': array([0.08185082]),\n",
       "  'precision': array([0.18893357]),\n",
       "  'recall': array([0.05234869])},\n",
       " 'LogReg': {'accuracy': 0.8948567641901333,\n",
       "  'f1': array([0.]),\n",
       "  'precision': array([0.]),\n",
       "  'recall': array([0.])}}"
      ]
     },
     "execution_count": 84,
     "metadata": {},
     "output_type": "execute_result"
    }
   ],
   "source": [
    "model_scores"
   ]
  },
  {
   "cell_type": "markdown",
   "metadata": {},
   "source": [
    "The decision tree did better than the KNN and Logistic Regression."
   ]
  },
  {
   "cell_type": "code",
   "execution_count": 85,
   "metadata": {},
   "outputs": [],
   "source": [
    "#try decision try with more depth\n",
    "model_cross_val_scores(tree.DecisionTreeClassifier(min_samples_split=10, max_depth=20, min_samples_leaf=8, random_state = 100), \"DT - more depth\", X_train,Y_train, X_test, Y_test) \n"
   ]
  },
  {
   "cell_type": "code",
   "execution_count": 86,
   "metadata": {},
   "outputs": [
    {
     "data": {
      "text/plain": [
       "{'DT': {'accuracy': 0.8770128350290445,\n",
       "  'f1': array([0.08185082]),\n",
       "  'precision': array([0.18893357]),\n",
       "  'recall': array([0.05234869])},\n",
       " 'DT - more depth': {'accuracy': 0.8707662220114584,\n",
       "  'f1': array([0.1056356]),\n",
       "  'precision': array([0.19327937]),\n",
       "  'recall': array([0.07272041])},\n",
       " 'LogReg': {'accuracy': 0.8948567641901333,\n",
       "  'f1': array([0.]),\n",
       "  'precision': array([0.]),\n",
       "  'recall': array([0.])}}"
      ]
     },
     "execution_count": 86,
     "metadata": {},
     "output_type": "execute_result"
    }
   ],
   "source": [
    "model_scores"
   ]
  },
  {
   "cell_type": "markdown",
   "metadata": {},
   "source": [
    "The added depth improves the F1 score."
   ]
  },
  {
   "cell_type": "markdown",
   "metadata": {},
   "source": [
    "## DECISION TREE W/ OVERSAMPLING"
   ]
  },
  {
   "cell_type": "code",
   "execution_count": 87,
   "metadata": {},
   "outputs": [
    {
     "data": {
      "text/plain": [
       "0.10514323750032001"
      ]
     },
     "execution_count": 87,
     "metadata": {},
     "output_type": "execute_result"
    }
   ],
   "source": [
    "Y_train.mean()"
   ]
  },
  {
   "cell_type": "code",
   "execution_count": 89,
   "metadata": {},
   "outputs": [],
   "source": [
    "X_tr_rs = pd.DataFrame(X_tr_rs, columns = X_train.columns)\n",
    "Y_tr_rs = pd.DataFrame(Y_tr_rs)"
   ]
  },
  {
   "cell_type": "code",
   "execution_count": 155,
   "metadata": {},
   "outputs": [],
   "source": [
    "model_cross_val_scores_oversample(tree.DecisionTreeClassifier(min_samples_split=10, max_depth=20, min_samples_leaf=8, random_state = 100), \"DT_oversample\", X_train,Y_train, X_test, Y_test) \n",
    "\n"
   ]
  },
  {
   "cell_type": "code",
   "execution_count": 369,
   "metadata": {},
   "outputs": [],
   "source": [
    "model_cross_val_scores_oversample(tree.DecisionTreeClassifier(min_samples_split=10, max_depth=8, min_samples_leaf=8, random_state = 100), \"DT_oversample_less_depth\", X_train5,Y_train, X_test, Y_test) \n",
    "\n"
   ]
  },
  {
   "cell_type": "markdown",
   "metadata": {},
   "source": [
    "By using over sampling, the model improves quite a bit, especially the recall. When oversampling, it is better to use a smaller maximum depth."
   ]
  },
  {
   "cell_type": "code",
   "execution_count": 370,
   "metadata": {
    "scrolled": false
   },
   "outputs": [
    {
     "data": {
      "text/plain": [
       "{'DT': {'accuracy': 0.8770128350290445,\n",
       "  'f1': array([0.08185082]),\n",
       "  'precision': array([0.18893357]),\n",
       "  'recall': array([0.05234869])},\n",
       " 'DT - more depth': {'accuracy': 0.8707662220114584,\n",
       "  'f1': array([0.1056356]),\n",
       "  'precision': array([0.19327937]),\n",
       "  'recall': array([0.07272041])},\n",
       " 'DT_oversample': {'accuracy': 0.7194136900379184,\n",
       "  'f1': array([0.20937666]),\n",
       "  'precision': array([0.14889936]),\n",
       "  'recall': array([0.35367569])},\n",
       " 'DT_oversample_less_depth': {'accuracy': 0.6134511329830958,\n",
       "  'f1': array([0.23325987]),\n",
       "  'precision': array([0.14745772]),\n",
       "  'recall': array([0.55951694])},\n",
       " 'LogReg': {'accuracy': 0.8948567641901333,\n",
       "  'f1': array([0.]),\n",
       "  'precision': array([0.]),\n",
       "  'recall': array([0.])},\n",
       " 'RF': {'accuracy': 0.8892501265991685,\n",
       "  'f1': array([0.0521316]),\n",
       "  'precision': array([0.26238396]),\n",
       "  'recall': array([0.02900625])},\n",
       " 'RF - 500 est.': {'accuracy': 0.7262230737970097,\n",
       "  'f1': array([0.27201902]),\n",
       "  'precision': array([0.18883635]),\n",
       "  'recall': array([0.48669673])},\n",
       " 'RF_oversample': {'accuracy': 0.673459692640091,\n",
       "  'f1': array([0.2537211]),\n",
       "  'precision': array([0.16702955]),\n",
       "  'recall': array([0.52813248])},\n",
       " 'RF_oversample_few_features': {'accuracy': 0.8741199055835951,\n",
       "  'f1': array([0.12925114]),\n",
       "  'precision': array([0.23758614]),\n",
       "  'recall': array([0.08904633])}}"
      ]
     },
     "execution_count": 370,
     "metadata": {},
     "output_type": "execute_result"
    }
   ],
   "source": [
    "model_scores\n"
   ]
  },
  {
   "cell_type": "code",
   "execution_count": 267,
   "metadata": {},
   "outputs": [],
   "source": [
    "\n",
    "# sorted(list(zip(X_train.columns,my_tree.feature_importances_)), key=lambda x: x[1])"
   ]
  },
  {
   "cell_type": "code",
   "execution_count": 303,
   "metadata": {},
   "outputs": [],
   "source": [
    "\n",
    "from sklearn.externals.six import StringIO\n",
    "\n",
    "#visualization\n",
    "%matplotlib inline\n",
    "import seaborn as sns\n",
    "from IPython.display import Image\n",
    "import pydotplus\n",
    "from sklearn.tree import export_graphviz"
   ]
  },
  {
   "cell_type": "code",
   "execution_count": 427,
   "metadata": {},
   "outputs": [],
   "source": [
    "dot_data = StringIO()  \n",
    "export_graphviz(my_tree, out_file=dot_data,  \n",
    "                    feature_names=X_train.columns.tolist(),  \n",
    "                    filled=True, rounded=True,  \n",
    "                    special_characters=True)  \n",
    "graph = pydotplus.graph_from_dot_data(dot_data.getvalue())  \n",
    "Image(graph.create_png())"
   ]
  },
  {
   "cell_type": "markdown",
   "metadata": {},
   "source": [
    "## RANDOM FOREST"
   ]
  },
  {
   "cell_type": "code",
   "execution_count": 311,
   "metadata": {},
   "outputs": [],
   "source": [
    "model_cross_val_scores(RandomForestClassifier(n_estimators = 100),\"RF\", X_train, Y_train, X_test, Y_test)\n"
   ]
  },
  {
   "cell_type": "code",
   "execution_count": 312,
   "metadata": {},
   "outputs": [
    {
     "data": {
      "text/plain": [
       "{'DT': {'accuracy': 0.8770128350290445,\n",
       "  'f1': array([0.08185082]),\n",
       "  'precision': array([0.18893357]),\n",
       "  'recall': array([0.05234869])},\n",
       " 'DT - more depth': {'accuracy': 0.8707662220114584,\n",
       "  'f1': array([0.1056356]),\n",
       "  'precision': array([0.19327937]),\n",
       "  'recall': array([0.07272041])},\n",
       " 'DT_oversample': {'accuracy': 0.7194136900379184,\n",
       "  'f1': array([0.20937666]),\n",
       "  'precision': array([0.14889936]),\n",
       "  'recall': array([0.35367569])},\n",
       " 'DT_oversample_less_depth': {'accuracy': 0.5823718120749949,\n",
       "  'f1': array([0.23834094]),\n",
       "  'precision': array([0.14784871]),\n",
       "  'recall': array([0.62109587])},\n",
       " 'LogReg': {'accuracy': 0.8948567641901333,\n",
       "  'f1': array([0.]),\n",
       "  'precision': array([0.]),\n",
       "  'recall': array([0.])},\n",
       " 'RF': {'accuracy': 0.8892501265991685,\n",
       "  'f1': array([0.0521316]),\n",
       "  'precision': array([0.26238396]),\n",
       "  'recall': array([0.02900625])},\n",
       " 'RF - 500 est.': {'accuracy': 0.8900693659241241,\n",
       "  'f1': array([0.05673306]),\n",
       "  'precision': array([0.29398688]),\n",
       "  'recall': array([0.03146405])},\n",
       " 'RF_oversample': {'accuracy': 0.7273239114847188,\n",
       "  'f1': array([0.27230945]),\n",
       "  'precision': array([0.18930419]),\n",
       "  'recall': array([0.48549826])},\n",
       " 'RF_oversample_few_features': {'accuracy': 0.8741199055835951,\n",
       "  'f1': array([0.12925114]),\n",
       "  'precision': array([0.23758614]),\n",
       "  'recall': array([0.08904633])}}"
      ]
     },
     "execution_count": 312,
     "metadata": {},
     "output_type": "execute_result"
    }
   ],
   "source": [
    "model_scores"
   ]
  },
  {
   "cell_type": "code",
   "execution_count": 313,
   "metadata": {},
   "outputs": [],
   "source": [
    "#increase # estimators and use oversample, max depth limit\n",
    "model_cross_val_scores_oversample(RandomForestClassifier(n_estimators = 500, max_depth = 10),\"RF - 500 est.\", X_train, Y_train, X_test, Y_test)"
   ]
  },
  {
   "cell_type": "code",
   "execution_count": 314,
   "metadata": {},
   "outputs": [
    {
     "data": {
      "text/plain": [
       "{'DT': {'accuracy': 0.8770128350290445,\n",
       "  'f1': array([0.08185082]),\n",
       "  'precision': array([0.18893357]),\n",
       "  'recall': array([0.05234869])},\n",
       " 'DT - more depth': {'accuracy': 0.8707662220114584,\n",
       "  'f1': array([0.1056356]),\n",
       "  'precision': array([0.19327937]),\n",
       "  'recall': array([0.07272041])},\n",
       " 'DT_oversample': {'accuracy': 0.7194136900379184,\n",
       "  'f1': array([0.20937666]),\n",
       "  'precision': array([0.14889936]),\n",
       "  'recall': array([0.35367569])},\n",
       " 'DT_oversample_less_depth': {'accuracy': 0.5823718120749949,\n",
       "  'f1': array([0.23834094]),\n",
       "  'precision': array([0.14784871]),\n",
       "  'recall': array([0.62109587])},\n",
       " 'LogReg': {'accuracy': 0.8948567641901333,\n",
       "  'f1': array([0.]),\n",
       "  'precision': array([0.]),\n",
       "  'recall': array([0.])},\n",
       " 'RF': {'accuracy': 0.8892501265991685,\n",
       "  'f1': array([0.0521316]),\n",
       "  'precision': array([0.26238396]),\n",
       "  'recall': array([0.02900625])},\n",
       " 'RF - 500 est.': {'accuracy': 0.7262230737970097,\n",
       "  'f1': array([0.27201902]),\n",
       "  'precision': array([0.18883635]),\n",
       "  'recall': array([0.48669673])},\n",
       " 'RF_oversample': {'accuracy': 0.7273239114847188,\n",
       "  'f1': array([0.27230945]),\n",
       "  'precision': array([0.18930419]),\n",
       "  'recall': array([0.48549826])},\n",
       " 'RF_oversample_few_features': {'accuracy': 0.8741199055835951,\n",
       "  'f1': array([0.12925114]),\n",
       "  'precision': array([0.23758614]),\n",
       "  'recall': array([0.08904633])}}"
      ]
     },
     "execution_count": 314,
     "metadata": {},
     "output_type": "execute_result"
    }
   ],
   "source": [
    "model_scores"
   ]
  },
  {
   "cell_type": "code",
   "execution_count": 371,
   "metadata": {
    "scrolled": true
   },
   "outputs": [],
   "source": [
    "#random forest w/ over-sampling\n",
    "model_cross_val_scores_oversample(RandomForestClassifier(n_estimators = 500, max_depth = 8),\"RF_oversample\", X_train5, Y_train, X_test, Y_test)\n"
   ]
  },
  {
   "cell_type": "code",
   "execution_count": 410,
   "metadata": {
    "scrolled": false
   },
   "outputs": [
    {
     "data": {
      "text/plain": [
       "{'DT': {'accuracy': 0.8770128350290445,\n",
       "  'f1': array([0.08185082]),\n",
       "  'precision': array([0.18893357]),\n",
       "  'recall': array([0.05234869])},\n",
       " 'DT - more depth': {'accuracy': 0.8707662220114584,\n",
       "  'f1': array([0.1056356]),\n",
       "  'precision': array([0.19327937]),\n",
       "  'recall': array([0.07272041])},\n",
       " 'DT_oversample': {'accuracy': 0.7194136900379184,\n",
       "  'f1': array([0.20937666]),\n",
       "  'precision': array([0.14889936]),\n",
       "  'recall': array([0.35367569])},\n",
       " 'DT_oversample_less_depth': {'accuracy': 0.6134511329830958,\n",
       "  'f1': array([0.23325987]),\n",
       "  'precision': array([0.14745772]),\n",
       "  'recall': array([0.55951694])},\n",
       " 'LogReg': {'accuracy': 0.8948567641901333,\n",
       "  'f1': array([0.]),\n",
       "  'precision': array([0.]),\n",
       "  'recall': array([0.])},\n",
       " 'RF': {'accuracy': 0.8892501265991685,\n",
       "  'f1': array([0.0521316]),\n",
       "  'precision': array([0.26238396]),\n",
       "  'recall': array([0.02900625])},\n",
       " 'RF - 500 est.': {'accuracy': 0.7262230737970097,\n",
       "  'f1': array([0.27201902]),\n",
       "  'precision': array([0.18883635]),\n",
       "  'recall': array([0.48669673])},\n",
       " 'RF_oversample': {'accuracy': 0.6802435566806777,\n",
       "  'f1': array([0.26362905]),\n",
       "  'precision': array([0.17400468]),\n",
       "  'recall': array([0.54445319])},\n",
       " 'RF_oversample_few_features': {'accuracy': 0.8741199055835951,\n",
       "  'f1': array([0.12925114]),\n",
       "  'precision': array([0.23758614]),\n",
       "  'recall': array([0.08904633])}}"
      ]
     },
     "execution_count": 410,
     "metadata": {},
     "output_type": "execute_result"
    }
   ],
   "source": [
    "model_scores\n"
   ]
  },
  {
   "cell_type": "code",
   "execution_count": 485,
   "metadata": {
    "scrolled": false
   },
   "outputs": [
    {
     "name": "stdout",
     "output_type": "stream",
     "text": [
      "0.15995189416716776\n",
      "0.5559038662486938\n",
      "0.24842400186784966\n",
      "[[6015 2794]\n",
      " [ 425  532]]\n"
     ]
    }
   ],
   "source": [
    "rf = RandomForestClassifier(n_estimators = 500,min_samples_split=10, min_samples_leaf=8,max_depth = 8)\n",
    "rf.fit(X_tr_rs, Y_tr_rs)\n",
    "pred2 = rf.predict(X_test5)\n",
    "print(metrics.precision_score(Y_test, pred2))\n",
    "print(metrics.recall_score(Y_test, pred2))\n",
    "print(metrics.f1_score(Y_test, pred2))\n",
    "print(metrics.confusion_matrix(Y_test, pred2))"
   ]
  },
  {
   "cell_type": "code",
   "execution_count": 338,
   "metadata": {},
   "outputs": [
    {
     "data": {
      "text/plain": [
       "Index(['rating', 'review_count', 'INSPECTION_MONTH', 'INSPECTION_YEAR',\n",
       "       'PRICE_NUM', 'BRONX', 'BROOKLYN', 'MANHATTAN', 'QUEENS',\n",
       "       'STATEN ISLAND', 'Perc_$25K', 'Perc_$50K', 'Perc_$75K', 'Perc_$100K',\n",
       "       'Perc_$200K', 'Perc_+$200K', 'CHAIN', 'DAY', 'RICH', 'POOR',\n",
       "       'BAD_SCORE', 'RAT_INSPEC', 'Perc_Total', 'CUISINE_FREQ'],\n",
       "      dtype='object')"
      ]
     },
     "execution_count": 338,
     "metadata": {},
     "output_type": "execute_result"
    }
   ],
   "source": [
    "X_train.columns"
   ]
  },
  {
   "cell_type": "code",
   "execution_count": 482,
   "metadata": {},
   "outputs": [],
   "source": [
    "X_train5 = X_train[['rating', 'review_count', 'INSPECTION_MONTH', 'INSPECTION_YEAR',\n",
    "       'PRICE_NUM', 'BRONX', 'BROOKLYN', 'MANHATTAN', 'QUEENS',\n",
    "       'STATEN ISLAND', 'Perc_$25K', 'Perc_$50K', 'Perc_$75K', 'Perc_$100K',\n",
    "       'Perc_$200K', 'Perc_+$200K', 'CHAIN', 'DAY', 'RICH', 'POOR',\n",
    " 'RAT_INSPEC', 'Perc_Total', \"CUISINE_FREQ\"]]"
   ]
  },
  {
   "cell_type": "code",
   "execution_count": 483,
   "metadata": {},
   "outputs": [],
   "source": [
    "X_test5 = X_test[['rating', 'review_count', 'INSPECTION_MONTH', 'INSPECTION_YEAR',\n",
    "       'PRICE_NUM', 'BRONX', 'BROOKLYN', 'MANHATTAN', 'QUEENS',\n",
    "       'STATEN ISLAND', 'Perc_$25K', 'Perc_$50K', 'Perc_$75K', 'Perc_$100K',\n",
    "       'Perc_$200K', 'Perc_+$200K', 'CHAIN', 'DAY', 'RICH', 'POOR',\n",
    " 'RAT_INSPEC', 'Perc_Total', \"CUISINE_FREQ\"]]"
   ]
  },
  {
   "cell_type": "code",
   "execution_count": 484,
   "metadata": {},
   "outputs": [],
   "source": [
    "n_pos = np.sum(Y_train == 1)\n",
    "n_neg = np.sum(Y_train == 0)\n",
    "ratio = {1 : n_pos * 8, 0 : n_neg} \n",
    "\n",
    "        # randomly oversample positive samples \n",
    "ROS = imblearn.over_sampling.RandomOverSampler(ratio = ratio, random_state=42)\n",
    "        \n",
    "X_tr_rs, Y_tr_rs = ROS.fit_sample(X_train5, Y_train)"
   ]
  },
  {
   "cell_type": "code",
   "execution_count": 486,
   "metadata": {},
   "outputs": [],
   "source": [
    "importances = rf.feature_importances_\n",
    "importances2 = my_tree.feature_importances_"
   ]
  },
  {
   "cell_type": "code",
   "execution_count": 487,
   "metadata": {},
   "outputs": [
    {
     "data": {
      "text/plain": [
       "[('RICH', 0.0017935958107885867),\n",
       " ('STATEN ISLAND', 0.0020631766035174534),\n",
       " ('BROOKLYN', 0.003740627628040951),\n",
       " ('BRONX', 0.004091429876736341),\n",
       " ('POOR', 0.005136224115206084),\n",
       " ('MANHATTAN', 0.0054144077571632665),\n",
       " ('QUEENS', 0.007035002583275617),\n",
       " ('DAY', 0.009446129248616103),\n",
       " ('INSPECTION_YEAR', 0.019704134310506893),\n",
       " ('PRICE_NUM', 0.02859056529511123),\n",
       " ('Perc_+$200K', 0.03530196476146979),\n",
       " ('Perc_$75K', 0.03876901229785266),\n",
       " ('Perc_$50K', 0.03977785990929055),\n",
       " ('Perc_$200K', 0.0403441414852425),\n",
       " ('Perc_$25K', 0.04970045573338064),\n",
       " ('RAT_INSPEC', 0.04995220218906841),\n",
       " ('Perc_$100K', 0.05346372294244693),\n",
       " ('rating', 0.06632296487178814),\n",
       " ('CUISINE_FREQ', 0.07294681748000349),\n",
       " ('review_count', 0.07374870841160193),\n",
       " ('INSPECTION_MONTH', 0.08918573926000348),\n",
       " ('Perc_Total', 0.1389166275079582),\n",
       " ('CHAIN', 0.16455448992093052)]"
      ]
     },
     "execution_count": 487,
     "metadata": {},
     "output_type": "execute_result"
    }
   ],
   "source": [
    "feat_import = list(zip(X_train5.columns, importances))\n",
    "\n",
    "sorted(feat_import, key=lambda x: x[1])"
   ]
  },
  {
   "cell_type": "code",
   "execution_count": 488,
   "metadata": {},
   "outputs": [
    {
     "data": {
      "text/plain": [
       "<matplotlib.figure.Figure at 0x1a2f8faeb8>"
      ]
     },
     "metadata": {},
     "output_type": "display_data"
    },
    {
     "data": {
      "image/png": "[encoded data removed]",
      "text/plain": [
       "<matplotlib.figure.Figure at 0x1a2f8fa160>"
      ]
     },
     "metadata": {},
     "output_type": "display_data"
    }
   ],
   "source": [
    "feats = [0.16455448992093052,0.1389166275079582,0.08918573926000348,0.07374870841160193,0.07294681748000349,0.06632296487178814]\n",
    "feat_names = [\"Chain\", \"% Bad Grade\",\"Inspection Month\", \"Review Count\", \"Cuisine Freq\", \"Rating\"]\n",
    "plt.figure(figsize=(10,5))\n",
    "pd.DataFrame(feats, feat_names).plot(kind=\"barh\")\n",
    "# plt.barh(feat_names, feats)\n",
    "plt.title(\"Top 6 Feature Importances - Random Forest\", weight=\"bold\");\n"
   ]
  },
  {
   "cell_type": "code",
   "execution_count": null,
   "metadata": {},
   "outputs": [],
   "source": []
  },
  {
   "cell_type": "code",
   "execution_count": 489,
   "metadata": {},
   "outputs": [
    {
     "data": {
      "text/plain": [
       "0.6669351059101354"
      ]
     },
     "execution_count": 489,
     "metadata": {},
     "output_type": "execute_result"
    }
   ],
   "source": [
    "probs = rf.predict_proba(X_test5)\n",
    "prob_pred = probs[:,1]\n",
    "fpr, tpr, threshold = metrics.roc_curve(Y_test, prob_pred)\n",
    "roc_auc = metrics.auc(fpr, tpr)\n",
    "roc_auc"
   ]
  },
  {
   "cell_type": "code",
   "execution_count": 490,
   "metadata": {
    "scrolled": false
   },
   "outputs": [
    {
     "data": {
      "text/plain": [
       "Text(0,0.5,'TPR')"
      ]
     },
     "execution_count": 490,
     "metadata": {},
     "output_type": "execute_result"
    },
    {
     "data": {
      "image/png": "[encoded data removed]",
      "text/plain": [
       "<matplotlib.figure.Figure at 0x1a23a62240>"
      ]
     },
     "metadata": {},
     "output_type": "display_data"
    }
   ],
   "source": [
    "plt.figure(figsize=(8,5))\n",
    "plt.plot(fpr, tpr)\n",
    "plt.title(\"ROC for Random Forest\", weight=\"bold\", size=15)\n",
    "plt.xlabel(\"FPR\", weight=\"bold\")\n",
    "plt.ylabel(\"TPR\", weight=\"bold\")"
   ]
  },
  {
   "cell_type": "code",
   "execution_count": 550,
   "metadata": {},
   "outputs": [],
   "source": [
    "threshold = 0.45\n",
    "predicted_proba = rf.predict_proba(X_test5)\n",
    "predicted = (predicted_proba [:,1] >= threshold).astype('int')\n",
    "\n",
    "accuracy = accuracy_score(Y_test, predicted)"
   ]
  },
  {
   "cell_type": "code",
   "execution_count": 551,
   "metadata": {
    "scrolled": false
   },
   "outputs": [
    {
     "data": {
      "text/plain": [
       "0.519352856850297"
      ]
     },
     "execution_count": 551,
     "metadata": {},
     "output_type": "execute_result"
    }
   ],
   "source": [
    "accuracy "
   ]
  },
  {
   "cell_type": "code",
   "execution_count": 552,
   "metadata": {
    "scrolled": true
   },
   "outputs": [
    {
     "data": {
      "text/plain": [
       "0.7471264367816092"
      ]
     },
     "execution_count": 552,
     "metadata": {},
     "output_type": "execute_result"
    }
   ],
   "source": [
    "recall_score(Y_test, predicted) "
   ]
  },
  {
   "cell_type": "code",
   "execution_count": 553,
   "metadata": {
    "scrolled": false
   },
   "outputs": [
    {
     "data": {
      "text/plain": [
       "0.1383781691503774"
      ]
     },
     "execution_count": 553,
     "metadata": {},
     "output_type": "execute_result"
    }
   ],
   "source": [
    "precision_score(Y_test, predicted) "
   ]
  },
  {
   "cell_type": "code",
   "execution_count": 554,
   "metadata": {
    "scrolled": true
   },
   "outputs": [
    {
     "data": {
      "text/plain": [
       "0.23350751143043766"
      ]
     },
     "execution_count": 554,
     "metadata": {},
     "output_type": "execute_result"
    }
   ],
   "source": [
    "metrics.f1_score(Y_test, predicted) #"
   ]
  },
  {
   "cell_type": "code",
   "execution_count": 555,
   "metadata": {
    "scrolled": true
   },
   "outputs": [
    {
     "data": {
      "text/plain": [
       "array([[4357, 4452],\n",
       "       [ 242,  715]])"
      ]
     },
     "execution_count": 555,
     "metadata": {},
     "output_type": "execute_result"
    }
   ],
   "source": [
    "metrics.confusion_matrix(Y_test, predicted)\n"
   ]
  },
  {
   "cell_type": "markdown",
   "metadata": {},
   "source": [
    "## GRADIENT BOOSTING"
   ]
  },
  {
   "cell_type": "code",
   "execution_count": 356,
   "metadata": {},
   "outputs": [],
   "source": [
    "X_train4 = X_train[[\"rating\", \"review_count\", \"INSPECTION_MONTH\", \"INSPECTION_YEAR\",\"PRICE_NUM\", \"CHAIN\", \"Perc_Total\"]]"
   ]
  },
  {
   "cell_type": "code",
   "execution_count": 359,
   "metadata": {},
   "outputs": [],
   "source": [
    "X_test4 = X_test[[\"rating\", \"review_count\", \"INSPECTION_MONTH\", \"INSPECTION_YEAR\",\"PRICE_NUM\", \"CHAIN\", \"Perc_Total\"]]"
   ]
  },
  {
   "cell_type": "code",
   "execution_count": 362,
   "metadata": {},
   "outputs": [],
   "source": [
    "X_train3, X_val, Y_train3, Y_val = train_test_split(X_train2,Y_train,test_size=0.2,random_state=100)"
   ]
  },
  {
   "cell_type": "code",
   "execution_count": 412,
   "metadata": {},
   "outputs": [],
   "source": [
    "X_train3, X_val, Y_train3, Y_val = train_test_split(X_train5,Y_train,test_size=0.2,random_state=100)"
   ]
  },
  {
   "cell_type": "code",
   "execution_count": 355,
   "metadata": {},
   "outputs": [
    {
     "data": {
      "text/plain": [
       "Index(['rating', 'review_count', 'INSPECTION_MONTH', 'INSPECTION_YEAR',\n",
       "       'PRICE_NUM', 'Perc_$25K', 'Perc_$50K', 'Perc_$75K', 'Perc_$100K',\n",
       "       'Perc_$200K', 'Perc_+$200K', 'CHAIN', 'DAY', 'BAD_SCORE', 'RAT_INSPEC',\n",
       "       'Perc_Total'],\n",
       "      dtype='object')"
      ]
     },
     "execution_count": 355,
     "metadata": {},
     "output_type": "execute_result"
    }
   ],
   "source": [
    "X_train3.columns"
   ]
  },
  {
   "cell_type": "code",
   "execution_count": 413,
   "metadata": {},
   "outputs": [
    {
     "data": {
      "text/plain": [
       "0.2540377771694498"
      ]
     },
     "execution_count": 413,
     "metadata": {},
     "output_type": "execute_result"
    }
   ],
   "source": [
    "gbm = xgb.XGBClassifier( \n",
    "                        n_estimators=30000,\n",
    "                        max_depth=3,\n",
    "                        objective='binary:logistic', #new objective\n",
    "                        learning_rate=.25, \n",
    "                        subsample=.9,\n",
    "                        min_child_weight=1,\n",
    "                        colsample_bytree=.8,\n",
    "                        scale_pos_weight = 9\n",
    "                       )\n",
    "\n",
    "eval_set=[(X_train3,Y_train3),(X_val,Y_val)]\n",
    "fit_model = gbm.fit( \n",
    "                    X_train3, Y_train3, \n",
    "                    eval_set=eval_set,\n",
    "                    eval_metric='error', #new evaluation metric: classification error (could also use AUC, e.g.)\n",
    "                    early_stopping_rounds=50,\n",
    "                    verbose=False\n",
    "                   )\n",
    "\n",
    "metrics.f1_score(Y_test, gbm.predict(X_test5, ntree_limit=gbm.best_ntree_limit))"
   ]
  },
  {
   "cell_type": "code",
   "execution_count": 414,
   "metadata": {},
   "outputs": [
    {
     "data": {
      "text/plain": [
       "0.48484848484848486"
      ]
     },
     "execution_count": 414,
     "metadata": {},
     "output_type": "execute_result"
    }
   ],
   "source": [
    "metrics.recall_score(Y_test, gbm.predict(X_test5, ntree_limit=gbm.best_ntree_limit))"
   ]
  },
  {
   "cell_type": "code",
   "execution_count": 415,
   "metadata": {},
   "outputs": [
    {
     "data": {
      "text/plain": [
       "0.17210682492581603"
      ]
     },
     "execution_count": 415,
     "metadata": {},
     "output_type": "execute_result"
    }
   ],
   "source": [
    "metrics.precision_score(Y_test, gbm.predict(X_test5, ntree_limit=gbm.best_ntree_limit))"
   ]
  },
  {
   "cell_type": "code",
   "execution_count": 411,
   "metadata": {},
   "outputs": [
    {
     "data": {
      "text/plain": [
       "[('rating', 0.058688387),\n",
       " ('review_count', 0.22901003),\n",
       " ('INSPECTION_MONTH', 0.08479532),\n",
       " ('INSPECTION_YEAR', 0.019632414),\n",
       " ('PRICE_NUM', 0.031223893),\n",
       " ('BRONX', 0.0028195488),\n",
       " ('BROOKLYN', 0.0033416876),\n",
       " ('MANHATTAN', 0.0021929825),\n",
       " ('QUEENS', 0.004281537),\n",
       " ('STATEN ISLAND', 0.003968254),\n",
       " ('Perc_$25K', 0.03978697),\n",
       " ('Perc_$50K', 0.041875523),\n",
       " ('Perc_$75K', 0.061925646),\n",
       " ('Perc_$100K', 0.047410194),\n",
       " ('Perc_$200K', 0.04145781),\n",
       " ('Perc_+$200K', 0.041875523),\n",
       " ('CHAIN', 0.010547201),\n",
       " ('DAY', 0.012844612),\n",
       " ('RICH', 0.00020885548),\n",
       " ('POOR', 0.0003132832),\n",
       " ('BAD_SCORE', 0.07007101),\n",
       " ('RAT_INSPEC', 0.10797828),\n",
       " ('Perc_Total', 0.083751045)]"
      ]
     },
     "execution_count": 411,
     "metadata": {},
     "output_type": "execute_result"
    }
   ],
   "source": [
    "list(zip(X_train.columns,gbm.feature_importances_))"
   ]
  },
  {
   "cell_type": "code",
   "execution_count": 366,
   "metadata": {
    "scrolled": true
   },
   "outputs": [
    {
     "data": {
      "text/plain": [
       "0.48484848484848486"
      ]
     },
     "execution_count": 366,
     "metadata": {},
     "output_type": "execute_result"
    }
   ],
   "source": [
    "metrics.recall_score(Y_test, gbm.predict(X_test5, ntree_limit=gbm.best_ntree_limit))"
   ]
  },
  {
   "cell_type": "code",
   "execution_count": 367,
   "metadata": {
    "scrolled": false
   },
   "outputs": [
    {
     "data": {
      "text/plain": [
       "0.17210682492581603"
      ]
     },
     "execution_count": 367,
     "metadata": {},
     "output_type": "execute_result"
    }
   ],
   "source": [
    "precision_score(Y_test, gbm.predict(X_test5, ntree_limit=gbm.best_ntree_limit))"
   ]
  },
  {
   "cell_type": "code",
   "execution_count": 368,
   "metadata": {},
   "outputs": [
    {
     "data": {
      "text/plain": [
       "0.6560136143653784"
      ]
     },
     "execution_count": 368,
     "metadata": {},
     "output_type": "execute_result"
    }
   ],
   "source": [
    "probs = gbm.predict_proba(X_test5)\n",
    "prob_pred = probs[:,1]\n",
    "fpr, tpr, threshold = metrics.roc_curve(Y_test, prob_pred)\n",
    "roc_auc = metrics.auc(fpr, tpr)\n",
    "roc_auc"
   ]
  },
  {
   "cell_type": "code",
   "execution_count": 217,
   "metadata": {},
   "outputs": [],
   "source": [
    "threshold = 0.35\n",
    "predicted_proba = gbm.predict_proba(X_test)\n",
    "predicted = (predicted_proba [:,1] >= threshold).astype('int')\n",
    "\n",
    "accuracy = accuracy_score(Y_test, predicted)"
   ]
  },
  {
   "cell_type": "code",
   "execution_count": 218,
   "metadata": {},
   "outputs": [
    {
     "data": {
      "text/plain": [
       "0.7168234064785789"
      ]
     },
     "execution_count": 218,
     "metadata": {},
     "output_type": "execute_result"
    }
   ],
   "source": [
    "recall_score(Y_test, predicted)"
   ]
  },
  {
   "cell_type": "code",
   "execution_count": 219,
   "metadata": {},
   "outputs": [
    {
     "data": {
      "text/plain": [
       "0.5300020479213599"
      ]
     },
     "execution_count": 219,
     "metadata": {},
     "output_type": "execute_result"
    }
   ],
   "source": [
    "accuracy"
   ]
  },
  {
   "cell_type": "code",
   "execution_count": 220,
   "metadata": {
    "scrolled": true
   },
   "outputs": [
    {
     "data": {
      "text/plain": [
       "0.13706293706293707"
      ]
     },
     "execution_count": 220,
     "metadata": {},
     "output_type": "execute_result"
    }
   ],
   "source": [
    "precision_score(Y_test, predicted)"
   ]
  },
  {
   "cell_type": "code",
   "execution_count": 221,
   "metadata": {},
   "outputs": [
    {
     "data": {
      "text/plain": [
       "array([[4490, 4319],\n",
       "       [ 271,  686]])"
      ]
     },
     "execution_count": 221,
     "metadata": {},
     "output_type": "execute_result"
    }
   ],
   "source": [
    "metrics.confusion_matrix(Y_test, predicted)"
   ]
  },
  {
   "cell_type": "code",
   "execution_count": 130,
   "metadata": {},
   "outputs": [
    {
     "data": {
      "text/plain": [
       "{'DT': {'accuracy': 0.8770778334671526,\n",
       "  'f1': array([0.07757253]),\n",
       "  'precision': array([0.18651073]),\n",
       "  'recall': array([0.04920614])},\n",
       " 'DT - more depth': {'accuracy': 0.8728788539772335,\n",
       "  'f1': array([0.09415035]),\n",
       "  'precision': array([0.19004348]),\n",
       "  'recall': array([0.06262304])},\n",
       " 'DT_oversample': {'accuracy': 0.7916615255550112,\n",
       "  'f1': array([0.79792866]),\n",
       "  'precision': array([0.75448825]),\n",
       "  'recall': array([0.84681579])},\n",
       " 'GB': {'accuracy': 0.894395672455591,\n",
       "  'f1': array([0.]),\n",
       "  'precision': array([0.]),\n",
       "  'recall': array([0.])},\n",
       " 'LogReg': {'accuracy': 0.894395672455591,\n",
       "  'f1': array([0.]),\n",
       "  'precision': array([0.]),\n",
       "  'recall': array([0.])},\n",
       " 'RF': {'accuracy': 0.8877818097112335,\n",
       "  'f1': array([0.07994774]),\n",
       "  'precision': array([0.29630062]),\n",
       "  'recall': array([0.04633608])},\n",
       " 'RF - 1000 est.': {'accuracy': 0.8884562169706263,\n",
       "  'f1': array([0.08090087]),\n",
       "  'precision': array([0.31350567]),\n",
       "  'recall': array([0.04669495])},\n",
       " 'RF_oversample': {'accuracy': 0.9690025203873823,\n",
       "  'f1': array([0.96906262]),\n",
       "  'precision': array([0.94046101]),\n",
       "  'recall': array([0.99945941])}}"
      ]
     },
     "execution_count": 130,
     "metadata": {},
     "output_type": "execute_result"
    }
   ],
   "source": [
    "model_scores"
   ]
  },
  {
   "cell_type": "code",
   "execution_count": 226,
   "metadata": {},
   "outputs": [],
   "source": [
    "df.to_csv(\"10.30.18.csv\")"
   ]
  }
 ],
 "metadata": {
  "kernelspec": {
   "display_name": "Python 3",
   "language": "python",
   "name": "python3"
  },
  "language_info": {
   "codemirror_mode": {
    "name": "ipython",
    "version": 3
   },
   "file_extension": ".py",
   "mimetype": "text/x-python",
   "name": "python",
   "nbconvert_exporter": "python",
   "pygments_lexer": "ipython3",
   "version": "3.6.4"
  }
 },
 "nbformat": 4,
 "nbformat_minor": 2
}
