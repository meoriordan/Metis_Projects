{
 "cells": [
  {
   "cell_type": "code",
   "execution_count": 1,
   "metadata": {},
   "outputs": [],
   "source": [
    "import pandas as pd\n",
    "import ast\n"
   ]
  },
  {
   "cell_type": "code",
   "execution_count": 2,
   "metadata": {},
   "outputs": [],
   "source": [
    "#convert string rating to numeric\n",
    "def get_rating_num(x):\n",
    "    return int(ast.literal_eval(x)[1][-2:])/10\n",
    "    "
   ]
  },
  {
   "cell_type": "code",
   "execution_count": 3,
   "metadata": {},
   "outputs": [],
   "source": [
    "#delete entries that were note expanded\n",
    "def end(x):\n",
    "    if x[-7:]==\"...More\":\n",
    "        return True\n",
    "    else:\n",
    "        return False"
   ]
  },
  {
   "cell_type": "code",
   "execution_count": 4,
   "metadata": {},
   "outputs": [],
   "source": [
    "def Standard_Processing(x):\n",
    "    x.reset_index(inplace=True)\n",
    "    x.drop([\"index\", \"Unnamed: 0\"], axis=1, inplace=True)\n",
    "#     print(x.shape)\n",
    "    x[\"rating_num\"] = x[\"rating\"].apply(lambda y: get_rating_num(y))\n",
    "    x[\"date_2\"] = pd.to_datetime(x[\"date\"])\n",
    "    x[\"end\"] = x[\"rev\"].apply(lambda y: end(y))\n",
    "    x = x[x[\"end\"]!=True]\n",
    "    x.sort_values(by=[\"date_2\", \"rating\", \"title\"], inplace=True)\n",
    "    x.drop_duplicates(subset=[\"date_2\", \"rating\", \"title\"], inplace=True)\n",
    "    x.sort_values(by=\"date_2\", ascending=False, inplace=True)\n",
    "#     print(x.shape)\n",
    "    return x"
   ]
  },
  {
   "cell_type": "code",
   "execution_count": 5,
   "metadata": {},
   "outputs": [],
   "source": [
    "df_Chel = pd.read_csv(\"Neighb_Data/NYC/Chelsea.csv\")\n",
    "df_China = pd.read_csv(\"Neighb_Data/NYC/Chinatown.csv\")\n",
    "df_EV = pd.read_csv(\"Neighb_Data/NYC/East_Village.csv\")\n",
    "df_Fidi = pd.read_csv(\"Neighb_Data/NYC/FiDi.csv\")\n",
    "df_FifthAve = pd.read_csv(\"Neighb_Data/NYC/FifthAve.csv\")\n",
    "df_GV = pd.read_csv(\"Neighb_Data/NYC/GreenwichVillage.csv\")\n",
    "df_Harl = pd.read_csv(\"Neighb_Data/NYC/Harlem.csv\")\n",
    "df_Soho = pd.read_csv(\"Neighb_Data/NYC/Soho.csv\")\n",
    "df_TimesSq = pd.read_csv(\"Neighb_Data/NYC/TimesSquare.csv\")\n",
    "df_Tribeca = pd.read_csv(\"Neighb_Data/NYC/Tribeca.csv\")\n",
    "df_UnionSq = pd.read_csv(\"Neighb_Data/NYC/UnionSq.csv\")\n",
    "df_UES = pd.read_csv(\"Neighb_Data/NYC/UpperEastSide.csv\")\n",
    "df_UWS = pd.read_csv(\"Neighb_Data/NYC/UpperWestSide.csv\")\n",
    "df_WV = pd.read_csv(\"Neighb_Data/NYC/WestVillage.csv\")\n",
    "df_Will = pd.read_csv(\"Neighb_Data/NYC/Williamsburg.csv\")"
   ]
  },
  {
   "cell_type": "code",
   "execution_count": 6,
   "metadata": {},
   "outputs": [
    {
     "name": "stderr",
     "output_type": "stream",
     "text": [
      "/Users/elizabethoriordan/anaconda3/lib/python3.6/site-packages/ipykernel_launcher.py:9: SettingWithCopyWarning: \n",
      "A value is trying to be set on a copy of a slice from a DataFrame\n",
      "\n",
      "See the caveats in the documentation: http://pandas.pydata.org/pandas-docs/stable/indexing.html#indexing-view-versus-copy\n",
      "  if __name__ == '__main__':\n",
      "/Users/elizabethoriordan/anaconda3/lib/python3.6/site-packages/ipykernel_launcher.py:10: SettingWithCopyWarning: \n",
      "A value is trying to be set on a copy of a slice from a DataFrame\n",
      "\n",
      "See the caveats in the documentation: http://pandas.pydata.org/pandas-docs/stable/indexing.html#indexing-view-versus-copy\n",
      "  # Remove the CWD from sys.path while we load stuff.\n",
      "/Users/elizabethoriordan/anaconda3/lib/python3.6/site-packages/ipykernel_launcher.py:11: SettingWithCopyWarning: \n",
      "A value is trying to be set on a copy of a slice from a DataFrame\n",
      "\n",
      "See the caveats in the documentation: http://pandas.pydata.org/pandas-docs/stable/indexing.html#indexing-view-versus-copy\n",
      "  # This is added back by InteractiveShellApp.init_path()\n"
     ]
    }
   ],
   "source": [
    "df_Chel = Standard_Processing(df_Chel)\n",
    "df_China = Standard_Processing(df_China)\n",
    "df_EV = Standard_Processing(df_EV)\n",
    "df_Fidi = Standard_Processing(df_Fidi)\n",
    "df_FifthAve = Standard_Processing(df_FifthAve)\n",
    "df_GV = Standard_Processing(df_GV)\n",
    "df_Harl = Standard_Processing(df_Harl)\n",
    "df_Soho = Standard_Processing(df_Soho)\n",
    "df_TimesSq = Standard_Processing(df_TimesSq)\n",
    "df_Tribeca = Standard_Processing(df_Tribeca)\n",
    "df_UnionSq = Standard_Processing(df_UnionSq)\n",
    "df_UES = Standard_Processing(df_UES)\n",
    "df_UWS = Standard_Processing(df_UWS)\n",
    "df_WV = Standard_Processing(df_WV)\n",
    "df_Will = Standard_Processing(df_Will)"
   ]
  },
  {
   "cell_type": "code",
   "execution_count": 7,
   "metadata": {},
   "outputs": [],
   "source": [
    "df_Chel[\"neighb\"] = \"chelsea\"\n",
    "df_China[\"neighb\"] = \"chinatown\"\n",
    "df_EV[\"neighb\"] = \"east_village\"\n",
    "df_Fidi[\"neighb\"] = \"fidi\"\n",
    "df_FifthAve[\"neighb\"] = \"fifth_ave\"\n",
    "df_GV[\"neighb\"] = \"greenwich_village\"\n",
    "df_Harl[\"neighb\"] = \"harlem\"\n",
    "df_Soho[\"neighb\"] = \"soho\"\n",
    "df_TimesSq[\"neighb\"] = \"times_sq\"\n",
    "df_Tribeca[\"neighb\"] = \"tribeca\"\n",
    "df_UnionSq[\"neighb\"] = \"union_sq\"\n",
    "df_UES[\"neighb\"] = \"ues\"\n",
    "df_UWS[\"neighb\"] = \"uws\"\n",
    "df_WV[\"neighb\"] = \"west_village\"\n",
    "df_Will[\"neighb\"] = \"williamsburg\"\n",
    "\n"
   ]
  },
  {
   "cell_type": "code",
   "execution_count": 8,
   "metadata": {},
   "outputs": [],
   "source": [
    "df_master = pd.concat([df_Chel,df_China, df_EV,df_Fidi,df_FifthAve, df_GV,df_Harl, df_Soho, df_TimesSq, df_Tribeca, df_UnionSq,df_UES, df_UWS, df_WV, df_Will])"
   ]
  },
  {
   "cell_type": "code",
   "execution_count": 9,
   "metadata": {},
   "outputs": [
    {
     "data": {
      "text/plain": [
       "(8726, 9)"
      ]
     },
     "execution_count": 9,
     "metadata": {},
     "output_type": "execute_result"
    }
   ],
   "source": [
    "df_master.shape"
   ]
  },
  {
   "cell_type": "code",
   "execution_count": 10,
   "metadata": {},
   "outputs": [
    {
     "data": {
      "text/plain": [
       "array(['chelsea', 'chinatown', 'east_village', 'fidi', 'fifth_ave',\n",
       "       'greenwich_village', 'harlem', 'soho', 'times_sq', 'tribeca',\n",
       "       'union_sq', 'ues', 'uws', 'west_village', 'williamsburg'],\n",
       "      dtype=object)"
      ]
     },
     "execution_count": 10,
     "metadata": {},
     "output_type": "execute_result"
    }
   ],
   "source": [
    "df_master[\"neighb\"].unique()"
   ]
  },
  {
   "cell_type": "code",
   "execution_count": 11,
   "metadata": {},
   "outputs": [],
   "source": [
    "df_master[\"city\"] = \"nyc\""
   ]
  },
  {
   "cell_type": "code",
   "execution_count": 12,
   "metadata": {},
   "outputs": [],
   "source": [
    "df_master.reset_index(inplace=True)"
   ]
  },
  {
   "cell_type": "code",
   "execution_count": 13,
   "metadata": {},
   "outputs": [],
   "source": [
    "df_master.drop([\"Unnamed: 0.1\", \"index\"], inplace=True, axis=1)"
   ]
  },
  {
   "cell_type": "code",
   "execution_count": 14,
   "metadata": {},
   "outputs": [],
   "source": [
    "df_master.drop(\"end\", inplace=True, axis=1)"
   ]
  },
  {
   "cell_type": "code",
   "execution_count": 15,
   "metadata": {},
   "outputs": [
    {
     "data": {
      "text/plain": [
       "neighb\n",
       "west_village         4.675937\n",
       "greenwich_village    4.607678\n",
       "fidi                 4.554404\n",
       "uws                  4.550251\n",
       "soho                 4.509018\n",
       "fifth_ave            4.486000\n",
       "chelsea              4.417062\n",
       "williamsburg         4.411688\n",
       "east_village         4.406667\n",
       "tribeca              4.305785\n",
       "ues                  4.297297\n",
       "union_sq             4.285912\n",
       "times_sq             4.237903\n",
       "harlem               4.166667\n",
       "chinatown            3.606591\n",
       "Name: rating_num, dtype: float64"
      ]
     },
     "execution_count": 15,
     "metadata": {},
     "output_type": "execute_result"
    }
   ],
   "source": [
    "df_master.groupby(\"neighb\")[\"rating_num\"].mean().sort_values(ascending=False)"
   ]
  },
  {
   "cell_type": "code",
   "execution_count": 16,
   "metadata": {},
   "outputs": [
    {
     "data": {
      "text/plain": [
       "neighb\n",
       "greenwich_village    1068\n",
       "soho                  998\n",
       "times_sq              992\n",
       "chinatown             971\n",
       "west_village          827\n",
       "williamsburg          770\n",
       "union_sq              724\n",
       "fidi                  579\n",
       "fifth_ave             500\n",
       "uws                   398\n",
       "harlem                306\n",
       "chelsea               211\n",
       "east_village          150\n",
       "tribeca               121\n",
       "ues                   111\n",
       "Name: date, dtype: int64"
      ]
     },
     "execution_count": 16,
     "metadata": {},
     "output_type": "execute_result"
    }
   ],
   "source": [
    "df_master.groupby(\"neighb\")[\"date\"].count().sort_values(ascending=False)"
   ]
  },
  {
   "cell_type": "code",
   "execution_count": 17,
   "metadata": {},
   "outputs": [],
   "source": [
    "df_Castro = pd.read_csv(\"Neighb_Data/SanFran/Castro.csv\")\n",
    "df_ChinaSF = pd.read_csv(\"Neighb_Data/SanFran/ChinatownSF.csv\")\n",
    "df_Embarcadero = pd.read_csv(\"Neighb_Data/SanFran/Embarcadero.csv\")\n",
    "df_Fisher = pd.read_csv(\"Neighb_Data/SanFran/FishermanWharf.csv\")\n",
    "df_Haight_Ash = pd.read_csv(\"Neighb_Data/SanFran/Haight_Ashbury.csv\")\n",
    "df_Market = pd.read_csv(\"Neighb_Data/SanFran/MarketSt.csv\")\n",
    "df_Mission = pd.read_csv(\"Neighb_Data/SanFran/Mission.csv\")\n",
    "df_NobHill = pd.read_csv(\"Neighb_Data/SanFran/Nob_Hill.csv\")\n",
    "df_NorthBeach = pd.read_csv(\"Neighb_Data/SanFran/NorthBeach.csv\")\n",
    "df_Pacific = pd.read_csv(\"Neighb_Data/SanFran/Pacific_Heights.csv\")\n",
    "df_Presidio = pd.read_csv(\"Neighb_Data/SanFran/Presidio.csv\")\n",
    "df_Soma = pd.read_csv(\"Neighb_Data/SanFran/Soma.csv\")\n",
    "df_UnionSqSF = pd.read_csv(\"Neighb_Data/SanFran/UnionSqSF.csv\")\n"
   ]
  },
  {
   "cell_type": "code",
   "execution_count": 18,
   "metadata": {},
   "outputs": [
    {
     "name": "stderr",
     "output_type": "stream",
     "text": [
      "/Users/elizabethoriordan/anaconda3/lib/python3.6/site-packages/ipykernel_launcher.py:9: SettingWithCopyWarning: \n",
      "A value is trying to be set on a copy of a slice from a DataFrame\n",
      "\n",
      "See the caveats in the documentation: http://pandas.pydata.org/pandas-docs/stable/indexing.html#indexing-view-versus-copy\n",
      "  if __name__ == '__main__':\n",
      "/Users/elizabethoriordan/anaconda3/lib/python3.6/site-packages/ipykernel_launcher.py:10: SettingWithCopyWarning: \n",
      "A value is trying to be set on a copy of a slice from a DataFrame\n",
      "\n",
      "See the caveats in the documentation: http://pandas.pydata.org/pandas-docs/stable/indexing.html#indexing-view-versus-copy\n",
      "  # Remove the CWD from sys.path while we load stuff.\n",
      "/Users/elizabethoriordan/anaconda3/lib/python3.6/site-packages/ipykernel_launcher.py:11: SettingWithCopyWarning: \n",
      "A value is trying to be set on a copy of a slice from a DataFrame\n",
      "\n",
      "See the caveats in the documentation: http://pandas.pydata.org/pandas-docs/stable/indexing.html#indexing-view-versus-copy\n",
      "  # This is added back by InteractiveShellApp.init_path()\n"
     ]
    }
   ],
   "source": [
    "df_Castro = Standard_Processing(df_Castro)\n",
    "df_ChinaSF = Standard_Processing(df_ChinaSF)\n",
    "df_Embarcadero = Standard_Processing(df_Embarcadero)\n",
    "df_Fisher = Standard_Processing(df_Fisher)\n",
    "df_Haight_Ash = Standard_Processing(df_Haight_Ash)\n",
    "df_Market = Standard_Processing(df_Market)\n",
    "df_Mission = Standard_Processing(df_Mission)\n",
    "df_NobHill = Standard_Processing(df_NobHill)\n",
    "df_NorthBeach = Standard_Processing(df_NorthBeach)\n",
    "df_Pacific = Standard_Processing(df_Pacific)\n",
    "df_Presidio = Standard_Processing(df_Presidio)\n",
    "df_Soma = Standard_Processing(df_Soma)\n",
    "df_UnionSqSF = Standard_Processing(df_UnionSqSF)"
   ]
  },
  {
   "cell_type": "code",
   "execution_count": 19,
   "metadata": {},
   "outputs": [],
   "source": [
    "df_Castro[\"neighb\"] = \"castro\"\n",
    "df_ChinaSF[\"neighb\"] = \"chinatown_sf\"\n",
    "df_Embarcadero[\"neighb\"] = \"embarcadero\"\n",
    "df_Fisher[\"neighb\"] = \"fisherman_wharf\"\n",
    "df_Haight_Ash[\"neighb\"] = \"haight_ashbury\"\n",
    "df_Market[\"neighb\"] = \"market_st\"\n",
    "df_Mission[\"neighb\"] = \"mission_district\"\n",
    "df_NobHill[\"neighb\"] = \"nob_hill\"\n",
    "df_NorthBeach[\"neighb\"] = \"north_becah\"\n",
    "df_Pacific[\"neighb\"] = \"pacific_heights\"\n",
    "df_Presidio[\"neighb\"] = \"presidio\"\n",
    "df_Soma[\"neighb\"] = \"soma\"\n",
    "df_UnionSqSF[\"neighb\"] = \"union_sq_sf\""
   ]
  },
  {
   "cell_type": "code",
   "execution_count": 20,
   "metadata": {},
   "outputs": [],
   "source": [
    "df_SF = pd.concat([df_Castro,df_ChinaSF, df_Embarcadero, df_Fisher, df_Haight_Ash, df_Mission, df_NobHill, df_NorthBeach, df_Pacific, df_Presidio, df_Soma, df_UnionSqSF])"
   ]
  },
  {
   "cell_type": "code",
   "execution_count": 21,
   "metadata": {},
   "outputs": [
    {
     "data": {
      "text/plain": [
       "(6728, 8)"
      ]
     },
     "execution_count": 21,
     "metadata": {},
     "output_type": "execute_result"
    }
   ],
   "source": [
    "df_SF.shape"
   ]
  },
  {
   "cell_type": "code",
   "execution_count": 22,
   "metadata": {},
   "outputs": [
    {
     "data": {
      "text/plain": [
       "Index(['date', 'rating', 'rev', 'title', 'rating_num', 'date_2', 'end',\n",
       "       'neighb'],\n",
       "      dtype='object')"
      ]
     },
     "execution_count": 22,
     "metadata": {},
     "output_type": "execute_result"
    }
   ],
   "source": [
    "df_SF.columns"
   ]
  },
  {
   "cell_type": "code",
   "execution_count": 23,
   "metadata": {},
   "outputs": [],
   "source": [
    "df_SF.drop(\"end\", axis=1, inplace=True)"
   ]
  },
  {
   "cell_type": "code",
   "execution_count": 24,
   "metadata": {},
   "outputs": [
    {
     "data": {
      "text/plain": [
       "Index(['date', 'date_2', 'neighb', 'rating', 'rating_num', 'rev', 'title',\n",
       "       'city'],\n",
       "      dtype='object')"
      ]
     },
     "execution_count": 24,
     "metadata": {},
     "output_type": "execute_result"
    }
   ],
   "source": [
    "df_master.columns"
   ]
  },
  {
   "cell_type": "code",
   "execution_count": 25,
   "metadata": {},
   "outputs": [],
   "source": [
    "df_SF2 = df_SF[[\"date\", \"date_2\", \"neighb\", \"rating\", \"rating_num\", \"rev\", \"title\"]]"
   ]
  },
  {
   "cell_type": "code",
   "execution_count": 26,
   "metadata": {
    "scrolled": true
   },
   "outputs": [
    {
     "name": "stderr",
     "output_type": "stream",
     "text": [
      "/Users/elizabethoriordan/anaconda3/lib/python3.6/site-packages/ipykernel_launcher.py:1: SettingWithCopyWarning: \n",
      "A value is trying to be set on a copy of a slice from a DataFrame.\n",
      "Try using .loc[row_indexer,col_indexer] = value instead\n",
      "\n",
      "See the caveats in the documentation: http://pandas.pydata.org/pandas-docs/stable/indexing.html#indexing-view-versus-copy\n",
      "  \"\"\"Entry point for launching an IPython kernel.\n"
     ]
    }
   ],
   "source": [
    "df_SF2[\"city\"] = \"SF\""
   ]
  },
  {
   "cell_type": "code",
   "execution_count": 27,
   "metadata": {},
   "outputs": [],
   "source": [
    "df_master2 = pd.concat([df_master, df_SF2])"
   ]
  },
  {
   "cell_type": "code",
   "execution_count": 28,
   "metadata": {},
   "outputs": [
    {
     "data": {
      "text/plain": [
       "(15454, 8)"
      ]
     },
     "execution_count": 28,
     "metadata": {},
     "output_type": "execute_result"
    }
   ],
   "source": [
    "df_master2.shape"
   ]
  },
  {
   "cell_type": "code",
   "execution_count": 29,
   "metadata": {},
   "outputs": [],
   "source": [
    "df_master2.to_csv(\"final_data2.csv\")"
   ]
  },
  {
   "cell_type": "code",
   "execution_count": null,
   "metadata": {},
   "outputs": [],
   "source": []
  }
 ],
 "metadata": {
  "kernelspec": {
   "display_name": "Python 3",
   "language": "python",
   "name": "python3"
  },
  "language_info": {
   "codemirror_mode": {
    "name": "ipython",
    "version": 3
   },
   "file_extension": ".py",
   "mimetype": "text/x-python",
   "name": "python",
   "nbconvert_exporter": "python",
   "pygments_lexer": "ipython3",
   "version": "3.6.4"
  }
 },
 "nbformat": 4,
 "nbformat_minor": 2
}
