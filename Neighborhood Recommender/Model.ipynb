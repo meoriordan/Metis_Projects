{
 "cells": [
  {
   "cell_type": "code",
   "execution_count": 1,
   "metadata": {},
   "outputs": [],
   "source": [
    "import pandas as pd\n",
    "import matplotlib.pyplot as plt\n",
    "import seaborn as sns\n",
    "sns.set()\n",
    "\n",
    "%matplotlib inline"
   ]
  },
  {
   "cell_type": "code",
   "execution_count": 2,
   "metadata": {},
   "outputs": [],
   "source": [
    "import nltk\n",
    "\n",
    "from nltk.tokenize import word_tokenize\n",
    "import string\n",
    "\n",
    "from string import digits\n",
    "from nltk.tokenize import word_tokenize\n",
    "from nltk.util import ngrams\n",
    "from nltk.corpus import stopwords\n",
    "from nltk.stem import SnowballStemmer"
   ]
  },
  {
   "cell_type": "code",
   "execution_count": 3,
   "metadata": {},
   "outputs": [],
   "source": [
    "df = pd.read_csv(\"final_data2.csv\")"
   ]
  },
  {
   "cell_type": "code",
   "execution_count": 4,
   "metadata": {},
   "outputs": [],
   "source": [
    "df.drop(\"Unnamed: 0\", inplace=True, axis=1)"
   ]
  },
  {
   "cell_type": "markdown",
   "metadata": {},
   "source": [
    "## EDA"
   ]
  },
  {
   "cell_type": "code",
   "execution_count": 5,
   "metadata": {},
   "outputs": [
    {
     "data": {
      "text/plain": [
       "(15454, 8)"
      ]
     },
     "execution_count": 5,
     "metadata": {},
     "output_type": "execute_result"
    }
   ],
   "source": [
    "df.shape"
   ]
  },
  {
   "cell_type": "code",
   "execution_count": 6,
   "metadata": {
    "scrolled": true
   },
   "outputs": [
    {
     "data": {
      "text/html": [
       "<div>\n",
       "<style scoped>\n",
       "    .dataframe tbody tr th:only-of-type {\n",
       "        vertical-align: middle;\n",
       "    }\n",
       "\n",
       "    .dataframe tbody tr th {\n",
       "        vertical-align: top;\n",
       "    }\n",
       "\n",
       "    .dataframe thead th {\n",
       "        text-align: right;\n",
       "    }\n",
       "</style>\n",
       "<table border=\"1\" class=\"dataframe\">\n",
       "  <thead>\n",
       "    <tr style=\"text-align: right;\">\n",
       "      <th></th>\n",
       "      <th>date</th>\n",
       "      <th>date_2</th>\n",
       "      <th>neighb</th>\n",
       "      <th>rating</th>\n",
       "      <th>rating_num</th>\n",
       "      <th>rev</th>\n",
       "      <th>title</th>\n",
       "      <th>city</th>\n",
       "    </tr>\n",
       "  </thead>\n",
       "  <tbody>\n",
       "    <tr>\n",
       "      <th>0</th>\n",
       "      <td>October 9, 2018</td>\n",
       "      <td>2018-10-09</td>\n",
       "      <td>chelsea</td>\n",
       "      <td>['ui_bubble_rating', 'bubble_40']</td>\n",
       "      <td>4.0</td>\n",
       "      <td>This is al ovely area with lots of cool shops,...</td>\n",
       "      <td>Lovely Area</td>\n",
       "      <td>nyc</td>\n",
       "    </tr>\n",
       "    <tr>\n",
       "      <th>1</th>\n",
       "      <td>October 2, 2018</td>\n",
       "      <td>2018-10-02</td>\n",
       "      <td>chelsea</td>\n",
       "      <td>['ui_bubble_rating', 'bubble_50']</td>\n",
       "      <td>5.0</td>\n",
       "      <td>my hotel was there/ it is very close to everyt...</td>\n",
       "      <td>wonderful!!</td>\n",
       "      <td>nyc</td>\n",
       "    </tr>\n",
       "    <tr>\n",
       "      <th>2</th>\n",
       "      <td>August 11, 2018</td>\n",
       "      <td>2018-08-11</td>\n",
       "      <td>chelsea</td>\n",
       "      <td>['ui_bubble_rating', 'bubble_40']</td>\n",
       "      <td>4.0</td>\n",
       "      <td>Getting down from High Line and you hit Chelse...</td>\n",
       "      <td>A special neighborhood</td>\n",
       "      <td>nyc</td>\n",
       "    </tr>\n",
       "    <tr>\n",
       "      <th>3</th>\n",
       "      <td>May 27, 2018</td>\n",
       "      <td>2018-05-27</td>\n",
       "      <td>chelsea</td>\n",
       "      <td>['ui_bubble_rating', 'bubble_40']</td>\n",
       "      <td>4.0</td>\n",
       "      <td>Stopped here on the afternoon. Beautiful resid...</td>\n",
       "      <td>Chelsea</td>\n",
       "      <td>nyc</td>\n",
       "    </tr>\n",
       "    <tr>\n",
       "      <th>4</th>\n",
       "      <td>May 13, 2018</td>\n",
       "      <td>2018-05-13</td>\n",
       "      <td>chelsea</td>\n",
       "      <td>['ui_bubble_rating', 'bubble_40']</td>\n",
       "      <td>4.0</td>\n",
       "      <td>This is very good neighbourhood here.Lots of f...</td>\n",
       "      <td>Flower</td>\n",
       "      <td>nyc</td>\n",
       "    </tr>\n",
       "  </tbody>\n",
       "</table>\n",
       "</div>"
      ],
      "text/plain": [
       "              date      date_2   neighb                             rating  \\\n",
       "0  October 9, 2018  2018-10-09  chelsea  ['ui_bubble_rating', 'bubble_40']   \n",
       "1  October 2, 2018  2018-10-02  chelsea  ['ui_bubble_rating', 'bubble_50']   \n",
       "2  August 11, 2018  2018-08-11  chelsea  ['ui_bubble_rating', 'bubble_40']   \n",
       "3     May 27, 2018  2018-05-27  chelsea  ['ui_bubble_rating', 'bubble_40']   \n",
       "4     May 13, 2018  2018-05-13  chelsea  ['ui_bubble_rating', 'bubble_40']   \n",
       "\n",
       "   rating_num                                                rev  \\\n",
       "0         4.0  This is al ovely area with lots of cool shops,...   \n",
       "1         5.0  my hotel was there/ it is very close to everyt...   \n",
       "2         4.0  Getting down from High Line and you hit Chelse...   \n",
       "3         4.0  Stopped here on the afternoon. Beautiful resid...   \n",
       "4         4.0  This is very good neighbourhood here.Lots of f...   \n",
       "\n",
       "                    title city  \n",
       "0             Lovely Area  nyc  \n",
       "1             wonderful!!  nyc  \n",
       "2  A special neighborhood  nyc  \n",
       "3                 Chelsea  nyc  \n",
       "4                  Flower  nyc  "
      ]
     },
     "execution_count": 6,
     "metadata": {},
     "output_type": "execute_result"
    }
   ],
   "source": [
    "df.head()"
   ]
  },
  {
   "cell_type": "code",
   "execution_count": 7,
   "metadata": {},
   "outputs": [],
   "source": [
    "df[\"rev_len\"] = df[\"rev\"].apply(lambda x: len(x.split(\" \")))"
   ]
  },
  {
   "cell_type": "code",
   "execution_count": 8,
   "metadata": {},
   "outputs": [
    {
     "data": {
      "text/plain": [
       "55.756114921703116"
      ]
     },
     "execution_count": 8,
     "metadata": {},
     "output_type": "execute_result"
    }
   ],
   "source": [
    "df[\"rev_len\"].mean()"
   ]
  },
  {
   "cell_type": "code",
   "execution_count": 9,
   "metadata": {},
   "outputs": [
    {
     "data": {
      "text/plain": [
       "neighb\n",
       "chelsea               211\n",
       "chinatown             971\n",
       "east_village          150\n",
       "fidi                  579\n",
       "fifth_ave             500\n",
       "greenwich_village    1068\n",
       "harlem                306\n",
       "soho                  998\n",
       "times_sq              992\n",
       "tribeca               121\n",
       "ues                   111\n",
       "union_sq              724\n",
       "uws                   398\n",
       "west_village          827\n",
       "williamsburg          770\n",
       "Name: title, dtype: int64"
      ]
     },
     "execution_count": 9,
     "metadata": {},
     "output_type": "execute_result"
    }
   ],
   "source": [
    "df[df[\"city\"]==\"nyc\"].groupby(\"neighb\")[\"title\"].count()"
   ]
  },
  {
   "cell_type": "code",
   "execution_count": 10,
   "metadata": {},
   "outputs": [
    {
     "data": {
      "text/plain": [
       "neighb\n",
       "castro               426\n",
       "chinatown_sf         999\n",
       "embarcadero          619\n",
       "fisherman_wharf      999\n",
       "haight_ashbury       930\n",
       "mission_district     325\n",
       "nob_hill             137\n",
       "north_becah          212\n",
       "pacific_heights       67\n",
       "presidio            1001\n",
       "soma                  34\n",
       "union_sq_sf          979\n",
       "Name: title, dtype: int64"
      ]
     },
     "execution_count": 10,
     "metadata": {},
     "output_type": "execute_result"
    }
   ],
   "source": [
    "df[df[\"city\"]==\"SF\"].groupby(\"neighb\")[\"title\"].count()"
   ]
  },
  {
   "cell_type": "code",
   "execution_count": 11,
   "metadata": {},
   "outputs": [
    {
     "data": {
      "text/plain": [
       "neighb\n",
       "west_village         4.675937\n",
       "greenwich_village    4.607678\n",
       "fidi                 4.554404\n",
       "uws                  4.550251\n",
       "soho                 4.509018\n",
       "fifth_ave            4.486000\n",
       "chelsea              4.417062\n",
       "williamsburg         4.411688\n",
       "east_village         4.406667\n",
       "tribeca              4.305785\n",
       "ues                  4.297297\n",
       "union_sq             4.285912\n",
       "times_sq             4.237903\n",
       "harlem               4.166667\n",
       "chinatown            3.606591\n",
       "Name: rating_num, dtype: float64"
      ]
     },
     "execution_count": 11,
     "metadata": {},
     "output_type": "execute_result"
    }
   ],
   "source": [
    "df[df[\"city\"]==\"nyc\"].groupby(\"neighb\")[\"rating_num\"].mean().sort_values(ascending=False)"
   ]
  },
  {
   "cell_type": "code",
   "execution_count": 12,
   "metadata": {},
   "outputs": [
    {
     "data": {
      "text/plain": [
       "neighb\n",
       "presidio            4.590410\n",
       "pacific_heights     4.388060\n",
       "nob_hill            4.357664\n",
       "castro              4.356808\n",
       "embarcadero         4.306947\n",
       "north_becah         4.301887\n",
       "mission_district    4.030769\n",
       "union_sq_sf         3.991828\n",
       "fisherman_wharf     3.973974\n",
       "soma                3.970588\n",
       "chinatown_sf        3.944945\n",
       "haight_ashbury      3.918280\n",
       "Name: rating_num, dtype: float64"
      ]
     },
     "execution_count": 12,
     "metadata": {},
     "output_type": "execute_result"
    }
   ],
   "source": [
    "df[df[\"city\"]==\"SF\"].groupby(\"neighb\")[\"rating_num\"].mean().sort_values(ascending=False)"
   ]
  },
  {
   "cell_type": "code",
   "execution_count": 13,
   "metadata": {
    "scrolled": false
   },
   "outputs": [
    {
     "data": {
      "text/plain": [
       "rating_num\n",
       "1.0     270\n",
       "2.0     491\n",
       "3.0    1870\n",
       "4.0    5098\n",
       "5.0    7725\n",
       "Name: title, dtype: int64"
      ]
     },
     "execution_count": 13,
     "metadata": {},
     "output_type": "execute_result"
    }
   ],
   "source": [
    "df.groupby(\"rating_num\")[\"title\"].count()"
   ]
  },
  {
   "cell_type": "markdown",
   "metadata": {},
   "source": [
    "## Topic Modeling"
   ]
  },
  {
   "cell_type": "code",
   "execution_count": 14,
   "metadata": {},
   "outputs": [],
   "source": [
    "df = df[df[\"neighb\"]!=\"market_st\"]"
   ]
  },
  {
   "cell_type": "code",
   "execution_count": 15,
   "metadata": {},
   "outputs": [
    {
     "data": {
      "text/plain": [
       "(15454, 9)"
      ]
     },
     "execution_count": 15,
     "metadata": {},
     "output_type": "execute_result"
    }
   ],
   "source": [
    "df.shape"
   ]
  },
  {
   "cell_type": "code",
   "execution_count": 16,
   "metadata": {},
   "outputs": [],
   "source": [
    "#collect additional stop words\n",
    "#     NYC Landmarks:\n",
    "nyc_landmarks = [\"'\",'Williamsburg','arch','avenu','batteri','bedford','brooklyn','central','chelsea','china','chinatown','chines','christma','citi',\n",
    " 'columbus','east','ferri','greenwich','harlem','island','lincoln','lower','manhattan','new','ny','nyc','nyu','riverside',\n",
    " 'soho','tri','union','upper','villag','village','wall','washington','west','williamsburg','york', 'tour', 'bus', 'guid', 'hop', 'free', 'book']              \n",
    "    \n",
    "    #     San Francisco Landmarks\n",
    "sf_landmarks = ['alcatraz','along','base','bay','bridg','cabl','car','castro','embarcadero','fisherman','francisco','gate',\n",
    " 'golden','haightashburi','high','hill','militari','military','north','old','pier',\"haight\",'presidio','san','sf','wharf']\n",
    "\n",
    "    #     Generic Travel Words\n",
    "generic_travel = ['area','atmospher','ave','bit','block','build','buy','cafe','center','close','coffe','coffee',\n",
    " 'crowd','culture','culture','day','district','drink','eat','experi','explor','far','food','found','fruit','full','go',\n",
    " 'home','homeless','hotel','hour','hous','line','live','local','locat','long','look','lot','love','lunch','market','need',\n",
    " 'neighborhood','neighbourhood','night','peopl','photo','place','plenti','price','restaur','restaur shop','safe',\"music\", \"coupl\", \"life\", \"two\", \"famous\",\n",
    " 'see','sell','shop','shop restaur','side','sit','south','souvenir','spend','spent','spot','squar','cheap', 'sever', 'start', 'itali', 'vendor', 'especi',\n",
    " 'st','stay','step','street','stroll','subway','tourist',\"beach\", \"sea\", \"disney\", 'town','trip','unique','use','walk','wander','watch','went']\n",
    "    \n",
    "    \n",
    "    #     Generic Descriptive Words\n",
    "descrip_words = ['also',\"though\",'also','pretti','alway','amaz','show', 'chang','amaz','around','away','awesom','back','best','best','better','big','charact','check',\n",
    " 'check','come','could','definit','defint','didnt','differ','dont','easi','els','end','enjoy','etc','even',\n",
    "     'everi','everyth','expect','feel','felt','find','first','friend','fun','get','good','got','great',\n",
    "     'interest','know','light','liketime','littl','major','make','mani','miss','much','must','never',\n",
    "     'nice','noth','number','offer','one','open','part','produc','quit','real','realli','recommend','right',\n",
    "     'saturday','say','see','seem','sight','small','someth','still','stop','sunday','sure','take','time', 'next',\"attract\", \"favorit\", \"made\", \"everyon\",\n",
    " 'th','thing','think','took','us','visit','walk','want','way','well','wonder','world','worth','would','year','’','like', 'anoth', 'kind', 'movi', 'youll']\n",
    "              "
   ]
  },
  {
   "cell_type": "code",
   "execution_count": 17,
   "metadata": {},
   "outputs": [],
   "source": [
    "stop_words = stopwords.words('english')\n",
    "\n",
    "for word in nyc_landmarks:\n",
    "    stop_words.append(word)\n",
    "    \n",
    "for word in sf_landmarks:\n",
    "    stop_words.append(word)\n",
    "\n",
    "for word in generic_travel:\n",
    "    stop_words.append(word)\n",
    "    \n",
    "for word in descrip_words:\n",
    "    stop_words.append(word)"
   ]
  },
  {
   "cell_type": "code",
   "execution_count": 18,
   "metadata": {},
   "outputs": [],
   "source": [
    "def custom_tokenizer(text):\n",
    "\n",
    "    # remove punctuation\n",
    "    remove_punct = str.maketrans('', '', string.punctuation)\n",
    "    text = text.translate(remove_punct)\n",
    "\n",
    "    # remove digits and convert to lower case\n",
    "    remove_digits = str.maketrans('', '', string.digits)\n",
    "    text = text.lower().translate(remove_digits)\n",
    "\n",
    "    # tokenize\n",
    "    tokens = word_tokenize(text)\n",
    "\n",
    "    # remove stop words\n",
    "    tokens_stop = [y for y in tokens if y not in stop_words]\n",
    "\n",
    "    # stem\n",
    "    stemmer = SnowballStemmer('english')\n",
    "    tokens_stem = [stemmer.stem(y) for y in tokens_stop] \n",
    "\n",
    "    return tokens_stem"
   ]
  },
  {
   "cell_type": "code",
   "execution_count": 19,
   "metadata": {},
   "outputs": [
    {
     "name": "stderr",
     "output_type": "stream",
     "text": [
      "/Users/elizabethoriordan/anaconda3/lib/python3.6/site-packages/sklearn/feature_extraction/text.py:286: UserWarning: Your stop_words may be inconsistent with your preprocessing. Tokenizing the stop words generated tokens ['arent', 'couldnt', 'doesnt', 'hadnt', 'hasnt', 'havent', 'isnt', 'mightnt', 'mustnt', 'neednt', 'shant', 'shes', 'shouldnt', 'shouldv', 'thatll', 'wasnt', 'werent', 'wont', 'wouldnt', 'youd', 'youv'] not in stop_words.\n",
      "  sorted(inconsistent))\n"
     ]
    }
   ],
   "source": [
    "from sklearn.feature_extraction.text import  TfidfVectorizer \n",
    "\n",
    "tfidf = TfidfVectorizer(tokenizer = custom_tokenizer,stop_words = stop_words, token_pattern = \"\\\\b[a-zA-Z][a-zA-Z]+\\\\b\", min_df = .01, max_df = .8 )\n",
    "tfidf_vecs = tfidf.fit_transform(df[\"rev\"])\n"
   ]
  },
  {
   "cell_type": "code",
   "execution_count": 20,
   "metadata": {},
   "outputs": [],
   "source": [
    "tfidf_2 = tfidf_vecs.todense()"
   ]
  },
  {
   "cell_type": "code",
   "execution_count": 21,
   "metadata": {},
   "outputs": [],
   "source": [
    "tfidf_df2 = pd.DataFrame(tfidf_vecs.todense(), columns = tfidf.get_feature_names())"
   ]
  },
  {
   "cell_type": "code",
   "execution_count": 22,
   "metadata": {},
   "outputs": [
    {
     "data": {
      "text/plain": [
       "(15454, 250)"
      ]
     },
     "execution_count": 22,
     "metadata": {},
     "output_type": "execute_result"
    }
   ],
   "source": [
    "tfidf_df2.shape"
   ]
  },
  {
   "cell_type": "code",
   "execution_count": 23,
   "metadata": {},
   "outputs": [],
   "source": [
    "from sklearn.decomposition import NMF\n",
    "nmf = NMF(n_components=14)\n",
    "nmf_vecs = nmf.fit_transform(tfidf_vecs)"
   ]
  },
  {
   "cell_type": "code",
   "execution_count": 24,
   "metadata": {},
   "outputs": [
    {
     "data": {
      "text/plain": [
       "(15454, 14)"
      ]
     },
     "execution_count": 24,
     "metadata": {},
     "output_type": "execute_result"
    }
   ],
   "source": [
    "nmf_vecs.shape"
   ]
  },
  {
   "cell_type": "code",
   "execution_count": 25,
   "metadata": {},
   "outputs": [],
   "source": [
    "topic_words = []\n",
    "for r in nmf.components_:\n",
    "    a = sorted([(v,i) for i,v in enumerate(r)],reverse=True)[0:6]\n",
    "    topic_words.append([tfidf_df2.iloc[:,a[e][1]].name for e in range(len(a))])"
   ]
  },
  {
   "cell_type": "code",
   "execution_count": 26,
   "metadata": {
    "scrolled": false
   },
   "outputs": [
    {
     "name": "stdout",
     "output_type": "stream",
     "text": [
      "['park', 'play', 'dog', 'near', 'memori', 'run']\n",
      "['store', 'cloth', 'maci', 'window', 'vintag', 'fifth']\n",
      "['view', 'water', 'bike', 'top', 'across', 'point']\n",
      "['bar', 'club', 'gay', 'trendi', 'eateri', 'hang']\n",
      "['beauti', 'tree', 'brownston', 'absolut', 'clean', 'pictur']\n",
      "['busi', 'bustl', 'keep', 'entertain', 'expens', 'activ']\n",
      "['histori', 'histor', 'natur', 'gay', 'american', 'hippi']\n",
      "['cool', 'trendi', 'stuff', 'hip', 'hang', 'vintag']\n",
      "['dirti', 'everywher', 'howev', 'seen', 'saw', 'expens']\n",
      "['architectur', 'histor', 'charm', 'design', 'style', 'lost']\n",
      "['museum', 'famili', 'histor', 'includ', 'natur', 'memori']\n",
      "['art', 'galleri', 'boutiqu', 'mission', 'mural', 'artist']\n",
      "['vibe', 'hippi', 'young', 'trendi', 'boutiqu', 'eateri']\n",
      "['relax', 'afternoon', 'surround', 'perfect', 'bustl', 'nearbi']\n"
     ]
    }
   ],
   "source": [
    "for i in topic_words:\n",
    "    print(i)"
   ]
  },
  {
   "cell_type": "markdown",
   "metadata": {},
   "source": [
    "### Categories\n",
    "0.park\n",
    "1.store, shopping\n",
    "2.views\n",
    "3.bars/ going out\n",
    "4.beautiful/ picturesque\n",
    "5.busy, bustling\n",
    "6.historical\n",
    "7.cool, trendy 13. vibe, young\n",
    "8.RECATEGORIZE\n",
    "9.architecture\n",
    "10.museum\n",
    "11.art galleries\n",
    "12.vibe, young\n",
    "13.relax"
   ]
  },
  {
   "cell_type": "markdown",
   "metadata": {},
   "source": [
    "## Assign Reviews to Clusters"
   ]
  },
  {
   "cell_type": "code",
   "execution_count": 27,
   "metadata": {},
   "outputs": [],
   "source": [
    "doc_cluster = nmf_vecs.argmax(axis = 1)"
   ]
  },
  {
   "cell_type": "code",
   "execution_count": 28,
   "metadata": {},
   "outputs": [
    {
     "name": "stdout",
     "output_type": "stream",
     "text": [
      "(15454,)\n",
      "(15454, 9)\n"
     ]
    }
   ],
   "source": [
    "print(doc_cluster.shape)\n",
    "print(df.shape)"
   ]
  },
  {
   "cell_type": "code",
   "execution_count": 29,
   "metadata": {},
   "outputs": [],
   "source": [
    "clusters1 = pd.DataFrame(doc_cluster)"
   ]
  },
  {
   "cell_type": "code",
   "execution_count": 30,
   "metadata": {},
   "outputs": [
    {
     "name": "stdout",
     "output_type": "stream",
     "text": [
      "(15454, 1)\n"
     ]
    }
   ],
   "source": [
    "print(clusters1.shape)\n",
    "\n",
    "clusters1.reset_index(inplace=True)"
   ]
  },
  {
   "cell_type": "code",
   "execution_count": 31,
   "metadata": {},
   "outputs": [],
   "source": [
    "# df.drop(\"index\", axis=1, inplace=True)"
   ]
  },
  {
   "cell_type": "code",
   "execution_count": 32,
   "metadata": {},
   "outputs": [],
   "source": [
    "df.reset_index(inplace=True)"
   ]
  },
  {
   "cell_type": "code",
   "execution_count": 33,
   "metadata": {},
   "outputs": [],
   "source": [
    "df2 = df.merge(clusters1, how=\"outer\", on=\"index\")"
   ]
  },
  {
   "cell_type": "code",
   "execution_count": 34,
   "metadata": {},
   "outputs": [],
   "source": [
    "# df2 = df2[df2[0]!=8]"
   ]
  },
  {
   "cell_type": "code",
   "execution_count": 35,
   "metadata": {},
   "outputs": [],
   "source": [
    "df3 = df2.groupby([\"neighb\",\"city\", 0])[\"index\"].count().reset_index()"
   ]
  },
  {
   "cell_type": "code",
   "execution_count": 36,
   "metadata": {
    "scrolled": false
   },
   "outputs": [
    {
     "data": {
      "text/plain": [
       "array(['castro', 'chelsea', 'chinatown', 'chinatown_sf', 'east_village',\n",
       "       'embarcadero', 'fidi', 'fifth_ave', 'fisherman_wharf',\n",
       "       'greenwich_village', 'haight_ashbury', 'harlem',\n",
       "       'mission_district', 'nob_hill', 'north_becah', 'pacific_heights',\n",
       "       'presidio', 'soho', 'soma', 'times_sq', 'tribeca', 'ues',\n",
       "       'union_sq', 'union_sq_sf', 'uws', 'west_village', 'williamsburg'],\n",
       "      dtype=object)"
      ]
     },
     "execution_count": 36,
     "metadata": {},
     "output_type": "execute_result"
    }
   ],
   "source": [
    "df3.neighb.unique()"
   ]
  },
  {
   "cell_type": "code",
   "execution_count": 37,
   "metadata": {
    "scrolled": true
   },
   "outputs": [
    {
     "data": {
      "text/plain": [
       "neighb\n",
       "castro                426\n",
       "chelsea               211\n",
       "chinatown             971\n",
       "chinatown_sf          999\n",
       "east_village          150\n",
       "embarcadero           619\n",
       "fidi                  579\n",
       "fifth_ave             500\n",
       "fisherman_wharf       999\n",
       "greenwich_village    1068\n",
       "haight_ashbury        930\n",
       "harlem                306\n",
       "mission_district      325\n",
       "nob_hill              137\n",
       "north_becah           212\n",
       "pacific_heights        67\n",
       "presidio             1001\n",
       "soho                  998\n",
       "soma                   34\n",
       "times_sq              992\n",
       "tribeca               121\n",
       "ues                   111\n",
       "union_sq              724\n",
       "union_sq_sf           979\n",
       "uws                   398\n",
       "west_village          827\n",
       "williamsburg          770\n",
       "Name: index, dtype: int64"
      ]
     },
     "execution_count": 37,
     "metadata": {},
     "output_type": "execute_result"
    }
   ],
   "source": [
    "df3.groupby(\"neighb\")[\"index\"].sum()"
   ]
  },
  {
   "cell_type": "code",
   "execution_count": 38,
   "metadata": {},
   "outputs": [],
   "source": [
    "df3.loc[df3[\"neighb\"]==\"castro\", \"total\"]=426\n",
    "df3.loc[df3[\"neighb\"]==\"chelsea\", \"total\"]=211\n",
    "df3.loc[df3[\"neighb\"]==\"chinatown\", \"total\"]=971\n",
    "df3.loc[df3[\"neighb\"]==\"chinatown_sf\", \"total\"]=999\n",
    "df3.loc[df3[\"neighb\"]==\"east_village\", \"total\"]=150\n",
    "df3.loc[df3[\"neighb\"]==\"embarcadero\", \"total\"]=619\n",
    "df3.loc[df3[\"neighb\"]==\"fidi\", \"total\"]=579\n",
    "df3.loc[df3[\"neighb\"]==\"fifth_ave\", \"total\"]=500\n",
    "df3.loc[df3[\"neighb\"]==\"fisherman_wharf\", \"total\"]=999\n",
    "df3.loc[df3[\"neighb\"]==\"greenwich_village\", \"total\"]=1068\n",
    "df3.loc[df3[\"neighb\"]==\"haight_ashbury\", \"total\"]=930\n",
    "df3.loc[df3[\"neighb\"]==\"harlem\", \"total\"]=306\n",
    "df3.loc[df3[\"neighb\"]==\"mission_district\", \"total\"]=325\n",
    "df3.loc[df3[\"neighb\"]==\"nob_hill\", \"total\"]=137\n",
    "df3.loc[df3[\"neighb\"]==\"north_becah\", \"total\"]=212\n",
    "df3.loc[df3[\"neighb\"]==\"pacific_heights\", \"total\"]=67\n",
    "df3.loc[df3[\"neighb\"]==\"presidio\", \"total\"]=1001\n",
    "df3.loc[df3[\"neighb\"]==\"soho\", \"total\"]=998\n",
    "df3.loc[df3[\"neighb\"]==\"soma\", \"total\"]=34\n",
    "df3.loc[df3[\"neighb\"]==\"times_sq\", \"total\"]=992\n",
    "df3.loc[df3[\"neighb\"]==\"tribeca\", \"total\"]=121\n",
    "df3.loc[df3[\"neighb\"]==\"ues\", \"total\"]=111\n",
    "df3.loc[df3[\"neighb\"]==\"union_sq\", \"total\"]=724\n",
    "df3.loc[df3[\"neighb\"]==\"union_sq_sf\", \"total\"]=979\n",
    "df3.loc[df3[\"neighb\"]==\"uws\", \"total\"]=398\n",
    "df3.loc[df3[\"neighb\"]==\"west_village\", \"total\"]=827\n",
    "df3.loc[df3[\"neighb\"]==\"williamsburg\", \"total\"]=770"
   ]
  },
  {
   "cell_type": "code",
   "execution_count": 39,
   "metadata": {},
   "outputs": [],
   "source": [
    "df3[\"perc\"] = df3[\"index\"] / df3[\"total\"]"
   ]
  },
  {
   "cell_type": "code",
   "execution_count": 40,
   "metadata": {
    "scrolled": true
   },
   "outputs": [
    {
     "data": {
      "text/plain": [
       "27"
      ]
     },
     "execution_count": 40,
     "metadata": {},
     "output_type": "execute_result"
    }
   ],
   "source": [
    "df3.neighb.nunique()"
   ]
  },
  {
   "cell_type": "code",
   "execution_count": 41,
   "metadata": {},
   "outputs": [],
   "source": [
    "df3.loc[df3[0]==0,\"cat\"] = \"park\"\n",
    "df3.loc[df3[0]==1,\"cat\"] = \"shopping\"\n",
    "df3.loc[df3[0]==2,\"cat\"] = \"views\"\n",
    "df3.loc[df3[0]==3,\"cat\"] = \"bars\"\n",
    "df3.loc[df3[0]==4,\"cat\"] = \"beautiful\"\n",
    "df3.loc[df3[0]==5,\"cat\"] = \"busy/ bustling\"\n",
    "df3.loc[df3[0]==6,\"cat\"] = \"historical\"\n",
    "df3.loc[df3[0]==7,\"cat\"] = \"cool\"\n",
    "df3.loc[df3[0]==8,\"cat\"] = \"???\"\n",
    "df3.loc[df3[0]==9,\"cat\"] = \"architecture\"\n",
    "df3.loc[df3[0]==10,\"cat\"] = \"museums\"\n",
    "df3.loc[df3[0]==11,\"cat\"] = \"art\"\n",
    "df3.loc[df3[0]==12,\"cat\"] = \"young vibe\"\n",
    "df3.loc[df3[0]==13,\"cat\"] = \"relaxing\""
   ]
  },
  {
   "cell_type": "code",
   "execution_count": 42,
   "metadata": {},
   "outputs": [
    {
     "data": {
      "text/plain": [
       "array(['castro', 'chelsea', 'chinatown', 'chinatown_sf', 'east_village',\n",
       "       'embarcadero', 'fidi', 'fifth_ave', 'fisherman_wharf',\n",
       "       'greenwich_village', 'haight_ashbury', 'harlem',\n",
       "       'mission_district', 'nob_hill', 'north_becah', 'pacific_heights',\n",
       "       'presidio', 'soho', 'soma', 'times_sq', 'tribeca', 'ues',\n",
       "       'union_sq', 'union_sq_sf', 'uws', 'west_village', 'williamsburg'],\n",
       "      dtype=object)"
      ]
     },
     "execution_count": 42,
     "metadata": {},
     "output_type": "execute_result"
    }
   ],
   "source": [
    "df3.neighb.unique()"
   ]
  },
  {
   "cell_type": "code",
   "execution_count": 43,
   "metadata": {
    "scrolled": true
   },
   "outputs": [
    {
     "data": {
      "text/plain": [
       "array(['park', 'shopping', 'views', 'bars', 'beautiful', 'busy/ bustling',\n",
       "       'historical', 'cool', '???', 'architecture', 'museums', 'art',\n",
       "       'young vibe', 'relaxing'], dtype=object)"
      ]
     },
     "execution_count": 43,
     "metadata": {},
     "output_type": "execute_result"
    }
   ],
   "source": [
    "df3.cat.unique()"
   ]
  },
  {
   "cell_type": "code",
   "execution_count": 44,
   "metadata": {},
   "outputs": [
    {
     "data": {
      "text/plain": [
       "neighb\n",
       "castro               1.0\n",
       "chelsea              1.0\n",
       "chinatown            1.0\n",
       "chinatown_sf         1.0\n",
       "east_village         1.0\n",
       "embarcadero          1.0\n",
       "fidi                 1.0\n",
       "fifth_ave            1.0\n",
       "fisherman_wharf      1.0\n",
       "greenwich_village    1.0\n",
       "haight_ashbury       1.0\n",
       "harlem               1.0\n",
       "mission_district     1.0\n",
       "nob_hill             1.0\n",
       "north_becah          1.0\n",
       "pacific_heights      1.0\n",
       "presidio             1.0\n",
       "soho                 1.0\n",
       "soma                 1.0\n",
       "times_sq             1.0\n",
       "tribeca              1.0\n",
       "ues                  1.0\n",
       "union_sq             1.0\n",
       "union_sq_sf          1.0\n",
       "uws                  1.0\n",
       "west_village         1.0\n",
       "williamsburg         1.0\n",
       "Name: perc, dtype: float64"
      ]
     },
     "execution_count": 44,
     "metadata": {},
     "output_type": "execute_result"
    }
   ],
   "source": [
    "df3.groupby(\"neighb\")[\"perc\"].sum()"
   ]
  },
  {
   "cell_type": "code",
   "execution_count": 49,
   "metadata": {},
   "outputs": [],
   "source": [
    "def get_rec_by_attr(attr1, attr2, city):\n",
    "    ser1 = df3[(df3[\"cat\"]==attr1) & (df3[\"city\"]==city)][[\"neighb\", \"perc\"]]\n",
    "    ser2 = df3[(df3[\"cat\"]==attr2) & (df3[\"city\"]==city)][[\"neighb\", \"perc\"]]\n",
    "    ser_comb = ser1.merge(ser2, how=\"outer\", on=\"neighb\")\n",
    "    ser_comb[\"perc_z\"] = (ser_comb[\"perc_x\"] + ser_comb[\"perc_y\"])/2\n",
    "    ser_comb.sort_values(by=\"perc_z\", ascending=False, inplace=True)\n",
    "    return ser_comb.iloc[0:2][\"neighb\"].values"
   ]
  },
  {
   "cell_type": "code",
   "execution_count": 49,
   "metadata": {},
   "outputs": [],
   "source": [
    "df3.to_csv(\"cat_perc.csv\")"
   ]
  },
  {
   "cell_type": "code",
   "execution_count": 50,
   "metadata": {},
   "outputs": [],
   "source": [
    "df3 = df3[df3[0]!=8]"
   ]
  },
  {
   "cell_type": "markdown",
   "metadata": {},
   "source": [
    "## Try Topic Modeling w/ full reviews as corpus"
   ]
  },
  {
   "cell_type": "code",
   "execution_count": 51,
   "metadata": {},
   "outputs": [],
   "source": [
    "neighbs = df.neighb.unique()"
   ]
  },
  {
   "cell_type": "code",
   "execution_count": 52,
   "metadata": {},
   "outputs": [
    {
     "data": {
      "text/plain": [
       "27"
      ]
     },
     "execution_count": 52,
     "metadata": {},
     "output_type": "execute_result"
    }
   ],
   "source": [
    "len(neighbs)"
   ]
  },
  {
   "cell_type": "code",
   "execution_count": 53,
   "metadata": {},
   "outputs": [
    {
     "data": {
      "text/plain": [
       "array(['chelsea', 'chinatown', 'east_village', 'fidi', 'fifth_ave',\n",
       "       'greenwich_village', 'harlem', 'soho', 'times_sq', 'tribeca',\n",
       "       'union_sq', 'ues', 'uws', 'west_village', 'williamsburg', 'castro',\n",
       "       'chinatown_sf', 'embarcadero', 'fisherman_wharf', 'haight_ashbury',\n",
       "       'mission_district', 'nob_hill', 'north_becah', 'pacific_heights',\n",
       "       'presidio', 'soma', 'union_sq_sf'], dtype=object)"
      ]
     },
     "execution_count": 53,
     "metadata": {},
     "output_type": "execute_result"
    }
   ],
   "source": [
    "df.neighb.unique()"
   ]
  },
  {
   "cell_type": "code",
   "execution_count": 54,
   "metadata": {},
   "outputs": [],
   "source": [
    "neighb_names = []"
   ]
  },
  {
   "cell_type": "code",
   "execution_count": 55,
   "metadata": {},
   "outputs": [],
   "source": [
    "for i in neighbs:\n",
    "    neighb_names.append(i+\"_revs\")"
   ]
  },
  {
   "cell_type": "code",
   "execution_count": 56,
   "metadata": {},
   "outputs": [],
   "source": [
    "chelsea_revs = []\n",
    "chinatown_revs = []\n",
    "east_village_revs = []\n",
    "fidi_revs = []\n",
    "fifth_ave_revs = []\n",
    "greenwich_village_revs = []\n",
    "harlem_revs = []\n",
    "soho_revs = []\n",
    "times_sq_revs = []\n",
    "tribeca_revs = []\n",
    "union_sq_revs = []\n",
    "ues_revs = []\n",
    "uws_revs = []\n",
    "west_village_revs = []\n",
    "williamsburg_revs = []\n",
    "castro_revs = []\n",
    "chinatown_sf_revs = []\n",
    "embarcadero_revs = []\n",
    "fisherman_wharf_revs = []\n",
    "haight_ashbury_revs = []\n",
    "mission_district_revs = []\n",
    "nob_hill_revs = []\n",
    "north_becah_revs = []\n",
    "pacific_heights_revs = []\n",
    "presidio_revs = []\n",
    "soma_revs = []\n",
    "union_sq_sf_revs = []"
   ]
  },
  {
   "cell_type": "code",
   "execution_count": 57,
   "metadata": {},
   "outputs": [],
   "source": [
    "def get_revs(x, neigh):\n",
    "    length = df[df[\"neighb\"]==neigh].shape[0]\n",
    "    for i in range(0,length):\n",
    "        x.append(df[df[\"neighb\"]==neigh].iloc[i].rev)\n",
    "        "
   ]
  },
  {
   "cell_type": "code",
   "execution_count": 58,
   "metadata": {},
   "outputs": [],
   "source": [
    "get_revs(chelsea_revs, \"chelsea\")"
   ]
  },
  {
   "cell_type": "code",
   "execution_count": 59,
   "metadata": {},
   "outputs": [
    {
     "data": {
      "text/plain": [
       "211"
      ]
     },
     "execution_count": 59,
     "metadata": {},
     "output_type": "execute_result"
    }
   ],
   "source": [
    "len(chelsea_revs)"
   ]
  },
  {
   "cell_type": "code",
   "execution_count": 60,
   "metadata": {},
   "outputs": [],
   "source": [
    "get_revs(east_village_revs, \"east_village\")"
   ]
  },
  {
   "cell_type": "code",
   "execution_count": 61,
   "metadata": {},
   "outputs": [],
   "source": [
    "get_revs(chinatown_revs, \"chinatown\")\n",
    "get_revs(east_village_revs, \"east_village\")\n",
    "get_revs(fidi_revs, \"fidi\")\n",
    "get_revs(fifth_ave_revs, \"fifth_ave\")\n",
    "get_revs(greenwich_village_revs, \"greenwich_village\")\n",
    "get_revs(harlem_revs, \"harlem\")\n",
    "get_revs(soho_revs, \"soho\")\n",
    "get_revs(times_sq_revs, \"times_sq\")\n",
    "get_revs(tribeca_revs, \"tribeca\")\n",
    "get_revs(union_sq_revs, \"union_sq\")\n",
    "get_revs(ues_revs, \"ues\")\n",
    "get_revs(uws_revs, \"uws\")\n",
    "get_revs(west_village_revs, \"west_village\")\n",
    "get_revs(williamsburg_revs, \"williamsburg\")\n",
    "get_revs(castro_revs, \"castro\")\n",
    "get_revs(chinatown_sf_revs, \"chinatown_sf\")\n",
    "get_revs(embarcadero_revs, \"embarcadero\")\n",
    "get_revs(fisherman_wharf_revs, \"fisherman_wharf\")\n",
    "get_revs(haight_ashbury_revs, \"haight_ashbury\")\n",
    "get_revs(mission_district_revs, \"mission_district\")\n",
    "get_revs(nob_hill_revs, \"nob_hill\")\n",
    "get_revs(north_becah_revs, \"north_becah\")\n",
    "get_revs(pacific_heights_revs, \"pacific_heights\")\n",
    "get_revs(presidio_revs, \"presidio\")\n",
    "get_revs(soma_revs, \"soma\")\n",
    "get_revs(union_sq_sf_revs, \"union_sq_sf\")"
   ]
  },
  {
   "cell_type": "code",
   "execution_count": 62,
   "metadata": {},
   "outputs": [
    {
     "data": {
      "text/plain": [
       "array(['chelsea', 'chinatown', 'east_village', 'fidi', 'fifth_ave',\n",
       "       'greenwich_village', 'harlem', 'soho', 'times_sq', 'tribeca',\n",
       "       'union_sq', 'ues', 'uws', 'west_village', 'williamsburg', 'castro',\n",
       "       'chinatown_sf', 'embarcadero', 'fisherman_wharf', 'haight_ashbury',\n",
       "       'mission_district', 'nob_hill', 'north_becah', 'pacific_heights',\n",
       "       'presidio', 'soma', 'union_sq_sf'], dtype=object)"
      ]
     },
     "execution_count": 62,
     "metadata": {},
     "output_type": "execute_result"
    }
   ],
   "source": [
    "neighbs"
   ]
  },
  {
   "cell_type": "code",
   "execution_count": 63,
   "metadata": {},
   "outputs": [],
   "source": [
    "chelsea_revs2 = []"
   ]
  },
  {
   "cell_type": "code",
   "execution_count": 64,
   "metadata": {},
   "outputs": [],
   "source": [
    "chelsea_revs2 = \" \".join(chelsea_revs)\n"
   ]
  },
  {
   "cell_type": "code",
   "execution_count": 65,
   "metadata": {},
   "outputs": [],
   "source": [
    "chinatown_revs2 = \" \".join(chinatown_revs)\n",
    "east_village_revs2 = \" \".join(east_village_revs)\n",
    "fidi_revs2 = \"\".join(fidi_revs)\n",
    "fifth_ave_revs2 = \"\".join(fifth_ave_revs)\n",
    "greenwich_village_revs2 = \" \".join(greenwich_village_revs)\n",
    "harlem_revs2 = \" \".join(harlem_revs)\n",
    "soho_revs2 = \" \".join(soho_revs)\n",
    "times_sq_revs2 = \" \".join(times_sq_revs)\n",
    "tribeca_revs2 = \" \".join(tribeca_revs)\n",
    "union_sq_revs2 = \" \".join(union_sq_revs)\n",
    "ues_revs2 = \" \".join(ues_revs)\n",
    "uws_revs2 = \" \".join(uws_revs)\n",
    "west_village_revs2 = \" \".join(west_village_revs)\n",
    "williamsburg_revs2 = \" \".join(williamsburg_revs)\n",
    "castro_revs2 = \" \".join(castro_revs)\n",
    "chinatown_sf_revs2 = \" \".join(chinatown_sf_revs)\n",
    "embarcadero_revs2 = \" \".join(embarcadero_revs)\n",
    "fisherman_wharf_revs2 = \" \".join(fisherman_wharf_revs)\n",
    "haight_ashbury_revs2 = \" \".join(haight_ashbury_revs)\n",
    "mission_district_revs2 = \" \".join(mission_district_revs)\n",
    "nob_hill_revs2 = \" \".join(nob_hill_revs)\n",
    "north_becah_revs2 = \" \".join(north_becah_revs)\n",
    "pacific_heights_revs2 = \" \".join(pacific_heights_revs)\n",
    "presidio_revs2 = \" \".join(presidio_revs)\n",
    "soma_revs2 = \" \".join(soma_revs)\n",
    "union_sq_sf_revs2 = \" \".join(union_sq_sf_revs)"
   ]
  },
  {
   "cell_type": "code",
   "execution_count": 66,
   "metadata": {},
   "outputs": [],
   "source": [
    "df4 = pd.DataFrame({\"neighb\":[\"chelsea\",\"chinatown\",\"east_village\",\"fidi\",\"fifth_ave\",\"greenwich_village\",\"harlem\",\"soho\",\"times_sq\",\"tribeca\",\"union_sq\",\"ues\",\"uws\",\"west_village\",\"williamsburg\",\"castro\",\"chinatown_sf\",\"embarcadero\",\"fisherman_wharf\",\"haight_ashbury\",\"mission_district\",\"nob_hill\",\"north_beach\",\"pacific_heights\",\"presidio\",\"soma\",\"union_sq_sf\"],\n",
    "                    \"revs\":[chelsea_revs2,chinatown_revs2,east_village_revs2,fidi_revs2,fifth_ave_revs2,greenwich_village_revs2,harlem_revs2,soho_revs2,times_sq_revs2,tribeca_revs2,union_sq_revs2,ues_revs2,uws_revs2, west_village_revs2,williamsburg_revs2,castro_revs2,chinatown_sf_revs2,embarcadero_revs2,fisherman_wharf_revs2,haight_ashbury_revs2,mission_district_revs2,nob_hill_revs2,north_becah_revs2,pacific_heights_revs2,presidio_revs2,soma_revs2,union_sq_sf_revs2]})\n",
    "\n"
   ]
  },
  {
   "cell_type": "code",
   "execution_count": 67,
   "metadata": {},
   "outputs": [],
   "source": [
    "add_words = [\"bleeker\", \"fifth\", \"pacif\", \"height\", \"doubtfir\", \"mrs\", \"soma\", \"yerba\", \"buena\", \"tribeca\", \"nob\",'bleecker', \"mission\", \"ue\", 'madison', 'nd','lexington', 'amoeba', 'lenox', 'malcolm', 'broadway', 'amsterdam', 'christoph',\"ashburi\", \"uw\", \"midtown\"]\n",
    "\n",
    "\n"
   ]
  },
  {
   "cell_type": "code",
   "execution_count": 68,
   "metadata": {},
   "outputs": [],
   "source": [
    "stop_words2 = stopwords.words('english')\n",
    "\n",
    "for word in nyc_landmarks:\n",
    "    stop_words2.append(word)\n",
    "    \n",
    "for word in sf_landmarks:\n",
    "    stop_words2.append(word)\n",
    "\n",
    "for word in generic_travel:\n",
    "    stop_words2.append(word)\n",
    "    \n",
    "for word in descrip_words:\n",
    "    stop_words2.append(word)\n",
    "    \n",
    "for word in add_words:\n",
    "    stop_words2.append(word)"
   ]
  },
  {
   "cell_type": "code",
   "execution_count": 69,
   "metadata": {
    "scrolled": false
   },
   "outputs": [
    {
     "name": "stderr",
     "output_type": "stream",
     "text": [
      "/Users/elizabethoriordan/anaconda3/lib/python3.6/site-packages/sklearn/feature_extraction/text.py:286: UserWarning: Your stop_words may be inconsistent with your preprocessing. Tokenizing the stop words generated tokens ['arent', 'couldnt', 'doesnt', 'hadnt', 'hasnt', 'havent', 'isnt', 'mightnt', 'mustnt', 'neednt', 'shant', 'shes', 'shouldnt', 'shouldv', 'thatll', 'wasnt', 'werent', 'wont', 'wouldnt', 'youd', 'youv'] not in stop_words.\n",
      "  sorted(inconsistent))\n"
     ]
    }
   ],
   "source": [
    "from sklearn.feature_extraction.text import  TfidfVectorizer \n",
    "# ngram_range=(1,2)\n",
    "tfidf2 = TfidfVectorizer(tokenizer = custom_tokenizer,stop_words = stop_words2, token_pattern = \"\\\\b[a-zA-Z][a-zA-Z]+\\\\b\", min_df = .01, max_df = .95 )\n",
    "tfidf_vecs2 = tfidf2.fit_transform(df4[\"revs\"])\n",
    "\n"
   ]
  },
  {
   "cell_type": "code",
   "execution_count": 70,
   "metadata": {},
   "outputs": [
    {
     "data": {
      "text/plain": [
       "(27, 17116)"
      ]
     },
     "execution_count": 70,
     "metadata": {},
     "output_type": "execute_result"
    }
   ],
   "source": [
    "tfidf_3 = tfidf_vecs2.todense()\n",
    "\n",
    "tfidf_df3 = pd.DataFrame(tfidf_vecs2.todense(), columns = tfidf2.get_feature_names())\n",
    "\n",
    "tfidf_df3.shape"
   ]
  },
  {
   "cell_type": "code",
   "execution_count": 71,
   "metadata": {},
   "outputs": [],
   "source": [
    "from sklearn.decomposition import NMF\n",
    "nmf2 = NMF(n_components=27)\n",
    "nmf_vecs2 = nmf2.fit_transform(tfidf_vecs2)"
   ]
  },
  {
   "cell_type": "code",
   "execution_count": 72,
   "metadata": {},
   "outputs": [],
   "source": [
    "topic_words3 = []\n",
    "for r in nmf2.components_:\n",
    "    a = sorted([(v,i) for i,v in enumerate(r)],reverse=True)[0:10]\n",
    "    topic_words3.append([tfidf_df3.iloc[:,a[e][1]].name for e in range(len(a))])\n"
   ]
  },
  {
   "cell_type": "code",
   "execution_count": 73,
   "metadata": {},
   "outputs": [
    {
     "name": "stdout",
     "output_type": "stream",
     "text": [
      "['italian', 'coit', 'church', 'tower', 'bakeri', 'gelato', 'pizza', 'pastri', 'molinari', 'babylon']\n",
      "['lion', 'chowder', 'seafood', 'clam', 'seal', 'boudin', 'crab', 'touristi', 'boat', 'sourdough']\n",
      "['river', 'metropolitan', 'frick', 'mansion', 'mile', 'met', 'guggenheim', 'carl', 'schurz', 'neue']\n",
      "['sak', 'window', 'tiffani', 'patrick', 'trump', 'rockefel', 'brand', 'tower', 'cathedr', 'display']\n",
      "['steiner', 'mansion', 'victorian', 'fillmor', 'robin', 'alta', 'lyon', 'hilli', 'drive', 'william']\n",
      "['gay', 'harvey', 'rainbow', 'milk', 'flag', 'lgbt', 'glbt', 'nake', 'theatr', 'communiti']\n",
      "['hipster', 'l', 'river', 'hip', 'smorgasburg', 'vintag', 'flea', 'breweri', 'young', 'trendi']\n",
      "['apollo', 'church', 'sylvia', 'gospel', 'soul', 'brownston', 'theatr', 'black', 'rooster', 'theater']\n",
      "['convent', 'moscon', 'truck', 'basebal', 'metreon', 'dotcom', 'cal', 'club', 'financi', 'dynam']\n",
      "['fairmont', 'cathedr', 'grace', 'hopkin', 'steep', 'mark', 'california', 'huntington', 'climb', 'powel']\n",
      "['liberti', 'staten', 'statu', 'bull', 'memori', 'elli', 'triniti', 'trade', 'church', 'skylin']\n",
      "['dragon', 'cooki', 'grant', 'fortun', 'dim', 'lantern', 'authent', 'asian', 'sum', 'tea']\n",
      "['trail', 'walt', 'shuttl', 'hike', 'bike', 'armi', 'yoda', 'fort', 'field', 'nation']\n",
      "['mural', 'valencia', 'alley', 'mexican', 'taqueria', 'dolor', 'bart', 'balmi', 'burrito', 'latin']\n",
      "['tenement', 'stuyves', 'tompkin', 'les', 'alphabet', 'jewish', 'delancey', 'jew', 'synagogu', 'rhino']\n",
      "['farmer', 'chess', 'fresh', 'holiday', 'cider', 'squirrel', 'greenmarket', 'play', 'bench', 'stall']\n",
      "['canal', 'triangl', 'hudson', 'river', 'loft', 'holland', 'ghostbust', 'nobu', 'film', 'robert']\n",
      "['hippi', 'vintag', 'cloth', 'record', 'grate', 'cha', 'jani', 'dye', 'joplin', 'victorian']\n",
      "['billboard', 'bright', 'neon', 'ticket', 'screen', 'costum', 'advertis', 'pictur', 'theatr', 'cd']\n",
      "['highlin', 'galleri', 'gay', 'room', 'desk', 'elev', 'railway', 'kitchen', 'river', 'flower']\n",
      "['play', 'student', 'perform', 'jazz', 'piano', 'chess', 'pizza', 'artist', 'gay', 'fountain']\n",
      "['maci', 'rink', 'skate', 'sak', 'heart', 'tree', 'ice', 'neiman', 'powel', 'cheesecak']\n",
      "['natur', 'brownston', 'hudson', 'zabar', 'columbia', 'river', 'circl', 'dakota', 'residenti', 'lennon']\n",
      "['att', 'farmer', 'waterfront', 'water', 'run', 'port', 'ship', 'bart', 'cruis', 'hyatt']\n",
      "['boutiqu', 'houston', 'galleri', 'trendi', 'design', 'brand', 'fashion', 'artist', 'iron', 'cast']\n",
      "['canal', 'fake', 'fish', 'purs', 'authent', 'smell', 'dirti', 'bag', 'bargain', 'knock']\n",
      "['brownston', 'hudson', 'river', 'boutiqu', 'tree', 'quaint', 'stonewal', 'townhous', 'lost', 'club']\n"
     ]
    }
   ],
   "source": [
    "for i in topic_words3:\n",
    "    print(i)"
   ]
  },
  {
   "cell_type": "code",
   "execution_count": 74,
   "metadata": {},
   "outputs": [
    {
     "name": "stdout",
     "output_type": "stream",
     "text": [
      "(27,)\n",
      "(27, 2)\n"
     ]
    }
   ],
   "source": [
    "doc_cluster2 = nmf_vecs2.argmax(axis = 1)\n",
    "\n",
    "print(doc_cluster2.shape)\n",
    "print(df4.shape)"
   ]
  },
  {
   "cell_type": "code",
   "execution_count": 75,
   "metadata": {},
   "outputs": [
    {
     "name": "stdout",
     "output_type": "stream",
     "text": [
      "(27, 1)\n"
     ]
    }
   ],
   "source": [
    "clusters2 = pd.DataFrame(doc_cluster2)\n",
    "\n",
    "print(clusters2.shape)\n"
   ]
  },
  {
   "cell_type": "code",
   "execution_count": 76,
   "metadata": {},
   "outputs": [],
   "source": [
    "clusters2.reset_index(inplace=True)"
   ]
  },
  {
   "cell_type": "code",
   "execution_count": 77,
   "metadata": {},
   "outputs": [],
   "source": [
    "df4.reset_index(inplace=True)"
   ]
  },
  {
   "cell_type": "code",
   "execution_count": 78,
   "metadata": {},
   "outputs": [],
   "source": [
    "df5 = df4.merge(clusters2, how=\"outer\", on=\"index\")"
   ]
  },
  {
   "cell_type": "code",
   "execution_count": 79,
   "metadata": {},
   "outputs": [
    {
     "data": {
      "text/html": [
       "<div>\n",
       "<style scoped>\n",
       "    .dataframe tbody tr th:only-of-type {\n",
       "        vertical-align: middle;\n",
       "    }\n",
       "\n",
       "    .dataframe tbody tr th {\n",
       "        vertical-align: top;\n",
       "    }\n",
       "\n",
       "    .dataframe thead th {\n",
       "        text-align: right;\n",
       "    }\n",
       "</style>\n",
       "<table border=\"1\" class=\"dataframe\">\n",
       "  <thead>\n",
       "    <tr style=\"text-align: right;\">\n",
       "      <th></th>\n",
       "      <th>index</th>\n",
       "      <th>neighb</th>\n",
       "      <th>revs</th>\n",
       "      <th>0</th>\n",
       "    </tr>\n",
       "  </thead>\n",
       "  <tbody>\n",
       "    <tr>\n",
       "      <th>22</th>\n",
       "      <td>22</td>\n",
       "      <td>north_beach</td>\n",
       "      <td>We had a wonderful dinner at The North Beach R...</td>\n",
       "      <td>0</td>\n",
       "    </tr>\n",
       "  </tbody>\n",
       "</table>\n",
       "</div>"
      ],
      "text/plain": [
       "    index       neighb                                               revs  0\n",
       "22     22  north_beach  We had a wonderful dinner at The North Beach R...  0"
      ]
     },
     "execution_count": 79,
     "metadata": {},
     "output_type": "execute_result"
    }
   ],
   "source": [
    "df5[df5[0]==0]"
   ]
  },
  {
   "cell_type": "code",
   "execution_count": 85,
   "metadata": {},
   "outputs": [
    {
     "data": {
      "text/plain": [
       "Index(['index', 'neighb', 'revs', 0], dtype='object')"
      ]
     },
     "execution_count": 85,
     "metadata": {},
     "output_type": "execute_result"
    }
   ],
   "source": [
    "df5.columns"
   ]
  },
  {
   "cell_type": "code",
   "execution_count": 86,
   "metadata": {},
   "outputs": [],
   "source": [
    "df5.columns = [\"index\", \"neighb\", \"revs\", \"cat\"]#, \"neighb2\"]#, \"words\"]"
   ]
  },
  {
   "cell_type": "code",
   "execution_count": 87,
   "metadata": {},
   "outputs": [],
   "source": [
    "df5[\"words\"] = 0"
   ]
  },
  {
   "cell_type": "code",
   "execution_count": 228,
   "metadata": {},
   "outputs": [],
   "source": [
    "df5.loc[df5[\"cat\"]==0, \"words\"] = str(topic_words3[0])"
   ]
  },
  {
   "cell_type": "code",
   "execution_count": 132,
   "metadata": {},
   "outputs": [],
   "source": [
    "import ast"
   ]
  },
  {
   "cell_type": "code",
   "execution_count": 130,
   "metadata": {},
   "outputs": [],
   "source": [
    "def get_attributes(x):\n",
    "    x = list(df5[df5[\"neighb2\"]==x][\"words\"].values)[0]\n",
    "    x = ast.literal_eval(x)\n",
    "    return x"
   ]
  },
  {
   "cell_type": "code",
   "execution_count": 255,
   "metadata": {},
   "outputs": [
    {
     "data": {
      "text/plain": [
       "['Nature',\n",
       " 'Brownstone',\n",
       " 'Hudson',\n",
       " 'Zabar',\n",
       " 'Columbia',\n",
       " 'River',\n",
       " 'Circle',\n",
       " 'Dakota',\n",
       " 'Residential',\n",
       " 'Lennon']"
      ]
     },
     "execution_count": 255,
     "metadata": {},
     "output_type": "execute_result"
    }
   ],
   "source": [
    "get_attributes(\"Upper West Side\")"
   ]
  },
  {
   "cell_type": "code",
   "execution_count": 88,
   "metadata": {},
   "outputs": [],
   "source": [
    "for i in range(0,27):\n",
    "#     df5.loc[df5[\"cat\"]==i, \"words\"] = topic_words3[i]\n",
    "    df5.loc[df5[\"cat\"]==i, \"words\"] = str(topic_words3[i])"
   ]
  },
  {
   "cell_type": "markdown",
   "metadata": {},
   "source": [
    "## Combine Review Clusters by Neighborhood"
   ]
  },
  {
   "cell_type": "markdown",
   "metadata": {},
   "source": [
    "\n",
    "### Categories\n",
    "1. park\n",
    "2. store, shopping\n",
    "3. views\n",
    "4. bars/ going out\n",
    "5. beautiful/ picturesque\n",
    "6. busy, bustling\n",
    "7. historical\n",
    "8. cool, trendy 13. vibe, young\n",
    "9. RECATEGORIZE\n",
    "10. architecture\n",
    "11. museum\n",
    "12. art galleries\n",
    "13. vibe, young\n",
    "14. relax"
   ]
  },
  {
   "cell_type": "code",
   "execution_count": 137,
   "metadata": {},
   "outputs": [
    {
     "data": {
      "text/plain": [
       "(15454, 14)"
      ]
     },
     "execution_count": 137,
     "metadata": {},
     "output_type": "execute_result"
    }
   ],
   "source": [
    "nmf_vecs.shape"
   ]
  },
  {
   "cell_type": "code",
   "execution_count": 138,
   "metadata": {},
   "outputs": [
    {
     "data": {
      "text/plain": [
       "(15454, 11)"
      ]
     },
     "execution_count": 138,
     "metadata": {},
     "output_type": "execute_result"
    }
   ],
   "source": [
    "df2.shape"
   ]
  },
  {
   "cell_type": "code",
   "execution_count": 139,
   "metadata": {},
   "outputs": [],
   "source": [
    "bad_indexes = df2[df2[0]==8].index"
   ]
  },
  {
   "cell_type": "code",
   "execution_count": 140,
   "metadata": {},
   "outputs": [
    {
     "data": {
      "text/plain": [
       "Int64Index([    1,     5,     8,     9,    11,    13,    16,    17,    21,\n",
       "               23,\n",
       "            ...\n",
       "            15429, 15433, 15434, 15436, 15439, 15440, 15446, 15449, 15450,\n",
       "            15452],\n",
       "           dtype='int64', length=5876)"
      ]
     },
     "execution_count": 140,
     "metadata": {},
     "output_type": "execute_result"
    }
   ],
   "source": [
    "bad_indexes"
   ]
  },
  {
   "cell_type": "code",
   "execution_count": 141,
   "metadata": {},
   "outputs": [],
   "source": [
    "nmf_df = pd.DataFrame(nmf_vecs)"
   ]
  },
  {
   "cell_type": "code",
   "execution_count": 142,
   "metadata": {},
   "outputs": [],
   "source": [
    "nmf_df.reset_index(inplace=True)"
   ]
  },
  {
   "cell_type": "code",
   "execution_count": 143,
   "metadata": {},
   "outputs": [],
   "source": [
    "df_filters = df2[~(df2[\"index\"].isin(bad_indexes))]"
   ]
  },
  {
   "cell_type": "code",
   "execution_count": 144,
   "metadata": {},
   "outputs": [
    {
     "data": {
      "text/plain": [
       "(9578, 11)"
      ]
     },
     "execution_count": 144,
     "metadata": {},
     "output_type": "execute_result"
    }
   ],
   "source": [
    "df_filters.shape"
   ]
  },
  {
   "cell_type": "code",
   "execution_count": 145,
   "metadata": {},
   "outputs": [],
   "source": [
    "nmf_filtered = nmf_df[~nmf_df[\"index\"].isin(bad_indexes)]"
   ]
  },
  {
   "cell_type": "code",
   "execution_count": 146,
   "metadata": {},
   "outputs": [
    {
     "data": {
      "text/plain": [
       "(9578, 15)"
      ]
     },
     "execution_count": 146,
     "metadata": {},
     "output_type": "execute_result"
    }
   ],
   "source": [
    "nmf_filtered.shape"
   ]
  },
  {
   "cell_type": "code",
   "execution_count": 147,
   "metadata": {},
   "outputs": [
    {
     "data": {
      "text/plain": [
       "Int64Index([    0,     2,     3,     4,     6,     7,    10,    12,    14,\n",
       "               15,\n",
       "            ...\n",
       "            15438, 15441, 15442, 15443, 15444, 15445, 15447, 15448, 15451,\n",
       "            15453],\n",
       "           dtype='int64', length=9578)"
      ]
     },
     "execution_count": 147,
     "metadata": {},
     "output_type": "execute_result"
    }
   ],
   "source": [
    "nmf_filtered.index"
   ]
  },
  {
   "cell_type": "code",
   "execution_count": 148,
   "metadata": {},
   "outputs": [
    {
     "name": "stderr",
     "output_type": "stream",
     "text": [
      "/Users/elizabethoriordan/anaconda3/lib/python3.6/site-packages/ipykernel_launcher.py:1: SettingWithCopyWarning: \n",
      "A value is trying to be set on a copy of a slice from a DataFrame.\n",
      "Try using .loc[row_indexer,col_indexer] = value instead\n",
      "\n",
      "See the caveats in the documentation: http://pandas.pydata.org/pandas-docs/stable/indexing.html#indexing-view-versus-copy\n",
      "  \"\"\"Entry point for launching an IPython kernel.\n"
     ]
    }
   ],
   "source": [
    "nmf_filtered[8]=0"
   ]
  },
  {
   "cell_type": "code",
   "execution_count": 149,
   "metadata": {},
   "outputs": [],
   "source": [
    "import numpy as np"
   ]
  },
  {
   "cell_type": "code",
   "execution_count": 150,
   "metadata": {},
   "outputs": [],
   "source": [
    "nmf_vecs_clean = np.array(nmf_filtered.drop(\"index\", axis=1))"
   ]
  },
  {
   "cell_type": "code",
   "execution_count": 151,
   "metadata": {},
   "outputs": [
    {
     "data": {
      "text/plain": [
       "(9578, 14)"
      ]
     },
     "execution_count": 151,
     "metadata": {},
     "output_type": "execute_result"
    }
   ],
   "source": [
    "nmf_vecs_clean.shape"
   ]
  },
  {
   "cell_type": "code",
   "execution_count": 152,
   "metadata": {},
   "outputs": [
    {
     "data": {
      "text/plain": [
       "(9578, 11)"
      ]
     },
     "execution_count": 152,
     "metadata": {},
     "output_type": "execute_result"
    }
   ],
   "source": [
    "df_filters.shape"
   ]
  },
  {
   "cell_type": "code",
   "execution_count": 153,
   "metadata": {},
   "outputs": [],
   "source": [
    "my_neighbs = list(df_filters.neighb.unique())"
   ]
  },
  {
   "cell_type": "code",
   "execution_count": 154,
   "metadata": {},
   "outputs": [
    {
     "data": {
      "text/plain": [
       "['chelsea',\n",
       " 'chinatown',\n",
       " 'east_village',\n",
       " 'fidi',\n",
       " 'fifth_ave',\n",
       " 'greenwich_village',\n",
       " 'harlem',\n",
       " 'soho',\n",
       " 'times_sq',\n",
       " 'tribeca',\n",
       " 'union_sq',\n",
       " 'ues',\n",
       " 'uws',\n",
       " 'west_village',\n",
       " 'williamsburg',\n",
       " 'castro',\n",
       " 'chinatown_sf',\n",
       " 'embarcadero',\n",
       " 'fisherman_wharf',\n",
       " 'haight_ashbury',\n",
       " 'mission_district',\n",
       " 'nob_hill',\n",
       " 'north_becah',\n",
       " 'pacific_heights',\n",
       " 'presidio',\n",
       " 'soma',\n",
       " 'union_sq_sf']"
      ]
     },
     "execution_count": 154,
     "metadata": {},
     "output_type": "execute_result"
    }
   ],
   "source": [
    "my_neighbs"
   ]
  },
  {
   "cell_type": "code",
   "execution_count": 155,
   "metadata": {},
   "outputs": [],
   "source": [
    "my_neighbs_dict = {}"
   ]
  },
  {
   "cell_type": "code",
   "execution_count": 156,
   "metadata": {},
   "outputs": [],
   "source": [
    "df_filters.reset_index(inplace=True)"
   ]
  },
  {
   "cell_type": "code",
   "execution_count": 157,
   "metadata": {},
   "outputs": [],
   "source": [
    "for i in my_neighbs:\n",
    "    my_neighbs_dict[i] = [df_filters[df_filters[\"neighb\"]==i].index[0],df_filters[df_filters[\"neighb\"]==i].index[-1]]"
   ]
  },
  {
   "cell_type": "code",
   "execution_count": 158,
   "metadata": {},
   "outputs": [
    {
     "data": {
      "text/plain": [
       "{'castro': [5335, 5621],\n",
       " 'chelsea': [0, 133],\n",
       " 'chinatown': [134, 446],\n",
       " 'chinatown_sf': [5622, 6088],\n",
       " 'east_village': [447, 550],\n",
       " 'embarcadero': [6089, 6477],\n",
       " 'fidi': [551, 986],\n",
       " 'fifth_ave': [987, 1286],\n",
       " 'fisherman_wharf': [6478, 6975],\n",
       " 'greenwich_village': [1287, 2037],\n",
       " 'haight_ashbury': [6976, 7602],\n",
       " 'harlem': [2038, 2211],\n",
       " 'mission_district': [7603, 7838],\n",
       " 'nob_hill': [7839, 7941],\n",
       " 'north_becah': [7942, 8050],\n",
       " 'pacific_heights': [8051, 8106],\n",
       " 'presidio': [8107, 8985],\n",
       " 'soho': [2212, 2896],\n",
       " 'soma': [8986, 9006],\n",
       " 'times_sq': [2897, 3350],\n",
       " 'tribeca': [3351, 3431],\n",
       " 'ues': [3874, 3963],\n",
       " 'union_sq': [3432, 3873],\n",
       " 'union_sq_sf': [9007, 9577],\n",
       " 'uws': [3964, 4274],\n",
       " 'west_village': [4275, 4822],\n",
       " 'williamsburg': [4823, 5334]}"
      ]
     },
     "execution_count": 158,
     "metadata": {},
     "output_type": "execute_result"
    }
   ],
   "source": [
    "my_neighbs_dict"
   ]
  },
  {
   "cell_type": "code",
   "execution_count": 159,
   "metadata": {},
   "outputs": [
    {
     "data": {
      "text/plain": [
       "dict_keys(['chelsea', 'chinatown', 'east_village', 'fidi', 'fifth_ave', 'greenwich_village', 'harlem', 'soho', 'times_sq', 'tribeca', 'union_sq', 'ues', 'uws', 'west_village', 'williamsburg', 'castro', 'chinatown_sf', 'embarcadero', 'fisherman_wharf', 'haight_ashbury', 'mission_district', 'nob_hill', 'north_becah', 'pacific_heights', 'presidio', 'soma', 'union_sq_sf'])"
      ]
     },
     "execution_count": 159,
     "metadata": {},
     "output_type": "execute_result"
    }
   ],
   "source": [
    "my_neighbs_dict.keys()"
   ]
  },
  {
   "cell_type": "code",
   "execution_count": 160,
   "metadata": {},
   "outputs": [],
   "source": [
    "my_neighb_avg = {}"
   ]
  },
  {
   "cell_type": "code",
   "execution_count": 161,
   "metadata": {},
   "outputs": [
    {
     "data": {
      "text/plain": [
       "133"
      ]
     },
     "execution_count": 161,
     "metadata": {},
     "output_type": "execute_result"
    }
   ],
   "source": [
    "my_neighbs_dict[\"chelsea\"][1]"
   ]
  },
  {
   "cell_type": "code",
   "execution_count": 162,
   "metadata": {},
   "outputs": [
    {
     "data": {
      "text/plain": [
       "[0, 133]"
      ]
     },
     "execution_count": 162,
     "metadata": {},
     "output_type": "execute_result"
    }
   ],
   "source": [
    "my_neighbs_dict[\"chelsea\"]"
   ]
  },
  {
   "cell_type": "code",
   "execution_count": 163,
   "metadata": {},
   "outputs": [
    {
     "data": {
      "text/plain": [
       "array([0.00984984, 0.01125834, 0.0040928 , 0.02208379, 0.00932467,\n",
       "       0.0048427 , 0.00403933, 0.01067217, 0.        , 0.00705729,\n",
       "       0.00692212, 0.04758333, 0.00912378, 0.00457576])"
      ]
     },
     "execution_count": 163,
     "metadata": {},
     "output_type": "execute_result"
    }
   ],
   "source": [
    "np.mean(nmf_vecs_clean[my_neighbs_dict[\"chelsea\"][0]:my_neighbs_dict[\"chelsea\"][1]], axis=0)"
   ]
  },
  {
   "cell_type": "code",
   "execution_count": 164,
   "metadata": {},
   "outputs": [],
   "source": [
    "for x in my_neighbs:\n",
    "    my_neighb_avg[x] = np.mean(nmf_vecs_clean[(my_neighbs_dict[x][0]):(my_neighbs_dict[x][1]+1)],axis=0)"
   ]
  },
  {
   "cell_type": "code",
   "execution_count": 165,
   "metadata": {},
   "outputs": [],
   "source": [
    "rec_df = pd.DataFrame(my_neighb_avg).transpose()"
   ]
  },
  {
   "cell_type": "code",
   "execution_count": 166,
   "metadata": {},
   "outputs": [
    {
     "data": {
      "text/html": [
       "<div>\n",
       "<style scoped>\n",
       "    .dataframe tbody tr th:only-of-type {\n",
       "        vertical-align: middle;\n",
       "    }\n",
       "\n",
       "    .dataframe tbody tr th {\n",
       "        vertical-align: top;\n",
       "    }\n",
       "\n",
       "    .dataframe thead th {\n",
       "        text-align: right;\n",
       "    }\n",
       "</style>\n",
       "<table border=\"1\" class=\"dataframe\">\n",
       "  <thead>\n",
       "    <tr style=\"text-align: right;\">\n",
       "      <th></th>\n",
       "      <th>0</th>\n",
       "      <th>1</th>\n",
       "      <th>2</th>\n",
       "      <th>3</th>\n",
       "      <th>4</th>\n",
       "      <th>5</th>\n",
       "      <th>6</th>\n",
       "      <th>7</th>\n",
       "      <th>8</th>\n",
       "      <th>9</th>\n",
       "      <th>10</th>\n",
       "      <th>11</th>\n",
       "      <th>12</th>\n",
       "      <th>13</th>\n",
       "    </tr>\n",
       "  </thead>\n",
       "  <tbody>\n",
       "    <tr>\n",
       "      <th>castro</th>\n",
       "      <td>0.002475</td>\n",
       "      <td>0.017854</td>\n",
       "      <td>0.003422</td>\n",
       "      <td>0.042867</td>\n",
       "      <td>0.007340</td>\n",
       "      <td>0.007303</td>\n",
       "      <td>0.032051</td>\n",
       "      <td>0.009384</td>\n",
       "      <td>0.0</td>\n",
       "      <td>0.004652</td>\n",
       "      <td>0.010623</td>\n",
       "      <td>0.003441</td>\n",
       "      <td>0.012923</td>\n",
       "      <td>0.009978</td>\n",
       "    </tr>\n",
       "    <tr>\n",
       "      <th>chelsea</th>\n",
       "      <td>0.009784</td>\n",
       "      <td>0.011174</td>\n",
       "      <td>0.004087</td>\n",
       "      <td>0.021919</td>\n",
       "      <td>0.009285</td>\n",
       "      <td>0.004814</td>\n",
       "      <td>0.004028</td>\n",
       "      <td>0.010593</td>\n",
       "      <td>0.0</td>\n",
       "      <td>0.007005</td>\n",
       "      <td>0.006999</td>\n",
       "      <td>0.047239</td>\n",
       "      <td>0.009059</td>\n",
       "      <td>0.004559</td>\n",
       "    </tr>\n",
       "    <tr>\n",
       "      <th>chinatown</th>\n",
       "      <td>0.009005</td>\n",
       "      <td>0.027895</td>\n",
       "      <td>0.001599</td>\n",
       "      <td>0.001508</td>\n",
       "      <td>0.004317</td>\n",
       "      <td>0.025329</td>\n",
       "      <td>0.004274</td>\n",
       "      <td>0.008867</td>\n",
       "      <td>0.0</td>\n",
       "      <td>0.003058</td>\n",
       "      <td>0.004668</td>\n",
       "      <td>0.002940</td>\n",
       "      <td>0.003480</td>\n",
       "      <td>0.005393</td>\n",
       "    </tr>\n",
       "    <tr>\n",
       "      <th>chinatown_sf</th>\n",
       "      <td>0.005209</td>\n",
       "      <td>0.035232</td>\n",
       "      <td>0.002748</td>\n",
       "      <td>0.003972</td>\n",
       "      <td>0.008439</td>\n",
       "      <td>0.018004</td>\n",
       "      <td>0.009047</td>\n",
       "      <td>0.014086</td>\n",
       "      <td>0.0</td>\n",
       "      <td>0.013815</td>\n",
       "      <td>0.003834</td>\n",
       "      <td>0.007981</td>\n",
       "      <td>0.002237</td>\n",
       "      <td>0.005072</td>\n",
       "    </tr>\n",
       "    <tr>\n",
       "      <th>east_village</th>\n",
       "      <td>0.009508</td>\n",
       "      <td>0.015481</td>\n",
       "      <td>0.002404</td>\n",
       "      <td>0.046174</td>\n",
       "      <td>0.006868</td>\n",
       "      <td>0.006077</td>\n",
       "      <td>0.008556</td>\n",
       "      <td>0.021171</td>\n",
       "      <td>0.0</td>\n",
       "      <td>0.005067</td>\n",
       "      <td>0.016490</td>\n",
       "      <td>0.015945</td>\n",
       "      <td>0.009301</td>\n",
       "      <td>0.007222</td>\n",
       "    </tr>\n",
       "    <tr>\n",
       "      <th>embarcadero</th>\n",
       "      <td>0.009440</td>\n",
       "      <td>0.007821</td>\n",
       "      <td>0.047745</td>\n",
       "      <td>0.008752</td>\n",
       "      <td>0.018391</td>\n",
       "      <td>0.011522</td>\n",
       "      <td>0.002811</td>\n",
       "      <td>0.005583</td>\n",
       "      <td>0.0</td>\n",
       "      <td>0.002667</td>\n",
       "      <td>0.007655</td>\n",
       "      <td>0.005514</td>\n",
       "      <td>0.001820</td>\n",
       "      <td>0.008424</td>\n",
       "    </tr>\n",
       "    <tr>\n",
       "      <th>fidi</th>\n",
       "      <td>0.022623</td>\n",
       "      <td>0.003208</td>\n",
       "      <td>0.026636</td>\n",
       "      <td>0.008132</td>\n",
       "      <td>0.012787</td>\n",
       "      <td>0.013333</td>\n",
       "      <td>0.011637</td>\n",
       "      <td>0.005711</td>\n",
       "      <td>0.0</td>\n",
       "      <td>0.007309</td>\n",
       "      <td>0.023016</td>\n",
       "      <td>0.002344</td>\n",
       "      <td>0.001170</td>\n",
       "      <td>0.004435</td>\n",
       "    </tr>\n",
       "    <tr>\n",
       "      <th>fifth_ave</th>\n",
       "      <td>0.013542</td>\n",
       "      <td>0.051474</td>\n",
       "      <td>0.003350</td>\n",
       "      <td>0.002229</td>\n",
       "      <td>0.016041</td>\n",
       "      <td>0.013759</td>\n",
       "      <td>0.001766</td>\n",
       "      <td>0.003308</td>\n",
       "      <td>0.0</td>\n",
       "      <td>0.008673</td>\n",
       "      <td>0.010920</td>\n",
       "      <td>0.004613</td>\n",
       "      <td>0.002337</td>\n",
       "      <td>0.001349</td>\n",
       "    </tr>\n",
       "    <tr>\n",
       "      <th>fisherman_wharf</th>\n",
       "      <td>0.006369</td>\n",
       "      <td>0.009872</td>\n",
       "      <td>0.030416</td>\n",
       "      <td>0.010704</td>\n",
       "      <td>0.006868</td>\n",
       "      <td>0.019607</td>\n",
       "      <td>0.003533</td>\n",
       "      <td>0.005997</td>\n",
       "      <td>0.0</td>\n",
       "      <td>0.000585</td>\n",
       "      <td>0.015661</td>\n",
       "      <td>0.002566</td>\n",
       "      <td>0.003179</td>\n",
       "      <td>0.007576</td>\n",
       "    </tr>\n",
       "    <tr>\n",
       "      <th>greenwich_village</th>\n",
       "      <td>0.022281</td>\n",
       "      <td>0.006999</td>\n",
       "      <td>0.002703</td>\n",
       "      <td>0.024637</td>\n",
       "      <td>0.017807</td>\n",
       "      <td>0.006769</td>\n",
       "      <td>0.011533</td>\n",
       "      <td>0.011507</td>\n",
       "      <td>0.0</td>\n",
       "      <td>0.011685</td>\n",
       "      <td>0.003564</td>\n",
       "      <td>0.005384</td>\n",
       "      <td>0.009354</td>\n",
       "      <td>0.017737</td>\n",
       "    </tr>\n",
       "    <tr>\n",
       "      <th>haight_ashbury</th>\n",
       "      <td>0.012482</td>\n",
       "      <td>0.032756</td>\n",
       "      <td>0.002270</td>\n",
       "      <td>0.008298</td>\n",
       "      <td>0.007381</td>\n",
       "      <td>0.002776</td>\n",
       "      <td>0.020973</td>\n",
       "      <td>0.024465</td>\n",
       "      <td>0.0</td>\n",
       "      <td>0.006970</td>\n",
       "      <td>0.003439</td>\n",
       "      <td>0.007140</td>\n",
       "      <td>0.024887</td>\n",
       "      <td>0.005961</td>\n",
       "    </tr>\n",
       "    <tr>\n",
       "      <th>harlem</th>\n",
       "      <td>0.011373</td>\n",
       "      <td>0.006846</td>\n",
       "      <td>0.003787</td>\n",
       "      <td>0.007512</td>\n",
       "      <td>0.016285</td>\n",
       "      <td>0.009873</td>\n",
       "      <td>0.039981</td>\n",
       "      <td>0.005200</td>\n",
       "      <td>0.0</td>\n",
       "      <td>0.014265</td>\n",
       "      <td>0.015688</td>\n",
       "      <td>0.003630</td>\n",
       "      <td>0.007572</td>\n",
       "      <td>0.004161</td>\n",
       "    </tr>\n",
       "    <tr>\n",
       "      <th>mission_district</th>\n",
       "      <td>0.006490</td>\n",
       "      <td>0.012496</td>\n",
       "      <td>0.002350</td>\n",
       "      <td>0.014161</td>\n",
       "      <td>0.009344</td>\n",
       "      <td>0.002375</td>\n",
       "      <td>0.006325</td>\n",
       "      <td>0.016972</td>\n",
       "      <td>0.0</td>\n",
       "      <td>0.006015</td>\n",
       "      <td>0.002061</td>\n",
       "      <td>0.059327</td>\n",
       "      <td>0.010580</td>\n",
       "      <td>0.005342</td>\n",
       "    </tr>\n",
       "    <tr>\n",
       "      <th>nob_hill</th>\n",
       "      <td>0.009982</td>\n",
       "      <td>0.000849</td>\n",
       "      <td>0.057683</td>\n",
       "      <td>0.007093</td>\n",
       "      <td>0.037367</td>\n",
       "      <td>0.002419</td>\n",
       "      <td>0.010026</td>\n",
       "      <td>0.000176</td>\n",
       "      <td>0.0</td>\n",
       "      <td>0.028095</td>\n",
       "      <td>0.009400</td>\n",
       "      <td>0.002290</td>\n",
       "      <td>0.000351</td>\n",
       "      <td>0.005363</td>\n",
       "    </tr>\n",
       "    <tr>\n",
       "      <th>north_becah</th>\n",
       "      <td>0.009621</td>\n",
       "      <td>0.013582</td>\n",
       "      <td>0.014427</td>\n",
       "      <td>0.018396</td>\n",
       "      <td>0.012820</td>\n",
       "      <td>0.004871</td>\n",
       "      <td>0.009201</td>\n",
       "      <td>0.009902</td>\n",
       "      <td>0.0</td>\n",
       "      <td>0.008630</td>\n",
       "      <td>0.005652</td>\n",
       "      <td>0.002752</td>\n",
       "      <td>0.007231</td>\n",
       "      <td>0.009096</td>\n",
       "    </tr>\n",
       "    <tr>\n",
       "      <th>pacific_heights</th>\n",
       "      <td>0.013607</td>\n",
       "      <td>0.001096</td>\n",
       "      <td>0.061485</td>\n",
       "      <td>0.000341</td>\n",
       "      <td>0.056278</td>\n",
       "      <td>0.001505</td>\n",
       "      <td>0.005743</td>\n",
       "      <td>0.006459</td>\n",
       "      <td>0.0</td>\n",
       "      <td>0.039820</td>\n",
       "      <td>0.005714</td>\n",
       "      <td>0.004541</td>\n",
       "      <td>0.000072</td>\n",
       "      <td>0.007696</td>\n",
       "    </tr>\n",
       "    <tr>\n",
       "      <th>presidio</th>\n",
       "      <td>0.018638</td>\n",
       "      <td>0.000262</td>\n",
       "      <td>0.055205</td>\n",
       "      <td>0.001123</td>\n",
       "      <td>0.034205</td>\n",
       "      <td>0.003625</td>\n",
       "      <td>0.022761</td>\n",
       "      <td>0.003257</td>\n",
       "      <td>0.0</td>\n",
       "      <td>0.003929</td>\n",
       "      <td>0.032947</td>\n",
       "      <td>0.006351</td>\n",
       "      <td>0.000509</td>\n",
       "      <td>0.011212</td>\n",
       "    </tr>\n",
       "    <tr>\n",
       "      <th>soho</th>\n",
       "      <td>0.002428</td>\n",
       "      <td>0.036889</td>\n",
       "      <td>0.002318</td>\n",
       "      <td>0.016304</td>\n",
       "      <td>0.014465</td>\n",
       "      <td>0.006513</td>\n",
       "      <td>0.003653</td>\n",
       "      <td>0.014092</td>\n",
       "      <td>0.0</td>\n",
       "      <td>0.020538</td>\n",
       "      <td>0.003231</td>\n",
       "      <td>0.025037</td>\n",
       "      <td>0.008304</td>\n",
       "      <td>0.008540</td>\n",
       "    </tr>\n",
       "    <tr>\n",
       "      <th>soma</th>\n",
       "      <td>0.025506</td>\n",
       "      <td>0.011763</td>\n",
       "      <td>0.003376</td>\n",
       "      <td>0.027233</td>\n",
       "      <td>0.006171</td>\n",
       "      <td>0.005390</td>\n",
       "      <td>0.000538</td>\n",
       "      <td>0.019766</td>\n",
       "      <td>0.0</td>\n",
       "      <td>0.000488</td>\n",
       "      <td>0.066026</td>\n",
       "      <td>0.033195</td>\n",
       "      <td>0.000795</td>\n",
       "      <td>0.005544</td>\n",
       "    </tr>\n",
       "    <tr>\n",
       "      <th>times_sq</th>\n",
       "      <td>0.000928</td>\n",
       "      <td>0.015155</td>\n",
       "      <td>0.006407</td>\n",
       "      <td>0.007131</td>\n",
       "      <td>0.008014</td>\n",
       "      <td>0.062013</td>\n",
       "      <td>0.000438</td>\n",
       "      <td>0.006700</td>\n",
       "      <td>0.0</td>\n",
       "      <td>0.000666</td>\n",
       "      <td>0.002270</td>\n",
       "      <td>0.001889</td>\n",
       "      <td>0.008108</td>\n",
       "      <td>0.004593</td>\n",
       "    </tr>\n",
       "    <tr>\n",
       "      <th>tribeca</th>\n",
       "      <td>0.011121</td>\n",
       "      <td>0.006329</td>\n",
       "      <td>0.006882</td>\n",
       "      <td>0.015174</td>\n",
       "      <td>0.011084</td>\n",
       "      <td>0.014740</td>\n",
       "      <td>0.007430</td>\n",
       "      <td>0.013117</td>\n",
       "      <td>0.0</td>\n",
       "      <td>0.019479</td>\n",
       "      <td>0.006110</td>\n",
       "      <td>0.018127</td>\n",
       "      <td>0.004326</td>\n",
       "      <td>0.006561</td>\n",
       "    </tr>\n",
       "    <tr>\n",
       "      <th>ues</th>\n",
       "      <td>0.029251</td>\n",
       "      <td>0.015666</td>\n",
       "      <td>0.005197</td>\n",
       "      <td>0.003951</td>\n",
       "      <td>0.026294</td>\n",
       "      <td>0.003543</td>\n",
       "      <td>0.002315</td>\n",
       "      <td>0.001295</td>\n",
       "      <td>0.0</td>\n",
       "      <td>0.012675</td>\n",
       "      <td>0.069176</td>\n",
       "      <td>0.013722</td>\n",
       "      <td>0.002899</td>\n",
       "      <td>0.005321</td>\n",
       "    </tr>\n",
       "    <tr>\n",
       "      <th>union_sq</th>\n",
       "      <td>0.035629</td>\n",
       "      <td>0.014591</td>\n",
       "      <td>0.003887</td>\n",
       "      <td>0.003175</td>\n",
       "      <td>0.011085</td>\n",
       "      <td>0.009554</td>\n",
       "      <td>0.003179</td>\n",
       "      <td>0.007725</td>\n",
       "      <td>0.0</td>\n",
       "      <td>0.000874</td>\n",
       "      <td>0.001775</td>\n",
       "      <td>0.005020</td>\n",
       "      <td>0.003780</td>\n",
       "      <td>0.023707</td>\n",
       "    </tr>\n",
       "    <tr>\n",
       "      <th>union_sq_sf</th>\n",
       "      <td>0.007813</td>\n",
       "      <td>0.042536</td>\n",
       "      <td>0.007597</td>\n",
       "      <td>0.005393</td>\n",
       "      <td>0.013556</td>\n",
       "      <td>0.010849</td>\n",
       "      <td>0.003753</td>\n",
       "      <td>0.006698</td>\n",
       "      <td>0.0</td>\n",
       "      <td>0.005480</td>\n",
       "      <td>0.002289</td>\n",
       "      <td>0.014672</td>\n",
       "      <td>0.003357</td>\n",
       "      <td>0.018581</td>\n",
       "    </tr>\n",
       "    <tr>\n",
       "      <th>uws</th>\n",
       "      <td>0.032219</td>\n",
       "      <td>0.011156</td>\n",
       "      <td>0.003765</td>\n",
       "      <td>0.011514</td>\n",
       "      <td>0.020881</td>\n",
       "      <td>0.005214</td>\n",
       "      <td>0.015257</td>\n",
       "      <td>0.002823</td>\n",
       "      <td>0.0</td>\n",
       "      <td>0.018950</td>\n",
       "      <td>0.032525</td>\n",
       "      <td>0.005364</td>\n",
       "      <td>0.006938</td>\n",
       "      <td>0.010619</td>\n",
       "    </tr>\n",
       "    <tr>\n",
       "      <th>west_village</th>\n",
       "      <td>0.008875</td>\n",
       "      <td>0.008433</td>\n",
       "      <td>0.002173</td>\n",
       "      <td>0.029194</td>\n",
       "      <td>0.021581</td>\n",
       "      <td>0.008353</td>\n",
       "      <td>0.011522</td>\n",
       "      <td>0.005017</td>\n",
       "      <td>0.0</td>\n",
       "      <td>0.018891</td>\n",
       "      <td>0.005274</td>\n",
       "      <td>0.006781</td>\n",
       "      <td>0.011128</td>\n",
       "      <td>0.010460</td>\n",
       "    </tr>\n",
       "    <tr>\n",
       "      <th>williamsburg</th>\n",
       "      <td>0.006727</td>\n",
       "      <td>0.013986</td>\n",
       "      <td>0.013799</td>\n",
       "      <td>0.043279</td>\n",
       "      <td>0.005268</td>\n",
       "      <td>0.005126</td>\n",
       "      <td>0.001520</td>\n",
       "      <td>0.025767</td>\n",
       "      <td>0.0</td>\n",
       "      <td>0.002303</td>\n",
       "      <td>0.002970</td>\n",
       "      <td>0.015197</td>\n",
       "      <td>0.013721</td>\n",
       "      <td>0.010435</td>\n",
       "    </tr>\n",
       "  </tbody>\n",
       "</table>\n",
       "</div>"
      ],
      "text/plain": [
       "                         0         1         2         3         4         5   \\\n",
       "castro             0.002475  0.017854  0.003422  0.042867  0.007340  0.007303   \n",
       "chelsea            0.009784  0.011174  0.004087  0.021919  0.009285  0.004814   \n",
       "chinatown          0.009005  0.027895  0.001599  0.001508  0.004317  0.025329   \n",
       "chinatown_sf       0.005209  0.035232  0.002748  0.003972  0.008439  0.018004   \n",
       "east_village       0.009508  0.015481  0.002404  0.046174  0.006868  0.006077   \n",
       "embarcadero        0.009440  0.007821  0.047745  0.008752  0.018391  0.011522   \n",
       "fidi               0.022623  0.003208  0.026636  0.008132  0.012787  0.013333   \n",
       "fifth_ave          0.013542  0.051474  0.003350  0.002229  0.016041  0.013759   \n",
       "fisherman_wharf    0.006369  0.009872  0.030416  0.010704  0.006868  0.019607   \n",
       "greenwich_village  0.022281  0.006999  0.002703  0.024637  0.017807  0.006769   \n",
       "haight_ashbury     0.012482  0.032756  0.002270  0.008298  0.007381  0.002776   \n",
       "harlem             0.011373  0.006846  0.003787  0.007512  0.016285  0.009873   \n",
       "mission_district   0.006490  0.012496  0.002350  0.014161  0.009344  0.002375   \n",
       "nob_hill           0.009982  0.000849  0.057683  0.007093  0.037367  0.002419   \n",
       "north_becah        0.009621  0.013582  0.014427  0.018396  0.012820  0.004871   \n",
       "pacific_heights    0.013607  0.001096  0.061485  0.000341  0.056278  0.001505   \n",
       "presidio           0.018638  0.000262  0.055205  0.001123  0.034205  0.003625   \n",
       "soho               0.002428  0.036889  0.002318  0.016304  0.014465  0.006513   \n",
       "soma               0.025506  0.011763  0.003376  0.027233  0.006171  0.005390   \n",
       "times_sq           0.000928  0.015155  0.006407  0.007131  0.008014  0.062013   \n",
       "tribeca            0.011121  0.006329  0.006882  0.015174  0.011084  0.014740   \n",
       "ues                0.029251  0.015666  0.005197  0.003951  0.026294  0.003543   \n",
       "union_sq           0.035629  0.014591  0.003887  0.003175  0.011085  0.009554   \n",
       "union_sq_sf        0.007813  0.042536  0.007597  0.005393  0.013556  0.010849   \n",
       "uws                0.032219  0.011156  0.003765  0.011514  0.020881  0.005214   \n",
       "west_village       0.008875  0.008433  0.002173  0.029194  0.021581  0.008353   \n",
       "williamsburg       0.006727  0.013986  0.013799  0.043279  0.005268  0.005126   \n",
       "\n",
       "                         6         7    8         9         10        11  \\\n",
       "castro             0.032051  0.009384  0.0  0.004652  0.010623  0.003441   \n",
       "chelsea            0.004028  0.010593  0.0  0.007005  0.006999  0.047239   \n",
       "chinatown          0.004274  0.008867  0.0  0.003058  0.004668  0.002940   \n",
       "chinatown_sf       0.009047  0.014086  0.0  0.013815  0.003834  0.007981   \n",
       "east_village       0.008556  0.021171  0.0  0.005067  0.016490  0.015945   \n",
       "embarcadero        0.002811  0.005583  0.0  0.002667  0.007655  0.005514   \n",
       "fidi               0.011637  0.005711  0.0  0.007309  0.023016  0.002344   \n",
       "fifth_ave          0.001766  0.003308  0.0  0.008673  0.010920  0.004613   \n",
       "fisherman_wharf    0.003533  0.005997  0.0  0.000585  0.015661  0.002566   \n",
       "greenwich_village  0.011533  0.011507  0.0  0.011685  0.003564  0.005384   \n",
       "haight_ashbury     0.020973  0.024465  0.0  0.006970  0.003439  0.007140   \n",
       "harlem             0.039981  0.005200  0.0  0.014265  0.015688  0.003630   \n",
       "mission_district   0.006325  0.016972  0.0  0.006015  0.002061  0.059327   \n",
       "nob_hill           0.010026  0.000176  0.0  0.028095  0.009400  0.002290   \n",
       "north_becah        0.009201  0.009902  0.0  0.008630  0.005652  0.002752   \n",
       "pacific_heights    0.005743  0.006459  0.0  0.039820  0.005714  0.004541   \n",
       "presidio           0.022761  0.003257  0.0  0.003929  0.032947  0.006351   \n",
       "soho               0.003653  0.014092  0.0  0.020538  0.003231  0.025037   \n",
       "soma               0.000538  0.019766  0.0  0.000488  0.066026  0.033195   \n",
       "times_sq           0.000438  0.006700  0.0  0.000666  0.002270  0.001889   \n",
       "tribeca            0.007430  0.013117  0.0  0.019479  0.006110  0.018127   \n",
       "ues                0.002315  0.001295  0.0  0.012675  0.069176  0.013722   \n",
       "union_sq           0.003179  0.007725  0.0  0.000874  0.001775  0.005020   \n",
       "union_sq_sf        0.003753  0.006698  0.0  0.005480  0.002289  0.014672   \n",
       "uws                0.015257  0.002823  0.0  0.018950  0.032525  0.005364   \n",
       "west_village       0.011522  0.005017  0.0  0.018891  0.005274  0.006781   \n",
       "williamsburg       0.001520  0.025767  0.0  0.002303  0.002970  0.015197   \n",
       "\n",
       "                         12        13  \n",
       "castro             0.012923  0.009978  \n",
       "chelsea            0.009059  0.004559  \n",
       "chinatown          0.003480  0.005393  \n",
       "chinatown_sf       0.002237  0.005072  \n",
       "east_village       0.009301  0.007222  \n",
       "embarcadero        0.001820  0.008424  \n",
       "fidi               0.001170  0.004435  \n",
       "fifth_ave          0.002337  0.001349  \n",
       "fisherman_wharf    0.003179  0.007576  \n",
       "greenwich_village  0.009354  0.017737  \n",
       "haight_ashbury     0.024887  0.005961  \n",
       "harlem             0.007572  0.004161  \n",
       "mission_district   0.010580  0.005342  \n",
       "nob_hill           0.000351  0.005363  \n",
       "north_becah        0.007231  0.009096  \n",
       "pacific_heights    0.000072  0.007696  \n",
       "presidio           0.000509  0.011212  \n",
       "soho               0.008304  0.008540  \n",
       "soma               0.000795  0.005544  \n",
       "times_sq           0.008108  0.004593  \n",
       "tribeca            0.004326  0.006561  \n",
       "ues                0.002899  0.005321  \n",
       "union_sq           0.003780  0.023707  \n",
       "union_sq_sf        0.003357  0.018581  \n",
       "uws                0.006938  0.010619  \n",
       "west_village       0.011128  0.010460  \n",
       "williamsburg       0.013721  0.010435  "
      ]
     },
     "execution_count": 166,
     "metadata": {},
     "output_type": "execute_result"
    }
   ],
   "source": [
    "rec_df"
   ]
  },
  {
   "cell_type": "code",
   "execution_count": 167,
   "metadata": {},
   "outputs": [
    {
     "data": {
      "text/plain": [
       "(9578, 14)"
      ]
     },
     "execution_count": 167,
     "metadata": {},
     "output_type": "execute_result"
    }
   ],
   "source": [
    "nmf_vecs_clean.shape"
   ]
  },
  {
   "cell_type": "code",
   "execution_count": 168,
   "metadata": {},
   "outputs": [
    {
     "data": {
      "text/plain": [
       "(27, 14)"
      ]
     },
     "execution_count": 168,
     "metadata": {},
     "output_type": "execute_result"
    }
   ],
   "source": [
    "rec_df.shape"
   ]
  },
  {
   "cell_type": "code",
   "execution_count": 169,
   "metadata": {},
   "outputs": [
    {
     "data": {
      "text/plain": [
       "(9578, 12)"
      ]
     },
     "execution_count": 169,
     "metadata": {},
     "output_type": "execute_result"
    }
   ],
   "source": [
    "df_filters.shape"
   ]
  },
  {
   "cell_type": "code",
   "execution_count": 170,
   "metadata": {},
   "outputs": [],
   "source": [
    "sf = ['castro','chinatown_sf',\n",
    "       'embarcadero','fisherman_wharf',\n",
    "       'haight_ashbury', 'mission_district',\n",
    "       'nob_hill', 'north_becah', 'pacific_heights', 'presidio',\n",
    "       'soma','union_sq_sf']\n",
    "\n"
   ]
  },
  {
   "cell_type": "code",
   "execution_count": 171,
   "metadata": {},
   "outputs": [
    {
     "data": {
      "text/plain": [
       "12"
      ]
     },
     "execution_count": 171,
     "metadata": {},
     "output_type": "execute_result"
    }
   ],
   "source": [
    "df2[df2[\"city\"]==\"SF\"].neighb.nunique()"
   ]
  },
  {
   "cell_type": "code",
   "execution_count": 191,
   "metadata": {},
   "outputs": [
    {
     "data": {
      "text/plain": [
       "['castro',\n",
       " 'chelsea',\n",
       " 'chinatown',\n",
       " 'chinatown_sf',\n",
       " 'east_village',\n",
       " 'embarcadero',\n",
       " 'fidi',\n",
       " 'fifth_ave',\n",
       " 'fisherman_wharf',\n",
       " 'greenwich_village',\n",
       " 'haight_ashbury',\n",
       " 'harlem',\n",
       " 'mission_district',\n",
       " 'nob_hill',\n",
       " 'north_becah',\n",
       " 'pacific_heights',\n",
       " 'presidio',\n",
       " 'soho',\n",
       " 'soma',\n",
       " 'times_sq',\n",
       " 'tribeca',\n",
       " 'ues',\n",
       " 'union_sq',\n",
       " 'union_sq_sf',\n",
       " 'uws',\n",
       " 'west_village',\n",
       " 'williamsburg']"
      ]
     },
     "execution_count": 191,
     "metadata": {},
     "output_type": "execute_result"
    }
   ],
   "source": [
    "['castro', 'chelsea', 'chinatown', 'chinatown_sf', 'east_village',\n",
    "       'embarcadero', 'fidi', 'fifth_ave', 'fisherman_wharf',\n",
    "       'greenwich_village', 'haight_ashbury', 'harlem', 'mission_district',\n",
    "       'nob_hill', 'north_becah', 'pacific_heights', 'presidio', 'soho',\n",
    "       'soma', 'times_sq', 'tribeca', 'ues', 'union_sq', 'union_sq_sf', 'uws',\n",
    "       'west_village', 'williamsburg']"
   ]
  },
  {
   "cell_type": "code",
   "execution_count": 172,
   "metadata": {},
   "outputs": [],
   "source": [
    "rec_df.loc[(rec_df.index.isin(sf)), \"city\"]= \"sf\"\n",
    "rec_df.loc[~(rec_df.index.isin(sf)), \"city\"]= \"ny\""
   ]
  },
  {
   "cell_type": "code",
   "execution_count": 173,
   "metadata": {},
   "outputs": [],
   "source": [
    "rec_ny = rec_df[rec_df[\"city\"]==\"ny\"]\n",
    "rec_sf = rec_df[rec_df[\"city\"]==\"sf\"]"
   ]
  },
  {
   "cell_type": "code",
   "execution_count": 174,
   "metadata": {},
   "outputs": [
    {
     "data": {
      "text/plain": [
       "(27, 15)"
      ]
     },
     "execution_count": 174,
     "metadata": {},
     "output_type": "execute_result"
    }
   ],
   "source": [
    "rec_df.shape"
   ]
  },
  {
   "cell_type": "code",
   "execution_count": 175,
   "metadata": {},
   "outputs": [
    {
     "data": {
      "text/plain": [
       "(15, 15)"
      ]
     },
     "execution_count": 175,
     "metadata": {},
     "output_type": "execute_result"
    }
   ],
   "source": [
    "rec_ny.shape"
   ]
  },
  {
   "cell_type": "code",
   "execution_count": 176,
   "metadata": {},
   "outputs": [
    {
     "data": {
      "text/plain": [
       "(12, 15)"
      ]
     },
     "execution_count": 176,
     "metadata": {},
     "output_type": "execute_result"
    }
   ],
   "source": [
    "rec_sf.shape"
   ]
  },
  {
   "cell_type": "code",
   "execution_count": 177,
   "metadata": {},
   "outputs": [],
   "source": [
    "rec_ny_arr = np.array(rec_ny[[0,1,2,3,4,5,6,7,8,9,10,11,12,13]])"
   ]
  },
  {
   "cell_type": "code",
   "execution_count": 178,
   "metadata": {},
   "outputs": [],
   "source": [
    "rec_sf_arr = np.array(rec_sf[[0,1,2,3,4,5,6,7,8,9,10,11,12,13]])"
   ]
  },
  {
   "cell_type": "code",
   "execution_count": 179,
   "metadata": {},
   "outputs": [
    {
     "data": {
      "text/plain": [
       "(12, 14)"
      ]
     },
     "execution_count": 179,
     "metadata": {},
     "output_type": "execute_result"
    }
   ],
   "source": [
    "rec_sf_arr.shape"
   ]
  },
  {
   "cell_type": "code",
   "execution_count": 180,
   "metadata": {},
   "outputs": [],
   "source": [
    "from sklearn.metrics.pairwise import linear_kernel\n",
    "\n",
    "#Compute the cosine similarity matrix of nmf vectors\n",
    "cosine_sim2 = linear_kernel(rec_ny_arr, rec_sf_arr)"
   ]
  },
  {
   "cell_type": "code",
   "execution_count": 181,
   "metadata": {},
   "outputs": [
    {
     "data": {
      "text/plain": [
       "(15, 12)"
      ]
     },
     "execution_count": 181,
     "metadata": {},
     "output_type": "execute_result"
    }
   ],
   "source": [
    "cosine_sim2.shape"
   ]
  },
  {
   "cell_type": "code",
   "execution_count": 182,
   "metadata": {},
   "outputs": [],
   "source": [
    "cosine_sim_df = pd.DataFrame(cosine_sim2)"
   ]
  },
  {
   "cell_type": "code",
   "execution_count": 183,
   "metadata": {},
   "outputs": [],
   "source": [
    "cosine_sim_df.columns = ['castro', 'chinatown_sf', 'embarcadero', 'fisherman_wharf',\n",
    "       'haight_ashbury', 'mission_district', 'nob_hill', 'north_becah',\n",
    "       'pacific_heights', 'presidio', 'soma', 'union_sq_sf']"
   ]
  },
  {
   "cell_type": "code",
   "execution_count": 184,
   "metadata": {},
   "outputs": [],
   "source": [
    "cosine_sim_df.index = ['chelsea', 'chinatown', 'east_village', 'fidi', 'fifth_ave',\n",
    "       'greenwich_village', 'harlem', 'soho', 'times_sq', 'tribeca', 'ues',\n",
    "       'union_sq', 'uws', 'west_village', 'williamsburg']"
   ]
  },
  {
   "cell_type": "code",
   "execution_count": 185,
   "metadata": {},
   "outputs": [
    {
     "data": {
      "text/plain": [
       "Index(['castro', 'chinatown_sf', 'embarcadero', 'fisherman_wharf',\n",
       "       'haight_ashbury', 'mission_district', 'nob_hill', 'north_becah',\n",
       "       'pacific_heights', 'presidio', 'soma', 'union_sq_sf'],\n",
       "      dtype='object')"
      ]
     },
     "execution_count": 185,
     "metadata": {},
     "output_type": "execute_result"
    }
   ],
   "source": [
    "rec_sf.index ##fisherman wharf"
   ]
  },
  {
   "cell_type": "code",
   "execution_count": 186,
   "metadata": {},
   "outputs": [],
   "source": [
    "def get_rec(name, city):\n",
    "    if city==\"ny\":\n",
    "        return cosine_sim_df.loc[name,:].sort_values(ascending=False)[:3].index[0], cosine_sim_df.loc[name,:].sort_values(ascending=False)[:3].index[1],cosine_sim_df.loc[name,:].sort_values(ascending=False)[:3].index[2]\n",
    "    else:\n",
    "        return cosine_sim_df.loc[:,name].sort_values(ascending=False)[:3].index[0], cosine_sim_df.loc[:,name].sort_values(ascending=False)[:3].index[1],cosine_sim_df.loc[:,name].sort_values(ascending=False)[:3].index[2]\n"
   ]
  },
  {
   "cell_type": "code",
   "execution_count": 187,
   "metadata": {},
   "outputs": [
    {
     "name": "stdout",
     "output_type": "stream",
     "text": [
      "castro ('east_village', 'williamsburg', 'west_village')\n",
      "chinatown_sf ('fifth_ave', 'soho', 'times_sq')\n",
      "embarcadero ('fidi', 'ues', 'williamsburg')\n",
      "fisherman_wharf ('ues', 'fidi', 'times_sq')\n",
      "haight_ashbury ('soho', 'fifth_ave', 'east_village')\n",
      "mission_district ('chelsea', 'soho', 'east_village')\n",
      "nob_hill ('fidi', 'ues', 'uws')\n",
      "north_becah ('east_village', 'williamsburg', 'uws')\n",
      "pacific_heights ('fidi', 'ues', 'uws')\n",
      "presidio ('ues', 'fidi', 'uws')\n",
      "soma ('ues', 'uws', 'east_village')\n",
      "union_sq_sf ('fifth_ave', 'soho', 'ues')\n"
     ]
    }
   ],
   "source": [
    "print(\"castro\",get_rec(\"castro\", \"sf\"))\n",
    "print(\"chinatown_sf\",get_rec(\"chinatown_sf\", \"sf\"))\n",
    "print(\"embarcadero\",get_rec(\"embarcadero\", \"sf\"))\n",
    "print(\"fisherman_wharf\",get_rec(\"fisherman_wharf\", \"sf\"))\n",
    "print(\"haight_ashbury\",get_rec(\"haight_ashbury\", \"sf\"))\n",
    "print(\"mission_district\",get_rec(\"mission_district\", \"sf\"))\n",
    "print(\"nob_hill\",get_rec(\"nob_hill\", \"sf\"))\n",
    "print(\"north_becah\",get_rec(\"north_becah\", \"sf\"))\n",
    "print(\"pacific_heights\",get_rec(\"pacific_heights\", \"sf\"))\n",
    "print(\"presidio\",get_rec(\"presidio\", \"sf\"))\n",
    "print(\"soma\",get_rec(\"soma\", \"sf\"))\n",
    "print(\"union_sq_sf\",get_rec(\"union_sq_sf\", \"sf\"))\n"
   ]
  },
  {
   "cell_type": "code",
   "execution_count": 188,
   "metadata": {},
   "outputs": [
    {
     "name": "stdout",
     "output_type": "stream",
     "text": [
      "chelsea ('mission_district', 'soma', 'castro')\n",
      "chinatown ('union_sq_sf', 'chinatown_sf', 'haight_ashbury')\n",
      "east_village ('soma', 'castro', 'mission_district')\n",
      "fidi ('presidio', 'pacific_heights', 'nob_hill')\n",
      "fifth_ave ('union_sq_sf', 'chinatown_sf', 'haight_ashbury')\n",
      "greenwich_village ('castro', 'pacific_heights', 'soma')\n",
      "harlem ('presidio', 'castro', 'pacific_heights')\n",
      "soho ('mission_district', 'union_sq_sf', 'haight_ashbury')\n",
      "times_sq ('chinatown_sf', 'fisherman_wharf', 'union_sq_sf')\n",
      "tribeca ('pacific_heights', 'soma', 'mission_district')\n",
      "ues ('soma', 'presidio', 'pacific_heights')\n",
      "union_sq ('soma', 'union_sq_sf', 'presidio')\n",
      "uws ('soma', 'presidio', 'pacific_heights')\n",
      "west_village ('pacific_heights', 'castro', 'soma')\n",
      "williamsburg ('castro', 'soma', 'mission_district')\n"
     ]
    }
   ],
   "source": [
    "print(\"chelsea\", get_rec(\"chelsea\", \"ny\"))\n",
    "print(\"chinatown\", get_rec(\"chinatown\", \"ny\"))\n",
    "print(\"east_village\", get_rec(\"east_village\", \"ny\"))\n",
    "print(\"fidi\", get_rec(\"fidi\", \"ny\"))\n",
    "print(\"fifth_ave\", get_rec(\"fifth_ave\", \"ny\"))\n",
    "print(\"greenwich_village\", get_rec(\"greenwich_village\", \"ny\"))\n",
    "print(\"harlem\", get_rec(\"harlem\", \"ny\"))\n",
    "print(\"soho\", get_rec(\"soho\", \"ny\"))\n",
    "print(\"times_sq\", get_rec(\"times_sq\", \"ny\"))\n",
    "print(\"tribeca\", get_rec(\"tribeca\", \"ny\"))\n",
    "print(\"ues\", get_rec(\"ues\", \"ny\"))\n",
    "print(\"union_sq\", get_rec(\"union_sq\", \"ny\"))\n",
    "print(\"uws\", get_rec(\"uws\", \"ny\"))\n",
    "print(\"west_village\", get_rec(\"west_village\", \"ny\"))\n",
    "print(\"williamsburg\", get_rec(\"williamsburg\", \"ny\"))"
   ]
  },
  {
   "cell_type": "markdown",
   "metadata": {},
   "source": [
    "## Photos"
   ]
  },
  {
   "cell_type": "code",
   "execution_count": 189,
   "metadata": {},
   "outputs": [
    {
     "name": "stderr",
     "output_type": "stream",
     "text": [
      "/Users/elizabethoriordan/anaconda3/lib/python3.6/site-packages/h5py/__init__.py:36: FutureWarning: Conversion of the second argument of issubdtype from `float` to `np.floating` is deprecated. In future, it will be treated as `np.float64 == np.dtype(float).type`.\n",
      "  from ._conv import register_converters as _register_converters\n",
      "Using TensorFlow backend.\n"
     ]
    }
   ],
   "source": [
    "from vgg16_places_365 import VGG16_Places365\n",
    "model = VGG16_Places365(weights='places', include_top=False)"
   ]
  },
  {
   "cell_type": "code",
   "execution_count": 190,
   "metadata": {},
   "outputs": [],
   "source": [
    "image_sf = {}\n",
    "image_ny = {}"
   ]
  },
  {
   "cell_type": "code",
   "execution_count": 191,
   "metadata": {},
   "outputs": [],
   "source": [
    "from PIL import Image\n",
    "import os\n",
    "# import urllib2\n",
    "import numpy as np\n",
    "from PIL import Image\n",
    "from cv2 import resize\n",
    "from scipy.spatial import distance"
   ]
  },
  {
   "cell_type": "code",
   "execution_count": 195,
   "metadata": {},
   "outputs": [],
   "source": [
    "def get_images(neighb, num):\n",
    "    for i in range(1,num):\n",
    "        image = Image.open(\"Photos/NYC/\"+neighb+\"/\"+str(i)+neighb+\".jpg\")\n",
    "        image = np.array(image, dtype=np.uint8)\n",
    "        image = resize(image, (224, 224))\n",
    "        image = np.expand_dims(image, 0)\n",
    "        a = model.predict(image)\n",
    "        image_ny[neighb+str(i)] = np.reshape(a,-1)"
   ]
  },
  {
   "cell_type": "code",
   "execution_count": 193,
   "metadata": {},
   "outputs": [],
   "source": [
    "get_images(\"castro\", 18)\n",
    "get_images(\"chinatown_sf\",14)\n",
    "get_images(\"embarcadero\",11)\n",
    "get_images(\"fisherman\", 11)\n",
    "get_images(\"haight_ashbury\", 11)\n",
    "get_images(\"mission\", 30)\n",
    "get_images(\"nobhill\", 13)\n",
    "get_images(\"north_beach\", 11)\n",
    "get_images(\"pacific_heights\",14)\n",
    "get_images(\"presidio\", 10)\n",
    "get_images(\"soma\", 22)"
   ]
  },
  {
   "cell_type": "code",
   "execution_count": 196,
   "metadata": {},
   "outputs": [],
   "source": [
    "get_images(\"chelsea\", 11)\n",
    "get_images(\"chinatown\", 9)\n",
    "get_images(\"eastvill\", 19)\n",
    "get_images(\"fidi\", 20)\n",
    "get_images(\"fifth_ave\", 11)\n",
    "get_images(\"greenvill\", 13)\n",
    "get_images(\"harl\", 11)\n",
    "get_images(\"soho\", 13)\n",
    "get_images(\"timessq\", 13)\n",
    "get_images(\"tribeca\", 16)\n",
    "get_images(\"ues\", 12)\n",
    "get_images(\"unionsq\", 13)\n",
    "get_images(\"uws\", 20)\n",
    "get_images(\"west_vill\", 12)\n",
    "get_images(\"will\", 19)"
   ]
  },
  {
   "cell_type": "code",
   "execution_count": 197,
   "metadata": {},
   "outputs": [],
   "source": [
    "image_ny_df = pd.DataFrame(image_ny).transpose()\n",
    "image_sf_df = pd.DataFrame(image_sf).transpose()"
   ]
  },
  {
   "cell_type": "code",
   "execution_count": 198,
   "metadata": {},
   "outputs": [],
   "source": [
    "def get_rec_photo(name):\n",
    "    a = image_ny_df.loc[name].values\n",
    "    dist = []\n",
    "    for i in range(0,74):\n",
    "        b = image_sf_filtered.iloc[i].values\n",
    "        dist.append((i, distance.euclidean(a,b)))\n",
    "    dist.sort(key=lambda tup:tup[1])\n",
    "    my_rec_loc = []\n",
    "    c = dist[:3]\n",
    "    for i in c:\n",
    "        my_rec_loc.append(i[0])\n",
    "    imgs = image_sf_filtered.iloc[my_rec_loc]\n",
    "    d = imgs.iloc[0].name\n",
    "    try:\n",
    "        num = int(d[-2:])\n",
    "        name = (str(num)+d[:-2]+\".jpg\")\n",
    "    except:\n",
    "        num = int(d[-1:])\n",
    "        name = (str(num)+d[:-1]+\".jpg\")\n",
    "    return name"
   ]
  },
  {
   "cell_type": "code",
   "execution_count": 418,
   "metadata": {},
   "outputs": [
    {
     "data": {
      "text/plain": [
       "(95, 25088)"
      ]
     },
     "execution_count": 418,
     "metadata": {},
     "output_type": "execute_result"
    }
   ],
   "source": [
    "image_ny_filtered.shape"
   ]
  },
  {
   "cell_type": "code",
   "execution_count": 203,
   "metadata": {},
   "outputs": [],
   "source": [
    "def get_rec_photo2(name):\n",
    "    a = image_sf_filtered.loc[name].values\n",
    "    dist = []\n",
    "    for i in range(0,90):\n",
    "        b = image_ny_filtered.iloc[i].values\n",
    "        dist.append((i, distance.euclidean(a,b)))\n",
    "    dist.sort(key=lambda tup:tup[1])\n",
    "    my_rec_loc = []\n",
    "    c = dist[:3]\n",
    "    for i in c:\n",
    "        my_rec_loc.append(i[0])\n",
    "    imgs = image_ny_filtered.iloc[my_rec_loc]\n",
    "    d = imgs.iloc[0].name\n",
    "    d1 = imgs.iloc[1].name\n",
    "    try:\n",
    "        num = int(d[-2:])\n",
    "        name = (str(num)+d[:-2]+\".jpg\")\n",
    "    except:\n",
    "        num = int(d[-1:])\n",
    "        name = (str(num)+d[:-1]+\".jpg\")\n",
    "    return name"
   ]
  },
  {
   "cell_type": "code",
   "execution_count": 199,
   "metadata": {},
   "outputs": [],
   "source": [
    "good_images_sf = [\"castro1\", \"castro3\", \"castro4\", \"castro5\", \"castro6\", \"castro11\", \"castro14\",\"castro15\",\"castro16\", \"castro17\", \"chinatown_sf1\", \"chinatown_sf2\", \"chinatown_sf3\", \"chinatown_sf6\", \"chinatown_sf7\",\"chinatown_sf8\",\"chinatown_sf9\", \"chinatown_sf10\",\"chinatown_sf11\",\"chinatown_sf13\",\\\n",
    "                 \"embarcadero1\", \"embarcadero2\",\"embarcadero5\",\"embarcadero7\",\"embarcadero9\",\"fisherman1\",\"fisherman6\",\"fisherman7\",\"fisherman8\",\"fisherman10\",\\\n",
    "                 \"haight_ashbury3\",\"haight_ashbury7\",\"haight_ashbury9\",\"mission4\",\"mission5\",\"mission6\",\"mission7\",\"mission12\",\"mission13\",\"mission14\",\"mission21\",\"mission26\",\"mission29\",\"nobhill1\",\"nobhill4\",\"nobhill5\",\"nobhill7\",\\\n",
    "\"nobhill10\",\"north_beach1\",  \"north_beach10\",\"pacific_heights1\",\"pacific_heights2\",\"pacific_heights5\",\"pacific_heights6\",\"pacific_heights7\",\"pacific_heights9\",\"pacific_heights10\",\\\n",
    "                 \"pacific_heights12\", \"pacific_heights13\",\"presidio1\",\"presidio3\",\"presidio6\",\"presidio7\",\"presidio9\",\"presidio10\",\"soma1\",\"soma2\",\\\n",
    "                 \"soma4\",\"soma7\",\"soma9\",\"soma10\",\"soma12\",\"soma13\",\"soma14\",\"soma17\"]\n"
   ]
  },
  {
   "cell_type": "code",
   "execution_count": 200,
   "metadata": {},
   "outputs": [],
   "source": [
    "good_images_ny = ['chelsea1','chelsea10','chelsea2','chelsea3','chelsea5','chelsea6','chelsea7','chelsea8', \\ \n",
    " 'chinatown1', 'chinatown2','chinatown3','chinatown7','chinatown8','eastvill1','eastvill10','eastvill13','eastvill5','eastvill6',  'eastvill9', \\\n",
    " 'fidi12','fidi18','fidi19','fidi2','fidi6','fidi9','fifth_ave3','fifth_ave5','fifth_ave6','fifth_ave8','greenvill1','greenvill10', \\                  \n",
    " 'greenvill12','greenvill2','greenvill4', 'greenvill6','greenvill7', 'greenvill9','harl10','harl8','soho1','soho10', \\ \n",
    "'soho12','soho4','timessq1','timessq11','timessq6','timessq9','tribeca1','tribeca2','tribeca5', \\ \n",
    " 'tribeca6','tribeca9','ues10','ues2','ues3','ues4','ues6','ues7','ues8','unionsq10','unionsq2','unionsq6','unionsq8','unionsq9', \\ \n",
    " 'uws11', 'uws13', 'uws14', 'uws15', 'uws16', 'uws17', 'uws19', 'uws2', 'uws3', 'uws7', 'west_vill1','west_vill11', \\ \n",
    " 'west_vill2', 'west_vill5', 'west_vill9','will1', 'will10', 'will11', 'will12', 'will13','will14','will15','will18','will5','will7','will9']"
   ]
  },
  {
   "cell_type": "code",
   "execution_count": 201,
   "metadata": {},
   "outputs": [],
   "source": [
    "image_sf_filtered = image_sf_df[image_sf_df.index.isin(good_images_sf)]"
   ]
  },
  {
   "cell_type": "code",
   "execution_count": 202,
   "metadata": {},
   "outputs": [],
   "source": [
    "image_ny_filtered = image_ny_df[image_ny_df.index.isin(good_images_ny)]"
   ]
  },
  {
   "cell_type": "code",
   "execution_count": 150,
   "metadata": {},
   "outputs": [
    {
     "data": {
      "text/plain": [
       "'13pacific_heights.jpg'"
      ]
     },
     "execution_count": 150,
     "metadata": {},
     "output_type": "execute_result"
    }
   ],
   "source": [
    "get_rec_photo(\"chelsea10\")"
   ]
  },
  {
   "cell_type": "code",
   "execution_count": 205,
   "metadata": {},
   "outputs": [],
   "source": [
    "def name_trans(x):\n",
    "    try:\n",
    "        num = int(x[:2])\n",
    "        name = (x[2:-4]+str(num))\n",
    "    except:\n",
    "        num = int(x[0])\n",
    "        name = (x[1:-4]+str(num))\n",
    "    return name"
   ]
  },
  {
   "cell_type": "markdown",
   "metadata": {},
   "source": [
    "## Build a Flask App"
   ]
  },
  {
   "cell_type": "code",
   "execution_count": 234,
   "metadata": {},
   "outputs": [],
   "source": [
    "all_neighbs_ny = list(df3[df3[\"city\"]==\"nyc\"].neighb.unique())"
   ]
  },
  {
   "cell_type": "code",
   "execution_count": 240,
   "metadata": {},
   "outputs": [],
   "source": [
    "all_neighbs_sf = list(df3[df3[\"city\"]==\"SF\"].neighb.unique())"
   ]
  },
  {
   "cell_type": "code",
   "execution_count": null,
   "metadata": {},
   "outputs": [],
   "source": [
    "def get_folder(a):\n",
    "    try:\n",
    "        x = int(a[:2])\n",
    "        y = a[2:].split(\".\")[0]\n",
    "    except:\n",
    "        y = a[1:].split(\".\")[0]\n",
    "#     if y ==\"will\":\n",
    "#         return \"Williamsburg\"\n",
    "    return y.capitalize()"
   ]
  },
  {
   "cell_type": "code",
   "execution_count": 257,
   "metadata": {
    "scrolled": true
   },
   "outputs": [
    {
     "name": "stderr",
     "output_type": "stream",
     "text": [
      "/Users/elizabethoriordan/anaconda3/lib/python3.6/site-packages/flask_sqlalchemy/__init__.py:794: FSADeprecationWarning: SQLALCHEMY_TRACK_MODIFICATIONS adds significant overhead and will be disabled by default in the future.  Set it to True or False to suppress this warning.\n",
      "  'SQLALCHEMY_TRACK_MODIFICATIONS adds significant overhead and '\n",
      " * Running on http://127.0.0.1:5000/ (Press CTRL+C to quit)\n",
      "/Users/elizabethoriordan/anaconda3/lib/python3.6/site-packages/ipykernel_launcher.py:158: FlaskWTFDeprecationWarning: \"flask_wtf.Form\" has been renamed to \"FlaskForm\" and will be removed in 1.0.\n",
      "127.0.0.1 - - [12/Dec/2018 20:00:45] \"\u001b[37mGET /rec_att HTTP/1.1\u001b[0m\" 200 -\n",
      "127.0.0.1 - - [12/Dec/2018 20:00:59] \"\u001b[37mGET /index HTTP/1.1\u001b[0m\" 200 -\n",
      "/Users/elizabethoriordan/anaconda3/lib/python3.6/site-packages/ipykernel_launcher.py:57: FlaskWTFDeprecationWarning: \"flask_wtf.Form\" has been renamed to \"FlaskForm\" and will be removed in 1.0.\n",
      "127.0.0.1 - - [12/Dec/2018 20:01:50] \"\u001b[37mGET /rec HTTP/1.1\u001b[0m\" 200 -\n",
      "127.0.0.1 - - [12/Dec/2018 20:01:58] \"\u001b[37mGET /neighbo/sf HTTP/1.1\u001b[0m\" 200 -\n",
      "/Users/elizabethoriordan/anaconda3/lib/python3.6/site-packages/ipykernel_launcher.py:57: FlaskWTFDeprecationWarning: \"flask_wtf.Form\" has been renamed to \"FlaskForm\" and will be removed in 1.0.\n",
      "127.0.0.1 - - [12/Dec/2018 20:02:00] \"\u001b[32mPOST /rec HTTP/1.1\u001b[0m\" 302 -\n",
      "127.0.0.1 - - [12/Dec/2018 20:02:00] \"\u001b[37mGET /results/castro HTTP/1.1\u001b[0m\" 200 -\n",
      "127.0.0.1 - - [12/Dec/2018 20:02:07] \"\u001b[37mGET /upload_file HTTP/1.1\u001b[0m\" 200 -\n",
      "127.0.0.1 - - [12/Dec/2018 20:02:49] \"\u001b[37mGET /index HTTP/1.1\u001b[0m\" 200 -\n",
      "/Users/elizabethoriordan/anaconda3/lib/python3.6/site-packages/ipykernel_launcher.py:57: FlaskWTFDeprecationWarning: \"flask_wtf.Form\" has been renamed to \"FlaskForm\" and will be removed in 1.0.\n",
      "127.0.0.1 - - [12/Dec/2018 20:03:02] \"\u001b[37mGET /rec HTTP/1.1\u001b[0m\" 200 -\n",
      "127.0.0.1 - - [12/Dec/2018 20:03:07] \"\u001b[37mGET /neighbo/sf HTTP/1.1\u001b[0m\" 200 -\n",
      "/Users/elizabethoriordan/anaconda3/lib/python3.6/site-packages/ipykernel_launcher.py:57: FlaskWTFDeprecationWarning: \"flask_wtf.Form\" has been renamed to \"FlaskForm\" and will be removed in 1.0.\n",
      "127.0.0.1 - - [12/Dec/2018 20:03:11] \"\u001b[32mPOST /rec HTTP/1.1\u001b[0m\" 302 -\n",
      "127.0.0.1 - - [12/Dec/2018 20:03:11] \"\u001b[37mGET /results/castro HTTP/1.1\u001b[0m\" 200 -\n",
      "127.0.0.1 - - [12/Dec/2018 20:03:17] \"\u001b[37mGET /upload_file HTTP/1.1\u001b[0m\" 200 -\n",
      "127.0.0.1 - - [12/Dec/2018 20:03:33] \"\u001b[32mPOST /upload_file HTTP/1.1\u001b[0m\" 302 -\n",
      "127.0.0.1 - - [12/Dec/2018 20:03:33] \"\u001b[37mGET /me/15will.jpg HTTP/1.1\u001b[0m\" 200 -\n",
      "/Users/elizabethoriordan/anaconda3/lib/python3.6/site-packages/ipykernel_launcher.py:158: FlaskWTFDeprecationWarning: \"flask_wtf.Form\" has been renamed to \"FlaskForm\" and will be removed in 1.0.\n",
      "127.0.0.1 - - [12/Dec/2018 20:03:43] \"\u001b[37mGET /rec_att HTTP/1.1\u001b[0m\" 200 -\n",
      "/Users/elizabethoriordan/anaconda3/lib/python3.6/site-packages/ipykernel_launcher.py:158: FlaskWTFDeprecationWarning: \"flask_wtf.Form\" has been renamed to \"FlaskForm\" and will be removed in 1.0.\n",
      "127.0.0.1 - - [12/Dec/2018 20:03:56] \"\u001b[37mPOST /rec_att HTTP/1.1\u001b[0m\" 200 -\n",
      "/Users/elizabethoriordan/anaconda3/lib/python3.6/site-packages/ipykernel_launcher.py:158: FlaskWTFDeprecationWarning: \"flask_wtf.Form\" has been renamed to \"FlaskForm\" and will be removed in 1.0.\n",
      "127.0.0.1 - - [12/Dec/2018 20:04:00] \"\u001b[37mGET /rec_att HTTP/1.1\u001b[0m\" 200 -\n",
      "/Users/elizabethoriordan/anaconda3/lib/python3.6/site-packages/ipykernel_launcher.py:158: FlaskWTFDeprecationWarning: \"flask_wtf.Form\" has been renamed to \"FlaskForm\" and will be removed in 1.0.\n",
      "127.0.0.1 - - [12/Dec/2018 20:04:07] \"\u001b[37mPOST /rec_att HTTP/1.1\u001b[0m\" 200 -\n",
      "127.0.0.1 - - [12/Dec/2018 20:04:11] \"\u001b[37mGET /map HTTP/1.1\u001b[0m\" 200 -\n",
      "[2018-12-12 20:04:14,029] ERROR in app: Exception on /score [POST]\n",
      "Traceback (most recent call last):\n",
      "  File \"/Users/elizabethoriordan/anaconda3/lib/python3.6/site-packages/flask/app.py\", line 1982, in wsgi_app\n",
      "    response = self.full_dispatch_request()\n",
      "  File \"/Users/elizabethoriordan/anaconda3/lib/python3.6/site-packages/flask/app.py\", line 1614, in full_dispatch_request\n",
      "    rv = self.handle_user_exception(e)\n",
      "  File \"/Users/elizabethoriordan/anaconda3/lib/python3.6/site-packages/flask/app.py\", line 1517, in handle_user_exception\n",
      "    reraise(exc_type, exc_value, tb)\n",
      "  File \"/Users/elizabethoriordan/anaconda3/lib/python3.6/site-packages/flask/_compat.py\", line 33, in reraise\n",
      "    raise value\n",
      "  File \"/Users/elizabethoriordan/anaconda3/lib/python3.6/site-packages/flask/app.py\", line 1612, in full_dispatch_request\n",
      "    rv = self.dispatch_request()\n",
      "  File \"/Users/elizabethoriordan/anaconda3/lib/python3.6/site-packages/flask/app.py\", line 1598, in dispatch_request\n",
      "    return self.view_functions[rule.endpoint](**req.view_args)\n",
      "  File \"<ipython-input-257-82a6ebb1898b>\", line 120, in score\n",
      "    results = get_attributes(x[0])\n",
      "  File \"<ipython-input-130-912f8782abc6>\", line 2, in get_attributes\n",
      "    x = list(df5[df5[\"neighb2\"]==x][\"words\"].values)[0]\n",
      "IndexError: list index out of range\n",
      "127.0.0.1 - - [12/Dec/2018 20:04:14] \"\u001b[1m\u001b[35mPOST /score HTTP/1.1\u001b[0m\" 500 -\n",
      "[2018-12-12 20:04:14,106] ERROR in app: Exception on /score [POST]\n",
      "Traceback (most recent call last):\n",
      "  File \"/Users/elizabethoriordan/anaconda3/lib/python3.6/site-packages/flask/app.py\", line 1982, in wsgi_app\n",
      "    response = self.full_dispatch_request()\n",
      "  File \"/Users/elizabethoriordan/anaconda3/lib/python3.6/site-packages/flask/app.py\", line 1614, in full_dispatch_request\n",
      "    rv = self.handle_user_exception(e)\n",
      "  File \"/Users/elizabethoriordan/anaconda3/lib/python3.6/site-packages/flask/app.py\", line 1517, in handle_user_exception\n",
      "    reraise(exc_type, exc_value, tb)\n",
      "  File \"/Users/elizabethoriordan/anaconda3/lib/python3.6/site-packages/flask/_compat.py\", line 33, in reraise\n",
      "    raise value\n",
      "  File \"/Users/elizabethoriordan/anaconda3/lib/python3.6/site-packages/flask/app.py\", line 1612, in full_dispatch_request\n",
      "    rv = self.dispatch_request()\n",
      "  File \"/Users/elizabethoriordan/anaconda3/lib/python3.6/site-packages/flask/app.py\", line 1598, in dispatch_request\n",
      "    return self.view_functions[rule.endpoint](**req.view_args)\n",
      "  File \"<ipython-input-257-82a6ebb1898b>\", line 120, in score\n",
      "    results = get_attributes(x[0])\n",
      "  File \"<ipython-input-130-912f8782abc6>\", line 2, in get_attributes\n",
      "    x = list(df5[df5[\"neighb2\"]==x][\"words\"].values)[0]\n",
      "IndexError: list index out of range\n",
      "127.0.0.1 - - [12/Dec/2018 20:04:14] \"\u001b[1m\u001b[35mPOST /score HTTP/1.1\u001b[0m\" 500 -\n",
      "[2018-12-12 20:04:14,173] ERROR in app: Exception on /score [POST]\n",
      "Traceback (most recent call last):\n",
      "  File \"/Users/elizabethoriordan/anaconda3/lib/python3.6/site-packages/flask/app.py\", line 1982, in wsgi_app\n",
      "    response = self.full_dispatch_request()\n",
      "  File \"/Users/elizabethoriordan/anaconda3/lib/python3.6/site-packages/flask/app.py\", line 1614, in full_dispatch_request\n",
      "    rv = self.handle_user_exception(e)\n",
      "  File \"/Users/elizabethoriordan/anaconda3/lib/python3.6/site-packages/flask/app.py\", line 1517, in handle_user_exception\n",
      "    reraise(exc_type, exc_value, tb)\n",
      "  File \"/Users/elizabethoriordan/anaconda3/lib/python3.6/site-packages/flask/_compat.py\", line 33, in reraise\n",
      "    raise value\n",
      "  File \"/Users/elizabethoriordan/anaconda3/lib/python3.6/site-packages/flask/app.py\", line 1612, in full_dispatch_request\n",
      "    rv = self.dispatch_request()\n",
      "  File \"/Users/elizabethoriordan/anaconda3/lib/python3.6/site-packages/flask/app.py\", line 1598, in dispatch_request\n",
      "    return self.view_functions[rule.endpoint](**req.view_args)\n",
      "  File \"<ipython-input-257-82a6ebb1898b>\", line 120, in score\n",
      "    results = get_attributes(x[0])\n",
      "  File \"<ipython-input-130-912f8782abc6>\", line 2, in get_attributes\n",
      "    x = list(df5[df5[\"neighb2\"]==x][\"words\"].values)[0]\n",
      "IndexError: list index out of range\n",
      "127.0.0.1 - - [12/Dec/2018 20:04:14] \"\u001b[1m\u001b[35mPOST /score HTTP/1.1\u001b[0m\" 500 -\n",
      "[2018-12-12 20:04:14,207] ERROR in app: Exception on /score [POST]\n",
      "Traceback (most recent call last):\n",
      "  File \"/Users/elizabethoriordan/anaconda3/lib/python3.6/site-packages/flask/app.py\", line 1982, in wsgi_app\n",
      "    response = self.full_dispatch_request()\n",
      "  File \"/Users/elizabethoriordan/anaconda3/lib/python3.6/site-packages/flask/app.py\", line 1614, in full_dispatch_request\n",
      "    rv = self.handle_user_exception(e)\n",
      "  File \"/Users/elizabethoriordan/anaconda3/lib/python3.6/site-packages/flask/app.py\", line 1517, in handle_user_exception\n",
      "    reraise(exc_type, exc_value, tb)\n",
      "  File \"/Users/elizabethoriordan/anaconda3/lib/python3.6/site-packages/flask/_compat.py\", line 33, in reraise\n",
      "    raise value\n",
      "  File \"/Users/elizabethoriordan/anaconda3/lib/python3.6/site-packages/flask/app.py\", line 1612, in full_dispatch_request\n",
      "    rv = self.dispatch_request()\n",
      "  File \"/Users/elizabethoriordan/anaconda3/lib/python3.6/site-packages/flask/app.py\", line 1598, in dispatch_request\n",
      "    return self.view_functions[rule.endpoint](**req.view_args)\n",
      "  File \"<ipython-input-257-82a6ebb1898b>\", line 120, in score\n",
      "    results = get_attributes(x[0])\n",
      "  File \"<ipython-input-130-912f8782abc6>\", line 2, in get_attributes\n",
      "    x = list(df5[df5[\"neighb2\"]==x][\"words\"].values)[0]\n",
      "IndexError: list index out of range\n"
     ]
    },
    {
     "name": "stderr",
     "output_type": "stream",
     "text": [
      "127.0.0.1 - - [12/Dec/2018 20:04:14] \"\u001b[1m\u001b[35mPOST /score HTTP/1.1\u001b[0m\" 500 -\n"
     ]
    },
    {
     "name": "stdout",
     "output_type": "stream",
     "text": [
      "Rosedale\n",
      "Springfield Gardens\n",
      "South Ozone Park\n",
      "Richmond Hill\n"
     ]
    },
    {
     "name": "stderr",
     "output_type": "stream",
     "text": [
      "[2018-12-12 20:04:14,271] ERROR in app: Exception on /score [POST]\n",
      "Traceback (most recent call last):\n",
      "  File \"/Users/elizabethoriordan/anaconda3/lib/python3.6/site-packages/flask/app.py\", line 1982, in wsgi_app\n",
      "    response = self.full_dispatch_request()\n",
      "  File \"/Users/elizabethoriordan/anaconda3/lib/python3.6/site-packages/flask/app.py\", line 1614, in full_dispatch_request\n",
      "    rv = self.handle_user_exception(e)\n",
      "  File \"/Users/elizabethoriordan/anaconda3/lib/python3.6/site-packages/flask/app.py\", line 1517, in handle_user_exception\n",
      "    reraise(exc_type, exc_value, tb)\n",
      "  File \"/Users/elizabethoriordan/anaconda3/lib/python3.6/site-packages/flask/_compat.py\", line 33, in reraise\n",
      "    raise value\n",
      "  File \"/Users/elizabethoriordan/anaconda3/lib/python3.6/site-packages/flask/app.py\", line 1612, in full_dispatch_request\n",
      "    rv = self.dispatch_request()\n",
      "  File \"/Users/elizabethoriordan/anaconda3/lib/python3.6/site-packages/flask/app.py\", line 1598, in dispatch_request\n",
      "    return self.view_functions[rule.endpoint](**req.view_args)\n",
      "  File \"<ipython-input-257-82a6ebb1898b>\", line 120, in score\n",
      "    results = get_attributes(x[0])\n",
      "  File \"<ipython-input-130-912f8782abc6>\", line 2, in get_attributes\n",
      "    x = list(df5[df5[\"neighb2\"]==x][\"words\"].values)[0]\n",
      "IndexError: list index out of range\n",
      "127.0.0.1 - - [12/Dec/2018 20:04:14] \"\u001b[1m\u001b[35mPOST /score HTTP/1.1\u001b[0m\" 500 -\n",
      "[2018-12-12 20:04:14,290] ERROR in app: Exception on /score [POST]\n",
      "Traceback (most recent call last):\n",
      "  File \"/Users/elizabethoriordan/anaconda3/lib/python3.6/site-packages/flask/app.py\", line 1982, in wsgi_app\n",
      "    response = self.full_dispatch_request()\n",
      "  File \"/Users/elizabethoriordan/anaconda3/lib/python3.6/site-packages/flask/app.py\", line 1614, in full_dispatch_request\n",
      "    rv = self.handle_user_exception(e)\n",
      "  File \"/Users/elizabethoriordan/anaconda3/lib/python3.6/site-packages/flask/app.py\", line 1517, in handle_user_exception\n",
      "    reraise(exc_type, exc_value, tb)\n",
      "  File \"/Users/elizabethoriordan/anaconda3/lib/python3.6/site-packages/flask/_compat.py\", line 33, in reraise\n",
      "    raise value\n",
      "  File \"/Users/elizabethoriordan/anaconda3/lib/python3.6/site-packages/flask/app.py\", line 1612, in full_dispatch_request\n",
      "    rv = self.dispatch_request()\n",
      "  File \"/Users/elizabethoriordan/anaconda3/lib/python3.6/site-packages/flask/app.py\", line 1598, in dispatch_request\n",
      "    return self.view_functions[rule.endpoint](**req.view_args)\n",
      "  File \"<ipython-input-257-82a6ebb1898b>\", line 120, in score\n",
      "    results = get_attributes(x[0])\n",
      "  File \"<ipython-input-130-912f8782abc6>\", line 2, in get_attributes\n",
      "    x = list(df5[df5[\"neighb2\"]==x][\"words\"].values)[0]\n",
      "IndexError: list index out of range\n",
      "127.0.0.1 - - [12/Dec/2018 20:04:14] \"\u001b[1m\u001b[35mPOST /score HTTP/1.1\u001b[0m\" 500 -\n",
      "[2018-12-12 20:04:14,339] ERROR in app: Exception on /score [POST]\n",
      "Traceback (most recent call last):\n",
      "  File \"/Users/elizabethoriordan/anaconda3/lib/python3.6/site-packages/flask/app.py\", line 1982, in wsgi_app\n",
      "    response = self.full_dispatch_request()\n",
      "  File \"/Users/elizabethoriordan/anaconda3/lib/python3.6/site-packages/flask/app.py\", line 1614, in full_dispatch_request\n",
      "    rv = self.handle_user_exception(e)\n",
      "  File \"/Users/elizabethoriordan/anaconda3/lib/python3.6/site-packages/flask/app.py\", line 1517, in handle_user_exception\n",
      "    reraise(exc_type, exc_value, tb)\n",
      "  File \"/Users/elizabethoriordan/anaconda3/lib/python3.6/site-packages/flask/_compat.py\", line 33, in reraise\n",
      "    raise value\n",
      "  File \"/Users/elizabethoriordan/anaconda3/lib/python3.6/site-packages/flask/app.py\", line 1612, in full_dispatch_request\n",
      "    rv = self.dispatch_request()\n",
      "  File \"/Users/elizabethoriordan/anaconda3/lib/python3.6/site-packages/flask/app.py\", line 1598, in dispatch_request\n",
      "    return self.view_functions[rule.endpoint](**req.view_args)\n",
      "  File \"<ipython-input-257-82a6ebb1898b>\", line 120, in score\n",
      "    results = get_attributes(x[0])\n",
      "  File \"<ipython-input-130-912f8782abc6>\", line 2, in get_attributes\n",
      "    x = list(df5[df5[\"neighb2\"]==x][\"words\"].values)[0]\n",
      "IndexError: list index out of range\n",
      "127.0.0.1 - - [12/Dec/2018 20:04:14] \"\u001b[1m\u001b[35mPOST /score HTTP/1.1\u001b[0m\" 500 -\n",
      "[2018-12-12 20:04:14,357] ERROR in app: Exception on /score [POST]\n",
      "Traceback (most recent call last):\n",
      "  File \"/Users/elizabethoriordan/anaconda3/lib/python3.6/site-packages/flask/app.py\", line 1982, in wsgi_app\n",
      "    response = self.full_dispatch_request()\n",
      "  File \"/Users/elizabethoriordan/anaconda3/lib/python3.6/site-packages/flask/app.py\", line 1614, in full_dispatch_request\n",
      "    rv = self.handle_user_exception(e)\n",
      "  File \"/Users/elizabethoriordan/anaconda3/lib/python3.6/site-packages/flask/app.py\", line 1517, in handle_user_exception\n",
      "    reraise(exc_type, exc_value, tb)\n",
      "  File \"/Users/elizabethoriordan/anaconda3/lib/python3.6/site-packages/flask/_compat.py\", line 33, in reraise\n",
      "    raise value\n",
      "  File \"/Users/elizabethoriordan/anaconda3/lib/python3.6/site-packages/flask/app.py\", line 1612, in full_dispatch_request\n",
      "    rv = self.dispatch_request()\n",
      "  File \"/Users/elizabethoriordan/anaconda3/lib/python3.6/site-packages/flask/app.py\", line 1598, in dispatch_request\n",
      "    return self.view_functions[rule.endpoint](**req.view_args)\n",
      "  File \"<ipython-input-257-82a6ebb1898b>\", line 120, in score\n",
      "    results = get_attributes(x[0])\n",
      "  File \"<ipython-input-130-912f8782abc6>\", line 2, in get_attributes\n",
      "    x = list(df5[df5[\"neighb2\"]==x][\"words\"].values)[0]\n",
      "IndexError: list index out of range\n",
      "127.0.0.1 - - [12/Dec/2018 20:04:14] \"\u001b[1m\u001b[35mPOST /score HTTP/1.1\u001b[0m\" 500 -\n",
      "127.0.0.1 - - [12/Dec/2018 20:04:14] \"\u001b[37mPOST /score HTTP/1.1\u001b[0m\" 200 -\n"
     ]
    },
    {
     "name": "stdout",
     "output_type": "stream",
     "text": [
      "Forest Park\n",
      "Glendale\n",
      "Middle Village\n",
      "Ridgewood\n",
      "Williamsburg\n",
      "['Hipster', 'L', 'River', 'Hip', 'Smorgasburg', 'Vintage', 'Flea', 'Brewery', 'Young', 'Trendy']\n"
     ]
    },
    {
     "name": "stderr",
     "output_type": "stream",
     "text": [
      "127.0.0.1 - - [12/Dec/2018 20:04:15] \"\u001b[37mPOST /score HTTP/1.1\u001b[0m\" 200 -\n",
      "[2018-12-12 20:04:15,137] ERROR in app: Exception on /score [POST]\n",
      "Traceback (most recent call last):\n",
      "  File \"/Users/elizabethoriordan/anaconda3/lib/python3.6/site-packages/flask/app.py\", line 1982, in wsgi_app\n",
      "    response = self.full_dispatch_request()\n",
      "  File \"/Users/elizabethoriordan/anaconda3/lib/python3.6/site-packages/flask/app.py\", line 1614, in full_dispatch_request\n",
      "    rv = self.handle_user_exception(e)\n",
      "  File \"/Users/elizabethoriordan/anaconda3/lib/python3.6/site-packages/flask/app.py\", line 1517, in handle_user_exception\n",
      "    reraise(exc_type, exc_value, tb)\n",
      "  File \"/Users/elizabethoriordan/anaconda3/lib/python3.6/site-packages/flask/_compat.py\", line 33, in reraise\n",
      "    raise value\n",
      "  File \"/Users/elizabethoriordan/anaconda3/lib/python3.6/site-packages/flask/app.py\", line 1612, in full_dispatch_request\n",
      "    rv = self.dispatch_request()\n",
      "  File \"/Users/elizabethoriordan/anaconda3/lib/python3.6/site-packages/flask/app.py\", line 1598, in dispatch_request\n",
      "    return self.view_functions[rule.endpoint](**req.view_args)\n",
      "  File \"<ipython-input-257-82a6ebb1898b>\", line 120, in score\n",
      "    results = get_attributes(x[0])\n",
      "  File \"<ipython-input-130-912f8782abc6>\", line 2, in get_attributes\n",
      "    x = list(df5[df5[\"neighb2\"]==x][\"words\"].values)[0]\n",
      "IndexError: list index out of range\n",
      "127.0.0.1 - - [12/Dec/2018 20:04:15] \"\u001b[1m\u001b[35mPOST /score HTTP/1.1\u001b[0m\" 500 -\n",
      "[2018-12-12 20:04:15,155] ERROR in app: Exception on /score [POST]\n",
      "Traceback (most recent call last):\n",
      "  File \"/Users/elizabethoriordan/anaconda3/lib/python3.6/site-packages/flask/app.py\", line 1982, in wsgi_app\n",
      "    response = self.full_dispatch_request()\n",
      "  File \"/Users/elizabethoriordan/anaconda3/lib/python3.6/site-packages/flask/app.py\", line 1614, in full_dispatch_request\n",
      "    rv = self.handle_user_exception(e)\n",
      "  File \"/Users/elizabethoriordan/anaconda3/lib/python3.6/site-packages/flask/app.py\", line 1517, in handle_user_exception\n",
      "    reraise(exc_type, exc_value, tb)\n",
      "  File \"/Users/elizabethoriordan/anaconda3/lib/python3.6/site-packages/flask/_compat.py\", line 33, in reraise\n",
      "    raise value\n",
      "  File \"/Users/elizabethoriordan/anaconda3/lib/python3.6/site-packages/flask/app.py\", line 1612, in full_dispatch_request\n",
      "    rv = self.dispatch_request()\n",
      "  File \"/Users/elizabethoriordan/anaconda3/lib/python3.6/site-packages/flask/app.py\", line 1598, in dispatch_request\n",
      "    return self.view_functions[rule.endpoint](**req.view_args)\n",
      "  File \"<ipython-input-257-82a6ebb1898b>\", line 120, in score\n",
      "    results = get_attributes(x[0])\n",
      "  File \"<ipython-input-130-912f8782abc6>\", line 2, in get_attributes\n",
      "    x = list(df5[df5[\"neighb2\"]==x][\"words\"].values)[0]\n",
      "IndexError: list index out of range\n",
      "127.0.0.1 - - [12/Dec/2018 20:04:15] \"\u001b[1m\u001b[35mPOST /score HTTP/1.1\u001b[0m\" 500 -\n"
     ]
    },
    {
     "name": "stdout",
     "output_type": "stream",
     "text": [
      "Chelsea\n",
      "['Highline', 'Galleries', 'Gay', 'Room', 'Desk', 'Elevated', 'Railway', 'Kitchen', 'River', 'Flower']\n",
      "Gramercy\n",
      "Stuyvesant Town\n"
     ]
    },
    {
     "name": "stderr",
     "output_type": "stream",
     "text": [
      "[2018-12-12 20:04:15,354] ERROR in app: Exception on /score [POST]\n",
      "Traceback (most recent call last):\n",
      "  File \"/Users/elizabethoriordan/anaconda3/lib/python3.6/site-packages/flask/app.py\", line 1982, in wsgi_app\n",
      "    response = self.full_dispatch_request()\n",
      "  File \"/Users/elizabethoriordan/anaconda3/lib/python3.6/site-packages/flask/app.py\", line 1614, in full_dispatch_request\n",
      "    rv = self.handle_user_exception(e)\n",
      "  File \"/Users/elizabethoriordan/anaconda3/lib/python3.6/site-packages/flask/app.py\", line 1517, in handle_user_exception\n",
      "    reraise(exc_type, exc_value, tb)\n",
      "  File \"/Users/elizabethoriordan/anaconda3/lib/python3.6/site-packages/flask/_compat.py\", line 33, in reraise\n",
      "    raise value\n",
      "  File \"/Users/elizabethoriordan/anaconda3/lib/python3.6/site-packages/flask/app.py\", line 1612, in full_dispatch_request\n",
      "    rv = self.dispatch_request()\n",
      "  File \"/Users/elizabethoriordan/anaconda3/lib/python3.6/site-packages/flask/app.py\", line 1598, in dispatch_request\n",
      "    return self.view_functions[rule.endpoint](**req.view_args)\n",
      "  File \"<ipython-input-257-82a6ebb1898b>\", line 120, in score\n",
      "    results = get_attributes(x[0])\n",
      "  File \"<ipython-input-130-912f8782abc6>\", line 2, in get_attributes\n",
      "    x = list(df5[df5[\"neighb2\"]==x][\"words\"].values)[0]\n",
      "IndexError: list index out of range\n",
      "127.0.0.1 - - [12/Dec/2018 20:04:15] \"\u001b[1m\u001b[35mPOST /score HTTP/1.1\u001b[0m\" 500 -\n"
     ]
    },
    {
     "name": "stdout",
     "output_type": "stream",
     "text": [
      "Greenpoint\n"
     ]
    },
    {
     "name": "stderr",
     "output_type": "stream",
     "text": [
      "127.0.0.1 - - [12/Dec/2018 20:04:15] \"\u001b[37mPOST /score HTTP/1.1\u001b[0m\" 200 -\n"
     ]
    },
    {
     "name": "stdout",
     "output_type": "stream",
     "text": [
      "Williamsburg\n",
      "['Hipster', 'L', 'River', 'Hip', 'Smorgasburg', 'Vintage', 'Flea', 'Brewery', 'Young', 'Trendy']\n"
     ]
    },
    {
     "name": "stderr",
     "output_type": "stream",
     "text": [
      "[2018-12-12 20:04:21,336] ERROR in app: Exception on /score [POST]\n",
      "Traceback (most recent call last):\n",
      "  File \"/Users/elizabethoriordan/anaconda3/lib/python3.6/site-packages/flask/app.py\", line 1982, in wsgi_app\n",
      "    response = self.full_dispatch_request()\n",
      "  File \"/Users/elizabethoriordan/anaconda3/lib/python3.6/site-packages/flask/app.py\", line 1614, in full_dispatch_request\n",
      "    rv = self.handle_user_exception(e)\n",
      "  File \"/Users/elizabethoriordan/anaconda3/lib/python3.6/site-packages/flask/app.py\", line 1517, in handle_user_exception\n",
      "    reraise(exc_type, exc_value, tb)\n",
      "  File \"/Users/elizabethoriordan/anaconda3/lib/python3.6/site-packages/flask/_compat.py\", line 33, in reraise\n",
      "    raise value\n",
      "  File \"/Users/elizabethoriordan/anaconda3/lib/python3.6/site-packages/flask/app.py\", line 1612, in full_dispatch_request\n",
      "    rv = self.dispatch_request()\n",
      "  File \"/Users/elizabethoriordan/anaconda3/lib/python3.6/site-packages/flask/app.py\", line 1598, in dispatch_request\n",
      "    return self.view_functions[rule.endpoint](**req.view_args)\n",
      "  File \"<ipython-input-257-82a6ebb1898b>\", line 120, in score\n",
      "    results = get_attributes(x[0])\n",
      "  File \"<ipython-input-130-912f8782abc6>\", line 2, in get_attributes\n",
      "    x = list(df5[df5[\"neighb2\"]==x][\"words\"].values)[0]\n",
      "IndexError: list index out of range\n",
      "127.0.0.1 - - [12/Dec/2018 20:04:21] \"\u001b[1m\u001b[35mPOST /score HTTP/1.1\u001b[0m\" 500 -\n",
      "127.0.0.1 - - [12/Dec/2018 20:04:21] \"\u001b[37mPOST /score HTTP/1.1\u001b[0m\" 200 -\n"
     ]
    },
    {
     "name": "stdout",
     "output_type": "stream",
     "text": [
      "Greenpoint\n",
      "Williamsburg\n",
      "['Hipster', 'L', 'River', 'Hip', 'Smorgasburg', 'Vintage', 'Flea', 'Brewery', 'Young', 'Trendy']\n"
     ]
    },
    {
     "name": "stderr",
     "output_type": "stream",
     "text": [
      "[2018-12-12 20:04:22,568] ERROR in app: Exception on /score [POST]\n",
      "Traceback (most recent call last):\n",
      "  File \"/Users/elizabethoriordan/anaconda3/lib/python3.6/site-packages/flask/app.py\", line 1982, in wsgi_app\n",
      "    response = self.full_dispatch_request()\n",
      "  File \"/Users/elizabethoriordan/anaconda3/lib/python3.6/site-packages/flask/app.py\", line 1614, in full_dispatch_request\n",
      "    rv = self.handle_user_exception(e)\n",
      "  File \"/Users/elizabethoriordan/anaconda3/lib/python3.6/site-packages/flask/app.py\", line 1517, in handle_user_exception\n",
      "    reraise(exc_type, exc_value, tb)\n",
      "  File \"/Users/elizabethoriordan/anaconda3/lib/python3.6/site-packages/flask/_compat.py\", line 33, in reraise\n",
      "    raise value\n",
      "  File \"/Users/elizabethoriordan/anaconda3/lib/python3.6/site-packages/flask/app.py\", line 1612, in full_dispatch_request\n",
      "    rv = self.dispatch_request()\n",
      "  File \"/Users/elizabethoriordan/anaconda3/lib/python3.6/site-packages/flask/app.py\", line 1598, in dispatch_request\n",
      "    return self.view_functions[rule.endpoint](**req.view_args)\n",
      "  File \"<ipython-input-257-82a6ebb1898b>\", line 120, in score\n",
      "    results = get_attributes(x[0])\n",
      "  File \"<ipython-input-130-912f8782abc6>\", line 2, in get_attributes\n",
      "    x = list(df5[df5[\"neighb2\"]==x][\"words\"].values)[0]\n",
      "IndexError: list index out of range\n",
      "127.0.0.1 - - [12/Dec/2018 20:04:22] \"\u001b[1m\u001b[35mPOST /score HTTP/1.1\u001b[0m\" 500 -\n",
      "[2018-12-12 20:04:22,583] ERROR in app: Exception on /score [POST]\n",
      "Traceback (most recent call last):\n",
      "  File \"/Users/elizabethoriordan/anaconda3/lib/python3.6/site-packages/flask/app.py\", line 1982, in wsgi_app\n",
      "    response = self.full_dispatch_request()\n",
      "  File \"/Users/elizabethoriordan/anaconda3/lib/python3.6/site-packages/flask/app.py\", line 1614, in full_dispatch_request\n",
      "    rv = self.handle_user_exception(e)\n",
      "  File \"/Users/elizabethoriordan/anaconda3/lib/python3.6/site-packages/flask/app.py\", line 1517, in handle_user_exception\n",
      "    reraise(exc_type, exc_value, tb)\n",
      "  File \"/Users/elizabethoriordan/anaconda3/lib/python3.6/site-packages/flask/_compat.py\", line 33, in reraise\n",
      "    raise value\n",
      "  File \"/Users/elizabethoriordan/anaconda3/lib/python3.6/site-packages/flask/app.py\", line 1612, in full_dispatch_request\n",
      "    rv = self.dispatch_request()\n",
      "  File \"/Users/elizabethoriordan/anaconda3/lib/python3.6/site-packages/flask/app.py\", line 1598, in dispatch_request\n",
      "    return self.view_functions[rule.endpoint](**req.view_args)\n",
      "  File \"<ipython-input-257-82a6ebb1898b>\", line 120, in score\n",
      "    results = get_attributes(x[0])\n",
      "  File \"<ipython-input-130-912f8782abc6>\", line 2, in get_attributes\n",
      "    x = list(df5[df5[\"neighb2\"]==x][\"words\"].values)[0]\n",
      "IndexError: list index out of range\n",
      "127.0.0.1 - - [12/Dec/2018 20:04:22] \"\u001b[1m\u001b[35mPOST /score HTTP/1.1\u001b[0m\" 500 -\n",
      "[2018-12-12 20:04:22,601] ERROR in app: Exception on /score [POST]\n",
      "Traceback (most recent call last):\n",
      "  File \"/Users/elizabethoriordan/anaconda3/lib/python3.6/site-packages/flask/app.py\", line 1982, in wsgi_app\n",
      "    response = self.full_dispatch_request()\n",
      "  File \"/Users/elizabethoriordan/anaconda3/lib/python3.6/site-packages/flask/app.py\", line 1614, in full_dispatch_request\n",
      "    rv = self.handle_user_exception(e)\n",
      "  File \"/Users/elizabethoriordan/anaconda3/lib/python3.6/site-packages/flask/app.py\", line 1517, in handle_user_exception\n",
      "    reraise(exc_type, exc_value, tb)\n",
      "  File \"/Users/elizabethoriordan/anaconda3/lib/python3.6/site-packages/flask/_compat.py\", line 33, in reraise\n",
      "    raise value\n",
      "  File \"/Users/elizabethoriordan/anaconda3/lib/python3.6/site-packages/flask/app.py\", line 1612, in full_dispatch_request\n",
      "    rv = self.dispatch_request()\n",
      "  File \"/Users/elizabethoriordan/anaconda3/lib/python3.6/site-packages/flask/app.py\", line 1598, in dispatch_request\n",
      "    return self.view_functions[rule.endpoint](**req.view_args)\n",
      "  File \"<ipython-input-257-82a6ebb1898b>\", line 120, in score\n",
      "    results = get_attributes(x[0])\n",
      "  File \"<ipython-input-130-912f8782abc6>\", line 2, in get_attributes\n",
      "    x = list(df5[df5[\"neighb2\"]==x][\"words\"].values)[0]\n",
      "IndexError: list index out of range\n",
      "127.0.0.1 - - [12/Dec/2018 20:04:22] \"\u001b[1m\u001b[35mPOST /score HTTP/1.1\u001b[0m\" 500 -\n",
      "[2018-12-12 20:04:22,637] ERROR in app: Exception on /score [POST]\n",
      "Traceback (most recent call last):\n",
      "  File \"/Users/elizabethoriordan/anaconda3/lib/python3.6/site-packages/flask/app.py\", line 1982, in wsgi_app\n",
      "    response = self.full_dispatch_request()\n",
      "  File \"/Users/elizabethoriordan/anaconda3/lib/python3.6/site-packages/flask/app.py\", line 1614, in full_dispatch_request\n",
      "    rv = self.handle_user_exception(e)\n",
      "  File \"/Users/elizabethoriordan/anaconda3/lib/python3.6/site-packages/flask/app.py\", line 1517, in handle_user_exception\n",
      "    reraise(exc_type, exc_value, tb)\n",
      "  File \"/Users/elizabethoriordan/anaconda3/lib/python3.6/site-packages/flask/_compat.py\", line 33, in reraise\n",
      "    raise value\n",
      "  File \"/Users/elizabethoriordan/anaconda3/lib/python3.6/site-packages/flask/app.py\", line 1612, in full_dispatch_request\n",
      "    rv = self.dispatch_request()\n",
      "  File \"/Users/elizabethoriordan/anaconda3/lib/python3.6/site-packages/flask/app.py\", line 1598, in dispatch_request\n",
      "    return self.view_functions[rule.endpoint](**req.view_args)\n",
      "  File \"<ipython-input-257-82a6ebb1898b>\", line 120, in score\n",
      "    results = get_attributes(x[0])\n",
      "  File \"<ipython-input-130-912f8782abc6>\", line 2, in get_attributes\n",
      "    x = list(df5[df5[\"neighb2\"]==x][\"words\"].values)[0]\n",
      "IndexError: list index out of range\n",
      "127.0.0.1 - - [12/Dec/2018 20:04:22] \"\u001b[1m\u001b[35mPOST /score HTTP/1.1\u001b[0m\" 500 -\n",
      "[2018-12-12 20:04:22,668] ERROR in app: Exception on /score [POST]\n",
      "Traceback (most recent call last):\n",
      "  File \"/Users/elizabethoriordan/anaconda3/lib/python3.6/site-packages/flask/app.py\", line 1982, in wsgi_app\n",
      "    response = self.full_dispatch_request()\n",
      "  File \"/Users/elizabethoriordan/anaconda3/lib/python3.6/site-packages/flask/app.py\", line 1614, in full_dispatch_request\n",
      "    rv = self.handle_user_exception(e)\n",
      "  File \"/Users/elizabethoriordan/anaconda3/lib/python3.6/site-packages/flask/app.py\", line 1517, in handle_user_exception\n",
      "    reraise(exc_type, exc_value, tb)\n",
      "  File \"/Users/elizabethoriordan/anaconda3/lib/python3.6/site-packages/flask/_compat.py\", line 33, in reraise\n",
      "    raise value\n",
      "  File \"/Users/elizabethoriordan/anaconda3/lib/python3.6/site-packages/flask/app.py\", line 1612, in full_dispatch_request\n",
      "    rv = self.dispatch_request()\n",
      "  File \"/Users/elizabethoriordan/anaconda3/lib/python3.6/site-packages/flask/app.py\", line 1598, in dispatch_request\n",
      "    return self.view_functions[rule.endpoint](**req.view_args)\n",
      "  File \"<ipython-input-257-82a6ebb1898b>\", line 120, in score\n",
      "    results = get_attributes(x[0])\n",
      "  File \"<ipython-input-130-912f8782abc6>\", line 2, in get_attributes\n",
      "    x = list(df5[df5[\"neighb2\"]==x][\"words\"].values)[0]\n",
      "IndexError: list index out of range\n",
      "127.0.0.1 - - [12/Dec/2018 20:04:22] \"\u001b[1m\u001b[35mPOST /score HTTP/1.1\u001b[0m\" 500 -\n",
      "[2018-12-12 20:04:22,737] ERROR in app: Exception on /score [POST]\n",
      "Traceback (most recent call last):\n",
      "  File \"/Users/elizabethoriordan/anaconda3/lib/python3.6/site-packages/flask/app.py\", line 1982, in wsgi_app\n",
      "    response = self.full_dispatch_request()\n",
      "  File \"/Users/elizabethoriordan/anaconda3/lib/python3.6/site-packages/flask/app.py\", line 1614, in full_dispatch_request\n",
      "    rv = self.handle_user_exception(e)\n",
      "  File \"/Users/elizabethoriordan/anaconda3/lib/python3.6/site-packages/flask/app.py\", line 1517, in handle_user_exception\n",
      "    reraise(exc_type, exc_value, tb)\n",
      "  File \"/Users/elizabethoriordan/anaconda3/lib/python3.6/site-packages/flask/_compat.py\", line 33, in reraise\n",
      "    raise value\n",
      "  File \"/Users/elizabethoriordan/anaconda3/lib/python3.6/site-packages/flask/app.py\", line 1612, in full_dispatch_request\n",
      "    rv = self.dispatch_request()\n",
      "  File \"/Users/elizabethoriordan/anaconda3/lib/python3.6/site-packages/flask/app.py\", line 1598, in dispatch_request\n",
      "    return self.view_functions[rule.endpoint](**req.view_args)\n",
      "  File \"<ipython-input-257-82a6ebb1898b>\", line 120, in score\n",
      "    results = get_attributes(x[0])\n",
      "  File \"<ipython-input-130-912f8782abc6>\", line 2, in get_attributes\n",
      "    x = list(df5[df5[\"neighb2\"]==x][\"words\"].values)[0]\n",
      "IndexError: list index out of range\n",
      "127.0.0.1 - - [12/Dec/2018 20:04:22] \"\u001b[1m\u001b[35mPOST /score HTTP/1.1\u001b[0m\" 500 -\n"
     ]
    },
    {
     "name": "stdout",
     "output_type": "stream",
     "text": [
      "Fort Greene\n",
      "Park Slope\n",
      "South Slope\n",
      "Kensington\n",
      "Midwood\n",
      "Sheepshead Bay\n"
     ]
    },
    {
     "name": "stderr",
     "output_type": "stream",
     "text": [
      "[2018-12-12 20:04:22,869] ERROR in app: Exception on /score [POST]\n",
      "Traceback (most recent call last):\n",
      "  File \"/Users/elizabethoriordan/anaconda3/lib/python3.6/site-packages/flask/app.py\", line 1982, in wsgi_app\n",
      "    response = self.full_dispatch_request()\n",
      "  File \"/Users/elizabethoriordan/anaconda3/lib/python3.6/site-packages/flask/app.py\", line 1614, in full_dispatch_request\n",
      "    rv = self.handle_user_exception(e)\n",
      "  File \"/Users/elizabethoriordan/anaconda3/lib/python3.6/site-packages/flask/app.py\", line 1517, in handle_user_exception\n",
      "    reraise(exc_type, exc_value, tb)\n",
      "  File \"/Users/elizabethoriordan/anaconda3/lib/python3.6/site-packages/flask/_compat.py\", line 33, in reraise\n",
      "    raise value\n",
      "  File \"/Users/elizabethoriordan/anaconda3/lib/python3.6/site-packages/flask/app.py\", line 1612, in full_dispatch_request\n",
      "    rv = self.dispatch_request()\n",
      "  File \"/Users/elizabethoriordan/anaconda3/lib/python3.6/site-packages/flask/app.py\", line 1598, in dispatch_request\n",
      "    return self.view_functions[rule.endpoint](**req.view_args)\n",
      "  File \"<ipython-input-257-82a6ebb1898b>\", line 120, in score\n",
      "    results = get_attributes(x[0])\n",
      "  File \"<ipython-input-130-912f8782abc6>\", line 2, in get_attributes\n",
      "    x = list(df5[df5[\"neighb2\"]==x][\"words\"].values)[0]\n",
      "IndexError: list index out of range\n",
      "127.0.0.1 - - [12/Dec/2018 20:04:22] \"\u001b[1m\u001b[35mPOST /score HTTP/1.1\u001b[0m\" 500 -\n",
      "[2018-12-12 20:04:22,902] ERROR in app: Exception on /score [POST]\n",
      "Traceback (most recent call last):\n",
      "  File \"/Users/elizabethoriordan/anaconda3/lib/python3.6/site-packages/flask/app.py\", line 1982, in wsgi_app\n",
      "    response = self.full_dispatch_request()\n",
      "  File \"/Users/elizabethoriordan/anaconda3/lib/python3.6/site-packages/flask/app.py\", line 1614, in full_dispatch_request\n",
      "    rv = self.handle_user_exception(e)\n",
      "  File \"/Users/elizabethoriordan/anaconda3/lib/python3.6/site-packages/flask/app.py\", line 1517, in handle_user_exception\n",
      "    reraise(exc_type, exc_value, tb)\n",
      "  File \"/Users/elizabethoriordan/anaconda3/lib/python3.6/site-packages/flask/_compat.py\", line 33, in reraise\n",
      "    raise value\n",
      "  File \"/Users/elizabethoriordan/anaconda3/lib/python3.6/site-packages/flask/app.py\", line 1612, in full_dispatch_request\n",
      "    rv = self.dispatch_request()\n",
      "  File \"/Users/elizabethoriordan/anaconda3/lib/python3.6/site-packages/flask/app.py\", line 1598, in dispatch_request\n",
      "    return self.view_functions[rule.endpoint](**req.view_args)\n",
      "  File \"<ipython-input-257-82a6ebb1898b>\", line 120, in score\n",
      "    results = get_attributes(x[0])\n",
      "  File \"<ipython-input-130-912f8782abc6>\", line 2, in get_attributes\n",
      "    x = list(df5[df5[\"neighb2\"]==x][\"words\"].values)[0]\n",
      "IndexError: list index out of range\n",
      "127.0.0.1 - - [12/Dec/2018 20:04:22] \"\u001b[1m\u001b[35mPOST /score HTTP/1.1\u001b[0m\" 500 -\n",
      "[2018-12-12 20:04:22,935] ERROR in app: Exception on /score [POST]\n",
      "Traceback (most recent call last):\n",
      "  File \"/Users/elizabethoriordan/anaconda3/lib/python3.6/site-packages/flask/app.py\", line 1982, in wsgi_app\n",
      "    response = self.full_dispatch_request()\n",
      "  File \"/Users/elizabethoriordan/anaconda3/lib/python3.6/site-packages/flask/app.py\", line 1614, in full_dispatch_request\n",
      "    rv = self.handle_user_exception(e)\n",
      "  File \"/Users/elizabethoriordan/anaconda3/lib/python3.6/site-packages/flask/app.py\", line 1517, in handle_user_exception\n",
      "    reraise(exc_type, exc_value, tb)\n",
      "  File \"/Users/elizabethoriordan/anaconda3/lib/python3.6/site-packages/flask/_compat.py\", line 33, in reraise\n",
      "    raise value\n",
      "  File \"/Users/elizabethoriordan/anaconda3/lib/python3.6/site-packages/flask/app.py\", line 1612, in full_dispatch_request\n",
      "    rv = self.dispatch_request()\n",
      "  File \"/Users/elizabethoriordan/anaconda3/lib/python3.6/site-packages/flask/app.py\", line 1598, in dispatch_request\n",
      "    return self.view_functions[rule.endpoint](**req.view_args)\n",
      "  File \"<ipython-input-257-82a6ebb1898b>\", line 120, in score\n",
      "    results = get_attributes(x[0])\n",
      "  File \"<ipython-input-130-912f8782abc6>\", line 2, in get_attributes\n",
      "    x = list(df5[df5[\"neighb2\"]==x][\"words\"].values)[0]\n",
      "IndexError: list index out of range\n",
      "127.0.0.1 - - [12/Dec/2018 20:04:22] \"\u001b[1m\u001b[35mPOST /score HTTP/1.1\u001b[0m\" 500 -\n",
      "[2018-12-12 20:04:23,001] ERROR in app: Exception on /score [POST]\n",
      "Traceback (most recent call last):\n",
      "  File \"/Users/elizabethoriordan/anaconda3/lib/python3.6/site-packages/flask/app.py\", line 1982, in wsgi_app\n",
      "    response = self.full_dispatch_request()\n",
      "  File \"/Users/elizabethoriordan/anaconda3/lib/python3.6/site-packages/flask/app.py\", line 1614, in full_dispatch_request\n",
      "    rv = self.handle_user_exception(e)\n",
      "  File \"/Users/elizabethoriordan/anaconda3/lib/python3.6/site-packages/flask/app.py\", line 1517, in handle_user_exception\n",
      "    reraise(exc_type, exc_value, tb)\n",
      "  File \"/Users/elizabethoriordan/anaconda3/lib/python3.6/site-packages/flask/_compat.py\", line 33, in reraise\n",
      "    raise value\n",
      "  File \"/Users/elizabethoriordan/anaconda3/lib/python3.6/site-packages/flask/app.py\", line 1612, in full_dispatch_request\n",
      "    rv = self.dispatch_request()\n",
      "  File \"/Users/elizabethoriordan/anaconda3/lib/python3.6/site-packages/flask/app.py\", line 1598, in dispatch_request\n",
      "    return self.view_functions[rule.endpoint](**req.view_args)\n",
      "  File \"<ipython-input-257-82a6ebb1898b>\", line 120, in score\n",
      "    results = get_attributes(x[0])\n",
      "  File \"<ipython-input-130-912f8782abc6>\", line 2, in get_attributes\n",
      "    x = list(df5[df5[\"neighb2\"]==x][\"words\"].values)[0]\n",
      "IndexError: list index out of range\n",
      "127.0.0.1 - - [12/Dec/2018 20:04:23] \"\u001b[1m\u001b[35mPOST /score HTTP/1.1\u001b[0m\" 500 -\n",
      "[2018-12-12 20:04:23,035] ERROR in app: Exception on /score [POST]\n",
      "Traceback (most recent call last):\n",
      "  File \"/Users/elizabethoriordan/anaconda3/lib/python3.6/site-packages/flask/app.py\", line 1982, in wsgi_app\n",
      "    response = self.full_dispatch_request()\n",
      "  File \"/Users/elizabethoriordan/anaconda3/lib/python3.6/site-packages/flask/app.py\", line 1614, in full_dispatch_request\n",
      "    rv = self.handle_user_exception(e)\n",
      "  File \"/Users/elizabethoriordan/anaconda3/lib/python3.6/site-packages/flask/app.py\", line 1517, in handle_user_exception\n",
      "    reraise(exc_type, exc_value, tb)\n",
      "  File \"/Users/elizabethoriordan/anaconda3/lib/python3.6/site-packages/flask/_compat.py\", line 33, in reraise\n",
      "    raise value\n",
      "  File \"/Users/elizabethoriordan/anaconda3/lib/python3.6/site-packages/flask/app.py\", line 1612, in full_dispatch_request\n",
      "    rv = self.dispatch_request()\n",
      "  File \"/Users/elizabethoriordan/anaconda3/lib/python3.6/site-packages/flask/app.py\", line 1598, in dispatch_request\n",
      "    return self.view_functions[rule.endpoint](**req.view_args)\n",
      "  File \"<ipython-input-257-82a6ebb1898b>\", line 120, in score\n",
      "    results = get_attributes(x[0])\n",
      "  File \"<ipython-input-130-912f8782abc6>\", line 2, in get_attributes\n",
      "    x = list(df5[df5[\"neighb2\"]==x][\"words\"].values)[0]\n",
      "IndexError: list index out of range\n",
      "127.0.0.1 - - [12/Dec/2018 20:04:23] \"\u001b[1m\u001b[35mPOST /score HTTP/1.1\u001b[0m\" 500 -\n",
      "[2018-12-12 20:04:23,067] ERROR in app: Exception on /score [POST]\n",
      "Traceback (most recent call last):\n",
      "  File \"/Users/elizabethoriordan/anaconda3/lib/python3.6/site-packages/flask/app.py\", line 1982, in wsgi_app\n",
      "    response = self.full_dispatch_request()\n",
      "  File \"/Users/elizabethoriordan/anaconda3/lib/python3.6/site-packages/flask/app.py\", line 1614, in full_dispatch_request\n",
      "    rv = self.handle_user_exception(e)\n",
      "  File \"/Users/elizabethoriordan/anaconda3/lib/python3.6/site-packages/flask/app.py\", line 1517, in handle_user_exception\n",
      "    reraise(exc_type, exc_value, tb)\n",
      "  File \"/Users/elizabethoriordan/anaconda3/lib/python3.6/site-packages/flask/_compat.py\", line 33, in reraise\n",
      "    raise value\n",
      "  File \"/Users/elizabethoriordan/anaconda3/lib/python3.6/site-packages/flask/app.py\", line 1612, in full_dispatch_request\n",
      "    rv = self.dispatch_request()\n",
      "  File \"/Users/elizabethoriordan/anaconda3/lib/python3.6/site-packages/flask/app.py\", line 1598, in dispatch_request\n",
      "    return self.view_functions[rule.endpoint](**req.view_args)\n",
      "  File \"<ipython-input-257-82a6ebb1898b>\", line 120, in score\n",
      "    results = get_attributes(x[0])\n",
      "  File \"<ipython-input-130-912f8782abc6>\", line 2, in get_attributes\n",
      "    x = list(df5[df5[\"neighb2\"]==x][\"words\"].values)[0]\n",
      "IndexError: list index out of range\n"
     ]
    },
    {
     "name": "stdout",
     "output_type": "stream",
     "text": [
      "Marine Park\n",
      "Flatlands\n",
      "East Flatbush\n",
      "Prospect-Lefferts Gardens\n",
      "Crown Heights\n",
      "Bedford-Stuyvesant\n"
     ]
    },
    {
     "name": "stderr",
     "output_type": "stream",
     "text": [
      "127.0.0.1 - - [12/Dec/2018 20:04:23] \"\u001b[1m\u001b[35mPOST /score HTTP/1.1\u001b[0m\" 500 -\n",
      "[2018-12-12 20:04:23,167] ERROR in app: Exception on /score [POST]\n",
      "Traceback (most recent call last):\n",
      "  File \"/Users/elizabethoriordan/anaconda3/lib/python3.6/site-packages/flask/app.py\", line 1982, in wsgi_app\n",
      "    response = self.full_dispatch_request()\n",
      "  File \"/Users/elizabethoriordan/anaconda3/lib/python3.6/site-packages/flask/app.py\", line 1614, in full_dispatch_request\n",
      "    rv = self.handle_user_exception(e)\n",
      "  File \"/Users/elizabethoriordan/anaconda3/lib/python3.6/site-packages/flask/app.py\", line 1517, in handle_user_exception\n",
      "    reraise(exc_type, exc_value, tb)\n",
      "  File \"/Users/elizabethoriordan/anaconda3/lib/python3.6/site-packages/flask/_compat.py\", line 33, in reraise\n",
      "    raise value\n",
      "  File \"/Users/elizabethoriordan/anaconda3/lib/python3.6/site-packages/flask/app.py\", line 1612, in full_dispatch_request\n",
      "    rv = self.dispatch_request()\n",
      "  File \"/Users/elizabethoriordan/anaconda3/lib/python3.6/site-packages/flask/app.py\", line 1598, in dispatch_request\n",
      "    return self.view_functions[rule.endpoint](**req.view_args)\n",
      "  File \"<ipython-input-257-82a6ebb1898b>\", line 120, in score\n",
      "    results = get_attributes(x[0])\n",
      "  File \"<ipython-input-130-912f8782abc6>\", line 2, in get_attributes\n",
      "    x = list(df5[df5[\"neighb2\"]==x][\"words\"].values)[0]\n",
      "IndexError: list index out of range\n",
      "127.0.0.1 - - [12/Dec/2018 20:04:23] \"\u001b[1m\u001b[35mPOST /score HTTP/1.1\u001b[0m\" 500 -\n",
      "127.0.0.1 - - [12/Dec/2018 20:04:23] \"\u001b[37mPOST /score HTTP/1.1\u001b[0m\" 200 -\n"
     ]
    },
    {
     "name": "stdout",
     "output_type": "stream",
     "text": [
      "Bushwick\n",
      "Williamsburg\n",
      "['Hipster', 'L', 'River', 'Hip', 'Smorgasburg', 'Vintage', 'Flea', 'Brewery', 'Young', 'Trendy']\n"
     ]
    },
    {
     "name": "stderr",
     "output_type": "stream",
     "text": [
      "[2018-12-12 20:04:38,297] ERROR in app: Exception on /score [POST]\n",
      "Traceback (most recent call last):\n",
      "  File \"/Users/elizabethoriordan/anaconda3/lib/python3.6/site-packages/flask/app.py\", line 1982, in wsgi_app\n",
      "    response = self.full_dispatch_request()\n",
      "  File \"/Users/elizabethoriordan/anaconda3/lib/python3.6/site-packages/flask/app.py\", line 1614, in full_dispatch_request\n",
      "    rv = self.handle_user_exception(e)\n",
      "  File \"/Users/elizabethoriordan/anaconda3/lib/python3.6/site-packages/flask/app.py\", line 1517, in handle_user_exception\n",
      "    reraise(exc_type, exc_value, tb)\n",
      "  File \"/Users/elizabethoriordan/anaconda3/lib/python3.6/site-packages/flask/_compat.py\", line 33, in reraise\n",
      "    raise value\n",
      "  File \"/Users/elizabethoriordan/anaconda3/lib/python3.6/site-packages/flask/app.py\", line 1612, in full_dispatch_request\n",
      "    rv = self.dispatch_request()\n",
      "  File \"/Users/elizabethoriordan/anaconda3/lib/python3.6/site-packages/flask/app.py\", line 1598, in dispatch_request\n",
      "    return self.view_functions[rule.endpoint](**req.view_args)\n",
      "  File \"<ipython-input-257-82a6ebb1898b>\", line 120, in score\n",
      "    results = get_attributes(x[0])\n",
      "  File \"<ipython-input-130-912f8782abc6>\", line 2, in get_attributes\n",
      "    x = list(df5[df5[\"neighb2\"]==x][\"words\"].values)[0]\n",
      "IndexError: list index out of range\n",
      "127.0.0.1 - - [12/Dec/2018 20:04:38] \"\u001b[1m\u001b[35mPOST /score HTTP/1.1\u001b[0m\" 500 -\n",
      "[2018-12-12 20:04:38,432] ERROR in app: Exception on /score [POST]\n",
      "Traceback (most recent call last):\n",
      "  File \"/Users/elizabethoriordan/anaconda3/lib/python3.6/site-packages/flask/app.py\", line 1982, in wsgi_app\n",
      "    response = self.full_dispatch_request()\n",
      "  File \"/Users/elizabethoriordan/anaconda3/lib/python3.6/site-packages/flask/app.py\", line 1614, in full_dispatch_request\n",
      "    rv = self.handle_user_exception(e)\n",
      "  File \"/Users/elizabethoriordan/anaconda3/lib/python3.6/site-packages/flask/app.py\", line 1517, in handle_user_exception\n",
      "    reraise(exc_type, exc_value, tb)\n",
      "  File \"/Users/elizabethoriordan/anaconda3/lib/python3.6/site-packages/flask/_compat.py\", line 33, in reraise\n",
      "    raise value\n",
      "  File \"/Users/elizabethoriordan/anaconda3/lib/python3.6/site-packages/flask/app.py\", line 1612, in full_dispatch_request\n",
      "    rv = self.dispatch_request()\n",
      "  File \"/Users/elizabethoriordan/anaconda3/lib/python3.6/site-packages/flask/app.py\", line 1598, in dispatch_request\n",
      "    return self.view_functions[rule.endpoint](**req.view_args)\n",
      "  File \"<ipython-input-257-82a6ebb1898b>\", line 120, in score\n",
      "    results = get_attributes(x[0])\n",
      "  File \"<ipython-input-130-912f8782abc6>\", line 2, in get_attributes\n",
      "    x = list(df5[df5[\"neighb2\"]==x][\"words\"].values)[0]\n",
      "IndexError: list index out of range\n",
      "127.0.0.1 - - [12/Dec/2018 20:04:38] \"\u001b[1m\u001b[35mPOST /score HTTP/1.1\u001b[0m\" 500 -\n"
     ]
    },
    {
     "name": "stdout",
     "output_type": "stream",
     "text": [
      "Greenpoint\n",
      "Long Island City\n"
     ]
    },
    {
     "name": "stderr",
     "output_type": "stream",
     "text": [
      "[2018-12-12 20:04:38,581] ERROR in app: Exception on /score [POST]\n",
      "Traceback (most recent call last):\n",
      "  File \"/Users/elizabethoriordan/anaconda3/lib/python3.6/site-packages/flask/app.py\", line 1982, in wsgi_app\n",
      "    response = self.full_dispatch_request()\n",
      "  File \"/Users/elizabethoriordan/anaconda3/lib/python3.6/site-packages/flask/app.py\", line 1614, in full_dispatch_request\n",
      "    rv = self.handle_user_exception(e)\n",
      "  File \"/Users/elizabethoriordan/anaconda3/lib/python3.6/site-packages/flask/app.py\", line 1517, in handle_user_exception\n",
      "    reraise(exc_type, exc_value, tb)\n",
      "  File \"/Users/elizabethoriordan/anaconda3/lib/python3.6/site-packages/flask/_compat.py\", line 33, in reraise\n",
      "    raise value\n",
      "  File \"/Users/elizabethoriordan/anaconda3/lib/python3.6/site-packages/flask/app.py\", line 1612, in full_dispatch_request\n",
      "    rv = self.dispatch_request()\n",
      "  File \"/Users/elizabethoriordan/anaconda3/lib/python3.6/site-packages/flask/app.py\", line 1598, in dispatch_request\n",
      "    return self.view_functions[rule.endpoint](**req.view_args)\n",
      "  File \"<ipython-input-257-82a6ebb1898b>\", line 120, in score\n",
      "    results = get_attributes(x[0])\n",
      "  File \"<ipython-input-130-912f8782abc6>\", line 2, in get_attributes\n",
      "    x = list(df5[df5[\"neighb2\"]==x][\"words\"].values)[0]\n",
      "IndexError: list index out of range\n",
      "127.0.0.1 - - [12/Dec/2018 20:04:38] \"\u001b[1m\u001b[35mPOST /score HTTP/1.1\u001b[0m\" 500 -\n",
      "127.0.0.1 - - [12/Dec/2018 20:04:38] \"\u001b[37mPOST /score HTTP/1.1\u001b[0m\" 200 -\n"
     ]
    },
    {
     "name": "stdout",
     "output_type": "stream",
     "text": [
      "Roosevelt Island\n",
      "Upper East Side\n",
      "['River', 'Metropolitan', 'Frick', 'Mansion', 'Mile', 'Met', 'Guggenheim', 'Carl', 'Schurz', 'Neue']\n"
     ]
    },
    {
     "name": "stderr",
     "output_type": "stream",
     "text": [
      "[2018-12-12 20:04:42,138] ERROR in app: Exception on /score [POST]\n",
      "Traceback (most recent call last):\n",
      "  File \"/Users/elizabethoriordan/anaconda3/lib/python3.6/site-packages/flask/app.py\", line 1982, in wsgi_app\n",
      "    response = self.full_dispatch_request()\n",
      "  File \"/Users/elizabethoriordan/anaconda3/lib/python3.6/site-packages/flask/app.py\", line 1614, in full_dispatch_request\n",
      "    rv = self.handle_user_exception(e)\n",
      "  File \"/Users/elizabethoriordan/anaconda3/lib/python3.6/site-packages/flask/app.py\", line 1517, in handle_user_exception\n",
      "    reraise(exc_type, exc_value, tb)\n",
      "  File \"/Users/elizabethoriordan/anaconda3/lib/python3.6/site-packages/flask/_compat.py\", line 33, in reraise\n",
      "    raise value\n",
      "  File \"/Users/elizabethoriordan/anaconda3/lib/python3.6/site-packages/flask/app.py\", line 1612, in full_dispatch_request\n",
      "    rv = self.dispatch_request()\n",
      "  File \"/Users/elizabethoriordan/anaconda3/lib/python3.6/site-packages/flask/app.py\", line 1598, in dispatch_request\n",
      "    return self.view_functions[rule.endpoint](**req.view_args)\n",
      "  File \"<ipython-input-257-82a6ebb1898b>\", line 120, in score\n",
      "    results = get_attributes(x[0])\n",
      "  File \"<ipython-input-130-912f8782abc6>\", line 2, in get_attributes\n",
      "    x = list(df5[df5[\"neighb2\"]==x][\"words\"].values)[0]\n",
      "IndexError: list index out of range\n",
      "127.0.0.1 - - [12/Dec/2018 20:04:42] \"\u001b[1m\u001b[35mPOST /score HTTP/1.1\u001b[0m\" 500 -\n",
      "[2018-12-12 20:04:42,157] ERROR in app: Exception on /score [POST]\n",
      "Traceback (most recent call last):\n",
      "  File \"/Users/elizabethoriordan/anaconda3/lib/python3.6/site-packages/flask/app.py\", line 1982, in wsgi_app\n",
      "    response = self.full_dispatch_request()\n",
      "  File \"/Users/elizabethoriordan/anaconda3/lib/python3.6/site-packages/flask/app.py\", line 1614, in full_dispatch_request\n",
      "    rv = self.handle_user_exception(e)\n",
      "  File \"/Users/elizabethoriordan/anaconda3/lib/python3.6/site-packages/flask/app.py\", line 1517, in handle_user_exception\n",
      "    reraise(exc_type, exc_value, tb)\n",
      "  File \"/Users/elizabethoriordan/anaconda3/lib/python3.6/site-packages/flask/_compat.py\", line 33, in reraise\n",
      "    raise value\n",
      "  File \"/Users/elizabethoriordan/anaconda3/lib/python3.6/site-packages/flask/app.py\", line 1612, in full_dispatch_request\n",
      "    rv = self.dispatch_request()\n",
      "  File \"/Users/elizabethoriordan/anaconda3/lib/python3.6/site-packages/flask/app.py\", line 1598, in dispatch_request\n",
      "    return self.view_functions[rule.endpoint](**req.view_args)\n",
      "  File \"<ipython-input-257-82a6ebb1898b>\", line 120, in score\n",
      "    results = get_attributes(x[0])\n",
      "  File \"<ipython-input-130-912f8782abc6>\", line 2, in get_attributes\n",
      "    x = list(df5[df5[\"neighb2\"]==x][\"words\"].values)[0]\n",
      "IndexError: list index out of range\n",
      "127.0.0.1 - - [12/Dec/2018 20:04:42] \"\u001b[1m\u001b[35mPOST /score HTTP/1.1\u001b[0m\" 500 -\n",
      "[2018-12-12 20:04:42,188] ERROR in app: Exception on /score [POST]\n",
      "Traceback (most recent call last):\n",
      "  File \"/Users/elizabethoriordan/anaconda3/lib/python3.6/site-packages/flask/app.py\", line 1982, in wsgi_app\n",
      "    response = self.full_dispatch_request()\n",
      "  File \"/Users/elizabethoriordan/anaconda3/lib/python3.6/site-packages/flask/app.py\", line 1614, in full_dispatch_request\n",
      "    rv = self.handle_user_exception(e)\n",
      "  File \"/Users/elizabethoriordan/anaconda3/lib/python3.6/site-packages/flask/app.py\", line 1517, in handle_user_exception\n",
      "    reraise(exc_type, exc_value, tb)\n",
      "  File \"/Users/elizabethoriordan/anaconda3/lib/python3.6/site-packages/flask/_compat.py\", line 33, in reraise\n",
      "    raise value\n",
      "  File \"/Users/elizabethoriordan/anaconda3/lib/python3.6/site-packages/flask/app.py\", line 1612, in full_dispatch_request\n",
      "    rv = self.dispatch_request()\n",
      "  File \"/Users/elizabethoriordan/anaconda3/lib/python3.6/site-packages/flask/app.py\", line 1598, in dispatch_request\n",
      "    return self.view_functions[rule.endpoint](**req.view_args)\n",
      "  File \"<ipython-input-257-82a6ebb1898b>\", line 120, in score\n",
      "    results = get_attributes(x[0])\n",
      "  File \"<ipython-input-130-912f8782abc6>\", line 2, in get_attributes\n",
      "    x = list(df5[df5[\"neighb2\"]==x][\"words\"].values)[0]\n",
      "IndexError: list index out of range\n",
      "127.0.0.1 - - [12/Dec/2018 20:04:42] \"\u001b[1m\u001b[35mPOST /score HTTP/1.1\u001b[0m\" 500 -\n",
      "[2018-12-12 20:04:42,206] ERROR in app: Exception on /score [POST]\n",
      "Traceback (most recent call last):\n",
      "  File \"/Users/elizabethoriordan/anaconda3/lib/python3.6/site-packages/flask/app.py\", line 1982, in wsgi_app\n",
      "    response = self.full_dispatch_request()\n",
      "  File \"/Users/elizabethoriordan/anaconda3/lib/python3.6/site-packages/flask/app.py\", line 1614, in full_dispatch_request\n",
      "    rv = self.handle_user_exception(e)\n",
      "  File \"/Users/elizabethoriordan/anaconda3/lib/python3.6/site-packages/flask/app.py\", line 1517, in handle_user_exception\n",
      "    reraise(exc_type, exc_value, tb)\n",
      "  File \"/Users/elizabethoriordan/anaconda3/lib/python3.6/site-packages/flask/_compat.py\", line 33, in reraise\n",
      "    raise value\n",
      "  File \"/Users/elizabethoriordan/anaconda3/lib/python3.6/site-packages/flask/app.py\", line 1612, in full_dispatch_request\n",
      "    rv = self.dispatch_request()\n",
      "  File \"/Users/elizabethoriordan/anaconda3/lib/python3.6/site-packages/flask/app.py\", line 1598, in dispatch_request\n",
      "    return self.view_functions[rule.endpoint](**req.view_args)\n",
      "  File \"<ipython-input-257-82a6ebb1898b>\", line 120, in score\n",
      "    results = get_attributes(x[0])\n",
      "  File \"<ipython-input-130-912f8782abc6>\", line 2, in get_attributes\n",
      "    x = list(df5[df5[\"neighb2\"]==x][\"words\"].values)[0]\n",
      "IndexError: list index out of range\n",
      "127.0.0.1 - - [12/Dec/2018 20:04:42] \"\u001b[1m\u001b[35mPOST /score HTTP/1.1\u001b[0m\" 500 -\n",
      "[2018-12-12 20:04:42,223] ERROR in app: Exception on /score [POST]\n",
      "Traceback (most recent call last):\n",
      "  File \"/Users/elizabethoriordan/anaconda3/lib/python3.6/site-packages/flask/app.py\", line 1982, in wsgi_app\n",
      "    response = self.full_dispatch_request()\n",
      "  File \"/Users/elizabethoriordan/anaconda3/lib/python3.6/site-packages/flask/app.py\", line 1614, in full_dispatch_request\n",
      "    rv = self.handle_user_exception(e)\n",
      "  File \"/Users/elizabethoriordan/anaconda3/lib/python3.6/site-packages/flask/app.py\", line 1517, in handle_user_exception\n",
      "    reraise(exc_type, exc_value, tb)\n",
      "  File \"/Users/elizabethoriordan/anaconda3/lib/python3.6/site-packages/flask/_compat.py\", line 33, in reraise\n",
      "    raise value\n",
      "  File \"/Users/elizabethoriordan/anaconda3/lib/python3.6/site-packages/flask/app.py\", line 1612, in full_dispatch_request\n",
      "    rv = self.dispatch_request()\n",
      "  File \"/Users/elizabethoriordan/anaconda3/lib/python3.6/site-packages/flask/app.py\", line 1598, in dispatch_request\n",
      "    return self.view_functions[rule.endpoint](**req.view_args)\n",
      "  File \"<ipython-input-257-82a6ebb1898b>\", line 120, in score\n",
      "    results = get_attributes(x[0])\n",
      "  File \"<ipython-input-130-912f8782abc6>\", line 2, in get_attributes\n",
      "    x = list(df5[df5[\"neighb2\"]==x][\"words\"].values)[0]\n",
      "IndexError: list index out of range\n",
      "127.0.0.1 - - [12/Dec/2018 20:04:42] \"\u001b[1m\u001b[35mPOST /score HTTP/1.1\u001b[0m\" 500 -\n"
     ]
    },
    {
     "name": "stdout",
     "output_type": "stream",
     "text": [
      "Roosevelt Island\n",
      "Long Island City\n",
      "Maspeth\n",
      "Forest Park\n",
      "John F. Kennedy International Airport\n"
     ]
    },
    {
     "name": "stderr",
     "output_type": "stream",
     "text": [
      "[2018-12-12 20:04:46,877] ERROR in app: Exception on /score [POST]\n",
      "Traceback (most recent call last):\n",
      "  File \"/Users/elizabethoriordan/anaconda3/lib/python3.6/site-packages/flask/app.py\", line 1982, in wsgi_app\n",
      "    response = self.full_dispatch_request()\n",
      "  File \"/Users/elizabethoriordan/anaconda3/lib/python3.6/site-packages/flask/app.py\", line 1614, in full_dispatch_request\n",
      "    rv = self.handle_user_exception(e)\n",
      "  File \"/Users/elizabethoriordan/anaconda3/lib/python3.6/site-packages/flask/app.py\", line 1517, in handle_user_exception\n",
      "    reraise(exc_type, exc_value, tb)\n",
      "  File \"/Users/elizabethoriordan/anaconda3/lib/python3.6/site-packages/flask/_compat.py\", line 33, in reraise\n",
      "    raise value\n",
      "  File \"/Users/elizabethoriordan/anaconda3/lib/python3.6/site-packages/flask/app.py\", line 1612, in full_dispatch_request\n",
      "    rv = self.dispatch_request()\n",
      "  File \"/Users/elizabethoriordan/anaconda3/lib/python3.6/site-packages/flask/app.py\", line 1598, in dispatch_request\n",
      "    return self.view_functions[rule.endpoint](**req.view_args)\n",
      "  File \"<ipython-input-257-82a6ebb1898b>\", line 120, in score\n",
      "    results = get_attributes(x[0])\n",
      "  File \"<ipython-input-130-912f8782abc6>\", line 2, in get_attributes\n",
      "    x = list(df5[df5[\"neighb2\"]==x][\"words\"].values)[0]\n",
      "IndexError: list index out of range\n",
      "127.0.0.1 - - [12/Dec/2018 20:04:46] \"\u001b[1m\u001b[35mPOST /score HTTP/1.1\u001b[0m\" 500 -\n"
     ]
    },
    {
     "name": "stdout",
     "output_type": "stream",
     "text": [
      "Douglaston\n"
     ]
    },
    {
     "name": "stderr",
     "output_type": "stream",
     "text": [
      "127.0.0.1 - - [12/Dec/2018 20:06:52] \"\u001b[37mGET /index HTTP/1.1\u001b[0m\" 200 -\n",
      "/Users/elizabethoriordan/anaconda3/lib/python3.6/site-packages/ipykernel_launcher.py:57: FlaskWTFDeprecationWarning: \"flask_wtf.Form\" has been renamed to \"FlaskForm\" and will be removed in 1.0.\n",
      "127.0.0.1 - - [12/Dec/2018 20:07:05] \"\u001b[37mGET /rec HTTP/1.1\u001b[0m\" 200 -\n",
      "127.0.0.1 - - [12/Dec/2018 20:07:09] \"\u001b[37mGET /neighbo/sf HTTP/1.1\u001b[0m\" 200 -\n",
      "/Users/elizabethoriordan/anaconda3/lib/python3.6/site-packages/ipykernel_launcher.py:57: FlaskWTFDeprecationWarning: \"flask_wtf.Form\" has been renamed to \"FlaskForm\" and will be removed in 1.0.\n",
      "127.0.0.1 - - [12/Dec/2018 20:07:13] \"\u001b[32mPOST /rec HTTP/1.1\u001b[0m\" 302 -\n",
      "127.0.0.1 - - [12/Dec/2018 20:07:13] \"\u001b[37mGET /results/castro HTTP/1.1\u001b[0m\" 200 -\n",
      "127.0.0.1 - - [12/Dec/2018 20:07:19] \"\u001b[37mGET /upload_file HTTP/1.1\u001b[0m\" 200 -\n",
      "127.0.0.1 - - [12/Dec/2018 20:07:33] \"\u001b[32mPOST /upload_file HTTP/1.1\u001b[0m\" 302 -\n",
      "127.0.0.1 - - [12/Dec/2018 20:07:33] \"\u001b[37mGET /me/15will.jpg HTTP/1.1\u001b[0m\" 200 -\n",
      "/Users/elizabethoriordan/anaconda3/lib/python3.6/site-packages/ipykernel_launcher.py:158: FlaskWTFDeprecationWarning: \"flask_wtf.Form\" has been renamed to \"FlaskForm\" and will be removed in 1.0.\n",
      "127.0.0.1 - - [12/Dec/2018 20:07:43] \"\u001b[37mGET /rec_att HTTP/1.1\u001b[0m\" 200 -\n",
      "/Users/elizabethoriordan/anaconda3/lib/python3.6/site-packages/ipykernel_launcher.py:158: FlaskWTFDeprecationWarning: \"flask_wtf.Form\" has been renamed to \"FlaskForm\" and will be removed in 1.0.\n",
      "127.0.0.1 - - [12/Dec/2018 20:07:56] \"\u001b[37mPOST /rec_att HTTP/1.1\u001b[0m\" 200 -\n",
      "/Users/elizabethoriordan/anaconda3/lib/python3.6/site-packages/ipykernel_launcher.py:158: FlaskWTFDeprecationWarning: \"flask_wtf.Form\" has been renamed to \"FlaskForm\" and will be removed in 1.0.\n",
      "127.0.0.1 - - [12/Dec/2018 20:08:00] \"\u001b[37mGET /rec_att HTTP/1.1\u001b[0m\" 200 -\n",
      "/Users/elizabethoriordan/anaconda3/lib/python3.6/site-packages/ipykernel_launcher.py:158: FlaskWTFDeprecationWarning: \"flask_wtf.Form\" has been renamed to \"FlaskForm\" and will be removed in 1.0.\n",
      "127.0.0.1 - - [12/Dec/2018 20:08:07] \"\u001b[37mPOST /rec_att HTTP/1.1\u001b[0m\" 200 -\n",
      "127.0.0.1 - - [12/Dec/2018 20:08:11] \"\u001b[37mGET /map HTTP/1.1\u001b[0m\" 200 -\n",
      "[2018-12-12 20:08:12,125] ERROR in app: Exception on /score [POST]\n",
      "Traceback (most recent call last):\n",
      "  File \"/Users/elizabethoriordan/anaconda3/lib/python3.6/site-packages/flask/app.py\", line 1982, in wsgi_app\n",
      "    response = self.full_dispatch_request()\n",
      "  File \"/Users/elizabethoriordan/anaconda3/lib/python3.6/site-packages/flask/app.py\", line 1614, in full_dispatch_request\n",
      "    rv = self.handle_user_exception(e)\n",
      "  File \"/Users/elizabethoriordan/anaconda3/lib/python3.6/site-packages/flask/app.py\", line 1517, in handle_user_exception\n",
      "    reraise(exc_type, exc_value, tb)\n",
      "  File \"/Users/elizabethoriordan/anaconda3/lib/python3.6/site-packages/flask/_compat.py\", line 33, in reraise\n",
      "    raise value\n",
      "  File \"/Users/elizabethoriordan/anaconda3/lib/python3.6/site-packages/flask/app.py\", line 1612, in full_dispatch_request\n",
      "    rv = self.dispatch_request()\n",
      "  File \"/Users/elizabethoriordan/anaconda3/lib/python3.6/site-packages/flask/app.py\", line 1598, in dispatch_request\n",
      "    return self.view_functions[rule.endpoint](**req.view_args)\n",
      "  File \"<ipython-input-257-82a6ebb1898b>\", line 120, in score\n",
      "    results = get_attributes(x[0])\n",
      "  File \"<ipython-input-130-912f8782abc6>\", line 2, in get_attributes\n",
      "    x = list(df5[df5[\"neighb2\"]==x][\"words\"].values)[0]\n",
      "IndexError: list index out of range\n",
      "127.0.0.1 - - [12/Dec/2018 20:08:12] \"\u001b[1m\u001b[35mPOST /score HTTP/1.1\u001b[0m\" 500 -\n",
      "[2018-12-12 20:08:12,195] ERROR in app: Exception on /score [POST]\n",
      "Traceback (most recent call last):\n",
      "  File \"/Users/elizabethoriordan/anaconda3/lib/python3.6/site-packages/flask/app.py\", line 1982, in wsgi_app\n",
      "    response = self.full_dispatch_request()\n",
      "  File \"/Users/elizabethoriordan/anaconda3/lib/python3.6/site-packages/flask/app.py\", line 1614, in full_dispatch_request\n",
      "    rv = self.handle_user_exception(e)\n",
      "  File \"/Users/elizabethoriordan/anaconda3/lib/python3.6/site-packages/flask/app.py\", line 1517, in handle_user_exception\n",
      "    reraise(exc_type, exc_value, tb)\n",
      "  File \"/Users/elizabethoriordan/anaconda3/lib/python3.6/site-packages/flask/_compat.py\", line 33, in reraise\n",
      "    raise value\n",
      "  File \"/Users/elizabethoriordan/anaconda3/lib/python3.6/site-packages/flask/app.py\", line 1612, in full_dispatch_request\n",
      "    rv = self.dispatch_request()\n",
      "  File \"/Users/elizabethoriordan/anaconda3/lib/python3.6/site-packages/flask/app.py\", line 1598, in dispatch_request\n",
      "    return self.view_functions[rule.endpoint](**req.view_args)\n",
      "  File \"<ipython-input-257-82a6ebb1898b>\", line 120, in score\n",
      "    results = get_attributes(x[0])\n",
      "  File \"<ipython-input-130-912f8782abc6>\", line 2, in get_attributes\n",
      "    x = list(df5[df5[\"neighb2\"]==x][\"words\"].values)[0]\n",
      "IndexError: list index out of range\n",
      "127.0.0.1 - - [12/Dec/2018 20:08:12] \"\u001b[1m\u001b[35mPOST /score HTTP/1.1\u001b[0m\" 500 -\n"
     ]
    },
    {
     "name": "stdout",
     "output_type": "stream",
     "text": [
      "Schuylerville\n",
      "Westchester Square\n"
     ]
    },
    {
     "name": "stderr",
     "output_type": "stream",
     "text": [
      "[2018-12-12 20:08:12,634] ERROR in app: Exception on /score [POST]\n",
      "Traceback (most recent call last):\n",
      "  File \"/Users/elizabethoriordan/anaconda3/lib/python3.6/site-packages/flask/app.py\", line 1982, in wsgi_app\n",
      "    response = self.full_dispatch_request()\n",
      "  File \"/Users/elizabethoriordan/anaconda3/lib/python3.6/site-packages/flask/app.py\", line 1614, in full_dispatch_request\n",
      "    rv = self.handle_user_exception(e)\n",
      "  File \"/Users/elizabethoriordan/anaconda3/lib/python3.6/site-packages/flask/app.py\", line 1517, in handle_user_exception\n",
      "    reraise(exc_type, exc_value, tb)\n",
      "  File \"/Users/elizabethoriordan/anaconda3/lib/python3.6/site-packages/flask/_compat.py\", line 33, in reraise\n",
      "    raise value\n",
      "  File \"/Users/elizabethoriordan/anaconda3/lib/python3.6/site-packages/flask/app.py\", line 1612, in full_dispatch_request\n",
      "    rv = self.dispatch_request()\n",
      "  File \"/Users/elizabethoriordan/anaconda3/lib/python3.6/site-packages/flask/app.py\", line 1598, in dispatch_request\n",
      "    return self.view_functions[rule.endpoint](**req.view_args)\n",
      "  File \"<ipython-input-257-82a6ebb1898b>\", line 120, in score\n",
      "    results = get_attributes(x[0])\n",
      "  File \"<ipython-input-130-912f8782abc6>\", line 2, in get_attributes\n",
      "    x = list(df5[df5[\"neighb2\"]==x][\"words\"].values)[0]\n",
      "IndexError: list index out of range\n",
      "127.0.0.1 - - [12/Dec/2018 20:08:12] \"\u001b[1m\u001b[35mPOST /score HTTP/1.1\u001b[0m\" 500 -\n",
      "[2018-12-12 20:08:12,644] ERROR in app: Exception on /score [POST]\n",
      "Traceback (most recent call last):\n",
      "  File \"/Users/elizabethoriordan/anaconda3/lib/python3.6/site-packages/flask/app.py\", line 1982, in wsgi_app\n",
      "    response = self.full_dispatch_request()\n",
      "  File \"/Users/elizabethoriordan/anaconda3/lib/python3.6/site-packages/flask/app.py\", line 1614, in full_dispatch_request\n",
      "    rv = self.handle_user_exception(e)\n",
      "  File \"/Users/elizabethoriordan/anaconda3/lib/python3.6/site-packages/flask/app.py\", line 1517, in handle_user_exception\n",
      "    reraise(exc_type, exc_value, tb)\n",
      "  File \"/Users/elizabethoriordan/anaconda3/lib/python3.6/site-packages/flask/_compat.py\", line 33, in reraise\n",
      "    raise value\n",
      "  File \"/Users/elizabethoriordan/anaconda3/lib/python3.6/site-packages/flask/app.py\", line 1612, in full_dispatch_request\n",
      "    rv = self.dispatch_request()\n",
      "  File \"/Users/elizabethoriordan/anaconda3/lib/python3.6/site-packages/flask/app.py\", line 1598, in dispatch_request\n",
      "    return self.view_functions[rule.endpoint](**req.view_args)\n",
      "  File \"<ipython-input-257-82a6ebb1898b>\", line 120, in score\n",
      "    results = get_attributes(x[0])\n",
      "  File \"<ipython-input-130-912f8782abc6>\", line 2, in get_attributes\n",
      "    x = list(df5[df5[\"neighb2\"]==x][\"words\"].values)[0]\n",
      "IndexError: list index out of range\n",
      "127.0.0.1 - - [12/Dec/2018 20:08:12] \"\u001b[1m\u001b[35mPOST /score HTTP/1.1\u001b[0m\" 500 -\n",
      "[2018-12-12 20:08:12,673] ERROR in app: Exception on /score [POST]\n",
      "Traceback (most recent call last):\n",
      "  File \"/Users/elizabethoriordan/anaconda3/lib/python3.6/site-packages/flask/app.py\", line 1982, in wsgi_app\n",
      "    response = self.full_dispatch_request()\n",
      "  File \"/Users/elizabethoriordan/anaconda3/lib/python3.6/site-packages/flask/app.py\", line 1614, in full_dispatch_request\n",
      "    rv = self.handle_user_exception(e)\n",
      "  File \"/Users/elizabethoriordan/anaconda3/lib/python3.6/site-packages/flask/app.py\", line 1517, in handle_user_exception\n",
      "    reraise(exc_type, exc_value, tb)\n",
      "  File \"/Users/elizabethoriordan/anaconda3/lib/python3.6/site-packages/flask/_compat.py\", line 33, in reraise\n",
      "    raise value\n",
      "  File \"/Users/elizabethoriordan/anaconda3/lib/python3.6/site-packages/flask/app.py\", line 1612, in full_dispatch_request\n",
      "    rv = self.dispatch_request()\n",
      "  File \"/Users/elizabethoriordan/anaconda3/lib/python3.6/site-packages/flask/app.py\", line 1598, in dispatch_request\n",
      "    return self.view_functions[rule.endpoint](**req.view_args)\n",
      "  File \"<ipython-input-257-82a6ebb1898b>\", line 120, in score\n",
      "    results = get_attributes(x[0])\n",
      "  File \"<ipython-input-130-912f8782abc6>\", line 2, in get_attributes\n",
      "    x = list(df5[df5[\"neighb2\"]==x][\"words\"].values)[0]\n",
      "IndexError: list index out of range\n",
      "127.0.0.1 - - [12/Dec/2018 20:08:12] \"\u001b[1m\u001b[35mPOST /score HTTP/1.1\u001b[0m\" 500 -\n",
      "[2018-12-12 20:08:12,692] ERROR in app: Exception on /score [POST]\n",
      "Traceback (most recent call last):\n",
      "  File \"/Users/elizabethoriordan/anaconda3/lib/python3.6/site-packages/flask/app.py\", line 1982, in wsgi_app\n",
      "    response = self.full_dispatch_request()\n",
      "  File \"/Users/elizabethoriordan/anaconda3/lib/python3.6/site-packages/flask/app.py\", line 1614, in full_dispatch_request\n",
      "    rv = self.handle_user_exception(e)\n",
      "  File \"/Users/elizabethoriordan/anaconda3/lib/python3.6/site-packages/flask/app.py\", line 1517, in handle_user_exception\n",
      "    reraise(exc_type, exc_value, tb)\n",
      "  File \"/Users/elizabethoriordan/anaconda3/lib/python3.6/site-packages/flask/_compat.py\", line 33, in reraise\n",
      "    raise value\n",
      "  File \"/Users/elizabethoriordan/anaconda3/lib/python3.6/site-packages/flask/app.py\", line 1612, in full_dispatch_request\n",
      "    rv = self.dispatch_request()\n",
      "  File \"/Users/elizabethoriordan/anaconda3/lib/python3.6/site-packages/flask/app.py\", line 1598, in dispatch_request\n",
      "    return self.view_functions[rule.endpoint](**req.view_args)\n",
      "  File \"<ipython-input-257-82a6ebb1898b>\", line 120, in score\n",
      "    results = get_attributes(x[0])\n",
      "  File \"<ipython-input-130-912f8782abc6>\", line 2, in get_attributes\n",
      "    x = list(df5[df5[\"neighb2\"]==x][\"words\"].values)[0]\n",
      "IndexError: list index out of range\n",
      "127.0.0.1 - - [12/Dec/2018 20:08:12] \"\u001b[1m\u001b[35mPOST /score HTTP/1.1\u001b[0m\" 500 -\n"
     ]
    },
    {
     "name": "stdout",
     "output_type": "stream",
     "text": [
      "Throgs Neck\n",
      "Ferry Point Park\n",
      "Whitestone\n",
      "Flushing\n"
     ]
    },
    {
     "name": "stderr",
     "output_type": "stream",
     "text": [
      "[2018-12-12 20:08:12,871] ERROR in app: Exception on /score [POST]\n",
      "Traceback (most recent call last):\n",
      "  File \"/Users/elizabethoriordan/anaconda3/lib/python3.6/site-packages/flask/app.py\", line 1982, in wsgi_app\n",
      "    response = self.full_dispatch_request()\n",
      "  File \"/Users/elizabethoriordan/anaconda3/lib/python3.6/site-packages/flask/app.py\", line 1614, in full_dispatch_request\n",
      "    rv = self.handle_user_exception(e)\n",
      "  File \"/Users/elizabethoriordan/anaconda3/lib/python3.6/site-packages/flask/app.py\", line 1517, in handle_user_exception\n",
      "    reraise(exc_type, exc_value, tb)\n",
      "  File \"/Users/elizabethoriordan/anaconda3/lib/python3.6/site-packages/flask/_compat.py\", line 33, in reraise\n",
      "    raise value\n",
      "  File \"/Users/elizabethoriordan/anaconda3/lib/python3.6/site-packages/flask/app.py\", line 1612, in full_dispatch_request\n",
      "    rv = self.dispatch_request()\n",
      "  File \"/Users/elizabethoriordan/anaconda3/lib/python3.6/site-packages/flask/app.py\", line 1598, in dispatch_request\n",
      "    return self.view_functions[rule.endpoint](**req.view_args)\n",
      "  File \"<ipython-input-257-82a6ebb1898b>\", line 120, in score\n",
      "    results = get_attributes(x[0])\n",
      "  File \"<ipython-input-130-912f8782abc6>\", line 2, in get_attributes\n",
      "    x = list(df5[df5[\"neighb2\"]==x][\"words\"].values)[0]\n",
      "IndexError: list index out of range\n",
      "127.0.0.1 - - [12/Dec/2018 20:08:12] \"\u001b[1m\u001b[35mPOST /score HTTP/1.1\u001b[0m\" 500 -\n",
      "[2018-12-12 20:08:12,890] ERROR in app: Exception on /score [POST]\n",
      "Traceback (most recent call last):\n",
      "  File \"/Users/elizabethoriordan/anaconda3/lib/python3.6/site-packages/flask/app.py\", line 1982, in wsgi_app\n",
      "    response = self.full_dispatch_request()\n",
      "  File \"/Users/elizabethoriordan/anaconda3/lib/python3.6/site-packages/flask/app.py\", line 1614, in full_dispatch_request\n",
      "    rv = self.handle_user_exception(e)\n",
      "  File \"/Users/elizabethoriordan/anaconda3/lib/python3.6/site-packages/flask/app.py\", line 1517, in handle_user_exception\n",
      "    reraise(exc_type, exc_value, tb)\n",
      "  File \"/Users/elizabethoriordan/anaconda3/lib/python3.6/site-packages/flask/_compat.py\", line 33, in reraise\n",
      "    raise value\n",
      "  File \"/Users/elizabethoriordan/anaconda3/lib/python3.6/site-packages/flask/app.py\", line 1612, in full_dispatch_request\n",
      "    rv = self.dispatch_request()\n",
      "  File \"/Users/elizabethoriordan/anaconda3/lib/python3.6/site-packages/flask/app.py\", line 1598, in dispatch_request\n",
      "    return self.view_functions[rule.endpoint](**req.view_args)\n",
      "  File \"<ipython-input-257-82a6ebb1898b>\", line 120, in score\n",
      "    results = get_attributes(x[0])\n",
      "  File \"<ipython-input-130-912f8782abc6>\", line 2, in get_attributes\n",
      "    x = list(df5[df5[\"neighb2\"]==x][\"words\"].values)[0]\n",
      "IndexError: list index out of range\n",
      "127.0.0.1 - - [12/Dec/2018 20:08:12] \"\u001b[1m\u001b[35mPOST /score HTTP/1.1\u001b[0m\" 500 -\n",
      "[2018-12-12 20:08:12,905] ERROR in app: Exception on /score [POST]\n",
      "Traceback (most recent call last):\n",
      "  File \"/Users/elizabethoriordan/anaconda3/lib/python3.6/site-packages/flask/app.py\", line 1982, in wsgi_app\n",
      "    response = self.full_dispatch_request()\n",
      "  File \"/Users/elizabethoriordan/anaconda3/lib/python3.6/site-packages/flask/app.py\", line 1614, in full_dispatch_request\n",
      "    rv = self.handle_user_exception(e)\n",
      "  File \"/Users/elizabethoriordan/anaconda3/lib/python3.6/site-packages/flask/app.py\", line 1517, in handle_user_exception\n",
      "    reraise(exc_type, exc_value, tb)\n",
      "  File \"/Users/elizabethoriordan/anaconda3/lib/python3.6/site-packages/flask/_compat.py\", line 33, in reraise\n",
      "    raise value\n",
      "  File \"/Users/elizabethoriordan/anaconda3/lib/python3.6/site-packages/flask/app.py\", line 1612, in full_dispatch_request\n",
      "    rv = self.dispatch_request()\n",
      "  File \"/Users/elizabethoriordan/anaconda3/lib/python3.6/site-packages/flask/app.py\", line 1598, in dispatch_request\n",
      "    return self.view_functions[rule.endpoint](**req.view_args)\n",
      "  File \"<ipython-input-257-82a6ebb1898b>\", line 120, in score\n",
      "    results = get_attributes(x[0])\n",
      "  File \"<ipython-input-130-912f8782abc6>\", line 2, in get_attributes\n",
      "    x = list(df5[df5[\"neighb2\"]==x][\"words\"].values)[0]\n",
      "IndexError: list index out of range\n",
      "127.0.0.1 - - [12/Dec/2018 20:08:12] \"\u001b[1m\u001b[35mPOST /score HTTP/1.1\u001b[0m\" 500 -\n",
      "[2018-12-12 20:08:12,921] ERROR in app: Exception on /score [POST]\n",
      "Traceback (most recent call last):\n",
      "  File \"/Users/elizabethoriordan/anaconda3/lib/python3.6/site-packages/flask/app.py\", line 1982, in wsgi_app\n",
      "    response = self.full_dispatch_request()\n",
      "  File \"/Users/elizabethoriordan/anaconda3/lib/python3.6/site-packages/flask/app.py\", line 1614, in full_dispatch_request\n",
      "    rv = self.handle_user_exception(e)\n",
      "  File \"/Users/elizabethoriordan/anaconda3/lib/python3.6/site-packages/flask/app.py\", line 1517, in handle_user_exception\n",
      "    reraise(exc_type, exc_value, tb)\n",
      "  File \"/Users/elizabethoriordan/anaconda3/lib/python3.6/site-packages/flask/_compat.py\", line 33, in reraise\n",
      "    raise value\n",
      "  File \"/Users/elizabethoriordan/anaconda3/lib/python3.6/site-packages/flask/app.py\", line 1612, in full_dispatch_request\n",
      "    rv = self.dispatch_request()\n",
      "  File \"/Users/elizabethoriordan/anaconda3/lib/python3.6/site-packages/flask/app.py\", line 1598, in dispatch_request\n",
      "    return self.view_functions[rule.endpoint](**req.view_args)\n",
      "  File \"<ipython-input-257-82a6ebb1898b>\", line 120, in score\n",
      "    results = get_attributes(x[0])\n",
      "  File \"<ipython-input-130-912f8782abc6>\", line 2, in get_attributes\n",
      "    x = list(df5[df5[\"neighb2\"]==x][\"words\"].values)[0]\n",
      "IndexError: list index out of range\n",
      "127.0.0.1 - - [12/Dec/2018 20:08:12] \"\u001b[1m\u001b[35mPOST /score HTTP/1.1\u001b[0m\" 500 -\n",
      "[2018-12-12 20:08:12,939] ERROR in app: Exception on /score [POST]\n",
      "Traceback (most recent call last):\n",
      "  File \"/Users/elizabethoriordan/anaconda3/lib/python3.6/site-packages/flask/app.py\", line 1982, in wsgi_app\n",
      "    response = self.full_dispatch_request()\n",
      "  File \"/Users/elizabethoriordan/anaconda3/lib/python3.6/site-packages/flask/app.py\", line 1614, in full_dispatch_request\n",
      "    rv = self.handle_user_exception(e)\n",
      "  File \"/Users/elizabethoriordan/anaconda3/lib/python3.6/site-packages/flask/app.py\", line 1517, in handle_user_exception\n",
      "    reraise(exc_type, exc_value, tb)\n",
      "  File \"/Users/elizabethoriordan/anaconda3/lib/python3.6/site-packages/flask/_compat.py\", line 33, in reraise\n",
      "    raise value\n",
      "  File \"/Users/elizabethoriordan/anaconda3/lib/python3.6/site-packages/flask/app.py\", line 1612, in full_dispatch_request\n",
      "    rv = self.dispatch_request()\n",
      "  File \"/Users/elizabethoriordan/anaconda3/lib/python3.6/site-packages/flask/app.py\", line 1598, in dispatch_request\n",
      "    return self.view_functions[rule.endpoint](**req.view_args)\n",
      "  File \"<ipython-input-257-82a6ebb1898b>\", line 120, in score\n",
      "    results = get_attributes(x[0])\n",
      "  File \"<ipython-input-130-912f8782abc6>\", line 2, in get_attributes\n",
      "    x = list(df5[df5[\"neighb2\"]==x][\"words\"].values)[0]\n",
      "IndexError: list index out of range\n",
      "127.0.0.1 - - [12/Dec/2018 20:08:12] \"\u001b[1m\u001b[35mPOST /score HTTP/1.1\u001b[0m\" 500 -\n",
      "[2018-12-12 20:08:12,957] ERROR in app: Exception on /score [POST]\n",
      "Traceback (most recent call last):\n",
      "  File \"/Users/elizabethoriordan/anaconda3/lib/python3.6/site-packages/flask/app.py\", line 1982, in wsgi_app\n",
      "    response = self.full_dispatch_request()\n",
      "  File \"/Users/elizabethoriordan/anaconda3/lib/python3.6/site-packages/flask/app.py\", line 1614, in full_dispatch_request\n",
      "    rv = self.handle_user_exception(e)\n",
      "  File \"/Users/elizabethoriordan/anaconda3/lib/python3.6/site-packages/flask/app.py\", line 1517, in handle_user_exception\n",
      "    reraise(exc_type, exc_value, tb)\n",
      "  File \"/Users/elizabethoriordan/anaconda3/lib/python3.6/site-packages/flask/_compat.py\", line 33, in reraise\n",
      "    raise value\n",
      "  File \"/Users/elizabethoriordan/anaconda3/lib/python3.6/site-packages/flask/app.py\", line 1612, in full_dispatch_request\n",
      "    rv = self.dispatch_request()\n",
      "  File \"/Users/elizabethoriordan/anaconda3/lib/python3.6/site-packages/flask/app.py\", line 1598, in dispatch_request\n",
      "    return self.view_functions[rule.endpoint](**req.view_args)\n",
      "  File \"<ipython-input-257-82a6ebb1898b>\", line 120, in score\n",
      "    results = get_attributes(x[0])\n",
      "  File \"<ipython-input-130-912f8782abc6>\", line 2, in get_attributes\n",
      "    x = list(df5[df5[\"neighb2\"]==x][\"words\"].values)[0]\n",
      "IndexError: list index out of range\n",
      "127.0.0.1 - - [12/Dec/2018 20:08:12] \"\u001b[1m\u001b[35mPOST /score HTTP/1.1\u001b[0m\" 500 -\n"
     ]
    },
    {
     "name": "stdout",
     "output_type": "stream",
     "text": [
      "Kew Gardens Hills\n",
      "Flushing Meadows Corona Park\n",
      "Forest Hills\n",
      "Rego Park\n",
      "Elmhurst\n",
      "Maspeth\n",
      "Greenpoint\n"
     ]
    },
    {
     "name": "stderr",
     "output_type": "stream",
     "text": [
      "[2018-12-12 20:08:13,072] ERROR in app: Exception on /score [POST]\n",
      "Traceback (most recent call last):\n",
      "  File \"/Users/elizabethoriordan/anaconda3/lib/python3.6/site-packages/flask/app.py\", line 1982, in wsgi_app\n",
      "    response = self.full_dispatch_request()\n",
      "  File \"/Users/elizabethoriordan/anaconda3/lib/python3.6/site-packages/flask/app.py\", line 1614, in full_dispatch_request\n",
      "    rv = self.handle_user_exception(e)\n",
      "  File \"/Users/elizabethoriordan/anaconda3/lib/python3.6/site-packages/flask/app.py\", line 1517, in handle_user_exception\n",
      "    reraise(exc_type, exc_value, tb)\n",
      "  File \"/Users/elizabethoriordan/anaconda3/lib/python3.6/site-packages/flask/_compat.py\", line 33, in reraise\n",
      "    raise value\n",
      "  File \"/Users/elizabethoriordan/anaconda3/lib/python3.6/site-packages/flask/app.py\", line 1612, in full_dispatch_request\n",
      "    rv = self.dispatch_request()\n",
      "  File \"/Users/elizabethoriordan/anaconda3/lib/python3.6/site-packages/flask/app.py\", line 1598, in dispatch_request\n",
      "    return self.view_functions[rule.endpoint](**req.view_args)\n",
      "  File \"<ipython-input-257-82a6ebb1898b>\", line 120, in score\n",
      "    results = get_attributes(x[0])\n",
      "  File \"<ipython-input-130-912f8782abc6>\", line 2, in get_attributes\n",
      "    x = list(df5[df5[\"neighb2\"]==x][\"words\"].values)[0]\n",
      "IndexError: list index out of range\n",
      "127.0.0.1 - - [12/Dec/2018 20:08:13] \"\u001b[1m\u001b[35mPOST /score HTTP/1.1\u001b[0m\" 500 -\n",
      "127.0.0.1 - - [12/Dec/2018 20:08:13] \"\u001b[37mPOST /score HTTP/1.1\u001b[0m\" 200 -\n"
     ]
    },
    {
     "name": "stdout",
     "output_type": "stream",
     "text": [
      "Williamsburg\n",
      "['Hipster', 'L', 'River', 'Hip', 'Smorgasburg', 'Vintage', 'Flea', 'Brewery', 'Young', 'Trendy']\n"
     ]
    },
    {
     "name": "stderr",
     "output_type": "stream",
     "text": [
      "127.0.0.1 - - [12/Dec/2018 20:08:13] \"\u001b[37mPOST /score HTTP/1.1\u001b[0m\" 200 -\n",
      "127.0.0.1 - - [12/Dec/2018 20:08:13] \"\u001b[37mPOST /score HTTP/1.1\u001b[0m\" 200 -\n",
      "127.0.0.1 - - [12/Dec/2018 20:08:13] \"\u001b[37mPOST /score HTTP/1.1\u001b[0m\" 200 -\n"
     ]
    },
    {
     "name": "stdout",
     "output_type": "stream",
     "text": [
      "West Village\n",
      "['brownston', 'hudson', 'river', 'boutiqu', 'tree', 'quaint', 'stonewal', 'townhous', 'lost', 'club']\n",
      "Greenwich Village\n",
      "['play', 'student', 'perform', 'jazz', 'piano', 'chess', 'pizza', 'artist', 'gay', 'fountain']\n",
      "East Village\n",
      "['tenement', 'stuyves', 'tompkin', 'les', 'alphabet', 'jewish', 'delancey', 'jew', 'synagogu', 'rhino']\n"
     ]
    },
    {
     "name": "stderr",
     "output_type": "stream",
     "text": [
      "127.0.0.1 - - [12/Dec/2018 20:08:13] \"\u001b[37mPOST /score HTTP/1.1\u001b[0m\" 200 -\n"
     ]
    },
    {
     "name": "stdout",
     "output_type": "stream",
     "text": [
      "Williamsburg\n",
      "['Hipster', 'L', 'River', 'Hip', 'Smorgasburg', 'Vintage', 'Flea', 'Brewery', 'Young', 'Trendy']\n"
     ]
    },
    {
     "name": "stderr",
     "output_type": "stream",
     "text": [
      "[2018-12-12 20:08:47,071] ERROR in app: Exception on /score [POST]\n",
      "Traceback (most recent call last):\n",
      "  File \"/Users/elizabethoriordan/anaconda3/lib/python3.6/site-packages/flask/app.py\", line 1982, in wsgi_app\n",
      "    response = self.full_dispatch_request()\n",
      "  File \"/Users/elizabethoriordan/anaconda3/lib/python3.6/site-packages/flask/app.py\", line 1614, in full_dispatch_request\n",
      "    rv = self.handle_user_exception(e)\n",
      "  File \"/Users/elizabethoriordan/anaconda3/lib/python3.6/site-packages/flask/app.py\", line 1517, in handle_user_exception\n",
      "    reraise(exc_type, exc_value, tb)\n",
      "  File \"/Users/elizabethoriordan/anaconda3/lib/python3.6/site-packages/flask/_compat.py\", line 33, in reraise\n",
      "    raise value\n",
      "  File \"/Users/elizabethoriordan/anaconda3/lib/python3.6/site-packages/flask/app.py\", line 1612, in full_dispatch_request\n",
      "    rv = self.dispatch_request()\n",
      "  File \"/Users/elizabethoriordan/anaconda3/lib/python3.6/site-packages/flask/app.py\", line 1598, in dispatch_request\n",
      "    return self.view_functions[rule.endpoint](**req.view_args)\n",
      "  File \"<ipython-input-257-82a6ebb1898b>\", line 120, in score\n",
      "    results = get_attributes(x[0])\n",
      "  File \"<ipython-input-130-912f8782abc6>\", line 2, in get_attributes\n",
      "    x = list(df5[df5[\"neighb2\"]==x][\"words\"].values)[0]\n",
      "IndexError: list index out of range\n",
      "127.0.0.1 - - [12/Dec/2018 20:08:47] \"\u001b[1m\u001b[35mPOST /score HTTP/1.1\u001b[0m\" 500 -\n",
      "127.0.0.1 - - [12/Dec/2018 20:08:47] \"\u001b[37mPOST /score HTTP/1.1\u001b[0m\" 200 -\n",
      "127.0.0.1 - - [12/Dec/2018 20:08:47] \"\u001b[37mPOST /score HTTP/1.1\u001b[0m\" 200 -\n"
     ]
    },
    {
     "name": "stdout",
     "output_type": "stream",
     "text": [
      "Greenpoint\n",
      "Midtown\n",
      "['sak', 'window', 'tiffani', 'patrick', 'trump', 'rockefel', 'brand', 'tower', 'cathedr', 'display']\n",
      "Upper East Side\n",
      "['River', 'Metropolitan', 'Frick', 'Mansion', 'Mile', 'Met', 'Guggenheim', 'Carl', 'Schurz', 'Neue']\n"
     ]
    },
    {
     "name": "stderr",
     "output_type": "stream",
     "text": [
      "[2018-12-12 20:09:05,737] ERROR in app: Exception on /score [POST]\n",
      "Traceback (most recent call last):\n",
      "  File \"/Users/elizabethoriordan/anaconda3/lib/python3.6/site-packages/flask/app.py\", line 1982, in wsgi_app\n",
      "    response = self.full_dispatch_request()\n",
      "  File \"/Users/elizabethoriordan/anaconda3/lib/python3.6/site-packages/flask/app.py\", line 1614, in full_dispatch_request\n",
      "    rv = self.handle_user_exception(e)\n",
      "  File \"/Users/elizabethoriordan/anaconda3/lib/python3.6/site-packages/flask/app.py\", line 1517, in handle_user_exception\n",
      "    reraise(exc_type, exc_value, tb)\n",
      "  File \"/Users/elizabethoriordan/anaconda3/lib/python3.6/site-packages/flask/_compat.py\", line 33, in reraise\n",
      "    raise value\n",
      "  File \"/Users/elizabethoriordan/anaconda3/lib/python3.6/site-packages/flask/app.py\", line 1612, in full_dispatch_request\n",
      "    rv = self.dispatch_request()\n",
      "  File \"/Users/elizabethoriordan/anaconda3/lib/python3.6/site-packages/flask/app.py\", line 1598, in dispatch_request\n",
      "    return self.view_functions[rule.endpoint](**req.view_args)\n",
      "  File \"<ipython-input-257-82a6ebb1898b>\", line 120, in score\n",
      "    results = get_attributes(x[0])\n",
      "  File \"<ipython-input-130-912f8782abc6>\", line 2, in get_attributes\n",
      "    x = list(df5[df5[\"neighb2\"]==x][\"words\"].values)[0]\n",
      "IndexError: list index out of range\n",
      "127.0.0.1 - - [12/Dec/2018 20:09:05] \"\u001b[1m\u001b[35mPOST /score HTTP/1.1\u001b[0m\" 500 -\n",
      "[2018-12-12 20:09:05,749] ERROR in app: Exception on /score [POST]\n",
      "Traceback (most recent call last):\n",
      "  File \"/Users/elizabethoriordan/anaconda3/lib/python3.6/site-packages/flask/app.py\", line 1982, in wsgi_app\n",
      "    response = self.full_dispatch_request()\n",
      "  File \"/Users/elizabethoriordan/anaconda3/lib/python3.6/site-packages/flask/app.py\", line 1614, in full_dispatch_request\n",
      "    rv = self.handle_user_exception(e)\n",
      "  File \"/Users/elizabethoriordan/anaconda3/lib/python3.6/site-packages/flask/app.py\", line 1517, in handle_user_exception\n",
      "    reraise(exc_type, exc_value, tb)\n",
      "  File \"/Users/elizabethoriordan/anaconda3/lib/python3.6/site-packages/flask/_compat.py\", line 33, in reraise\n",
      "    raise value\n",
      "  File \"/Users/elizabethoriordan/anaconda3/lib/python3.6/site-packages/flask/app.py\", line 1612, in full_dispatch_request\n",
      "    rv = self.dispatch_request()\n",
      "  File \"/Users/elizabethoriordan/anaconda3/lib/python3.6/site-packages/flask/app.py\", line 1598, in dispatch_request\n",
      "    return self.view_functions[rule.endpoint](**req.view_args)\n",
      "  File \"<ipython-input-257-82a6ebb1898b>\", line 120, in score\n",
      "    results = get_attributes(x[0])\n",
      "  File \"<ipython-input-130-912f8782abc6>\", line 2, in get_attributes\n",
      "    x = list(df5[df5[\"neighb2\"]==x][\"words\"].values)[0]\n",
      "IndexError: list index out of range\n",
      "127.0.0.1 - - [12/Dec/2018 20:09:05] \"\u001b[1m\u001b[35mPOST /score HTTP/1.1\u001b[0m\" 500 -\n",
      "[2018-12-12 20:09:05,782] ERROR in app: Exception on /score [POST]\n",
      "Traceback (most recent call last):\n",
      "  File \"/Users/elizabethoriordan/anaconda3/lib/python3.6/site-packages/flask/app.py\", line 1982, in wsgi_app\n",
      "    response = self.full_dispatch_request()\n",
      "  File \"/Users/elizabethoriordan/anaconda3/lib/python3.6/site-packages/flask/app.py\", line 1614, in full_dispatch_request\n",
      "    rv = self.handle_user_exception(e)\n",
      "  File \"/Users/elizabethoriordan/anaconda3/lib/python3.6/site-packages/flask/app.py\", line 1517, in handle_user_exception\n",
      "    reraise(exc_type, exc_value, tb)\n",
      "  File \"/Users/elizabethoriordan/anaconda3/lib/python3.6/site-packages/flask/_compat.py\", line 33, in reraise\n",
      "    raise value\n",
      "  File \"/Users/elizabethoriordan/anaconda3/lib/python3.6/site-packages/flask/app.py\", line 1612, in full_dispatch_request\n",
      "    rv = self.dispatch_request()\n",
      "  File \"/Users/elizabethoriordan/anaconda3/lib/python3.6/site-packages/flask/app.py\", line 1598, in dispatch_request\n",
      "    return self.view_functions[rule.endpoint](**req.view_args)\n",
      "  File \"<ipython-input-257-82a6ebb1898b>\", line 120, in score\n",
      "    results = get_attributes(x[0])\n",
      "  File \"<ipython-input-130-912f8782abc6>\", line 2, in get_attributes\n",
      "    x = list(df5[df5[\"neighb2\"]==x][\"words\"].values)[0]\n",
      "IndexError: list index out of range\n",
      "127.0.0.1 - - [12/Dec/2018 20:09:05] \"\u001b[1m\u001b[35mPOST /score HTTP/1.1\u001b[0m\" 500 -\n"
     ]
    },
    {
     "name": "stdout",
     "output_type": "stream",
     "text": [
      "Astoria\n",
      "South Ozone Park\n",
      "John F. Kennedy International Airport\n"
     ]
    },
    {
     "name": "stderr",
     "output_type": "stream",
     "text": [
      "127.0.0.1 - - [12/Dec/2018 20:15:33] \"\u001b[37mGET /index HTTP/1.1\u001b[0m\" 200 -\n",
      "/Users/elizabethoriordan/anaconda3/lib/python3.6/site-packages/ipykernel_launcher.py:57: FlaskWTFDeprecationWarning: \"flask_wtf.Form\" has been renamed to \"FlaskForm\" and will be removed in 1.0.\n",
      "127.0.0.1 - - [12/Dec/2018 20:15:50] \"\u001b[37mGET /rec HTTP/1.1\u001b[0m\" 200 -\n",
      "127.0.0.1 - - [12/Dec/2018 20:15:58] \"\u001b[37mGET /neighbo/sf HTTP/1.1\u001b[0m\" 200 -\n",
      "/Users/elizabethoriordan/anaconda3/lib/python3.6/site-packages/ipykernel_launcher.py:57: FlaskWTFDeprecationWarning: \"flask_wtf.Form\" has been renamed to \"FlaskForm\" and will be removed in 1.0.\n",
      "127.0.0.1 - - [12/Dec/2018 20:16:01] \"\u001b[32mPOST /rec HTTP/1.1\u001b[0m\" 302 -\n",
      "127.0.0.1 - - [12/Dec/2018 20:16:01] \"\u001b[37mGET /results/castro HTTP/1.1\u001b[0m\" 200 -\n",
      "127.0.0.1 - - [12/Dec/2018 20:16:07] \"\u001b[37mGET /upload_file HTTP/1.1\u001b[0m\" 200 -\n",
      "127.0.0.1 - - [12/Dec/2018 20:16:18] \"\u001b[32mPOST /upload_file HTTP/1.1\u001b[0m\" 302 -\n",
      "127.0.0.1 - - [12/Dec/2018 20:16:18] \"\u001b[37mGET /me/15will.jpg HTTP/1.1\u001b[0m\" 200 -\n",
      "/Users/elizabethoriordan/anaconda3/lib/python3.6/site-packages/ipykernel_launcher.py:158: FlaskWTFDeprecationWarning: \"flask_wtf.Form\" has been renamed to \"FlaskForm\" and will be removed in 1.0.\n",
      "127.0.0.1 - - [12/Dec/2018 20:16:25] \"\u001b[37mGET /rec_att HTTP/1.1\u001b[0m\" 200 -\n",
      "/Users/elizabethoriordan/anaconda3/lib/python3.6/site-packages/ipykernel_launcher.py:158: FlaskWTFDeprecationWarning: \"flask_wtf.Form\" has been renamed to \"FlaskForm\" and will be removed in 1.0.\n",
      "127.0.0.1 - - [12/Dec/2018 20:16:40] \"\u001b[37mPOST /rec_att HTTP/1.1\u001b[0m\" 200 -\n",
      "/Users/elizabethoriordan/anaconda3/lib/python3.6/site-packages/ipykernel_launcher.py:158: FlaskWTFDeprecationWarning: \"flask_wtf.Form\" has been renamed to \"FlaskForm\" and will be removed in 1.0.\n",
      "127.0.0.1 - - [12/Dec/2018 20:16:44] \"\u001b[37mGET /rec_att HTTP/1.1\u001b[0m\" 200 -\n",
      "/Users/elizabethoriordan/anaconda3/lib/python3.6/site-packages/ipykernel_launcher.py:158: FlaskWTFDeprecationWarning: \"flask_wtf.Form\" has been renamed to \"FlaskForm\" and will be removed in 1.0.\n",
      "127.0.0.1 - - [12/Dec/2018 20:16:50] \"\u001b[37mPOST /rec_att HTTP/1.1\u001b[0m\" 200 -\n",
      "127.0.0.1 - - [12/Dec/2018 20:16:55] \"\u001b[37mGET /map HTTP/1.1\u001b[0m\" 200 -\n",
      "[2018-12-12 20:16:57,545] ERROR in app: Exception on /score [POST]\n",
      "Traceback (most recent call last):\n",
      "  File \"/Users/elizabethoriordan/anaconda3/lib/python3.6/site-packages/flask/app.py\", line 1982, in wsgi_app\n",
      "    response = self.full_dispatch_request()\n",
      "  File \"/Users/elizabethoriordan/anaconda3/lib/python3.6/site-packages/flask/app.py\", line 1614, in full_dispatch_request\n",
      "    rv = self.handle_user_exception(e)\n",
      "  File \"/Users/elizabethoriordan/anaconda3/lib/python3.6/site-packages/flask/app.py\", line 1517, in handle_user_exception\n",
      "    reraise(exc_type, exc_value, tb)\n",
      "  File \"/Users/elizabethoriordan/anaconda3/lib/python3.6/site-packages/flask/_compat.py\", line 33, in reraise\n",
      "    raise value\n",
      "  File \"/Users/elizabethoriordan/anaconda3/lib/python3.6/site-packages/flask/app.py\", line 1612, in full_dispatch_request\n",
      "    rv = self.dispatch_request()\n",
      "  File \"/Users/elizabethoriordan/anaconda3/lib/python3.6/site-packages/flask/app.py\", line 1598, in dispatch_request\n",
      "    return self.view_functions[rule.endpoint](**req.view_args)\n",
      "  File \"<ipython-input-257-82a6ebb1898b>\", line 120, in score\n",
      "    results = get_attributes(x[0])\n",
      "  File \"<ipython-input-130-912f8782abc6>\", line 2, in get_attributes\n",
      "    x = list(df5[df5[\"neighb2\"]==x][\"words\"].values)[0]\n",
      "IndexError: list index out of range\n",
      "127.0.0.1 - - [12/Dec/2018 20:16:57] \"\u001b[1m\u001b[35mPOST /score HTTP/1.1\u001b[0m\" 500 -\n",
      "[2018-12-12 20:16:57,602] ERROR in app: Exception on /score [POST]\n",
      "Traceback (most recent call last):\n",
      "  File \"/Users/elizabethoriordan/anaconda3/lib/python3.6/site-packages/flask/app.py\", line 1982, in wsgi_app\n",
      "    response = self.full_dispatch_request()\n",
      "  File \"/Users/elizabethoriordan/anaconda3/lib/python3.6/site-packages/flask/app.py\", line 1614, in full_dispatch_request\n",
      "    rv = self.handle_user_exception(e)\n",
      "  File \"/Users/elizabethoriordan/anaconda3/lib/python3.6/site-packages/flask/app.py\", line 1517, in handle_user_exception\n",
      "    reraise(exc_type, exc_value, tb)\n",
      "  File \"/Users/elizabethoriordan/anaconda3/lib/python3.6/site-packages/flask/_compat.py\", line 33, in reraise\n",
      "    raise value\n",
      "  File \"/Users/elizabethoriordan/anaconda3/lib/python3.6/site-packages/flask/app.py\", line 1612, in full_dispatch_request\n",
      "    rv = self.dispatch_request()\n",
      "  File \"/Users/elizabethoriordan/anaconda3/lib/python3.6/site-packages/flask/app.py\", line 1598, in dispatch_request\n",
      "    return self.view_functions[rule.endpoint](**req.view_args)\n",
      "  File \"<ipython-input-257-82a6ebb1898b>\", line 120, in score\n",
      "    results = get_attributes(x[0])\n",
      "  File \"<ipython-input-130-912f8782abc6>\", line 2, in get_attributes\n",
      "    x = list(df5[df5[\"neighb2\"]==x][\"words\"].values)[0]\n",
      "IndexError: list index out of range\n",
      "127.0.0.1 - - [12/Dec/2018 20:16:57] \"\u001b[1m\u001b[35mPOST /score HTTP/1.1\u001b[0m\" 500 -\n",
      "[2018-12-12 20:16:57,654] ERROR in app: Exception on /score [POST]\n",
      "Traceback (most recent call last):\n",
      "  File \"/Users/elizabethoriordan/anaconda3/lib/python3.6/site-packages/flask/app.py\", line 1982, in wsgi_app\n",
      "    response = self.full_dispatch_request()\n",
      "  File \"/Users/elizabethoriordan/anaconda3/lib/python3.6/site-packages/flask/app.py\", line 1614, in full_dispatch_request\n",
      "    rv = self.handle_user_exception(e)\n",
      "  File \"/Users/elizabethoriordan/anaconda3/lib/python3.6/site-packages/flask/app.py\", line 1517, in handle_user_exception\n",
      "    reraise(exc_type, exc_value, tb)\n",
      "  File \"/Users/elizabethoriordan/anaconda3/lib/python3.6/site-packages/flask/_compat.py\", line 33, in reraise\n",
      "    raise value\n",
      "  File \"/Users/elizabethoriordan/anaconda3/lib/python3.6/site-packages/flask/app.py\", line 1612, in full_dispatch_request\n",
      "    rv = self.dispatch_request()\n",
      "  File \"/Users/elizabethoriordan/anaconda3/lib/python3.6/site-packages/flask/app.py\", line 1598, in dispatch_request\n",
      "    return self.view_functions[rule.endpoint](**req.view_args)\n",
      "  File \"<ipython-input-257-82a6ebb1898b>\", line 120, in score\n",
      "    results = get_attributes(x[0])\n",
      "  File \"<ipython-input-130-912f8782abc6>\", line 2, in get_attributes\n",
      "    x = list(df5[df5[\"neighb2\"]==x][\"words\"].values)[0]\n",
      "IndexError: list index out of range\n",
      "127.0.0.1 - - [12/Dec/2018 20:16:57] \"\u001b[1m\u001b[35mPOST /score HTTP/1.1\u001b[0m\" 500 -\n"
     ]
    },
    {
     "name": "stdout",
     "output_type": "stream",
     "text": [
      "Jamaica Bay\n",
      "Jamaica Bay\n",
      "East New York\n"
     ]
    },
    {
     "name": "stderr",
     "output_type": "stream",
     "text": [
      "[2018-12-12 20:16:57,876] ERROR in app: Exception on /score [POST]\n",
      "Traceback (most recent call last):\n",
      "  File \"/Users/elizabethoriordan/anaconda3/lib/python3.6/site-packages/flask/app.py\", line 1982, in wsgi_app\n",
      "    response = self.full_dispatch_request()\n",
      "  File \"/Users/elizabethoriordan/anaconda3/lib/python3.6/site-packages/flask/app.py\", line 1614, in full_dispatch_request\n",
      "    rv = self.handle_user_exception(e)\n",
      "  File \"/Users/elizabethoriordan/anaconda3/lib/python3.6/site-packages/flask/app.py\", line 1517, in handle_user_exception\n",
      "    reraise(exc_type, exc_value, tb)\n",
      "  File \"/Users/elizabethoriordan/anaconda3/lib/python3.6/site-packages/flask/_compat.py\", line 33, in reraise\n",
      "    raise value\n",
      "  File \"/Users/elizabethoriordan/anaconda3/lib/python3.6/site-packages/flask/app.py\", line 1612, in full_dispatch_request\n",
      "    rv = self.dispatch_request()\n",
      "  File \"/Users/elizabethoriordan/anaconda3/lib/python3.6/site-packages/flask/app.py\", line 1598, in dispatch_request\n",
      "    return self.view_functions[rule.endpoint](**req.view_args)\n",
      "  File \"<ipython-input-257-82a6ebb1898b>\", line 120, in score\n",
      "    results = get_attributes(x[0])\n",
      "  File \"<ipython-input-130-912f8782abc6>\", line 2, in get_attributes\n",
      "    x = list(df5[df5[\"neighb2\"]==x][\"words\"].values)[0]\n",
      "IndexError: list index out of range\n",
      "127.0.0.1 - - [12/Dec/2018 20:16:57] \"\u001b[1m\u001b[35mPOST /score HTTP/1.1\u001b[0m\" 500 -\n",
      "[2018-12-12 20:16:57,907] ERROR in app: Exception on /score [POST]\n",
      "Traceback (most recent call last):\n",
      "  File \"/Users/elizabethoriordan/anaconda3/lib/python3.6/site-packages/flask/app.py\", line 1982, in wsgi_app\n",
      "    response = self.full_dispatch_request()\n",
      "  File \"/Users/elizabethoriordan/anaconda3/lib/python3.6/site-packages/flask/app.py\", line 1614, in full_dispatch_request\n",
      "    rv = self.handle_user_exception(e)\n",
      "  File \"/Users/elizabethoriordan/anaconda3/lib/python3.6/site-packages/flask/app.py\", line 1517, in handle_user_exception\n",
      "    reraise(exc_type, exc_value, tb)\n",
      "  File \"/Users/elizabethoriordan/anaconda3/lib/python3.6/site-packages/flask/_compat.py\", line 33, in reraise\n",
      "    raise value\n",
      "  File \"/Users/elizabethoriordan/anaconda3/lib/python3.6/site-packages/flask/app.py\", line 1612, in full_dispatch_request\n",
      "    rv = self.dispatch_request()\n",
      "  File \"/Users/elizabethoriordan/anaconda3/lib/python3.6/site-packages/flask/app.py\", line 1598, in dispatch_request\n",
      "    return self.view_functions[rule.endpoint](**req.view_args)\n",
      "  File \"<ipython-input-257-82a6ebb1898b>\", line 120, in score\n",
      "    results = get_attributes(x[0])\n",
      "  File \"<ipython-input-130-912f8782abc6>\", line 2, in get_attributes\n",
      "    x = list(df5[df5[\"neighb2\"]==x][\"words\"].values)[0]\n",
      "IndexError: list index out of range\n",
      "127.0.0.1 - - [12/Dec/2018 20:16:57] \"\u001b[1m\u001b[35mPOST /score HTTP/1.1\u001b[0m\" 500 -\n"
     ]
    },
    {
     "name": "stdout",
     "output_type": "stream",
     "text": [
      "Cypress Hills\n",
      "Bushwick\n"
     ]
    },
    {
     "name": "stderr",
     "output_type": "stream",
     "text": [
      "127.0.0.1 - - [12/Dec/2018 20:16:58] \"\u001b[37mPOST /score HTTP/1.1\u001b[0m\" 200 -\n"
     ]
    },
    {
     "name": "stdout",
     "output_type": "stream",
     "text": [
      "Williamsburg\n",
      "['Hipster', 'L', 'River', 'Hip', 'Smorgasburg', 'Vintage', 'Flea', 'Brewery', 'Young', 'Trendy']\n"
     ]
    },
    {
     "name": "stderr",
     "output_type": "stream",
     "text": [
      "127.0.0.1 - - [12/Dec/2018 20:16:58] \"\u001b[37mPOST /score HTTP/1.1\u001b[0m\" 200 -\n",
      "[2018-12-12 20:16:58,823] ERROR in app: Exception on /score [POST]\n",
      "Traceback (most recent call last):\n",
      "  File \"/Users/elizabethoriordan/anaconda3/lib/python3.6/site-packages/flask/app.py\", line 1982, in wsgi_app\n",
      "    response = self.full_dispatch_request()\n",
      "  File \"/Users/elizabethoriordan/anaconda3/lib/python3.6/site-packages/flask/app.py\", line 1614, in full_dispatch_request\n",
      "    rv = self.handle_user_exception(e)\n",
      "  File \"/Users/elizabethoriordan/anaconda3/lib/python3.6/site-packages/flask/app.py\", line 1517, in handle_user_exception\n",
      "    reraise(exc_type, exc_value, tb)\n",
      "  File \"/Users/elizabethoriordan/anaconda3/lib/python3.6/site-packages/flask/_compat.py\", line 33, in reraise\n",
      "    raise value\n",
      "  File \"/Users/elizabethoriordan/anaconda3/lib/python3.6/site-packages/flask/app.py\", line 1612, in full_dispatch_request\n",
      "    rv = self.dispatch_request()\n",
      "  File \"/Users/elizabethoriordan/anaconda3/lib/python3.6/site-packages/flask/app.py\", line 1598, in dispatch_request\n",
      "    return self.view_functions[rule.endpoint](**req.view_args)\n",
      "  File \"<ipython-input-257-82a6ebb1898b>\", line 120, in score\n",
      "    results = get_attributes(x[0])\n",
      "  File \"<ipython-input-130-912f8782abc6>\", line 2, in get_attributes\n",
      "    x = list(df5[df5[\"neighb2\"]==x][\"words\"].values)[0]\n",
      "IndexError: list index out of range\n",
      "127.0.0.1 - - [12/Dec/2018 20:16:58] \"\u001b[1m\u001b[35mPOST /score HTTP/1.1\u001b[0m\" 500 -\n",
      "[2018-12-12 20:16:58,843] ERROR in app: Exception on /score [POST]\n",
      "Traceback (most recent call last):\n",
      "  File \"/Users/elizabethoriordan/anaconda3/lib/python3.6/site-packages/flask/app.py\", line 1982, in wsgi_app\n",
      "    response = self.full_dispatch_request()\n",
      "  File \"/Users/elizabethoriordan/anaconda3/lib/python3.6/site-packages/flask/app.py\", line 1614, in full_dispatch_request\n",
      "    rv = self.handle_user_exception(e)\n",
      "  File \"/Users/elizabethoriordan/anaconda3/lib/python3.6/site-packages/flask/app.py\", line 1517, in handle_user_exception\n",
      "    reraise(exc_type, exc_value, tb)\n",
      "  File \"/Users/elizabethoriordan/anaconda3/lib/python3.6/site-packages/flask/_compat.py\", line 33, in reraise\n",
      "    raise value\n",
      "  File \"/Users/elizabethoriordan/anaconda3/lib/python3.6/site-packages/flask/app.py\", line 1612, in full_dispatch_request\n",
      "    rv = self.dispatch_request()\n",
      "  File \"/Users/elizabethoriordan/anaconda3/lib/python3.6/site-packages/flask/app.py\", line 1598, in dispatch_request\n",
      "    return self.view_functions[rule.endpoint](**req.view_args)\n",
      "  File \"<ipython-input-257-82a6ebb1898b>\", line 120, in score\n",
      "    results = get_attributes(x[0])\n",
      "  File \"<ipython-input-130-912f8782abc6>\", line 2, in get_attributes\n",
      "    x = list(df5[df5[\"neighb2\"]==x][\"words\"].values)[0]\n",
      "IndexError: list index out of range\n",
      "127.0.0.1 - - [12/Dec/2018 20:16:58] \"\u001b[1m\u001b[35mPOST /score HTTP/1.1\u001b[0m\" 500 -\n",
      "[2018-12-12 20:16:58,905] ERROR in app: Exception on /score [POST]\n",
      "Traceback (most recent call last):\n",
      "  File \"/Users/elizabethoriordan/anaconda3/lib/python3.6/site-packages/flask/app.py\", line 1982, in wsgi_app\n",
      "    response = self.full_dispatch_request()\n",
      "  File \"/Users/elizabethoriordan/anaconda3/lib/python3.6/site-packages/flask/app.py\", line 1614, in full_dispatch_request\n",
      "    rv = self.handle_user_exception(e)\n",
      "  File \"/Users/elizabethoriordan/anaconda3/lib/python3.6/site-packages/flask/app.py\", line 1517, in handle_user_exception\n",
      "    reraise(exc_type, exc_value, tb)\n",
      "  File \"/Users/elizabethoriordan/anaconda3/lib/python3.6/site-packages/flask/_compat.py\", line 33, in reraise\n",
      "    raise value\n",
      "  File \"/Users/elizabethoriordan/anaconda3/lib/python3.6/site-packages/flask/app.py\", line 1612, in full_dispatch_request\n",
      "    rv = self.dispatch_request()\n",
      "  File \"/Users/elizabethoriordan/anaconda3/lib/python3.6/site-packages/flask/app.py\", line 1598, in dispatch_request\n",
      "    return self.view_functions[rule.endpoint](**req.view_args)\n",
      "  File \"<ipython-input-257-82a6ebb1898b>\", line 120, in score\n",
      "    results = get_attributes(x[0])\n",
      "  File \"<ipython-input-130-912f8782abc6>\", line 2, in get_attributes\n",
      "    x = list(df5[df5[\"neighb2\"]==x][\"words\"].values)[0]\n",
      "IndexError: list index out of range\n",
      "127.0.0.1 - - [12/Dec/2018 20:16:58] \"\u001b[1m\u001b[35mPOST /score HTTP/1.1\u001b[0m\" 500 -\n"
     ]
    },
    {
     "name": "stdout",
     "output_type": "stream",
     "text": [
      "Chelsea\n",
      "['Highline', 'Galleries', 'Gay', 'Room', 'Desk', 'Elevated', 'Railway', 'Kitchen', 'River', 'Flower']\n",
      "Flatiron District\n",
      "Stuyvesant Town\n",
      "Greenpoint\n"
     ]
    },
    {
     "name": "stderr",
     "output_type": "stream",
     "text": [
      "127.0.0.1 - - [12/Dec/2018 20:16:59] \"\u001b[37mPOST /score HTTP/1.1\u001b[0m\" 200 -\n"
     ]
    },
    {
     "name": "stdout",
     "output_type": "stream",
     "text": [
      "Williamsburg\n",
      "['Hipster', 'L', 'River', 'Hip', 'Smorgasburg', 'Vintage', 'Flea', 'Brewery', 'Young', 'Trendy']\n"
     ]
    },
    {
     "name": "stderr",
     "output_type": "stream",
     "text": [
      "[2018-12-12 20:17:26,006] ERROR in app: Exception on /score [POST]\n",
      "Traceback (most recent call last):\n",
      "  File \"/Users/elizabethoriordan/anaconda3/lib/python3.6/site-packages/flask/app.py\", line 1982, in wsgi_app\n",
      "    response = self.full_dispatch_request()\n",
      "  File \"/Users/elizabethoriordan/anaconda3/lib/python3.6/site-packages/flask/app.py\", line 1614, in full_dispatch_request\n",
      "    rv = self.handle_user_exception(e)\n",
      "  File \"/Users/elizabethoriordan/anaconda3/lib/python3.6/site-packages/flask/app.py\", line 1517, in handle_user_exception\n",
      "    reraise(exc_type, exc_value, tb)\n",
      "  File \"/Users/elizabethoriordan/anaconda3/lib/python3.6/site-packages/flask/_compat.py\", line 33, in reraise\n",
      "    raise value\n",
      "  File \"/Users/elizabethoriordan/anaconda3/lib/python3.6/site-packages/flask/app.py\", line 1612, in full_dispatch_request\n",
      "    rv = self.dispatch_request()\n",
      "  File \"/Users/elizabethoriordan/anaconda3/lib/python3.6/site-packages/flask/app.py\", line 1598, in dispatch_request\n",
      "    return self.view_functions[rule.endpoint](**req.view_args)\n",
      "  File \"<ipython-input-257-82a6ebb1898b>\", line 120, in score\n",
      "    results = get_attributes(x[0])\n",
      "  File \"<ipython-input-130-912f8782abc6>\", line 2, in get_attributes\n",
      "    x = list(df5[df5[\"neighb2\"]==x][\"words\"].values)[0]\n",
      "IndexError: list index out of range\n",
      "127.0.0.1 - - [12/Dec/2018 20:17:26] \"\u001b[1m\u001b[35mPOST /score HTTP/1.1\u001b[0m\" 500 -\n",
      "[2018-12-12 20:17:26,127] ERROR in app: Exception on /score [POST]\n",
      "Traceback (most recent call last):\n",
      "  File \"/Users/elizabethoriordan/anaconda3/lib/python3.6/site-packages/flask/app.py\", line 1982, in wsgi_app\n",
      "    response = self.full_dispatch_request()\n",
      "  File \"/Users/elizabethoriordan/anaconda3/lib/python3.6/site-packages/flask/app.py\", line 1614, in full_dispatch_request\n",
      "    rv = self.handle_user_exception(e)\n",
      "  File \"/Users/elizabethoriordan/anaconda3/lib/python3.6/site-packages/flask/app.py\", line 1517, in handle_user_exception\n",
      "    reraise(exc_type, exc_value, tb)\n",
      "  File \"/Users/elizabethoriordan/anaconda3/lib/python3.6/site-packages/flask/_compat.py\", line 33, in reraise\n",
      "    raise value\n",
      "  File \"/Users/elizabethoriordan/anaconda3/lib/python3.6/site-packages/flask/app.py\", line 1612, in full_dispatch_request\n",
      "    rv = self.dispatch_request()\n",
      "  File \"/Users/elizabethoriordan/anaconda3/lib/python3.6/site-packages/flask/app.py\", line 1598, in dispatch_request\n",
      "    return self.view_functions[rule.endpoint](**req.view_args)\n",
      "  File \"<ipython-input-257-82a6ebb1898b>\", line 120, in score\n",
      "    results = get_attributes(x[0])\n",
      "  File \"<ipython-input-130-912f8782abc6>\", line 2, in get_attributes\n",
      "    x = list(df5[df5[\"neighb2\"]==x][\"words\"].values)[0]\n",
      "IndexError: list index out of range\n",
      "127.0.0.1 - - [12/Dec/2018 20:17:26] \"\u001b[1m\u001b[35mPOST /score HTTP/1.1\u001b[0m\" 500 -\n"
     ]
    },
    {
     "name": "stdout",
     "output_type": "stream",
     "text": [
      "Greenpoint\n",
      "Long Island City\n"
     ]
    },
    {
     "name": "stderr",
     "output_type": "stream",
     "text": [
      "[2018-12-12 20:17:26,275] ERROR in app: Exception on /score [POST]\n",
      "Traceback (most recent call last):\n",
      "  File \"/Users/elizabethoriordan/anaconda3/lib/python3.6/site-packages/flask/app.py\", line 1982, in wsgi_app\n",
      "    response = self.full_dispatch_request()\n",
      "  File \"/Users/elizabethoriordan/anaconda3/lib/python3.6/site-packages/flask/app.py\", line 1614, in full_dispatch_request\n",
      "    rv = self.handle_user_exception(e)\n",
      "  File \"/Users/elizabethoriordan/anaconda3/lib/python3.6/site-packages/flask/app.py\", line 1517, in handle_user_exception\n",
      "    reraise(exc_type, exc_value, tb)\n",
      "  File \"/Users/elizabethoriordan/anaconda3/lib/python3.6/site-packages/flask/_compat.py\", line 33, in reraise\n",
      "    raise value\n",
      "  File \"/Users/elizabethoriordan/anaconda3/lib/python3.6/site-packages/flask/app.py\", line 1612, in full_dispatch_request\n",
      "    rv = self.dispatch_request()\n",
      "  File \"/Users/elizabethoriordan/anaconda3/lib/python3.6/site-packages/flask/app.py\", line 1598, in dispatch_request\n",
      "    return self.view_functions[rule.endpoint](**req.view_args)\n",
      "  File \"<ipython-input-257-82a6ebb1898b>\", line 120, in score\n",
      "    results = get_attributes(x[0])\n",
      "  File \"<ipython-input-130-912f8782abc6>\", line 2, in get_attributes\n",
      "    x = list(df5[df5[\"neighb2\"]==x][\"words\"].values)[0]\n",
      "IndexError: list index out of range\n",
      "127.0.0.1 - - [12/Dec/2018 20:17:26] \"\u001b[1m\u001b[35mPOST /score HTTP/1.1\u001b[0m\" 500 -\n",
      "127.0.0.1 - - [12/Dec/2018 20:17:26] \"\u001b[37mPOST /score HTTP/1.1\u001b[0m\" 200 -\n"
     ]
    },
    {
     "name": "stdout",
     "output_type": "stream",
     "text": [
      "Roosevelt Island\n",
      "Upper East Side\n",
      "['River', 'Metropolitan', 'Frick', 'Mansion', 'Mile', 'Met', 'Guggenheim', 'Carl', 'Schurz', 'Neue']\n"
     ]
    },
    {
     "name": "stderr",
     "output_type": "stream",
     "text": [
      "[2018-12-12 20:17:36,234] ERROR in app: Exception on /score [POST]\n",
      "Traceback (most recent call last):\n",
      "  File \"/Users/elizabethoriordan/anaconda3/lib/python3.6/site-packages/flask/app.py\", line 1982, in wsgi_app\n",
      "    response = self.full_dispatch_request()\n",
      "  File \"/Users/elizabethoriordan/anaconda3/lib/python3.6/site-packages/flask/app.py\", line 1614, in full_dispatch_request\n",
      "    rv = self.handle_user_exception(e)\n",
      "  File \"/Users/elizabethoriordan/anaconda3/lib/python3.6/site-packages/flask/app.py\", line 1517, in handle_user_exception\n",
      "    reraise(exc_type, exc_value, tb)\n",
      "  File \"/Users/elizabethoriordan/anaconda3/lib/python3.6/site-packages/flask/_compat.py\", line 33, in reraise\n",
      "    raise value\n",
      "  File \"/Users/elizabethoriordan/anaconda3/lib/python3.6/site-packages/flask/app.py\", line 1612, in full_dispatch_request\n",
      "    rv = self.dispatch_request()\n",
      "  File \"/Users/elizabethoriordan/anaconda3/lib/python3.6/site-packages/flask/app.py\", line 1598, in dispatch_request\n",
      "    return self.view_functions[rule.endpoint](**req.view_args)\n",
      "  File \"<ipython-input-257-82a6ebb1898b>\", line 120, in score\n",
      "    results = get_attributes(x[0])\n",
      "  File \"<ipython-input-130-912f8782abc6>\", line 2, in get_attributes\n",
      "    x = list(df5[df5[\"neighb2\"]==x][\"words\"].values)[0]\n",
      "IndexError: list index out of range\n",
      "127.0.0.1 - - [12/Dec/2018 20:17:36] \"\u001b[1m\u001b[35mPOST /score HTTP/1.1\u001b[0m\" 500 -\n",
      "[2018-12-12 20:17:36,255] ERROR in app: Exception on /score [POST]\n",
      "Traceback (most recent call last):\n",
      "  File \"/Users/elizabethoriordan/anaconda3/lib/python3.6/site-packages/flask/app.py\", line 1982, in wsgi_app\n",
      "    response = self.full_dispatch_request()\n",
      "  File \"/Users/elizabethoriordan/anaconda3/lib/python3.6/site-packages/flask/app.py\", line 1614, in full_dispatch_request\n",
      "    rv = self.handle_user_exception(e)\n",
      "  File \"/Users/elizabethoriordan/anaconda3/lib/python3.6/site-packages/flask/app.py\", line 1517, in handle_user_exception\n",
      "    reraise(exc_type, exc_value, tb)\n",
      "  File \"/Users/elizabethoriordan/anaconda3/lib/python3.6/site-packages/flask/_compat.py\", line 33, in reraise\n",
      "    raise value\n",
      "  File \"/Users/elizabethoriordan/anaconda3/lib/python3.6/site-packages/flask/app.py\", line 1612, in full_dispatch_request\n",
      "    rv = self.dispatch_request()\n",
      "  File \"/Users/elizabethoriordan/anaconda3/lib/python3.6/site-packages/flask/app.py\", line 1598, in dispatch_request\n",
      "    return self.view_functions[rule.endpoint](**req.view_args)\n",
      "  File \"<ipython-input-257-82a6ebb1898b>\", line 120, in score\n",
      "    results = get_attributes(x[0])\n",
      "  File \"<ipython-input-130-912f8782abc6>\", line 2, in get_attributes\n",
      "    x = list(df5[df5[\"neighb2\"]==x][\"words\"].values)[0]\n",
      "IndexError: list index out of range\n",
      "127.0.0.1 - - [12/Dec/2018 20:17:36] \"\u001b[1m\u001b[35mPOST /score HTTP/1.1\u001b[0m\" 500 -\n",
      "[2018-12-12 20:17:36,274] ERROR in app: Exception on /score [POST]\n",
      "Traceback (most recent call last):\n",
      "  File \"/Users/elizabethoriordan/anaconda3/lib/python3.6/site-packages/flask/app.py\", line 1982, in wsgi_app\n",
      "    response = self.full_dispatch_request()\n",
      "  File \"/Users/elizabethoriordan/anaconda3/lib/python3.6/site-packages/flask/app.py\", line 1614, in full_dispatch_request\n",
      "    rv = self.handle_user_exception(e)\n",
      "  File \"/Users/elizabethoriordan/anaconda3/lib/python3.6/site-packages/flask/app.py\", line 1517, in handle_user_exception\n",
      "    reraise(exc_type, exc_value, tb)\n",
      "  File \"/Users/elizabethoriordan/anaconda3/lib/python3.6/site-packages/flask/_compat.py\", line 33, in reraise\n",
      "    raise value\n",
      "  File \"/Users/elizabethoriordan/anaconda3/lib/python3.6/site-packages/flask/app.py\", line 1612, in full_dispatch_request\n",
      "    rv = self.dispatch_request()\n",
      "  File \"/Users/elizabethoriordan/anaconda3/lib/python3.6/site-packages/flask/app.py\", line 1598, in dispatch_request\n",
      "    return self.view_functions[rule.endpoint](**req.view_args)\n",
      "  File \"<ipython-input-257-82a6ebb1898b>\", line 120, in score\n",
      "    results = get_attributes(x[0])\n",
      "  File \"<ipython-input-130-912f8782abc6>\", line 2, in get_attributes\n",
      "    x = list(df5[df5[\"neighb2\"]==x][\"words\"].values)[0]\n",
      "IndexError: list index out of range\n",
      "127.0.0.1 - - [12/Dec/2018 20:17:36] \"\u001b[1m\u001b[35mPOST /score HTTP/1.1\u001b[0m\" 500 -\n",
      "[2018-12-12 20:17:36,303] ERROR in app: Exception on /score [POST]\n",
      "Traceback (most recent call last):\n",
      "  File \"/Users/elizabethoriordan/anaconda3/lib/python3.6/site-packages/flask/app.py\", line 1982, in wsgi_app\n",
      "    response = self.full_dispatch_request()\n",
      "  File \"/Users/elizabethoriordan/anaconda3/lib/python3.6/site-packages/flask/app.py\", line 1614, in full_dispatch_request\n",
      "    rv = self.handle_user_exception(e)\n",
      "  File \"/Users/elizabethoriordan/anaconda3/lib/python3.6/site-packages/flask/app.py\", line 1517, in handle_user_exception\n",
      "    reraise(exc_type, exc_value, tb)\n",
      "  File \"/Users/elizabethoriordan/anaconda3/lib/python3.6/site-packages/flask/_compat.py\", line 33, in reraise\n",
      "    raise value\n",
      "  File \"/Users/elizabethoriordan/anaconda3/lib/python3.6/site-packages/flask/app.py\", line 1612, in full_dispatch_request\n",
      "    rv = self.dispatch_request()\n",
      "  File \"/Users/elizabethoriordan/anaconda3/lib/python3.6/site-packages/flask/app.py\", line 1598, in dispatch_request\n",
      "    return self.view_functions[rule.endpoint](**req.view_args)\n",
      "  File \"<ipython-input-257-82a6ebb1898b>\", line 120, in score\n",
      "    results = get_attributes(x[0])\n",
      "  File \"<ipython-input-130-912f8782abc6>\", line 2, in get_attributes\n",
      "    x = list(df5[df5[\"neighb2\"]==x][\"words\"].values)[0]\n",
      "IndexError: list index out of range\n",
      "127.0.0.1 - - [12/Dec/2018 20:17:36] \"\u001b[1m\u001b[35mPOST /score HTTP/1.1\u001b[0m\" 500 -\n",
      "[2018-12-12 20:17:36,321] ERROR in app: Exception on /score [POST]\n",
      "Traceback (most recent call last):\n",
      "  File \"/Users/elizabethoriordan/anaconda3/lib/python3.6/site-packages/flask/app.py\", line 1982, in wsgi_app\n",
      "    response = self.full_dispatch_request()\n",
      "  File \"/Users/elizabethoriordan/anaconda3/lib/python3.6/site-packages/flask/app.py\", line 1614, in full_dispatch_request\n",
      "    rv = self.handle_user_exception(e)\n",
      "  File \"/Users/elizabethoriordan/anaconda3/lib/python3.6/site-packages/flask/app.py\", line 1517, in handle_user_exception\n",
      "    reraise(exc_type, exc_value, tb)\n",
      "  File \"/Users/elizabethoriordan/anaconda3/lib/python3.6/site-packages/flask/_compat.py\", line 33, in reraise\n",
      "    raise value\n",
      "  File \"/Users/elizabethoriordan/anaconda3/lib/python3.6/site-packages/flask/app.py\", line 1612, in full_dispatch_request\n",
      "    rv = self.dispatch_request()\n",
      "  File \"/Users/elizabethoriordan/anaconda3/lib/python3.6/site-packages/flask/app.py\", line 1598, in dispatch_request\n",
      "    return self.view_functions[rule.endpoint](**req.view_args)\n",
      "  File \"<ipython-input-257-82a6ebb1898b>\", line 120, in score\n",
      "    results = get_attributes(x[0])\n",
      "  File \"<ipython-input-130-912f8782abc6>\", line 2, in get_attributes\n",
      "    x = list(df5[df5[\"neighb2\"]==x][\"words\"].values)[0]\n",
      "IndexError: list index out of range\n",
      "127.0.0.1 - - [12/Dec/2018 20:17:36] \"\u001b[1m\u001b[35mPOST /score HTTP/1.1\u001b[0m\" 500 -\n",
      "[2018-12-12 20:17:36,332] ERROR in app: Exception on /score [POST]\n",
      "Traceback (most recent call last):\n",
      "  File \"/Users/elizabethoriordan/anaconda3/lib/python3.6/site-packages/flask/app.py\", line 1982, in wsgi_app\n",
      "    response = self.full_dispatch_request()\n",
      "  File \"/Users/elizabethoriordan/anaconda3/lib/python3.6/site-packages/flask/app.py\", line 1614, in full_dispatch_request\n",
      "    rv = self.handle_user_exception(e)\n",
      "  File \"/Users/elizabethoriordan/anaconda3/lib/python3.6/site-packages/flask/app.py\", line 1517, in handle_user_exception\n",
      "    reraise(exc_type, exc_value, tb)\n",
      "  File \"/Users/elizabethoriordan/anaconda3/lib/python3.6/site-packages/flask/_compat.py\", line 33, in reraise\n",
      "    raise value\n",
      "  File \"/Users/elizabethoriordan/anaconda3/lib/python3.6/site-packages/flask/app.py\", line 1612, in full_dispatch_request\n",
      "    rv = self.dispatch_request()\n",
      "  File \"/Users/elizabethoriordan/anaconda3/lib/python3.6/site-packages/flask/app.py\", line 1598, in dispatch_request\n",
      "    return self.view_functions[rule.endpoint](**req.view_args)\n",
      "  File \"<ipython-input-257-82a6ebb1898b>\", line 120, in score\n",
      "    results = get_attributes(x[0])\n",
      "  File \"<ipython-input-130-912f8782abc6>\", line 2, in get_attributes\n",
      "    x = list(df5[df5[\"neighb2\"]==x][\"words\"].values)[0]\n",
      "IndexError: list index out of range\n",
      "127.0.0.1 - - [12/Dec/2018 20:17:36] \"\u001b[1m\u001b[35mPOST /score HTTP/1.1\u001b[0m\" 500 -\n"
     ]
    },
    {
     "name": "stderr",
     "output_type": "stream",
     "text": [
      "[2018-12-12 20:17:36,351] ERROR in app: Exception on /score [POST]\n",
      "Traceback (most recent call last):\n",
      "  File \"/Users/elizabethoriordan/anaconda3/lib/python3.6/site-packages/flask/app.py\", line 1982, in wsgi_app\n",
      "    response = self.full_dispatch_request()\n",
      "  File \"/Users/elizabethoriordan/anaconda3/lib/python3.6/site-packages/flask/app.py\", line 1614, in full_dispatch_request\n",
      "    rv = self.handle_user_exception(e)\n",
      "  File \"/Users/elizabethoriordan/anaconda3/lib/python3.6/site-packages/flask/app.py\", line 1517, in handle_user_exception\n",
      "    reraise(exc_type, exc_value, tb)\n",
      "  File \"/Users/elizabethoriordan/anaconda3/lib/python3.6/site-packages/flask/_compat.py\", line 33, in reraise\n",
      "    raise value\n",
      "  File \"/Users/elizabethoriordan/anaconda3/lib/python3.6/site-packages/flask/app.py\", line 1612, in full_dispatch_request\n",
      "    rv = self.dispatch_request()\n",
      "  File \"/Users/elizabethoriordan/anaconda3/lib/python3.6/site-packages/flask/app.py\", line 1598, in dispatch_request\n",
      "    return self.view_functions[rule.endpoint](**req.view_args)\n",
      "  File \"<ipython-input-257-82a6ebb1898b>\", line 120, in score\n",
      "    results = get_attributes(x[0])\n",
      "  File \"<ipython-input-130-912f8782abc6>\", line 2, in get_attributes\n",
      "    x = list(df5[df5[\"neighb2\"]==x][\"words\"].values)[0]\n",
      "IndexError: list index out of range\n",
      "127.0.0.1 - - [12/Dec/2018 20:17:36] \"\u001b[1m\u001b[35mPOST /score HTTP/1.1\u001b[0m\" 500 -\n"
     ]
    },
    {
     "name": "stdout",
     "output_type": "stream",
     "text": [
      "Long Island City\n",
      "Astoria\n",
      "Jackson Heights\n",
      "Corona\n",
      "Kew Gardens Hills\n",
      "Jamaica Estates\n",
      "Cambria Heights\n"
     ]
    },
    {
     "name": "stderr",
     "output_type": "stream",
     "text": [
      "[2018-12-12 21:01:00,911] ERROR in app: Exception on /score [POST]\n",
      "Traceback (most recent call last):\n",
      "  File \"/Users/elizabethoriordan/anaconda3/lib/python3.6/site-packages/flask/app.py\", line 1982, in wsgi_app\n",
      "    response = self.full_dispatch_request()\n",
      "  File \"/Users/elizabethoriordan/anaconda3/lib/python3.6/site-packages/flask/app.py\", line 1614, in full_dispatch_request\n",
      "    rv = self.handle_user_exception(e)\n",
      "  File \"/Users/elizabethoriordan/anaconda3/lib/python3.6/site-packages/flask/app.py\", line 1517, in handle_user_exception\n",
      "    reraise(exc_type, exc_value, tb)\n",
      "  File \"/Users/elizabethoriordan/anaconda3/lib/python3.6/site-packages/flask/_compat.py\", line 33, in reraise\n",
      "    raise value\n",
      "  File \"/Users/elizabethoriordan/anaconda3/lib/python3.6/site-packages/flask/app.py\", line 1612, in full_dispatch_request\n",
      "    rv = self.dispatch_request()\n",
      "  File \"/Users/elizabethoriordan/anaconda3/lib/python3.6/site-packages/flask/app.py\", line 1598, in dispatch_request\n",
      "    return self.view_functions[rule.endpoint](**req.view_args)\n",
      "  File \"<ipython-input-257-82a6ebb1898b>\", line 120, in score\n",
      "    results = get_attributes(x[0])\n",
      "  File \"<ipython-input-130-912f8782abc6>\", line 2, in get_attributes\n",
      "    x = list(df5[df5[\"neighb2\"]==x][\"words\"].values)[0]\n",
      "IndexError: list index out of range\n",
      "127.0.0.1 - - [12/Dec/2018 21:01:00] \"\u001b[1m\u001b[35mPOST /score HTTP/1.1\u001b[0m\" 500 -\n"
     ]
    },
    {
     "name": "stdout",
     "output_type": "stream",
     "text": [
      "Broad Channel\n"
     ]
    }
   ],
   "source": [
    "from flask import Flask, request, render_template, flash, redirect, url_for, jsonify\n",
    "\n",
    "from flask_wtf import Form\n",
    "from wtforms import TextField, IntegerField, TextAreaField, SubmitField, RadioField,SelectField\n",
    "from wtforms.validators import DataRequired\n",
    "from flask_sqlalchemy import SQLAlchemy  \n",
    "from werkzeug import secure_filename\n",
    "app = Flask(__name__)\n",
    "app.config['SQLALCHEMY_DATABASE_URI'] = 'sqlite:////tmp/test.db'\n",
    "app.config['SECRET_KEY'] = 'you-will-never-guess'\n",
    "\n",
    "\n",
    "UPLOAD_FOLDER = '/Users/elizabethoriordan/Desktop/data_science/metis/Proj_5/uploads'\n",
    "app.config['UPLOAD_FOLDER'] = UPLOAD_FOLDER\n",
    "\n",
    "db = SQLAlchemy(app)\n",
    "class Neighbs(db.Model):\n",
    "    id = db.Column(db.Integer, primary_key=True)\n",
    "    city = db.Column(db.String(64), index=True)\n",
    "    neighb = db.Column(db.String(64), index=True)\n",
    "    \n",
    "    def __repr__(self):\n",
    "        return '<Neighbs {}>'.format(self.neighb)\n",
    "    \n",
    "# db.create_all()\n",
    "# for i in all_neighbs_ny:\n",
    "#     n = Neighbs(city=\"nyc\", neighb=i)\n",
    "#     db.session.add(n)\n",
    "#     db.session.commit()\n",
    "    \n",
    "# for i in all_neighbs_sf:\n",
    "#     n = Neighbs(city=\"sf\", neighb=i)\n",
    "#     db.session.add(n)\n",
    "#     db.session.commit()\n",
    "\n",
    "class ContactForm(Form):\n",
    "    city = SelectField('Cities',choices=[('nyc', 'NYC'), ('sf', 'SF')], validators = [DataRequired()])\n",
    "    neighb = SelectField('Neighborhood', choices = [],validators = [DataRequired()])\n",
    "    submit = SubmitField(\"Submit\")\n",
    "\n",
    "class AttrForm(Form):\n",
    "    city = SelectField('Cities',choices=[('nyc', 'NYC'), ('SF', 'SF')], validators = [DataRequired()])\n",
    "    att1 = SelectField('Attribute 1:',choices=[('park', 'Park'), ('shopping', 'Shopping'), ('views', 'Views'), ('bars', 'Bars'),('busy/ bustling', 'Busy'),('historical', 'Historical'),('cool', 'Cool'),('art', 'Art'),('museums', 'Museums'),('young vibe', 'Young Vibe'),('relaxing', 'Relaxing')], validators = [DataRequired()])\n",
    "    att2 = SelectField('Attribute 2:',choices=[('park', 'Park'), ('shopping', 'Shopping'), ('views', 'Views'), ('bars', 'Bars'),('busy/ bustling', 'Busy'),('historical', 'Historical'),('cool', 'Cool'),('art', 'Art'),('museums', 'Museums'),('young vibe', 'Young Vibe'),('relaxing', 'Relaxing')], validators = [DataRequired()])\n",
    "    submit = SubmitField(\"Submit\")\n",
    "\n",
    "@app.route('/')\n",
    "@app.route('/index')\n",
    "def index():\n",
    "    \n",
    "    return render_template('index.html')\n",
    "\n",
    "@app.route('/rec',methods=['GET', 'POST'])\n",
    "def rec():\n",
    "    form = ContactForm()\n",
    "    form.neighb.choices = [(x.id, x.neighb) for x in Neighbs.query.filter_by(city=\"nyc\").all()]\n",
    "    if request.method == 'POST':\n",
    "        my_id =  form.neighb.data\n",
    "        my_neighb =  Neighbs.query.filter_by(id=my_id).first().neighb\n",
    "        return redirect(url_for('results', neighbor=my_neighb))#,my_neighb = form.neighb.data))\n",
    "    return render_template('rec.html', form=form)\n",
    "\n",
    "@app.route('/results')\n",
    "@app.route('/results/<neighbor>')\n",
    "def results(neighbor):\n",
    "    my_city = Neighbs.query.filter_by(neighb=neighbor).first().city\n",
    "    my_city = my_city[0:2].lower()\n",
    "    my_result = get_rec(neighbor,my_city)\n",
    "    my_result = list(my_result)\n",
    "    for i in range(0,3):\n",
    "        my_result[i] = my_result[i].split(\"_\")\n",
    "        my_result[i] = [j.capitalize() for j in my_result[i]]\n",
    "        my_result[i] = \" \".join(my_result[i])\n",
    "    return render_template('results.html', result = my_result)\n",
    "\n",
    "@app.route('/neighbo/<city>')\n",
    "def neighbo(city):\n",
    "    neighbo = Neighbs.query.filter_by(city=city).all()\n",
    "    \n",
    "    neighbArray = []\n",
    "    for neighb in neighbo:\n",
    "        neighbObj = {}\n",
    "        neighbObj['id'] = neighb.id\n",
    "        neighbObj['name'] = neighb.neighb\n",
    "        neighbArray.append(neighbObj)\n",
    "    return jsonify({'neighbs': neighbArray})\n",
    "\n",
    "@app.route('/map',methods=['GET', 'POST'])\n",
    "def map():\n",
    "    return render_template('map.html')\n",
    "\n",
    "@app.route('/score',methods=['GET', 'POST'])\n",
    "def score():\n",
    "    if request.method == 'POST':\n",
    "        data = request.json\n",
    "        x = data[\"example\"]\n",
    "        print(x[0])\n",
    "        results = get_attributes(x[0])\n",
    "        print(results)\n",
    "        a = get_attributes(\"Upper West Side\")\n",
    "        return jsonify(results)\n",
    "        return \"a\"\n",
    "#         return render_template('map.html', res=result)\n",
    "#     return render_template('map.html', res=res)\n",
    "\n",
    "@app.route('/tableau',methods=['GET', 'POST'])\n",
    "def tableau():\n",
    "    return render_template('tableau.html')\n",
    "\n",
    "\n",
    "@app.route('/upload_file', methods=['GET','POST'])\n",
    "def upload_file():\n",
    "    if request.method == 'POST':\n",
    "        f = request.files['file']\n",
    "        f.save(os.path.join(app.config['UPLOAD_FOLDER'], f.filename))\n",
    "        name = f.filename\n",
    "        name = name_trans(name)\n",
    "        my_rec =  get_rec_photo2(name)\n",
    "        return redirect(url_for('me', apath = my_rec))\n",
    "    return render_template('upload_file.html')\n",
    "\n",
    "@app.route('/rec_att',methods=['GET', 'POST'])\n",
    "def rec_att():\n",
    "    form = AttrForm()\n",
    "    if request.method == 'POST':\n",
    "        my_city = form.city.data\n",
    "        my_att1 =  form.att1.data\n",
    "        my_att2 =  form.att2.data\n",
    "        recs = get_rec_by_attr(my_att1, my_att2, my_city)\n",
    "        mapping = {'chelsea': \"Chelsea\", 'chinatown': \"Chinatown\", 'east_village': \"East Village\", 'fidi': \"Financial District\", 'fifth_ave': \"Fifth Avenue\", \n",
    "       'greenwich_village': \"Greenwich Village\", 'harlem': \"Harlem\", 'soho': \"SoHo\", 'times_sq': \"Times Square\", 'tribeca': \"Tribeca\", \n",
    "       'union_sq': \"Union Square\", 'ues': \"Upper East Side\", 'uws': \"Upper West Side\", 'west_village': \"West Village\", 'williamsburg': \"Williamsburg\", 'castro': \"Castro\", \n",
    "       'chinatown_sf': \"Chinatown SF\", 'embarcadero': \"Embarcadero/ Fidi\", 'fisherman_wharf': \"Fisherman's Wharf\", 'haight_ashbury': \"Haight-Ashbury\", \n",
    "       'mission_district': \"Mission District\", 'nob_hill': \"Nob Hill\", 'north_beach': \"North Beach\", 'pacific_heights': \"Pacific Heights\", \n",
    "       'presidio': \"Presidio\", 'soma': \"Soma\", 'union_sq_sf': \"Union Square SF\"}\n",
    "        recs = list(recs)\n",
    "        recs[0] = mapping[recs[0]]\n",
    "        recs[1] = mapping[recs[1]]\n",
    "        return render_template('results2.html', result=recs)\n",
    "\n",
    "    return render_template('rec_att.html', form=form)\n",
    "\n",
    "@app.route('/results2')\n",
    "@app.route('/results2/<rec>')\n",
    "def results2(rec):\n",
    "    a = rec[0]\n",
    "    b = rec[1]\n",
    "    return render_template('results2.html', result = rec)\n",
    "\n",
    "    \n",
    "@app.route('/me/<apath>')\n",
    "def me(apath):\n",
    "    fold = get_folder(apath)\n",
    "    x = '/static/NYC/'+fold + '/'+ apath\n",
    "    if fold==\"'will'\":\n",
    "        fold=\"Williamsburg\"\n",
    "    return render_template('me.html', user_image = x, user_tag = \"Williamsburg\")\n",
    "\n",
    "\n",
    "\n",
    "if __name__ == '__main__':\n",
    "    app.run()\n"
   ]
  }
 ],
 "metadata": {
  "kernelspec": {
   "display_name": "Python 3",
   "language": "python",
   "name": "python3"
  },
  "language_info": {
   "codemirror_mode": {
    "name": "ipython",
    "version": 3
   },
   "file_extension": ".py",
   "mimetype": "text/x-python",
   "name": "python",
   "nbconvert_exporter": "python",
   "pygments_lexer": "ipython3",
   "version": "3.6.4"
  }
 },
 "nbformat": 4,
 "nbformat_minor": 2
}
